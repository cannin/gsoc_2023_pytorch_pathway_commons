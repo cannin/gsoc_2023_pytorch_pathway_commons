{
  "nbformat": 4,
  "nbformat_minor": 0,
  "metadata": {
    "colab": {
      "provenance": [],
      "gpuType": "T4",
      "include_colab_link": true
    },
    "kernelspec": {
      "name": "python3",
      "display_name": "Python 3"
    },
    "language_info": {
      "name": "python"
    },
    "accelerator": "GPU"
  },
  "cells": [
    {
      "cell_type": "markdown",
      "metadata": {
        "id": "view-in-github",
        "colab_type": "text"
      },
      "source": [
        "<a href=\"https://colab.research.google.com/github/cannin/gsoc_2023_pytorch_pathway_commons/blob/main/InMemoryDataset_Class_with_brca_tcga.ipynb\" target=\"_parent\"><img src=\"https://colab.research.google.com/assets/colab-badge.svg\" alt=\"Open In Colab\"/></a>"
      ]
    },
    {
      "cell_type": "code",
      "source": [
        "!pip install torch-geometric"
      ],
      "metadata": {
        "id": "OE2xc7If0ZCT",
        "colab": {
          "base_uri": "https://localhost:8080/"
        },
        "outputId": "068739e4-e20a-4f0a-ed56-80b9858fc57b"
      },
      "execution_count": 1,
      "outputs": [
        {
          "output_type": "stream",
          "name": "stdout",
          "text": [
            "Requirement already satisfied: torch-geometric in /usr/local/lib/python3.10/dist-packages (2.3.1)\n",
            "Requirement already satisfied: tqdm in /usr/local/lib/python3.10/dist-packages (from torch-geometric) (4.65.0)\n",
            "Requirement already satisfied: numpy in /usr/local/lib/python3.10/dist-packages (from torch-geometric) (1.22.4)\n",
            "Requirement already satisfied: scipy in /usr/local/lib/python3.10/dist-packages (from torch-geometric) (1.10.1)\n",
            "Requirement already satisfied: jinja2 in /usr/local/lib/python3.10/dist-packages (from torch-geometric) (3.1.2)\n",
            "Requirement already satisfied: requests in /usr/local/lib/python3.10/dist-packages (from torch-geometric) (2.27.1)\n",
            "Requirement already satisfied: pyparsing in /usr/local/lib/python3.10/dist-packages (from torch-geometric) (3.1.0)\n",
            "Requirement already satisfied: scikit-learn in /usr/local/lib/python3.10/dist-packages (from torch-geometric) (1.2.2)\n",
            "Requirement already satisfied: psutil>=5.8.0 in /usr/local/lib/python3.10/dist-packages (from torch-geometric) (5.9.5)\n",
            "Requirement already satisfied: MarkupSafe>=2.0 in /usr/local/lib/python3.10/dist-packages (from jinja2->torch-geometric) (2.1.3)\n",
            "Requirement already satisfied: urllib3<1.27,>=1.21.1 in /usr/local/lib/python3.10/dist-packages (from requests->torch-geometric) (1.26.16)\n",
            "Requirement already satisfied: certifi>=2017.4.17 in /usr/local/lib/python3.10/dist-packages (from requests->torch-geometric) (2023.5.7)\n",
            "Requirement already satisfied: charset-normalizer~=2.0.0 in /usr/local/lib/python3.10/dist-packages (from requests->torch-geometric) (2.0.12)\n",
            "Requirement already satisfied: idna<4,>=2.5 in /usr/local/lib/python3.10/dist-packages (from requests->torch-geometric) (3.4)\n",
            "Requirement already satisfied: joblib>=1.1.1 in /usr/local/lib/python3.10/dist-packages (from scikit-learn->torch-geometric) (1.3.1)\n",
            "Requirement already satisfied: threadpoolctl>=2.0.0 in /usr/local/lib/python3.10/dist-packages (from scikit-learn->torch-geometric) (3.2.0)\n"
          ]
        }
      ]
    },
    {
      "cell_type": "markdown",
      "source": [
        "# Importing Data and Libraries"
      ],
      "metadata": {
        "id": "6T-0DTo_3DLk"
      }
    },
    {
      "cell_type": "code",
      "execution_count": 2,
      "metadata": {
        "id": "Wy1Dc5Z9vGE8"
      },
      "outputs": [],
      "source": [
        "import pandas as pd\n",
        "import numpy as np\n",
        "import torch\n",
        "from torch_geometric.data import InMemoryDataset, Data, download_url, extract_zip\n",
        "import os\n",
        "from typing import Tuple"
      ]
    },
    {
      "cell_type": "code",
      "source": [
        "torch. __version__"
      ],
      "metadata": {
        "colab": {
          "base_uri": "https://localhost:8080/",
          "height": 35
        },
        "id": "rQSNmhXCi-ZK",
        "outputId": "7693dd80-80d2-4d45-e65c-dcdc8fbdec42"
      },
      "execution_count": 3,
      "outputs": [
        {
          "output_type": "execute_result",
          "data": {
            "text/plain": [
              "'2.0.1+cu118'"
            ],
            "application/vnd.google.colaboratory.intrinsic+json": {
              "type": "string"
            }
          },
          "metadata": {},
          "execution_count": 3
        }
      ]
    },
    {
      "cell_type": "code",
      "source": [
        "!pip list | grep torch"
      ],
      "metadata": {
        "colab": {
          "base_uri": "https://localhost:8080/"
        },
        "id": "lXm89TahjRb1",
        "outputId": "439e0349-4d2b-426c-96cf-0362c2df9430"
      },
      "execution_count": 4,
      "outputs": [
        {
          "output_type": "stream",
          "name": "stdout",
          "text": [
            "torch                            2.0.1+cu118\n",
            "torch-geometric                  2.3.1\n",
            "torchaudio                       2.0.2+cu118\n",
            "torchdata                        0.6.1\n",
            "torchsummary                     1.5.1\n",
            "torchtext                        0.15.2\n",
            "torchvision                      0.15.2+cu118\n"
          ]
        }
      ]
    },
    {
      "cell_type": "markdown",
      "source": [
        "# Creating InMemoryDataset Class for Train Set"
      ],
      "metadata": {
        "id": "PUhED5qaJ50d"
      }
    },
    {
      "cell_type": "code",
      "source": [
        "class brca_tcga(InMemoryDataset):\n",
        "  # Base url to download the files\n",
        "    url = 'https://zenodo.org/record/8179187/files/brca_tcga.zip?download=1'\n",
        "\n",
        "    def __init__(self, root, transform=None, pre_transform=None, pre_filter=None):\n",
        "      super().__init__(root, transform, pre_transform, pre_filter)\n",
        "      self.data, self.slices = torch.load(self.processed_paths[0])\n",
        "\n",
        "\n",
        "    @property\n",
        "    def raw_file_names(self):\n",
        "        # List of the raw files\n",
        "        return ['graph_idx.csv', 'graph_labels.csv', 'edge_index.pt']\n",
        "\n",
        "    @property\n",
        "    def processed_file_names(self):\n",
        "        return 'breast_data.pt'\n",
        "\n",
        "    def download(self):\n",
        "        # Download the file specified in self.url and store\n",
        "        # it in self.raw_dir\n",
        "        path = download_url(self.url, self.raw_dir)\n",
        "        extract_zip(path, self.raw_dir)\n",
        "        # The zip file is removed\n",
        "        os.unlink(path)\n",
        "\n",
        "\n",
        "    def process(self):\n",
        "        # Load X_train from CSV file with the index\n",
        "        graph_features = pd.read_csv(os.path.join(self.raw_dir,'brca_tcga', 'graph_idx.csv'), index_col=0)\n",
        "\n",
        "        # Load y_train from CSV file\n",
        "        graph_labels = np.loadtxt(os.path.join(self.raw_dir,'brca_tcga', 'graph_labels.csv'), delimiter=',')\n",
        "\n",
        "        # Load the edge_index from the file\n",
        "        file_path = os.path.join(self.raw_dir,'brca_tcga', 'edge_index.pt')\n",
        "        edge_index = torch.load(file_path)\n",
        "\n",
        "        # Convert X_train to NumPy array\n",
        "        graph_features = graph_features.values\n",
        "\n",
        "        # Get the number of patients in the training set\n",
        "        num_patients = graph_features.shape[0]\n",
        "\n",
        "        # Create patient-specific graphs for the training set\n",
        "        graphs = []\n",
        "        for i in range(num_patients):\n",
        "            node_features = graph_features[i]  # Node features for the i-th patient\n",
        "            target = graph_labels[i]  # Target label for the i-th patient\n",
        "            graph = (node_features, edge_index, target)\n",
        "            graphs.append(graph)\n",
        "\n",
        "        # Convert graphs_train to a list of Data objects\n",
        "        data = [Data(x=torch.tensor(graph[0].reshape(len(graphs[0][0]), 1)),\n",
        "                    edge_index=graph[1], y=torch.tensor(graph[2])) for graph in graphs]\n",
        "\n",
        "\n",
        "        data, slices = self.collate(data)\n",
        "        # Save the processed data\n",
        "        torch.save((data, slices), self.processed_paths[0])\n",
        "\n",
        "    def predefined_split(self, train_index, test_index) -> Tuple['brca_tcga', 'brca_tcga']:\n",
        "      train_dataset = self.index_select(train_index)\n",
        "      test_dataset = self.index_select(test_index)\n",
        "      return train_dataset, test_dataset"
      ],
      "metadata": {
        "id": "yd2NVneICXY9"
      },
      "execution_count": 8,
      "outputs": []
    },
    {
      "cell_type": "code",
      "source": [
        "df = brca_tcga(root='')"
      ],
      "metadata": {
        "colab": {
          "base_uri": "https://localhost:8080/"
        },
        "id": "bvaAWVL3jadP",
        "outputId": "0bb42995-97b1-41c7-fe4e-59cff6ab73cd"
      },
      "execution_count": 9,
      "outputs": [
        {
          "output_type": "stream",
          "name": "stderr",
          "text": [
            "Downloading https://zenodo.org/record/8179187/files/brca_tcga.zip?download=1\n",
            "Extracting ./raw/brca_tcga.zip\n"
          ]
        }
      ]
    },
    {
      "cell_type": "code",
      "source": [
        "# Define the train and test indices\n",
        "train_indices = [0, 1, 3, 5, 6]\n",
        "test_indices = [2, 4, 7]\n",
        "\n",
        "# Use the 'predefined_split' method to get train and test datasets\n",
        "train_dataset, test_dataset = df.predefined_split(train_indices, test_indices)"
      ],
      "metadata": {
        "id": "t9wqkBFO6iPd"
      },
      "execution_count": 10,
      "outputs": []
    },
    {
      "cell_type": "code",
      "source": [
        "train_dataset[0]"
      ],
      "metadata": {
        "colab": {
          "base_uri": "https://localhost:8080/"
        },
        "id": "ENrXYAeY8bKI",
        "outputId": "9731e20b-6536-4246-dba4-3dd4ead1b64c"
      },
      "execution_count": 12,
      "outputs": [
        {
          "output_type": "execute_result",
          "data": {
            "text/plain": [
              "Data(x=[9288, 1], edge_index=[2, 271771], y=[1])"
            ]
          },
          "metadata": {},
          "execution_count": 12
        }
      ]
    },
    {
      "cell_type": "code",
      "source": [
        "#Access the attributes of a specific data object in the training set\n",
        "sample = df[0]  # Get the first data object\n",
        "print(sample)  # Print the data object\n",
        "\n",
        "# Access the node features, edge indices, and target label\n",
        "node_features = sample.x\n",
        "edge_index = sample.edge_index\n",
        "target = sample.y\n",
        "\n",
        "print(node_features)  # Print the node features\n",
        "print(edge_index)  # Print the edge indices\n",
        "print(target)  # Print the target label"
      ],
      "metadata": {
        "colab": {
          "base_uri": "https://localhost:8080/"
        },
        "id": "1D8Rism2sfeZ",
        "outputId": "1829d221-8499-467a-d9d3-c97651800fed"
      },
      "execution_count": 10,
      "outputs": [
        {
          "output_type": "stream",
          "name": "stdout",
          "text": [
            "Data(x=[9288, 1], edge_index=[2, 271771], y=[1])\n",
            "tensor([[   0.0000],\n",
            "        [5798.3700],\n",
            "        [   8.6165],\n",
            "        ...,\n",
            "        [ 415.8240],\n",
            "        [ 931.9570],\n",
            "        [1180.4600]], dtype=torch.float64)\n",
            "tensor([[   0,    0,    0,  ..., 9287, 9287, 9287],\n",
            "        [ 451,  452,  453,  ..., 3323, 3340, 3341]])\n",
            "tensor([133.0506], dtype=torch.float64)\n"
          ]
        }
      ]
    },
    {
      "cell_type": "code",
      "source": [],
      "metadata": {
        "id": "FojbxTlC2X9T"
      },
      "execution_count": null,
      "outputs": []
    }
  ]
}