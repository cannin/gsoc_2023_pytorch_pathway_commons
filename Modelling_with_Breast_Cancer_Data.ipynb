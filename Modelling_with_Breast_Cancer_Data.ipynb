{
  "cells": [
    {
      "cell_type": "markdown",
      "metadata": {
        "id": "view-in-github",
        "colab_type": "text"
      },
      "source": [
        "<a href=\"https://colab.research.google.com/github/cannin/gsoc_2023_pytorch_pathway_commons/blob/main/Modelling_with_Breast_Cancer_Data.ipynb\" target=\"_parent\"><img src=\"https://colab.research.google.com/assets/colab-badge.svg\" alt=\"Open In Colab\"/></a>"
      ]
    },
    {
      "cell_type": "code",
      "execution_count": null,
      "metadata": {
        "colab": {
          "base_uri": "https://localhost:8080/"
        },
        "id": "XqS-T3j6eTXs",
        "outputId": "bc8936d4-d7e1-4c32-d8d3-950592a13f04"
      },
      "outputs": [
        {
          "output_type": "stream",
          "name": "stdout",
          "text": [
            "Drive already mounted at /content/drive; to attempt to forcibly remount, call drive.mount(\"/content/drive\", force_remount=True).\n"
          ]
        }
      ],
      "source": [
        "from google.colab import drive\n",
        "drive.mount('/content/drive')"
      ]
    },
    {
      "cell_type": "code",
      "execution_count": null,
      "metadata": {
        "colab": {
          "base_uri": "https://localhost:8080/"
        },
        "id": "OE2xc7If0ZCT",
        "outputId": "f3d62354-9cd0-40d0-cddf-f1fe723835d8"
      },
      "outputs": [
        {
          "output_type": "stream",
          "name": "stdout",
          "text": [
            "Requirement already satisfied: torch-geometric in /usr/local/lib/python3.10/dist-packages (2.3.1)\n",
            "Requirement already satisfied: tqdm in /usr/local/lib/python3.10/dist-packages (from torch-geometric) (4.65.0)\n",
            "Requirement already satisfied: numpy in /usr/local/lib/python3.10/dist-packages (from torch-geometric) (1.22.4)\n",
            "Requirement already satisfied: scipy in /usr/local/lib/python3.10/dist-packages (from torch-geometric) (1.10.1)\n",
            "Requirement already satisfied: jinja2 in /usr/local/lib/python3.10/dist-packages (from torch-geometric) (3.1.2)\n",
            "Requirement already satisfied: requests in /usr/local/lib/python3.10/dist-packages (from torch-geometric) (2.27.1)\n",
            "Requirement already satisfied: pyparsing in /usr/local/lib/python3.10/dist-packages (from torch-geometric) (3.1.0)\n",
            "Requirement already satisfied: scikit-learn in /usr/local/lib/python3.10/dist-packages (from torch-geometric) (1.2.2)\n",
            "Requirement already satisfied: psutil>=5.8.0 in /usr/local/lib/python3.10/dist-packages (from torch-geometric) (5.9.5)\n",
            "Requirement already satisfied: MarkupSafe>=2.0 in /usr/local/lib/python3.10/dist-packages (from jinja2->torch-geometric) (2.1.3)\n",
            "Requirement already satisfied: urllib3<1.27,>=1.21.1 in /usr/local/lib/python3.10/dist-packages (from requests->torch-geometric) (1.26.16)\n",
            "Requirement already satisfied: certifi>=2017.4.17 in /usr/local/lib/python3.10/dist-packages (from requests->torch-geometric) (2023.5.7)\n",
            "Requirement already satisfied: charset-normalizer~=2.0.0 in /usr/local/lib/python3.10/dist-packages (from requests->torch-geometric) (2.0.12)\n",
            "Requirement already satisfied: idna<4,>=2.5 in /usr/local/lib/python3.10/dist-packages (from requests->torch-geometric) (3.4)\n",
            "Requirement already satisfied: joblib>=1.1.1 in /usr/local/lib/python3.10/dist-packages (from scikit-learn->torch-geometric) (1.2.0)\n",
            "Requirement already satisfied: threadpoolctl>=2.0.0 in /usr/local/lib/python3.10/dist-packages (from scikit-learn->torch-geometric) (3.1.0)\n"
          ]
        }
      ],
      "source": [
        "!pip install torch-geometric"
      ]
    },
    {
      "cell_type": "markdown",
      "metadata": {
        "id": "6T-0DTo_3DLk"
      },
      "source": [
        "# Importing Data and Libraries"
      ]
    },
    {
      "cell_type": "code",
      "execution_count": null,
      "metadata": {
        "id": "Wy1Dc5Z9vGE8"
      },
      "outputs": [],
      "source": [
        "import pandas as pd\n",
        "import numpy as np\n",
        "import torch\n",
        "from torch_geometric.data import Data\n",
        "from sklearn.model_selection import train_test_split"
      ]
    },
    {
      "cell_type": "code",
      "execution_count": null,
      "metadata": {
        "colab": {
          "base_uri": "https://localhost:8080/"
        },
        "id": "Agul4fnR13Wa",
        "outputId": "c269c860-9525-449e-bcb0-44b63d169db8"
      },
      "outputs": [
        {
          "output_type": "stream",
          "name": "stdout",
          "text": [
            "Using device: cuda\n"
          ]
        }
      ],
      "source": [
        "device = torch.device('cuda' if torch.cuda.is_available() else 'cpu')\n",
        "print('Using device:', device)\n",
        "\n",
        "if device.type != 'cuda':\n",
        "    raise SystemError('GPU device not found')"
      ]
    },
    {
      "cell_type": "code",
      "execution_count": null,
      "metadata": {
        "id": "QQOFmd9l0XZg"
      },
      "outputs": [],
      "source": [
        "Brca_patients = pd.read_csv('/content/drive/MyDrive/gsoc data/Brca_tcga_2018/Brca_patients.csv')"
      ]
    },
    {
      "cell_type": "code",
      "execution_count": null,
      "metadata": {
        "id": "_eqxj5HV6b2F",
        "colab": {
          "base_uri": "https://localhost:8080/",
          "height": 344
        },
        "outputId": "fc97c34f-f732-407a-c7c1-22e209a8d14c"
      },
      "outputs": [
        {
          "output_type": "execute_result",
          "data": {
            "text/plain": [
              "                 Overall Survival (Months)  UBE2Q2P2  HMGB1P1  RNU12-2P  \\\n",
              "TCGA-3C-AAAU-01                 133.050597   12.9316  52.1503    0.0000   \n",
              "TCGA-3C-AALI-01                 131.669790   17.3790  69.7553    1.0875   \n",
              "\n",
              "                  SSX9P     EZHIP  EFCAB8  SRP14P1  TRIM75P  SPATA31B1P  ...  \\\n",
              "TCGA-3C-AAAU-01  0.0000    1.7233  0.3447   4.1359   0.6893         0.0  ...   \n",
              "TCGA-3C-AALI-01  0.5438  144.1000  4.8940   1.6313   0.5438         0.0  ...   \n",
              "\n",
              "                   ZWILCH    ZWINT      ZXDA      ZXDB     ZXDC   ZYG11A  \\\n",
              "TCGA-3C-AAAU-01   415.824  931.957  129.5920  1007.780  1658.50  258.494   \n",
              "TCGA-3C-AALI-01  1161.330  965.198   59.8151   448.613  1343.12  198.477   \n",
              "\n",
              "                   ZYG11B      ZYX    ZZEF1      ZZZ3  \n",
              "TCGA-3C-AAAU-01  1208.370  3507.25  1894.93  1180.460  \n",
              "TCGA-3C-AALI-01   603.589  5504.62  1318.65   406.743  \n",
              "\n",
              "[2 rows x 20512 columns]"
            ],
            "text/html": [
              "\n",
              "  <div id=\"df-6cb1873f-fb89-4120-94b8-e46bc5e71c31\">\n",
              "    <div class=\"colab-df-container\">\n",
              "      <div>\n",
              "<style scoped>\n",
              "    .dataframe tbody tr th:only-of-type {\n",
              "        vertical-align: middle;\n",
              "    }\n",
              "\n",
              "    .dataframe tbody tr th {\n",
              "        vertical-align: top;\n",
              "    }\n",
              "\n",
              "    .dataframe thead th {\n",
              "        text-align: right;\n",
              "    }\n",
              "</style>\n",
              "<table border=\"1\" class=\"dataframe\">\n",
              "  <thead>\n",
              "    <tr style=\"text-align: right;\">\n",
              "      <th></th>\n",
              "      <th>Overall Survival (Months)</th>\n",
              "      <th>UBE2Q2P2</th>\n",
              "      <th>HMGB1P1</th>\n",
              "      <th>RNU12-2P</th>\n",
              "      <th>SSX9P</th>\n",
              "      <th>EZHIP</th>\n",
              "      <th>EFCAB8</th>\n",
              "      <th>SRP14P1</th>\n",
              "      <th>TRIM75P</th>\n",
              "      <th>SPATA31B1P</th>\n",
              "      <th>...</th>\n",
              "      <th>ZWILCH</th>\n",
              "      <th>ZWINT</th>\n",
              "      <th>ZXDA</th>\n",
              "      <th>ZXDB</th>\n",
              "      <th>ZXDC</th>\n",
              "      <th>ZYG11A</th>\n",
              "      <th>ZYG11B</th>\n",
              "      <th>ZYX</th>\n",
              "      <th>ZZEF1</th>\n",
              "      <th>ZZZ3</th>\n",
              "    </tr>\n",
              "  </thead>\n",
              "  <tbody>\n",
              "    <tr>\n",
              "      <th>TCGA-3C-AAAU-01</th>\n",
              "      <td>133.050597</td>\n",
              "      <td>12.9316</td>\n",
              "      <td>52.1503</td>\n",
              "      <td>0.0000</td>\n",
              "      <td>0.0000</td>\n",
              "      <td>1.7233</td>\n",
              "      <td>0.3447</td>\n",
              "      <td>4.1359</td>\n",
              "      <td>0.6893</td>\n",
              "      <td>0.0</td>\n",
              "      <td>...</td>\n",
              "      <td>415.824</td>\n",
              "      <td>931.957</td>\n",
              "      <td>129.5920</td>\n",
              "      <td>1007.780</td>\n",
              "      <td>1658.50</td>\n",
              "      <td>258.494</td>\n",
              "      <td>1208.370</td>\n",
              "      <td>3507.25</td>\n",
              "      <td>1894.93</td>\n",
              "      <td>1180.460</td>\n",
              "    </tr>\n",
              "    <tr>\n",
              "      <th>TCGA-3C-AALI-01</th>\n",
              "      <td>131.669790</td>\n",
              "      <td>17.3790</td>\n",
              "      <td>69.7553</td>\n",
              "      <td>1.0875</td>\n",
              "      <td>0.5438</td>\n",
              "      <td>144.1000</td>\n",
              "      <td>4.8940</td>\n",
              "      <td>1.6313</td>\n",
              "      <td>0.5438</td>\n",
              "      <td>0.0</td>\n",
              "      <td>...</td>\n",
              "      <td>1161.330</td>\n",
              "      <td>965.198</td>\n",
              "      <td>59.8151</td>\n",
              "      <td>448.613</td>\n",
              "      <td>1343.12</td>\n",
              "      <td>198.477</td>\n",
              "      <td>603.589</td>\n",
              "      <td>5504.62</td>\n",
              "      <td>1318.65</td>\n",
              "      <td>406.743</td>\n",
              "    </tr>\n",
              "  </tbody>\n",
              "</table>\n",
              "<p>2 rows × 20512 columns</p>\n",
              "</div>\n",
              "      <button class=\"colab-df-convert\" onclick=\"convertToInteractive('df-6cb1873f-fb89-4120-94b8-e46bc5e71c31')\"\n",
              "              title=\"Convert this dataframe to an interactive table.\"\n",
              "              style=\"display:none;\">\n",
              "        \n",
              "  <svg xmlns=\"http://www.w3.org/2000/svg\" height=\"24px\"viewBox=\"0 0 24 24\"\n",
              "       width=\"24px\">\n",
              "    <path d=\"M0 0h24v24H0V0z\" fill=\"none\"/>\n",
              "    <path d=\"M18.56 5.44l.94 2.06.94-2.06 2.06-.94-2.06-.94-.94-2.06-.94 2.06-2.06.94zm-11 1L8.5 8.5l.94-2.06 2.06-.94-2.06-.94L8.5 2.5l-.94 2.06-2.06.94zm10 10l.94 2.06.94-2.06 2.06-.94-2.06-.94-.94-2.06-.94 2.06-2.06.94z\"/><path d=\"M17.41 7.96l-1.37-1.37c-.4-.4-.92-.59-1.43-.59-.52 0-1.04.2-1.43.59L10.3 9.45l-7.72 7.72c-.78.78-.78 2.05 0 2.83L4 21.41c.39.39.9.59 1.41.59.51 0 1.02-.2 1.41-.59l7.78-7.78 2.81-2.81c.8-.78.8-2.07 0-2.86zM5.41 20L4 18.59l7.72-7.72 1.47 1.35L5.41 20z\"/>\n",
              "  </svg>\n",
              "      </button>\n",
              "      \n",
              "  <style>\n",
              "    .colab-df-container {\n",
              "      display:flex;\n",
              "      flex-wrap:wrap;\n",
              "      gap: 12px;\n",
              "    }\n",
              "\n",
              "    .colab-df-convert {\n",
              "      background-color: #E8F0FE;\n",
              "      border: none;\n",
              "      border-radius: 50%;\n",
              "      cursor: pointer;\n",
              "      display: none;\n",
              "      fill: #1967D2;\n",
              "      height: 32px;\n",
              "      padding: 0 0 0 0;\n",
              "      width: 32px;\n",
              "    }\n",
              "\n",
              "    .colab-df-convert:hover {\n",
              "      background-color: #E2EBFA;\n",
              "      box-shadow: 0px 1px 2px rgba(60, 64, 67, 0.3), 0px 1px 3px 1px rgba(60, 64, 67, 0.15);\n",
              "      fill: #174EA6;\n",
              "    }\n",
              "\n",
              "    [theme=dark] .colab-df-convert {\n",
              "      background-color: #3B4455;\n",
              "      fill: #D2E3FC;\n",
              "    }\n",
              "\n",
              "    [theme=dark] .colab-df-convert:hover {\n",
              "      background-color: #434B5C;\n",
              "      box-shadow: 0px 1px 3px 1px rgba(0, 0, 0, 0.15);\n",
              "      filter: drop-shadow(0px 1px 2px rgba(0, 0, 0, 0.3));\n",
              "      fill: #FFFFFF;\n",
              "    }\n",
              "  </style>\n",
              "\n",
              "      <script>\n",
              "        const buttonEl =\n",
              "          document.querySelector('#df-6cb1873f-fb89-4120-94b8-e46bc5e71c31 button.colab-df-convert');\n",
              "        buttonEl.style.display =\n",
              "          google.colab.kernel.accessAllowed ? 'block' : 'none';\n",
              "\n",
              "        async function convertToInteractive(key) {\n",
              "          const element = document.querySelector('#df-6cb1873f-fb89-4120-94b8-e46bc5e71c31');\n",
              "          const dataTable =\n",
              "            await google.colab.kernel.invokeFunction('convertToInteractive',\n",
              "                                                     [key], {});\n",
              "          if (!dataTable) return;\n",
              "\n",
              "          const docLinkHtml = 'Like what you see? Visit the ' +\n",
              "            '<a target=\"_blank\" href=https://colab.research.google.com/notebooks/data_table.ipynb>data table notebook</a>'\n",
              "            + ' to learn more about interactive tables.';\n",
              "          element.innerHTML = '';\n",
              "          dataTable['output_type'] = 'display_data';\n",
              "          await google.colab.output.renderOutput(dataTable, element);\n",
              "          const docLink = document.createElement('div');\n",
              "          docLink.innerHTML = docLinkHtml;\n",
              "          element.appendChild(docLink);\n",
              "        }\n",
              "      </script>\n",
              "    </div>\n",
              "  </div>\n",
              "  "
            ]
          },
          "metadata": {},
          "execution_count": 6
        }
      ],
      "source": [
        "Brca_patients = Brca_patients.set_index('Sample Identifier')\n",
        "Brca_patients.index.name = None\n",
        "Brca_patients.head(2)"
      ]
    },
    {
      "cell_type": "code",
      "execution_count": null,
      "metadata": {
        "id": "qqVJxhDoe0SW"
      },
      "outputs": [],
      "source": [
        "#defining features and labels\n",
        "\n",
        "y = np.array(Brca_patients['Overall Survival (Months)'], dtype=float)\n",
        "X = Brca_patients.drop('Overall Survival (Months)', axis=1)"
      ]
    },
    {
      "cell_type": "code",
      "execution_count": null,
      "metadata": {
        "id": "h2FVAe724Jd2"
      },
      "outputs": [],
      "source": [
        "path = \"/content/drive/MyDrive/gsoc data/PathwayCommons12.reactome.hgnc.sif.gz\"\n",
        "\n",
        "\n",
        "#specify compression type because the file is compressed\n",
        "df = pd.read_csv(path, sep=\"\\t\", compression=\"gzip\", header=None, names=[\"Source\", \"InteractionType\", \"Target\"])"
      ]
    },
    {
      "cell_type": "code",
      "execution_count": null,
      "metadata": {
        "id": "-AGfsNU452Zm"
      },
      "outputs": [],
      "source": [
        "df = df.drop(columns='InteractionType')"
      ]
    },
    {
      "cell_type": "code",
      "execution_count": null,
      "metadata": {
        "id": "MR-hGnfotMG8",
        "colab": {
          "base_uri": "https://localhost:8080/",
          "height": 206
        },
        "outputId": "0928a5ee-1185-4cfa-a1a4-fc6e51af01e7"
      },
      "outputs": [
        {
          "output_type": "execute_result",
          "data": {
            "text/plain": [
              "  Source    Target\n",
              "0   A1CF   APOBEC1\n",
              "1   A1CF   APOBEC2\n",
              "2   A1CF  APOBEC3A\n",
              "3   A1CF  APOBEC3B\n",
              "4   A1CF  APOBEC3C"
            ],
            "text/html": [
              "\n",
              "  <div id=\"df-540445ce-1de7-43d9-b5f4-c4a451e70959\">\n",
              "    <div class=\"colab-df-container\">\n",
              "      <div>\n",
              "<style scoped>\n",
              "    .dataframe tbody tr th:only-of-type {\n",
              "        vertical-align: middle;\n",
              "    }\n",
              "\n",
              "    .dataframe tbody tr th {\n",
              "        vertical-align: top;\n",
              "    }\n",
              "\n",
              "    .dataframe thead th {\n",
              "        text-align: right;\n",
              "    }\n",
              "</style>\n",
              "<table border=\"1\" class=\"dataframe\">\n",
              "  <thead>\n",
              "    <tr style=\"text-align: right;\">\n",
              "      <th></th>\n",
              "      <th>Source</th>\n",
              "      <th>Target</th>\n",
              "    </tr>\n",
              "  </thead>\n",
              "  <tbody>\n",
              "    <tr>\n",
              "      <th>0</th>\n",
              "      <td>A1CF</td>\n",
              "      <td>APOBEC1</td>\n",
              "    </tr>\n",
              "    <tr>\n",
              "      <th>1</th>\n",
              "      <td>A1CF</td>\n",
              "      <td>APOBEC2</td>\n",
              "    </tr>\n",
              "    <tr>\n",
              "      <th>2</th>\n",
              "      <td>A1CF</td>\n",
              "      <td>APOBEC3A</td>\n",
              "    </tr>\n",
              "    <tr>\n",
              "      <th>3</th>\n",
              "      <td>A1CF</td>\n",
              "      <td>APOBEC3B</td>\n",
              "    </tr>\n",
              "    <tr>\n",
              "      <th>4</th>\n",
              "      <td>A1CF</td>\n",
              "      <td>APOBEC3C</td>\n",
              "    </tr>\n",
              "  </tbody>\n",
              "</table>\n",
              "</div>\n",
              "      <button class=\"colab-df-convert\" onclick=\"convertToInteractive('df-540445ce-1de7-43d9-b5f4-c4a451e70959')\"\n",
              "              title=\"Convert this dataframe to an interactive table.\"\n",
              "              style=\"display:none;\">\n",
              "        \n",
              "  <svg xmlns=\"http://www.w3.org/2000/svg\" height=\"24px\"viewBox=\"0 0 24 24\"\n",
              "       width=\"24px\">\n",
              "    <path d=\"M0 0h24v24H0V0z\" fill=\"none\"/>\n",
              "    <path d=\"M18.56 5.44l.94 2.06.94-2.06 2.06-.94-2.06-.94-.94-2.06-.94 2.06-2.06.94zm-11 1L8.5 8.5l.94-2.06 2.06-.94-2.06-.94L8.5 2.5l-.94 2.06-2.06.94zm10 10l.94 2.06.94-2.06 2.06-.94-2.06-.94-.94-2.06-.94 2.06-2.06.94z\"/><path d=\"M17.41 7.96l-1.37-1.37c-.4-.4-.92-.59-1.43-.59-.52 0-1.04.2-1.43.59L10.3 9.45l-7.72 7.72c-.78.78-.78 2.05 0 2.83L4 21.41c.39.39.9.59 1.41.59.51 0 1.02-.2 1.41-.59l7.78-7.78 2.81-2.81c.8-.78.8-2.07 0-2.86zM5.41 20L4 18.59l7.72-7.72 1.47 1.35L5.41 20z\"/>\n",
              "  </svg>\n",
              "      </button>\n",
              "      \n",
              "  <style>\n",
              "    .colab-df-container {\n",
              "      display:flex;\n",
              "      flex-wrap:wrap;\n",
              "      gap: 12px;\n",
              "    }\n",
              "\n",
              "    .colab-df-convert {\n",
              "      background-color: #E8F0FE;\n",
              "      border: none;\n",
              "      border-radius: 50%;\n",
              "      cursor: pointer;\n",
              "      display: none;\n",
              "      fill: #1967D2;\n",
              "      height: 32px;\n",
              "      padding: 0 0 0 0;\n",
              "      width: 32px;\n",
              "    }\n",
              "\n",
              "    .colab-df-convert:hover {\n",
              "      background-color: #E2EBFA;\n",
              "      box-shadow: 0px 1px 2px rgba(60, 64, 67, 0.3), 0px 1px 3px 1px rgba(60, 64, 67, 0.15);\n",
              "      fill: #174EA6;\n",
              "    }\n",
              "\n",
              "    [theme=dark] .colab-df-convert {\n",
              "      background-color: #3B4455;\n",
              "      fill: #D2E3FC;\n",
              "    }\n",
              "\n",
              "    [theme=dark] .colab-df-convert:hover {\n",
              "      background-color: #434B5C;\n",
              "      box-shadow: 0px 1px 3px 1px rgba(0, 0, 0, 0.15);\n",
              "      filter: drop-shadow(0px 1px 2px rgba(0, 0, 0, 0.3));\n",
              "      fill: #FFFFFF;\n",
              "    }\n",
              "  </style>\n",
              "\n",
              "      <script>\n",
              "        const buttonEl =\n",
              "          document.querySelector('#df-540445ce-1de7-43d9-b5f4-c4a451e70959 button.colab-df-convert');\n",
              "        buttonEl.style.display =\n",
              "          google.colab.kernel.accessAllowed ? 'block' : 'none';\n",
              "\n",
              "        async function convertToInteractive(key) {\n",
              "          const element = document.querySelector('#df-540445ce-1de7-43d9-b5f4-c4a451e70959');\n",
              "          const dataTable =\n",
              "            await google.colab.kernel.invokeFunction('convertToInteractive',\n",
              "                                                     [key], {});\n",
              "          if (!dataTable) return;\n",
              "\n",
              "          const docLinkHtml = 'Like what you see? Visit the ' +\n",
              "            '<a target=\"_blank\" href=https://colab.research.google.com/notebooks/data_table.ipynb>data table notebook</a>'\n",
              "            + ' to learn more about interactive tables.';\n",
              "          element.innerHTML = '';\n",
              "          dataTable['output_type'] = 'display_data';\n",
              "          await google.colab.output.renderOutput(dataTable, element);\n",
              "          const docLink = document.createElement('div');\n",
              "          docLink.innerHTML = docLinkHtml;\n",
              "          element.appendChild(docLink);\n",
              "        }\n",
              "      </script>\n",
              "    </div>\n",
              "  </div>\n",
              "  "
            ]
          },
          "metadata": {},
          "execution_count": 10
        }
      ],
      "source": [
        "df.head()"
      ]
    },
    {
      "cell_type": "code",
      "source": [
        "X.shape, y.shape"
      ],
      "metadata": {
        "colab": {
          "base_uri": "https://localhost:8080/"
        },
        "id": "C-U6w_z0YFo1",
        "outputId": "029ae4b0-2293-4946-b7d9-c70fbc7f5248"
      },
      "execution_count": null,
      "outputs": [
        {
          "output_type": "execute_result",
          "data": {
            "text/plain": [
              "((1082, 20511), (1082,))"
            ]
          },
          "metadata": {},
          "execution_count": 11
        }
      ]
    },
    {
      "cell_type": "markdown",
      "metadata": {
        "id": "fpy8kHb03M9y"
      },
      "source": [
        "# Selecting Common Nodes From Both Data"
      ]
    },
    {
      "cell_type": "code",
      "execution_count": null,
      "metadata": {
        "id": "enN3qxwRfIV1",
        "colab": {
          "base_uri": "https://localhost:8080/"
        },
        "outputId": "2dfa72cc-a72f-4981-df66-b5251846d7c5"
      },
      "outputs": [
        {
          "output_type": "execute_result",
          "data": {
            "text/plain": [
              "12324"
            ]
          },
          "metadata": {},
          "execution_count": 12
        }
      ],
      "source": [
        "all_nodes = sorted(list(set(df['Source']) | set(df['Target'])))\n",
        "len(all_nodes)"
      ]
    },
    {
      "cell_type": "code",
      "execution_count": null,
      "metadata": {
        "id": "qf-NNwBneVfU",
        "colab": {
          "base_uri": "https://localhost:8080/"
        },
        "outputId": "afcbbe4d-0f83-4127-f124-fea5c51e3583"
      },
      "outputs": [
        {
          "output_type": "execute_result",
          "data": {
            "text/plain": [
              "9614"
            ]
          },
          "metadata": {},
          "execution_count": 13
        }
      ],
      "source": [
        "len(set(all_nodes) & set(X.columns))"
      ]
    },
    {
      "cell_type": "code",
      "execution_count": null,
      "metadata": {
        "id": "r9LD0UajfXLg",
        "colab": {
          "base_uri": "https://localhost:8080/"
        },
        "outputId": "1eb73a3a-1288-416d-beeb-e6cdaaa67046"
      },
      "outputs": [
        {
          "output_type": "execute_result",
          "data": {
            "text/plain": [
              "9614"
            ]
          },
          "metadata": {},
          "execution_count": 14
        }
      ],
      "source": [
        "used_nodes = sorted(list(set(X.columns) & set(all_nodes)))\n",
        "len(used_nodes)"
      ]
    },
    {
      "cell_type": "code",
      "execution_count": null,
      "metadata": {
        "id": "cDnGvGnXfMl2",
        "colab": {
          "base_uri": "https://localhost:8080/",
          "height": 310
        },
        "outputId": "6bcb8dd6-2fe5-4314-c3e1-f2b3156ea468"
      },
      "outputs": [
        {
          "output_type": "execute_result",
          "data": {
            "text/plain": [
              "                 A1CF      A2M   A4GNT     AAAS      AACS   AADAC    AADAT  \\\n",
              "TCGA-3C-AAAU-01   0.0  5798.37  8.6165  649.337  1087.400  0.0000   5.5145   \n",
              "TCGA-3C-AALI-01   0.0  7571.98  0.5438  887.983   836.324  1.0875  24.4698   \n",
              "\n",
              "                    AAK1   AANAT     AARS  ...     ZP2      ZP3     ZP4  \\\n",
              "TCGA-3C-AAAU-01  517.333  0.3447  4409.56  ...  0.0000  411.791  0.0000   \n",
              "TCGA-3C-AALI-01  848.287  2.1751  4570.96  ...  4.3502  439.222  0.5438   \n",
              "\n",
              "                  ZRANB1    ZRSR2  ZSCAN10     ZW10    ZWILCH    ZWINT  \\\n",
              "TCGA-3C-AAAU-01  879.225  421.862   2.7573  430.824   415.824  931.957   \n",
              "TCGA-3C-AALI-01  566.068  349.647   0.0000  340.402  1161.330  965.198   \n",
              "\n",
              "                     ZZZ3  \n",
              "TCGA-3C-AAAU-01  1180.460  \n",
              "TCGA-3C-AALI-01   406.743  \n",
              "\n",
              "[2 rows x 9614 columns]"
            ],
            "text/html": [
              "\n",
              "  <div id=\"df-05e1b9bc-c9b7-43bb-8305-a813b3da3b90\">\n",
              "    <div class=\"colab-df-container\">\n",
              "      <div>\n",
              "<style scoped>\n",
              "    .dataframe tbody tr th:only-of-type {\n",
              "        vertical-align: middle;\n",
              "    }\n",
              "\n",
              "    .dataframe tbody tr th {\n",
              "        vertical-align: top;\n",
              "    }\n",
              "\n",
              "    .dataframe thead th {\n",
              "        text-align: right;\n",
              "    }\n",
              "</style>\n",
              "<table border=\"1\" class=\"dataframe\">\n",
              "  <thead>\n",
              "    <tr style=\"text-align: right;\">\n",
              "      <th></th>\n",
              "      <th>A1CF</th>\n",
              "      <th>A2M</th>\n",
              "      <th>A4GNT</th>\n",
              "      <th>AAAS</th>\n",
              "      <th>AACS</th>\n",
              "      <th>AADAC</th>\n",
              "      <th>AADAT</th>\n",
              "      <th>AAK1</th>\n",
              "      <th>AANAT</th>\n",
              "      <th>AARS</th>\n",
              "      <th>...</th>\n",
              "      <th>ZP2</th>\n",
              "      <th>ZP3</th>\n",
              "      <th>ZP4</th>\n",
              "      <th>ZRANB1</th>\n",
              "      <th>ZRSR2</th>\n",
              "      <th>ZSCAN10</th>\n",
              "      <th>ZW10</th>\n",
              "      <th>ZWILCH</th>\n",
              "      <th>ZWINT</th>\n",
              "      <th>ZZZ3</th>\n",
              "    </tr>\n",
              "  </thead>\n",
              "  <tbody>\n",
              "    <tr>\n",
              "      <th>TCGA-3C-AAAU-01</th>\n",
              "      <td>0.0</td>\n",
              "      <td>5798.37</td>\n",
              "      <td>8.6165</td>\n",
              "      <td>649.337</td>\n",
              "      <td>1087.400</td>\n",
              "      <td>0.0000</td>\n",
              "      <td>5.5145</td>\n",
              "      <td>517.333</td>\n",
              "      <td>0.3447</td>\n",
              "      <td>4409.56</td>\n",
              "      <td>...</td>\n",
              "      <td>0.0000</td>\n",
              "      <td>411.791</td>\n",
              "      <td>0.0000</td>\n",
              "      <td>879.225</td>\n",
              "      <td>421.862</td>\n",
              "      <td>2.7573</td>\n",
              "      <td>430.824</td>\n",
              "      <td>415.824</td>\n",
              "      <td>931.957</td>\n",
              "      <td>1180.460</td>\n",
              "    </tr>\n",
              "    <tr>\n",
              "      <th>TCGA-3C-AALI-01</th>\n",
              "      <td>0.0</td>\n",
              "      <td>7571.98</td>\n",
              "      <td>0.5438</td>\n",
              "      <td>887.983</td>\n",
              "      <td>836.324</td>\n",
              "      <td>1.0875</td>\n",
              "      <td>24.4698</td>\n",
              "      <td>848.287</td>\n",
              "      <td>2.1751</td>\n",
              "      <td>4570.96</td>\n",
              "      <td>...</td>\n",
              "      <td>4.3502</td>\n",
              "      <td>439.222</td>\n",
              "      <td>0.5438</td>\n",
              "      <td>566.068</td>\n",
              "      <td>349.647</td>\n",
              "      <td>0.0000</td>\n",
              "      <td>340.402</td>\n",
              "      <td>1161.330</td>\n",
              "      <td>965.198</td>\n",
              "      <td>406.743</td>\n",
              "    </tr>\n",
              "  </tbody>\n",
              "</table>\n",
              "<p>2 rows × 9614 columns</p>\n",
              "</div>\n",
              "      <button class=\"colab-df-convert\" onclick=\"convertToInteractive('df-05e1b9bc-c9b7-43bb-8305-a813b3da3b90')\"\n",
              "              title=\"Convert this dataframe to an interactive table.\"\n",
              "              style=\"display:none;\">\n",
              "        \n",
              "  <svg xmlns=\"http://www.w3.org/2000/svg\" height=\"24px\"viewBox=\"0 0 24 24\"\n",
              "       width=\"24px\">\n",
              "    <path d=\"M0 0h24v24H0V0z\" fill=\"none\"/>\n",
              "    <path d=\"M18.56 5.44l.94 2.06.94-2.06 2.06-.94-2.06-.94-.94-2.06-.94 2.06-2.06.94zm-11 1L8.5 8.5l.94-2.06 2.06-.94-2.06-.94L8.5 2.5l-.94 2.06-2.06.94zm10 10l.94 2.06.94-2.06 2.06-.94-2.06-.94-.94-2.06-.94 2.06-2.06.94z\"/><path d=\"M17.41 7.96l-1.37-1.37c-.4-.4-.92-.59-1.43-.59-.52 0-1.04.2-1.43.59L10.3 9.45l-7.72 7.72c-.78.78-.78 2.05 0 2.83L4 21.41c.39.39.9.59 1.41.59.51 0 1.02-.2 1.41-.59l7.78-7.78 2.81-2.81c.8-.78.8-2.07 0-2.86zM5.41 20L4 18.59l7.72-7.72 1.47 1.35L5.41 20z\"/>\n",
              "  </svg>\n",
              "      </button>\n",
              "      \n",
              "  <style>\n",
              "    .colab-df-container {\n",
              "      display:flex;\n",
              "      flex-wrap:wrap;\n",
              "      gap: 12px;\n",
              "    }\n",
              "\n",
              "    .colab-df-convert {\n",
              "      background-color: #E8F0FE;\n",
              "      border: none;\n",
              "      border-radius: 50%;\n",
              "      cursor: pointer;\n",
              "      display: none;\n",
              "      fill: #1967D2;\n",
              "      height: 32px;\n",
              "      padding: 0 0 0 0;\n",
              "      width: 32px;\n",
              "    }\n",
              "\n",
              "    .colab-df-convert:hover {\n",
              "      background-color: #E2EBFA;\n",
              "      box-shadow: 0px 1px 2px rgba(60, 64, 67, 0.3), 0px 1px 3px 1px rgba(60, 64, 67, 0.15);\n",
              "      fill: #174EA6;\n",
              "    }\n",
              "\n",
              "    [theme=dark] .colab-df-convert {\n",
              "      background-color: #3B4455;\n",
              "      fill: #D2E3FC;\n",
              "    }\n",
              "\n",
              "    [theme=dark] .colab-df-convert:hover {\n",
              "      background-color: #434B5C;\n",
              "      box-shadow: 0px 1px 3px 1px rgba(0, 0, 0, 0.15);\n",
              "      filter: drop-shadow(0px 1px 2px rgba(0, 0, 0, 0.3));\n",
              "      fill: #FFFFFF;\n",
              "    }\n",
              "  </style>\n",
              "\n",
              "      <script>\n",
              "        const buttonEl =\n",
              "          document.querySelector('#df-05e1b9bc-c9b7-43bb-8305-a813b3da3b90 button.colab-df-convert');\n",
              "        buttonEl.style.display =\n",
              "          google.colab.kernel.accessAllowed ? 'block' : 'none';\n",
              "\n",
              "        async function convertToInteractive(key) {\n",
              "          const element = document.querySelector('#df-05e1b9bc-c9b7-43bb-8305-a813b3da3b90');\n",
              "          const dataTable =\n",
              "            await google.colab.kernel.invokeFunction('convertToInteractive',\n",
              "                                                     [key], {});\n",
              "          if (!dataTable) return;\n",
              "\n",
              "          const docLinkHtml = 'Like what you see? Visit the ' +\n",
              "            '<a target=\"_blank\" href=https://colab.research.google.com/notebooks/data_table.ipynb>data table notebook</a>'\n",
              "            + ' to learn more about interactive tables.';\n",
              "          element.innerHTML = '';\n",
              "          dataTable['output_type'] = 'display_data';\n",
              "          await google.colab.output.renderOutput(dataTable, element);\n",
              "          const docLink = document.createElement('div');\n",
              "          docLink.innerHTML = docLinkHtml;\n",
              "          element.appendChild(docLink);\n",
              "        }\n",
              "      </script>\n",
              "    </div>\n",
              "  </div>\n",
              "  "
            ]
          },
          "metadata": {},
          "execution_count": 15
        }
      ],
      "source": [
        "X = X.loc[:, used_nodes]\n",
        "X.head(2)"
      ]
    },
    {
      "cell_type": "code",
      "execution_count": null,
      "metadata": {
        "id": "yCbpUWJxfpid"
      },
      "outputs": [],
      "source": [
        "# Extract the values from the 'Source' column of the DataFrame\n",
        "source_values = df['Source'].values\n",
        "\n",
        "# Create a boolean mask indicating whether each element in 'source_values' is present in 'used_nodes'\n",
        "mask = np.isin(source_values, used_nodes)\n",
        "\n",
        "df = df.loc[mask]\n",
        "\n",
        "# Update 'source_values' with the values from the 'Target' column of the filtered DataFrame\n",
        "source_values = df['Target'].values\n",
        "\n",
        "# Create a new boolean mask based on the updated 'source_values' array\n",
        "mask = np.isin(source_values, used_nodes)\n",
        "\n",
        "\n",
        "df = df.loc[mask]\n",
        "\n",
        "# Reset the index of the filtered DataFrame, dropping the old index\n",
        "df = df.reset_index(drop=True)"
      ]
    },
    {
      "cell_type": "code",
      "execution_count": null,
      "metadata": {
        "id": "4rPVPxhAfsld",
        "colab": {
          "base_uri": "https://localhost:8080/"
        },
        "outputId": "05748dad-0ccb-400f-cf9b-1e387d28ec49"
      },
      "outputs": [
        {
          "output_type": "execute_result",
          "data": {
            "text/plain": [
              "9288"
            ]
          },
          "metadata": {},
          "execution_count": 17
        }
      ],
      "source": [
        "len(set(df['Source']) | set(df['Target']))"
      ]
    },
    {
      "cell_type": "code",
      "execution_count": null,
      "metadata": {
        "id": "_gbA4mcif0Ud",
        "colab": {
          "base_uri": "https://localhost:8080/",
          "height": 310
        },
        "outputId": "644953e7-01e9-4276-ffb9-6fd4998c3990"
      },
      "outputs": [
        {
          "output_type": "execute_result",
          "data": {
            "text/plain": [
              "                 A1CF      A2M   A4GNT     AAAS      AACS    AADAT     AAK1  \\\n",
              "TCGA-3C-AAAU-01   0.0  5798.37  8.6165  649.337  1087.400   5.5145  517.333   \n",
              "TCGA-3C-AALI-01   0.0  7571.98  0.5438  887.983   836.324  24.4698  848.287   \n",
              "\n",
              "                  AANAT     AARS    AARS2  ...     ZP2      ZP3     ZP4  \\\n",
              "TCGA-3C-AAAU-01  0.3447  4409.56  689.897  ...  0.0000  411.791  0.0000   \n",
              "TCGA-3C-AALI-01  2.1751  4570.96  472.501  ...  4.3502  439.222  0.5438   \n",
              "\n",
              "                  ZRANB1    ZRSR2  ZSCAN10     ZW10    ZWILCH    ZWINT  \\\n",
              "TCGA-3C-AAAU-01  879.225  421.862   2.7573  430.824   415.824  931.957   \n",
              "TCGA-3C-AALI-01  566.068  349.647   0.0000  340.402  1161.330  965.198   \n",
              "\n",
              "                     ZZZ3  \n",
              "TCGA-3C-AAAU-01  1180.460  \n",
              "TCGA-3C-AALI-01   406.743  \n",
              "\n",
              "[2 rows x 9288 columns]"
            ],
            "text/html": [
              "\n",
              "  <div id=\"df-ff9f25d0-2d54-48a6-bb79-7d112f98f81d\">\n",
              "    <div class=\"colab-df-container\">\n",
              "      <div>\n",
              "<style scoped>\n",
              "    .dataframe tbody tr th:only-of-type {\n",
              "        vertical-align: middle;\n",
              "    }\n",
              "\n",
              "    .dataframe tbody tr th {\n",
              "        vertical-align: top;\n",
              "    }\n",
              "\n",
              "    .dataframe thead th {\n",
              "        text-align: right;\n",
              "    }\n",
              "</style>\n",
              "<table border=\"1\" class=\"dataframe\">\n",
              "  <thead>\n",
              "    <tr style=\"text-align: right;\">\n",
              "      <th></th>\n",
              "      <th>A1CF</th>\n",
              "      <th>A2M</th>\n",
              "      <th>A4GNT</th>\n",
              "      <th>AAAS</th>\n",
              "      <th>AACS</th>\n",
              "      <th>AADAT</th>\n",
              "      <th>AAK1</th>\n",
              "      <th>AANAT</th>\n",
              "      <th>AARS</th>\n",
              "      <th>AARS2</th>\n",
              "      <th>...</th>\n",
              "      <th>ZP2</th>\n",
              "      <th>ZP3</th>\n",
              "      <th>ZP4</th>\n",
              "      <th>ZRANB1</th>\n",
              "      <th>ZRSR2</th>\n",
              "      <th>ZSCAN10</th>\n",
              "      <th>ZW10</th>\n",
              "      <th>ZWILCH</th>\n",
              "      <th>ZWINT</th>\n",
              "      <th>ZZZ3</th>\n",
              "    </tr>\n",
              "  </thead>\n",
              "  <tbody>\n",
              "    <tr>\n",
              "      <th>TCGA-3C-AAAU-01</th>\n",
              "      <td>0.0</td>\n",
              "      <td>5798.37</td>\n",
              "      <td>8.6165</td>\n",
              "      <td>649.337</td>\n",
              "      <td>1087.400</td>\n",
              "      <td>5.5145</td>\n",
              "      <td>517.333</td>\n",
              "      <td>0.3447</td>\n",
              "      <td>4409.56</td>\n",
              "      <td>689.897</td>\n",
              "      <td>...</td>\n",
              "      <td>0.0000</td>\n",
              "      <td>411.791</td>\n",
              "      <td>0.0000</td>\n",
              "      <td>879.225</td>\n",
              "      <td>421.862</td>\n",
              "      <td>2.7573</td>\n",
              "      <td>430.824</td>\n",
              "      <td>415.824</td>\n",
              "      <td>931.957</td>\n",
              "      <td>1180.460</td>\n",
              "    </tr>\n",
              "    <tr>\n",
              "      <th>TCGA-3C-AALI-01</th>\n",
              "      <td>0.0</td>\n",
              "      <td>7571.98</td>\n",
              "      <td>0.5438</td>\n",
              "      <td>887.983</td>\n",
              "      <td>836.324</td>\n",
              "      <td>24.4698</td>\n",
              "      <td>848.287</td>\n",
              "      <td>2.1751</td>\n",
              "      <td>4570.96</td>\n",
              "      <td>472.501</td>\n",
              "      <td>...</td>\n",
              "      <td>4.3502</td>\n",
              "      <td>439.222</td>\n",
              "      <td>0.5438</td>\n",
              "      <td>566.068</td>\n",
              "      <td>349.647</td>\n",
              "      <td>0.0000</td>\n",
              "      <td>340.402</td>\n",
              "      <td>1161.330</td>\n",
              "      <td>965.198</td>\n",
              "      <td>406.743</td>\n",
              "    </tr>\n",
              "  </tbody>\n",
              "</table>\n",
              "<p>2 rows × 9288 columns</p>\n",
              "</div>\n",
              "      <button class=\"colab-df-convert\" onclick=\"convertToInteractive('df-ff9f25d0-2d54-48a6-bb79-7d112f98f81d')\"\n",
              "              title=\"Convert this dataframe to an interactive table.\"\n",
              "              style=\"display:none;\">\n",
              "        \n",
              "  <svg xmlns=\"http://www.w3.org/2000/svg\" height=\"24px\"viewBox=\"0 0 24 24\"\n",
              "       width=\"24px\">\n",
              "    <path d=\"M0 0h24v24H0V0z\" fill=\"none\"/>\n",
              "    <path d=\"M18.56 5.44l.94 2.06.94-2.06 2.06-.94-2.06-.94-.94-2.06-.94 2.06-2.06.94zm-11 1L8.5 8.5l.94-2.06 2.06-.94-2.06-.94L8.5 2.5l-.94 2.06-2.06.94zm10 10l.94 2.06.94-2.06 2.06-.94-2.06-.94-.94-2.06-.94 2.06-2.06.94z\"/><path d=\"M17.41 7.96l-1.37-1.37c-.4-.4-.92-.59-1.43-.59-.52 0-1.04.2-1.43.59L10.3 9.45l-7.72 7.72c-.78.78-.78 2.05 0 2.83L4 21.41c.39.39.9.59 1.41.59.51 0 1.02-.2 1.41-.59l7.78-7.78 2.81-2.81c.8-.78.8-2.07 0-2.86zM5.41 20L4 18.59l7.72-7.72 1.47 1.35L5.41 20z\"/>\n",
              "  </svg>\n",
              "      </button>\n",
              "      \n",
              "  <style>\n",
              "    .colab-df-container {\n",
              "      display:flex;\n",
              "      flex-wrap:wrap;\n",
              "      gap: 12px;\n",
              "    }\n",
              "\n",
              "    .colab-df-convert {\n",
              "      background-color: #E8F0FE;\n",
              "      border: none;\n",
              "      border-radius: 50%;\n",
              "      cursor: pointer;\n",
              "      display: none;\n",
              "      fill: #1967D2;\n",
              "      height: 32px;\n",
              "      padding: 0 0 0 0;\n",
              "      width: 32px;\n",
              "    }\n",
              "\n",
              "    .colab-df-convert:hover {\n",
              "      background-color: #E2EBFA;\n",
              "      box-shadow: 0px 1px 2px rgba(60, 64, 67, 0.3), 0px 1px 3px 1px rgba(60, 64, 67, 0.15);\n",
              "      fill: #174EA6;\n",
              "    }\n",
              "\n",
              "    [theme=dark] .colab-df-convert {\n",
              "      background-color: #3B4455;\n",
              "      fill: #D2E3FC;\n",
              "    }\n",
              "\n",
              "    [theme=dark] .colab-df-convert:hover {\n",
              "      background-color: #434B5C;\n",
              "      box-shadow: 0px 1px 3px 1px rgba(0, 0, 0, 0.15);\n",
              "      filter: drop-shadow(0px 1px 2px rgba(0, 0, 0, 0.3));\n",
              "      fill: #FFFFFF;\n",
              "    }\n",
              "  </style>\n",
              "\n",
              "      <script>\n",
              "        const buttonEl =\n",
              "          document.querySelector('#df-ff9f25d0-2d54-48a6-bb79-7d112f98f81d button.colab-df-convert');\n",
              "        buttonEl.style.display =\n",
              "          google.colab.kernel.accessAllowed ? 'block' : 'none';\n",
              "\n",
              "        async function convertToInteractive(key) {\n",
              "          const element = document.querySelector('#df-ff9f25d0-2d54-48a6-bb79-7d112f98f81d');\n",
              "          const dataTable =\n",
              "            await google.colab.kernel.invokeFunction('convertToInteractive',\n",
              "                                                     [key], {});\n",
              "          if (!dataTable) return;\n",
              "\n",
              "          const docLinkHtml = 'Like what you see? Visit the ' +\n",
              "            '<a target=\"_blank\" href=https://colab.research.google.com/notebooks/data_table.ipynb>data table notebook</a>'\n",
              "            + ' to learn more about interactive tables.';\n",
              "          element.innerHTML = '';\n",
              "          dataTable['output_type'] = 'display_data';\n",
              "          await google.colab.output.renderOutput(dataTable, element);\n",
              "          const docLink = document.createElement('div');\n",
              "          docLink.innerHTML = docLinkHtml;\n",
              "          element.appendChild(docLink);\n",
              "        }\n",
              "      </script>\n",
              "    </div>\n",
              "  </div>\n",
              "  "
            ]
          },
          "metadata": {},
          "execution_count": 18
        }
      ],
      "source": [
        "\n",
        "# Select the columns from DataFrame 'X' that correspond to unique values\n",
        "columns_to_select = sorted(set(df['Source']).union(set(df['Target'])))\n",
        "X = X[columns_to_select]\n",
        "X.head(2)"
      ]
    },
    {
      "cell_type": "code",
      "source": [
        "X.shape"
      ],
      "metadata": {
        "colab": {
          "base_uri": "https://localhost:8080/"
        },
        "id": "9mzqTpLQXKnG",
        "outputId": "8a2ec8a6-183d-45f6-ccaf-b570f0db3b75"
      },
      "execution_count": null,
      "outputs": [
        {
          "output_type": "execute_result",
          "data": {
            "text/plain": [
              "(1082, 9288)"
            ]
          },
          "metadata": {},
          "execution_count": 19
        }
      ]
    },
    {
      "cell_type": "markdown",
      "source": [
        "# Creating Edge Index from Pathway Commons"
      ],
      "metadata": {
        "id": "WqxE_qXCmRN1"
      }
    },
    {
      "cell_type": "code",
      "execution_count": null,
      "metadata": {
        "id": "3a2Ek5R65Nwo"
      },
      "outputs": [],
      "source": [
        "source_nodes = df['Source'].tolist()\n",
        "target_nodes = df['Target'].tolist()\n",
        "\n",
        "\n",
        "# Create a dictionary to map each unique node to a unique index\n",
        "node_to_index = {node: index for index, node in enumerate(X.columns)}\n",
        "\n",
        "# Map the source and target nodes to their corresponding indices\n",
        "source_indices = [node_to_index[node] for node in source_nodes]\n",
        "target_indices = [node_to_index[node] for node in target_nodes]"
      ]
    },
    {
      "cell_type": "code",
      "execution_count": null,
      "metadata": {
        "id": "lDkBhxaIiSJl"
      },
      "outputs": [],
      "source": [
        "# Convert the source and target indices to a PyTorch tensor\n",
        "edge_index = torch.tensor([source_indices, target_indices], dtype=torch.long)"
      ]
    },
    {
      "cell_type": "code",
      "execution_count": null,
      "metadata": {
        "id": "_hSLO4ioijm1",
        "colab": {
          "base_uri": "https://localhost:8080/"
        },
        "outputId": "11e22039-e008-4bdc-cd67-01a241a89d4f"
      },
      "outputs": [
        {
          "output_type": "execute_result",
          "data": {
            "text/plain": [
              "tensor([[   0,    0,    0,  ..., 9287, 9287, 9287],\n",
              "        [ 451,  452,  453,  ..., 3323, 3340, 3341]])"
            ]
          },
          "metadata": {},
          "execution_count": 22
        }
      ],
      "source": [
        "edge_index"
      ]
    },
    {
      "cell_type": "code",
      "execution_count": null,
      "metadata": {
        "id": "8AijMTwRaV2O",
        "colab": {
          "base_uri": "https://localhost:8080/"
        },
        "outputId": "900c2370-0b13-458a-9ed7-a6ec10370353"
      },
      "outputs": [
        {
          "output_type": "execute_result",
          "data": {
            "text/plain": [
              "torch.Size([2, 271771])"
            ]
          },
          "metadata": {},
          "execution_count": 23
        }
      ],
      "source": [
        "edge_index.shape"
      ]
    },
    {
      "cell_type": "markdown",
      "source": [
        "# Splitting the Data into Train and Test Splits"
      ],
      "metadata": {
        "id": "bwiNRVk9o0YF"
      }
    },
    {
      "cell_type": "code",
      "execution_count": null,
      "metadata": {
        "id": "A9SORNvuNaGW"
      },
      "outputs": [],
      "source": [
        "# Set the fixed index for splitting\n",
        "split_index = int(0.8 * X.shape[0])\n",
        "\n",
        "# Split the data based on the fixed index\n",
        "X_train = X[:split_index]\n",
        "X_test = X[split_index:]\n",
        "y_train = y[:split_index]\n",
        "y_test = y[split_index:]"
      ]
    },
    {
      "cell_type": "code",
      "execution_count": null,
      "metadata": {
        "id": "2moOSXN89L_s",
        "colab": {
          "base_uri": "https://localhost:8080/"
        },
        "outputId": "4e20e7c1-daf8-43c5-98dc-e3c017e750e6"
      },
      "outputs": [
        {
          "output_type": "execute_result",
          "data": {
            "text/plain": [
              "((865, 9288), (217, 9288))"
            ]
          },
          "metadata": {},
          "execution_count": 25
        }
      ],
      "source": [
        "X_train.shape, X_test.shape"
      ]
    },
    {
      "cell_type": "code",
      "execution_count": null,
      "metadata": {
        "id": "gD5qBnVD9R3Z"
      },
      "outputs": [],
      "source": [
        "X_train = X_train.values\n",
        "X_test = X_test.values"
      ]
    },
    {
      "cell_type": "code",
      "execution_count": null,
      "metadata": {
        "id": "ti6NCahQOrmo",
        "colab": {
          "base_uri": "https://localhost:8080/"
        },
        "outputId": "421ffc95-5fa7-4760-f734-48f6d16da2ed"
      },
      "outputs": [
        {
          "output_type": "execute_result",
          "data": {
            "text/plain": [
              "array([   0.    , 5798.37  ,    8.6165, ...,  415.824 ,  931.957 ,\n",
              "       1180.46  ])"
            ]
          },
          "metadata": {},
          "execution_count": 27
        }
      ],
      "source": [
        "X_train[0]"
      ]
    },
    {
      "cell_type": "code",
      "execution_count": null,
      "metadata": {
        "id": "JVmn65Q1O5qT",
        "colab": {
          "base_uri": "https://localhost:8080/"
        },
        "outputId": "dbeb0862-862d-4e12-a4cc-bdb813b6f3e6"
      },
      "outputs": [
        {
          "output_type": "execute_result",
          "data": {
            "text/plain": [
              "array([0.00000e+00, 2.28575e+04, 1.28340e+00, ..., 2.94419e+02,\n",
              "       2.65659e+02, 8.94513e+02])"
            ]
          },
          "metadata": {},
          "execution_count": 28
        }
      ],
      "source": [
        "X_test[1]"
      ]
    },
    {
      "cell_type": "code",
      "execution_count": null,
      "metadata": {
        "id": "xevvmFAQO8h7",
        "colab": {
          "base_uri": "https://localhost:8080/"
        },
        "outputId": "bfc72bf3-68ee-41d7-ced7-010bb9754a7c"
      },
      "outputs": [
        {
          "output_type": "execute_result",
          "data": {
            "text/plain": [
              "array([1.33050597e+02, 1.31669790e+02, 4.84597429e+01, 4.76049577e+01,\n",
              "       1.14409705e+01, 4.85583720e+01, 9.96153467e+00, 8.51497518e+00,\n",
              "       1.43669658e+01, 4.34296610e+01, 4.80981030e+01, 1.42683368e+01,\n",
              "       4.72433179e+01, 2.08764835e+01, 1.36765625e+01, 3.17914324e+01,\n",
              "       7.95607719e+00, 3.93201170e+01, 2.80106519e+01, 1.91997896e+01,\n",
              "       1.82134990e+01, 1.43143637e+02, 1.80162409e+01, 7.84100996e+01,\n",
              "       1.21938390e+02, 7.38402867e+01, 8.72538383e+01, 6.31225959e+01,\n",
              "       1.01982444e+02, 5.54295295e+01, 3.61311109e+01, 1.36732748e+02,\n",
              "       9.91222014e+01, 2.47887694e+01, 1.14804221e+02, 9.24811783e+01,\n",
              "       8.86017688e+01, 1.07933064e+02, 7.71936746e+01, 7.52539698e+01,\n",
              "       5.19446362e+00, 9.89906960e+01, 1.07933064e+02, 5.68103363e+01,\n",
              "       5.31281849e+01, 6.73307690e+01, 3.45530460e+01, 3.37640136e+01,\n",
              "       6.15774074e+01, 2.52161620e+01, 1.01719433e+02, 1.34398527e+02,\n",
              "       8.02840517e+01, 1.18453496e+02, 7.97580301e+01, 7.43991847e+01,\n",
              "       7.19992110e+01, 3.50461913e+01, 3.42900352e+01, 3.18243088e+01,\n",
              "       6.19390472e+01, 2.47230167e+01, 6.32869777e+01, 9.91879541e+01,\n",
              "       5.46404971e+01, 2.71229904e+01, 4.48762205e+01, 5.04323240e+01,\n",
              "       4.42844462e+01, 1.75230956e+01, 1.71285794e+01, 8.38346977e+00,\n",
              "       4.98405497e+01, 2.05148437e+01, 1.74573429e+01, 1.89039024e+01,\n",
              "       2.07449781e+01, 3.25475885e+01, 2.52819147e+01, 1.82134990e+01,\n",
              "       5.04652004e+01, 2.18956505e+01, 2.16655160e+01, 4.94789098e+01,\n",
              "       1.86080153e+01, 1.93312950e+01, 4.84597429e+01, 3.17256797e+01,\n",
              "       2.37696025e+01, 2.34737154e+01, 1.73587139e+01, 6.07226222e+01,\n",
              "       2.24545484e+01, 2.02518329e+01, 1.91997896e+01, 1.95614295e+01,\n",
              "       1.64710524e+01, 5.24706579e+01, 1.07702929e+02, 4.24433705e+01,\n",
              "       1.71943321e+01, 1.81477463e+01, 1.05335832e+02, 1.05861854e+01,\n",
              "       3.62297400e+01, 3.96488806e+01, 3.39283953e+01, 9.10674951e+01,\n",
              "       2.99832331e+01, 3.27448466e+01, 5.62843147e+01, 4.73090706e+01,\n",
              "       3.59338528e+01, 5.03665713e+01, 5.08268402e+01, 7.29855015e+00,\n",
              "       2.43942532e+01, 2.13038761e+01, 2.32107045e+01, 2.69586087e+01,\n",
              "       2.11394944e+01, 2.18956505e+01, 3.83009501e+01, 3.53092021e+01,\n",
              "       3.42900352e+01, 3.54735838e+01, 3.06078837e+01, 3.74461650e+01,\n",
              "       3.56708420e+01, 3.31064865e+01, 2.97859749e+01, 3.17256797e+01,\n",
              "       2.01860801e+01, 2.51504093e+01, 2.36052208e+01, 2.95558405e+01,\n",
              "       3.13640399e+01, 2.42627478e+01, 2.37367262e+01, 2.38024789e+01,\n",
              "       2.17312687e+01, 2.06134727e+01, 2.23230430e+01, 1.13423414e+01,\n",
              "       1.05861854e+01, 1.02902982e+01, 1.12765888e+01, 1.34135516e+01,\n",
              "       1.46957294e+01, 1.19669921e+01, 1.49258638e+01, 1.37423151e+01,\n",
              "       1.46628530e+01, 1.44984712e+01, 2.11723707e+01, 1.79176119e+01,\n",
              "       1.47286057e+01, 1.20984975e+01, 1.07176908e+01, 1.10464543e+01,\n",
              "       1.02902982e+01, 9.36976033e+00, 1.04218036e+01, 8.74510964e+00,\n",
              "       0.00000000e+00, 1.30190354e+01, 1.30190354e+01, 1.01916691e+00,\n",
              "       1.79833646e+01, 5.30624322e+01, 2.90298189e+01, 3.10024000e+01,\n",
              "       2.60051945e+01, 1.01916691e+00, 1.70299504e+01, 5.39829700e+01,\n",
              "       9.00812046e+00, 4.30022685e+01, 3.39941480e+01, 1.99888220e+01,\n",
              "       1.89696551e+01, 1.89696551e+01, 1.40053260e+01, 1.19998685e+01,\n",
              "       3.20544432e+01, 9.99441102e+00, 1.09807016e+01, 8.97524411e+00,\n",
              "       7.98895355e+00, 2.49860275e+01, 9.99441102e+00, 4.50734786e+01,\n",
              "       0.00000000e+00, 1.80491173e+01, 0.00000000e+00, 3.69530197e+01,\n",
              "       1.30190354e+01, 9.86290561e-01, 3.80050630e+01, 2.89640662e+01,\n",
              "       1.99559457e+01, 0.00000000e+00, 1.19998685e+01, 3.70516487e+01,\n",
              "       9.99441102e+00, 3.10024000e+01, 3.10024000e+01, 9.86290561e-01,\n",
              "       1.12075484e+02, 4.30022685e+01, 4.00105204e+01, 0.00000000e+00,\n",
              "       3.30078575e+01, 3.09695236e+01, 1.79504882e+01, 0.00000000e+00,\n",
              "       4.19831016e+01, 0.00000000e+00, 1.19998685e+01, 9.99441102e+00,\n",
              "       9.99441102e+00, 1.19998685e+01, 1.01916691e+00, 5.00378078e+01,\n",
              "       0.00000000e+00, 4.50734786e+01, 3.30736102e+01, 1.01916691e+00,\n",
              "       2.50189039e+01, 8.97524411e+00, 1.90354078e+01, 1.50244929e+01,\n",
              "       9.86290561e-01, 1.40053260e+01, 0.00000000e+00, 1.19998685e+01,\n",
              "       1.90354078e+01, 1.30190354e+01, 2.10408653e+01, 9.86290561e-01,\n",
              "       2.70243614e+01, 1.70299504e+01, 3.80379393e+01, 1.92326659e+01,\n",
              "       2.29476937e+01, 7.39060394e+01, 5.72048525e+00, 2.22572903e+01,\n",
              "       7.30512542e+01, 9.93523359e+01, 4.05694184e+01, 8.66620640e+01,\n",
              "       9.07058553e+01, 6.09198803e+01, 8.71223329e+01, 2.60380708e+01,\n",
              "       7.41361739e+01, 3.30407338e+01, 1.93312950e+01, 1.46628530e+01,\n",
              "       3.24489595e+01, 6.47664135e+00, 1.63066706e+01, 1.48272348e+01,\n",
              "       2.21915376e+01, 2.41312424e+01, 2.50517803e+01, 1.49916165e+01,\n",
              "       1.65696814e+01, 1.97915639e+01, 1.54847618e+01, 2.32435809e+01,\n",
              "       2.47887694e+01, 2.92599533e+01, 1.67998159e+01, 1.93312950e+01,\n",
              "       1.49587402e+01, 1.14409705e+01, 1.37094388e+01, 1.74244666e+01,\n",
              "       1.86737680e+01, 1.35779334e+01, 1.22628793e+01, 1.67669395e+00,\n",
              "       8.21908801e+00, 3.28763520e-02, 2.01860801e+01, 1.11779597e+00,\n",
              "       1.31505408e+00, 2.30134464e+00, 3.28763520e-01, 3.28763520e-01,\n",
              "       2.30134464e-01, 3.28763520e-01, 6.24650689e-01, 2.95887168e+00,\n",
              "       1.77532301e+00, 1.70957031e+00, 9.96153467e+00, 7.36430286e+00,\n",
              "       7.46293191e+00, 1.64381760e-01, 3.28763520e-01, 3.28763520e-01,\n",
              "       3.28763520e-01, 6.44376500e+00, 5.65473255e+00, 7.95607719e+00,\n",
              "       7.00266298e+00, 7.59443732e+00, 7.16704475e+00, 6.90403393e+00,\n",
              "       7.03553934e+00, 3.28763520e-01, 3.61639872e-01, 3.28763520e-01,\n",
              "       3.28763520e-01, 3.28763520e-01, 5.26021633e-01, 5.35884538e+00,\n",
              "       3.28763520e-01, 1.23286320e+01, 2.95887168e-01, 3.28763520e-01,\n",
              "       3.28763520e-01, 3.28763520e-01, 3.28763520e-01, 5.32596903e+00,\n",
              "       5.58897985e+00, 8.02840517e+01, 6.13472729e+01, 6.67718710e+01,\n",
              "       8.16319821e+01, 9.57030608e+01, 6.87444521e+01, 6.98293717e+01,\n",
              "       5.89472992e+01, 4.44159516e+01, 3.27777230e+01, 2.14025052e+01,\n",
              "       5.21747707e+01, 2.60380708e+01, 3.74790413e+01, 2.03175856e+01,\n",
              "       2.23559194e+01, 5.30295558e+01, 2.15340106e+01, 5.06953349e+01,\n",
              "       5.08597166e+01, 7.19992110e+01, 7.67662820e+01, 6.50951770e+01,\n",
              "       2.62353289e+01, 5.02350659e+01, 6.20376763e+01, 5.53309005e+01,\n",
              "       7.18019529e+01, 1.15264490e+02, 1.13620673e+02, 1.08722096e+02,\n",
              "       1.06782391e+02, 1.08031693e+02, 1.02311208e+02, 9.82674162e+01,\n",
              "       8.26840254e+01, 7.04211461e+01, 6.05582405e+01, 5.38843410e+01,\n",
              "       4.05694184e+01, 2.04490910e+01, 9.70838676e+01, 6.18732945e+01,\n",
              "       8.26182727e+01, 1.15067232e+01, 1.77861064e+01, 2.47887694e+01,\n",
              "       2.69257323e+01, 1.30091725e+02, 5.65473255e+00, 1.56162672e+01,\n",
              "       3.25147122e+01, 2.56435546e+00, 3.29092284e+01, 1.91997896e+01,\n",
              "       1.40546405e+02, 9.83331690e+01, 5.26021633e+00, 8.40977085e+01,\n",
              "       1.09017983e+02, 2.33093336e+01, 7.52210935e+01, 9.89249433e+01,\n",
              "       6.48321662e+01, 5.58569221e+01, 1.07242660e+02, 6.53581879e+01,\n",
              "       1.33214979e+02, 8.38675741e+01, 1.34135516e+02, 1.07209784e+02,\n",
              "       1.25160272e+02, 1.08360456e+02, 1.00996154e+02, 1.03856396e+02,\n",
              "       9.76756419e+01, 9.83331690e+01, 9.59989480e+01, 8.60702896e+01,\n",
              "       9.38948614e+01, 9.93194595e+01, 1.72272085e+01, 3.78078048e+01,\n",
              "       4.18187198e+01, 9.42893777e+01, 6.12815202e+01, 8.65305586e+01,\n",
              "       8.64319295e+01, 3.37311372e+01, 1.60896867e+02, 5.08925930e+01,\n",
              "       9.42236250e+01, 1.20327449e+02, 9.97797284e+01, 1.18585002e+02,\n",
              "       2.76161357e+00, 1.04283789e+02, 1.12765888e+02, 9.78400237e+01,\n",
              "       1.05270079e+02, 1.02837229e+02, 1.05302956e+02, 5.09583457e+01,\n",
              "       9.87605615e+01, 9.86619325e+01, 8.89962850e+01, 9.96153467e+01,\n",
              "       9.33030871e+01, 8.56428971e+01, 7.10457968e+01, 9.38291087e+01,\n",
              "       1.66420094e+02, 2.02518329e+01, 8.65305586e+01, 5.42131045e+01,\n",
              "       6.36157412e+01, 3.81694447e+01, 3.93858697e+01, 4.05365421e+01,\n",
              "       7.33471414e+01, 3.33037446e+01, 3.89584772e+01, 1.05861854e+01,\n",
              "       7.76210672e+01, 1.43373771e+02, 2.81290068e+02, 3.25804649e+01,\n",
              "       2.46243877e+01, 1.19012394e+01, 2.75865470e+02, 1.29565703e+02,\n",
              "       5.06953349e+01, 6.55225696e+01, 1.46497025e+02, 1.12371371e+02,\n",
              "       2.33619358e+02, 1.87723970e+01, 1.27330112e+02, 8.45908538e+01,\n",
              "       1.65762567e+02, 1.29072558e+02, 1.40875169e+02, 2.55679390e+02,\n",
              "       6.84485650e+01, 2.12249729e+02, 2.34276885e+02, 8.11717132e+01,\n",
              "       7.80155834e+01, 2.63273827e+02, 1.62047539e+02, 1.02771477e+02,\n",
              "       1.40283394e+02, 1.00700266e+02, 8.94565539e+01, 2.82901009e+02,\n",
              "       1.69510471e+02, 9.74783838e+01, 1.88677384e+02, 7.94621429e+01,\n",
              "       1.83450044e+01, 2.10079890e+01, 1.13785054e+02, 2.06858007e+02,\n",
              "       1.29697209e+02, 2.45093205e+02, 2.82736627e+01, 6.89417102e+01,\n",
              "       5.85527830e+01, 4.35940428e+01, 1.01522175e+02, 7.35115232e+01,\n",
              "       1.39165598e+02, 1.70167998e+02, 3.78735576e+01, 7.06841569e+00,\n",
              "       8.53470099e+01, 7.49909590e+01, 6.81198014e+01, 1.88381497e+01,\n",
              "       1.03626262e+02, 7.11444258e+01, 6.29253378e+01, 5.98349607e+01,\n",
              "       2.04490910e+01, 2.55449255e+01, 6.30897196e+01, 8.14347240e+01,\n",
              "       3.77420521e+01, 4.08149852e+01, 3.95502515e+01, 3.91557353e+01,\n",
              "       7.02238880e+01, 8.41305849e+01, 5.15829964e+01, 5.16816254e+01,\n",
              "       3.72160305e+01, 3.20215669e+01, 1.82134990e+01, 4.35282901e+01,\n",
              "       6.15116547e+01, 2.16983923e+01, 7.48923300e+01, 6.16760364e+01,\n",
              "       7.22293454e+01, 7.54841043e+01, 7.41361739e+01, 7.66019002e+01,\n",
              "       8.58730315e+01, 7.77525726e+01, 4.99391788e+01, 7.79498307e+01,\n",
              "       7.41361739e+01, 4.17529671e+01, 4.63885327e+01, 8.90620377e+01,\n",
              "       9.09688661e+01, 8.17306112e+01, 7.79827070e+01, 6.71006345e+01,\n",
              "       3.80050630e+01, 2.99832331e+01, 1.39066969e+01, 7.82785942e+01,\n",
              "       5.40487228e+01, 1.56491436e+01, 3.22188250e+00, 2.56435546e+00,\n",
              "       7.90018740e+01, 6.78567906e+01, 7.08814150e+01, 1.62737943e+01,\n",
              "       4.40543117e+00, 1.56820199e+01, 1.43012131e+01, 9.63277115e+00,\n",
              "       4.48104678e+01, 8.18292402e+01, 3.25804649e+01, 2.44928823e+01,\n",
              "       3.10024000e+01, 6.33198540e+01, 3.03448729e+01, 1.07834435e+01,\n",
              "       1.51559983e+01, 6.33856067e+01, 5.32596903e+01, 2.45586350e+01,\n",
              "       2.30791991e+01, 4.09968110e+01, 5.29638031e+01, 2.64983397e+01,\n",
              "       2.39011079e+01, 2.03833383e+01, 5.85199066e+00, 2.36709735e+00,\n",
              "       1.69641976e+01, 2.49860275e+00, 1.36108097e+01, 3.68543906e+01,\n",
              "       1.28875300e+01, 5.13199855e+01, 2.72544958e+01, 5.07939639e+01,\n",
              "       5.58897985e+00, 2.39339843e+01, 2.49531512e+01, 4.23447414e+01,\n",
              "       4.48104678e+01, 2.30463228e+01, 3.29092284e+01, 4.89857645e+00,\n",
              "       2.14353815e+01, 3.59338528e+01, 2.01203275e+01, 9.08373607e+01,\n",
              "       2.66627215e+01, 7.25581090e+01, 3.77420521e+01, 3.02791202e+01,\n",
              "       5.56267876e+01, 3.75447940e+01, 6.60485913e+01, 7.36430286e+00,\n",
              "       5.13857382e+01, 5.11556038e+01, 6.99280008e+01, 9.19880330e+01,\n",
              "       1.13817931e+02, 8.28484071e+01, 4.22789887e+01, 1.19998685e+01,\n",
              "       5.56925404e+01, 4.95775389e+01, 1.76874774e+01, 2.58079363e+01,\n",
              "       3.15284216e+01, 8.91606667e+01, 9.74783838e+01, 2.50846566e+01,\n",
              "       1.20623336e+02, 1.14146694e+02, 3.31722392e+01, 7.47279482e+01,\n",
              "       1.22826051e+02, 3.39941480e+01, 6.33527304e+01, 5.50021370e+01,\n",
              "       4.56323766e+01, 7.20649637e+01, 5.39829700e+01, 5.54952822e+01,\n",
              "       2.81421574e+01, 2.61366999e+01, 3.85968373e+01, 8.33086761e+01,\n",
              "       5.78295032e+01, 1.30157478e+02, 3.68215143e+01, 3.67886379e+01,\n",
              "       2.01203275e+01, 1.05204327e+01, 1.10596048e+02, 2.08764835e+01,\n",
              "       1.86408916e+01, 2.35065917e+01, 9.63277115e+00, 5.26021633e+00,\n",
              "       9.69852385e+00, 1.88710261e+01, 2.17641450e+01, 9.43551304e+00,\n",
              "       0.00000000e+00, 1.19341158e+01, 1.17697340e+01, 1.17697340e+01,\n",
              "       1.26573955e+01, 1.17697340e+01, 1.26573955e+01, 0.00000000e+00,\n",
              "       1.26573955e+01, 1.26573955e+01, 1.26573955e+01, 1.26573955e+01,\n",
              "       4.85254956e+01, 1.25587665e+01, 1.21642503e+01, 1.35121807e+01,\n",
              "       1.25916428e+01, 0.00000000e+00, 1.25916428e+01, 1.29204064e+01,\n",
              "       1.24601374e+01, 1.24930138e+01, 1.23286320e+01, 1.09149489e+01,\n",
              "       1.13423414e+01, 1.12765888e+01, 1.64381760e-01, 1.20327449e+01,\n",
              "       1.04218036e+01, 1.23286320e+01, 1.29532827e+01, 1.23286320e+01,\n",
              "       2.02518329e+01, 1.25258901e+01, 1.23615084e+01, 1.29532827e+01,\n",
              "       1.54518855e+01, 1.68655686e+01, 1.67011868e+01, 3.28763520e-02,\n",
              "       9.76427656e+00, 2.45586350e+01, 1.44327186e+01, 3.39941480e+01,\n",
              "       1.29532827e+01, 1.30190354e+01, 1.24930138e+01, 1.34135516e+01,\n",
              "       5.68103363e+01, 2.08764835e+01, 1.32491699e+01, 2.05805964e+01,\n",
              "       1.39724496e+01, 1.41697077e+01, 1.34793043e+01, 1.91997896e+01,\n",
              "       1.41697077e+01, 1.74902193e+01, 1.65039287e+01, 5.54952822e+01,\n",
              "       1.57806490e+01, 1.81477463e+01, 1.89039024e+01, 1.20327449e+01,\n",
              "       5.29966795e+01, 1.40053260e+01, 1.89696551e+01, 2.00874511e+01,\n",
              "       2.01203275e+01, 2.00874511e+01, 1.93970477e+01, 2.03833383e+01,\n",
              "       2.10079890e+01, 1.21971266e+01, 1.33149226e+01, 1.46957294e+01,\n",
              "       1.85751389e+01, 1.77861064e+01, 1.67340632e+01, 2.57421837e+01,\n",
              "       2.39011079e+01, 2.75832594e+01, 1.81477463e+01, 1.23943847e+01,\n",
              "       1.71614558e+01, 1.52217510e+01, 1.47286057e+01, 2.18298978e+01,\n",
              "       1.44984712e+01, 1.99230693e+01, 1.76874774e+01, 5.52980241e+01,\n",
              "       1.64052997e+01, 1.58464017e+01, 1.63066706e+01, 1.66354341e+01,\n",
              "       1.29861591e+01, 1.51559983e+01, 4.30351448e+01, 1.65368051e+01,\n",
              "       1.53203801e+01, 1.55176382e+01, 9.92865832e+00, 1.42354604e+01,\n",
              "       1.41368314e+01, 1.74244666e+01, 1.60436598e+01, 1.34464280e+01,\n",
              "       1.30519118e+01, 1.44327186e+01, 4.80323503e+01, 1.64052997e+01,\n",
              "       1.34793043e+01, 1.70628267e+01, 1.61094125e+00, 1.00930401e+01,\n",
              "       1.30847881e+01, 1.25258901e+01, 1.22628793e+01, 3.33694973e+01,\n",
              "       1.85093862e+01, 2.16655160e+01, 1.61751652e+01, 1.26573955e+01,\n",
              "       2.52161620e+01, 4.30022685e+01, 3.44215406e+01, 2.75175067e+01,\n",
              "       4.65857908e+01, 4.04050367e+01, 3.75119177e+01, 4.01091495e+01,\n",
              "       2.84380445e+01, 2.88654371e+01, 4.71446888e+01, 4.46789624e+01,\n",
              "       4.09639346e+01, 3.82351974e+01, 3.85968373e+01, 3.31722392e+01,\n",
              "       7.59772496e+01, 4.33310320e+01, 3.42571588e+01, 3.20215669e+01,\n",
              "       3.19558142e+01, 6.93362264e+01, 1.85093862e+01, 6.36157412e+01,\n",
              "       6.99608771e+01, 2.32435809e+01, 1.94299241e+01, 2.10408653e+01,\n",
              "       2.38682316e+01, 1.47943584e+01, 2.50517803e+01, 2.33422100e+01,\n",
              "       2.28161883e+01, 1.72929612e+01, 2.07121018e+01, 2.16326396e+01,\n",
              "       1.82134990e+01, 1.29204064e+01, 5.56267876e+01, 5.39172174e+01,\n",
              "       9.04099681e+00, 2.05805964e+01, 1.10464543e+01, 5.07939639e+01,\n",
              "       1.95614295e+01, 5.69418417e+01, 1.40710787e+01, 5.13857382e+01,\n",
              "       7.65690239e+01, 5.36213302e+01, 8.72209620e+01, 3.30078575e+01,\n",
              "       3.23503304e+01, 2.85037972e+01, 1.64710524e+01, 3.72489069e+01,\n",
              "       7.76539435e+01, 3.74132886e+01, 7.03553934e+01, 3.37311372e+01,\n",
              "       3.36982608e+01, 2.84380445e+01, 5.91774337e+01, 3.87940954e+00,\n",
              "       2.21915376e+01, 6.09856330e+01, 1.10793306e+01, 5.41802282e+01,\n",
              "       6.03609824e+01, 7.36430286e+01, 1.96600585e+01, 2.45915113e+01,\n",
              "       7.58128678e+01, 2.88983134e+01, 5.00706842e+01, 1.06749515e+02,\n",
              "       1.02607095e+02, 8.74510964e+00, 4.30351448e+01, 5.27336687e+01,\n",
              "       2.69914850e+01])"
            ]
          },
          "metadata": {},
          "execution_count": 29
        }
      ],
      "source": [
        "y_train"
      ]
    },
    {
      "cell_type": "markdown",
      "source": [
        "# Generating patient-specific graphs"
      ],
      "metadata": {
        "id": "1z7WbblxpLtR"
      }
    },
    {
      "cell_type": "code",
      "execution_count": null,
      "metadata": {
        "id": "IohJNJFPFqqs"
      },
      "outputs": [],
      "source": [
        "num_patients_train = X_train.shape[0]\n",
        "num_patients_test = X_test.shape[0]\n",
        "\n",
        "# Create patient-specific graphs for the training set\n",
        "graphs_train = []\n",
        "for i in range(num_patients_train):\n",
        "    node_features = X_train[i]  # Node features for the i-th patient\n",
        "    target = y_train[i]  # Target label for the i-th patient\n",
        "    graph_train = (node_features, edge_index, target)\n",
        "    graphs_train.append(graph_train)\n",
        "\n",
        "# Create patient-specific graphs for the test set\n",
        "graphs_test = []\n",
        "for i in range(num_patients_test):\n",
        "    node_features = X_test[i]  # Node features for the i-th patient\n",
        "    target = y_test[i]  # Target label for the i-th patient\n",
        "    graph_test = (node_features, edge_index, target)\n",
        "    graphs_test.append(graph_test)"
      ]
    },
    {
      "cell_type": "code",
      "execution_count": null,
      "metadata": {
        "id": "xGcmIHELMEdg",
        "colab": {
          "base_uri": "https://localhost:8080/"
        },
        "outputId": "51732130-f985-4521-f672-6e4b24eaf40e"
      },
      "outputs": [
        {
          "output_type": "stream",
          "name": "stdout",
          "text": [
            "865\n",
            "217\n"
          ]
        }
      ],
      "source": [
        "# Check the number of patient-specific graphs\n",
        "print(len(graphs_train))  # Should be 857\n",
        "print(len(graphs_test))  # Should be 217"
      ]
    },
    {
      "cell_type": "code",
      "execution_count": null,
      "metadata": {
        "id": "olPMTAImFxrJ",
        "colab": {
          "base_uri": "https://localhost:8080/"
        },
        "outputId": "36824649-c3e1-44c4-c778-f941c65e82f4"
      },
      "outputs": [
        {
          "output_type": "stream",
          "name": "stdout",
          "text": [
            "[   0.     5798.37      8.6165 ...  415.824   931.957  1180.46  ]\n",
            "tensor([[   0,    0,    0,  ..., 9287, 9287, 9287],\n",
            "        [ 451,  452,  453,  ..., 3323, 3340, 3341]])\n",
            "133.0505967\n"
          ]
        }
      ],
      "source": [
        "# Access the patient-specific graph for a specific patient in the training set\n",
        "patient_index = 0 # Index of the patient\n",
        "node_features, edge_index, y = graphs_train[patient_index]\n",
        "print(node_features)  # Node features for the specific patient\n",
        "print(edge_index)  # Edge index for the specific patient\n",
        "print(y)"
      ]
    },
    {
      "cell_type": "code",
      "execution_count": null,
      "metadata": {
        "id": "w9CCMwQeGGUj",
        "colab": {
          "base_uri": "https://localhost:8080/"
        },
        "outputId": "48b11a4e-caab-4795-b90c-49b120e67b1c"
      },
      "outputs": [
        {
          "output_type": "stream",
          "name": "stdout",
          "text": [
            "[0.00000e+00 2.87393e+04 9.46600e-01 ... 5.60854e+02 7.04274e+02\n",
            " 5.87369e+02]\n",
            "tensor([[   0,    0,    0,  ..., 9287, 9287, 9287],\n",
            "        [ 451,  452,  453,  ..., 3323, 3340, 3341]])\n"
          ]
        }
      ],
      "source": [
        "# Access the patient-specific graph for a specific patient in the training set\n",
        "patient_index = 15  # Index of the patient\n",
        "node_features, edge_index, y = graphs_test[patient_index]\n",
        "print(node_features)  # Node features for the specific patient\n",
        "print(edge_index)  # Edge index for the specific patient\n",
        "# print(y)"
      ]
    },
    {
      "cell_type": "markdown",
      "source": [
        "# Converting List of Graphs to Data Objects"
      ],
      "metadata": {
        "id": "73STw3hfpXYA"
      }
    },
    {
      "cell_type": "code",
      "execution_count": null,
      "metadata": {
        "id": "OQvmOmtabK95"
      },
      "outputs": [],
      "source": [
        "# Convert graphs_train to a list of Data objects\n",
        "data_train = [Data(x=torch.tensor(graph[0].reshape(len(graphs_train[0][0]), 1)), edge_index=graph[1], y=torch.tensor(graph[2])) for graph in graphs_train]\n",
        "\n",
        "# Convert graphs_test to a list of Data objects\n",
        "data_test = [Data(x=torch.tensor(graph[0].reshape(len(graphs_test[0][0]), 1)), edge_index=graph[1], y=torch.tensor(graph[2])) for graph in graphs_test]"
      ]
    },
    {
      "cell_type": "code",
      "execution_count": null,
      "metadata": {
        "id": "2b-nnbsHop46"
      },
      "outputs": [],
      "source": [
        "# data_test"
      ]
    },
    {
      "cell_type": "code",
      "execution_count": null,
      "metadata": {
        "id": "M_AXY4EhirX7",
        "colab": {
          "base_uri": "https://localhost:8080/"
        },
        "outputId": "7168de97-8e55-4973-d89f-e552f981e55f"
      },
      "outputs": [
        {
          "output_type": "stream",
          "name": "stdout",
          "text": [
            "Data(x=[9288, 1], edge_index=[2, 271771], y=133.0505967)\n",
            "tensor([[   0.0000],\n",
            "        [5798.3700],\n",
            "        [   8.6165],\n",
            "        ...,\n",
            "        [ 415.8240],\n",
            "        [ 931.9570],\n",
            "        [1180.4600]], dtype=torch.float64)\n",
            "tensor([[   0,    0,    0,  ..., 9287, 9287, 9287],\n",
            "        [ 451,  452,  453,  ..., 3323, 3340, 3341]])\n",
            "tensor(133.0506, dtype=torch.float64)\n"
          ]
        }
      ],
      "source": [
        "# Access the attributes of a specific data object in the training set\n",
        "sample = data_train[0]  # Get the first data object\n",
        "print(sample)  # Print the data object\n",
        "\n",
        "# Access the node features, edge indices, and target label\n",
        "node_features = sample.x\n",
        "edge_index = sample.edge_index\n",
        "target = sample.y\n",
        "\n",
        "print(node_features)  # Print the node features\n",
        "print(edge_index)  # Print the edge indices\n",
        "print(target)  # Print the target label"
      ]
    },
    {
      "cell_type": "markdown",
      "source": [
        "# Creating Train and Test Batches"
      ],
      "metadata": {
        "id": "tHuhKYTmpqrY"
      }
    },
    {
      "cell_type": "code",
      "source": [
        "from torch_geometric.loader import DataLoader"
      ],
      "metadata": {
        "id": "mN5kObB2-n9n"
      },
      "execution_count": null,
      "outputs": []
    },
    {
      "cell_type": "code",
      "execution_count": null,
      "metadata": {
        "id": "0gZ-l0npPIca",
        "colab": {
          "base_uri": "https://localhost:8080/"
        },
        "outputId": "3ae64688-4dea-4ecc-83aa-9a6009a8ad32"
      },
      "outputs": [
        {
          "output_type": "stream",
          "name": "stdout",
          "text": [
            "Training Batches: \n",
            "Step 1:\n",
            "=======\n",
            "Number of graphs in the current batch: 16\n",
            "DataBatch(x=[148608, 1], edge_index=[2, 4348336], y=[16], batch=[148608], ptr=[17])\n",
            "\n",
            "Training Batches: \n",
            "Step 2:\n",
            "=======\n",
            "Number of graphs in the current batch: 16\n",
            "DataBatch(x=[148608, 1], edge_index=[2, 4348336], y=[16], batch=[148608], ptr=[17])\n",
            "\n",
            "Training Batches: \n",
            "Step 3:\n",
            "=======\n",
            "Number of graphs in the current batch: 16\n",
            "DataBatch(x=[148608, 1], edge_index=[2, 4348336], y=[16], batch=[148608], ptr=[17])\n",
            "\n",
            "Training Batches: \n",
            "Step 4:\n",
            "=======\n",
            "Number of graphs in the current batch: 16\n",
            "DataBatch(x=[148608, 1], edge_index=[2, 4348336], y=[16], batch=[148608], ptr=[17])\n",
            "\n",
            "Training Batches: \n",
            "Step 5:\n",
            "=======\n",
            "Number of graphs in the current batch: 16\n",
            "DataBatch(x=[148608, 1], edge_index=[2, 4348336], y=[16], batch=[148608], ptr=[17])\n",
            "\n",
            "Training Batches: \n",
            "Step 6:\n",
            "=======\n",
            "Number of graphs in the current batch: 16\n",
            "DataBatch(x=[148608, 1], edge_index=[2, 4348336], y=[16], batch=[148608], ptr=[17])\n",
            "\n",
            "Training Batches: \n",
            "Step 7:\n",
            "=======\n",
            "Number of graphs in the current batch: 16\n",
            "DataBatch(x=[148608, 1], edge_index=[2, 4348336], y=[16], batch=[148608], ptr=[17])\n",
            "\n",
            "Training Batches: \n",
            "Step 8:\n",
            "=======\n",
            "Number of graphs in the current batch: 16\n",
            "DataBatch(x=[148608, 1], edge_index=[2, 4348336], y=[16], batch=[148608], ptr=[17])\n",
            "\n",
            "Training Batches: \n",
            "Step 9:\n",
            "=======\n",
            "Number of graphs in the current batch: 16\n",
            "DataBatch(x=[148608, 1], edge_index=[2, 4348336], y=[16], batch=[148608], ptr=[17])\n",
            "\n",
            "Training Batches: \n",
            "Step 10:\n",
            "=======\n",
            "Number of graphs in the current batch: 16\n",
            "DataBatch(x=[148608, 1], edge_index=[2, 4348336], y=[16], batch=[148608], ptr=[17])\n",
            "\n",
            "Training Batches: \n",
            "Step 11:\n",
            "=======\n",
            "Number of graphs in the current batch: 16\n",
            "DataBatch(x=[148608, 1], edge_index=[2, 4348336], y=[16], batch=[148608], ptr=[17])\n",
            "\n",
            "Training Batches: \n",
            "Step 12:\n",
            "=======\n",
            "Number of graphs in the current batch: 16\n",
            "DataBatch(x=[148608, 1], edge_index=[2, 4348336], y=[16], batch=[148608], ptr=[17])\n",
            "\n",
            "Training Batches: \n",
            "Step 13:\n",
            "=======\n",
            "Number of graphs in the current batch: 16\n",
            "DataBatch(x=[148608, 1], edge_index=[2, 4348336], y=[16], batch=[148608], ptr=[17])\n",
            "\n",
            "Training Batches: \n",
            "Step 14:\n",
            "=======\n",
            "Number of graphs in the current batch: 16\n",
            "DataBatch(x=[148608, 1], edge_index=[2, 4348336], y=[16], batch=[148608], ptr=[17])\n",
            "\n",
            "Training Batches: \n",
            "Step 15:\n",
            "=======\n",
            "Number of graphs in the current batch: 16\n",
            "DataBatch(x=[148608, 1], edge_index=[2, 4348336], y=[16], batch=[148608], ptr=[17])\n",
            "\n",
            "Training Batches: \n",
            "Step 16:\n",
            "=======\n",
            "Number of graphs in the current batch: 16\n",
            "DataBatch(x=[148608, 1], edge_index=[2, 4348336], y=[16], batch=[148608], ptr=[17])\n",
            "\n",
            "Training Batches: \n",
            "Step 17:\n",
            "=======\n",
            "Number of graphs in the current batch: 16\n",
            "DataBatch(x=[148608, 1], edge_index=[2, 4348336], y=[16], batch=[148608], ptr=[17])\n",
            "\n",
            "Training Batches: \n",
            "Step 18:\n",
            "=======\n",
            "Number of graphs in the current batch: 16\n",
            "DataBatch(x=[148608, 1], edge_index=[2, 4348336], y=[16], batch=[148608], ptr=[17])\n",
            "\n",
            "Training Batches: \n",
            "Step 19:\n",
            "=======\n",
            "Number of graphs in the current batch: 16\n",
            "DataBatch(x=[148608, 1], edge_index=[2, 4348336], y=[16], batch=[148608], ptr=[17])\n",
            "\n",
            "Training Batches: \n",
            "Step 20:\n",
            "=======\n",
            "Number of graphs in the current batch: 16\n",
            "DataBatch(x=[148608, 1], edge_index=[2, 4348336], y=[16], batch=[148608], ptr=[17])\n",
            "\n",
            "Training Batches: \n",
            "Step 21:\n",
            "=======\n",
            "Number of graphs in the current batch: 16\n",
            "DataBatch(x=[148608, 1], edge_index=[2, 4348336], y=[16], batch=[148608], ptr=[17])\n",
            "\n",
            "Training Batches: \n",
            "Step 22:\n",
            "=======\n",
            "Number of graphs in the current batch: 16\n",
            "DataBatch(x=[148608, 1], edge_index=[2, 4348336], y=[16], batch=[148608], ptr=[17])\n",
            "\n",
            "Training Batches: \n",
            "Step 23:\n",
            "=======\n",
            "Number of graphs in the current batch: 16\n",
            "DataBatch(x=[148608, 1], edge_index=[2, 4348336], y=[16], batch=[148608], ptr=[17])\n",
            "\n",
            "Training Batches: \n",
            "Step 24:\n",
            "=======\n",
            "Number of graphs in the current batch: 16\n",
            "DataBatch(x=[148608, 1], edge_index=[2, 4348336], y=[16], batch=[148608], ptr=[17])\n",
            "\n",
            "Training Batches: \n",
            "Step 25:\n",
            "=======\n",
            "Number of graphs in the current batch: 16\n",
            "DataBatch(x=[148608, 1], edge_index=[2, 4348336], y=[16], batch=[148608], ptr=[17])\n",
            "\n",
            "Training Batches: \n",
            "Step 26:\n",
            "=======\n",
            "Number of graphs in the current batch: 16\n",
            "DataBatch(x=[148608, 1], edge_index=[2, 4348336], y=[16], batch=[148608], ptr=[17])\n",
            "\n",
            "Training Batches: \n",
            "Step 27:\n",
            "=======\n",
            "Number of graphs in the current batch: 16\n",
            "DataBatch(x=[148608, 1], edge_index=[2, 4348336], y=[16], batch=[148608], ptr=[17])\n",
            "\n",
            "Training Batches: \n",
            "Step 28:\n",
            "=======\n",
            "Number of graphs in the current batch: 16\n",
            "DataBatch(x=[148608, 1], edge_index=[2, 4348336], y=[16], batch=[148608], ptr=[17])\n",
            "\n",
            "Training Batches: \n",
            "Step 29:\n",
            "=======\n",
            "Number of graphs in the current batch: 16\n",
            "DataBatch(x=[148608, 1], edge_index=[2, 4348336], y=[16], batch=[148608], ptr=[17])\n",
            "\n",
            "Training Batches: \n",
            "Step 30:\n",
            "=======\n",
            "Number of graphs in the current batch: 16\n",
            "DataBatch(x=[148608, 1], edge_index=[2, 4348336], y=[16], batch=[148608], ptr=[17])\n",
            "\n",
            "Training Batches: \n",
            "Step 31:\n",
            "=======\n",
            "Number of graphs in the current batch: 16\n",
            "DataBatch(x=[148608, 1], edge_index=[2, 4348336], y=[16], batch=[148608], ptr=[17])\n",
            "\n",
            "Training Batches: \n",
            "Step 32:\n",
            "=======\n",
            "Number of graphs in the current batch: 16\n",
            "DataBatch(x=[148608, 1], edge_index=[2, 4348336], y=[16], batch=[148608], ptr=[17])\n",
            "\n",
            "Training Batches: \n",
            "Step 33:\n",
            "=======\n",
            "Number of graphs in the current batch: 16\n",
            "DataBatch(x=[148608, 1], edge_index=[2, 4348336], y=[16], batch=[148608], ptr=[17])\n",
            "\n",
            "Training Batches: \n",
            "Step 34:\n",
            "=======\n",
            "Number of graphs in the current batch: 16\n",
            "DataBatch(x=[148608, 1], edge_index=[2, 4348336], y=[16], batch=[148608], ptr=[17])\n",
            "\n",
            "Training Batches: \n",
            "Step 35:\n",
            "=======\n",
            "Number of graphs in the current batch: 16\n",
            "DataBatch(x=[148608, 1], edge_index=[2, 4348336], y=[16], batch=[148608], ptr=[17])\n",
            "\n",
            "Training Batches: \n",
            "Step 36:\n",
            "=======\n",
            "Number of graphs in the current batch: 16\n",
            "DataBatch(x=[148608, 1], edge_index=[2, 4348336], y=[16], batch=[148608], ptr=[17])\n",
            "\n",
            "Training Batches: \n",
            "Step 37:\n",
            "=======\n",
            "Number of graphs in the current batch: 16\n",
            "DataBatch(x=[148608, 1], edge_index=[2, 4348336], y=[16], batch=[148608], ptr=[17])\n",
            "\n",
            "Training Batches: \n",
            "Step 38:\n",
            "=======\n",
            "Number of graphs in the current batch: 16\n",
            "DataBatch(x=[148608, 1], edge_index=[2, 4348336], y=[16], batch=[148608], ptr=[17])\n",
            "\n",
            "Training Batches: \n",
            "Step 39:\n",
            "=======\n",
            "Number of graphs in the current batch: 16\n",
            "DataBatch(x=[148608, 1], edge_index=[2, 4348336], y=[16], batch=[148608], ptr=[17])\n",
            "\n",
            "Training Batches: \n",
            "Step 40:\n",
            "=======\n",
            "Number of graphs in the current batch: 16\n",
            "DataBatch(x=[148608, 1], edge_index=[2, 4348336], y=[16], batch=[148608], ptr=[17])\n",
            "\n",
            "Training Batches: \n",
            "Step 41:\n",
            "=======\n",
            "Number of graphs in the current batch: 16\n",
            "DataBatch(x=[148608, 1], edge_index=[2, 4348336], y=[16], batch=[148608], ptr=[17])\n",
            "\n",
            "Training Batches: \n",
            "Step 42:\n",
            "=======\n",
            "Number of graphs in the current batch: 16\n",
            "DataBatch(x=[148608, 1], edge_index=[2, 4348336], y=[16], batch=[148608], ptr=[17])\n",
            "\n",
            "Training Batches: \n",
            "Step 43:\n",
            "=======\n",
            "Number of graphs in the current batch: 16\n",
            "DataBatch(x=[148608, 1], edge_index=[2, 4348336], y=[16], batch=[148608], ptr=[17])\n",
            "\n",
            "Training Batches: \n",
            "Step 44:\n",
            "=======\n",
            "Number of graphs in the current batch: 16\n",
            "DataBatch(x=[148608, 1], edge_index=[2, 4348336], y=[16], batch=[148608], ptr=[17])\n",
            "\n",
            "Training Batches: \n",
            "Step 45:\n",
            "=======\n",
            "Number of graphs in the current batch: 16\n",
            "DataBatch(x=[148608, 1], edge_index=[2, 4348336], y=[16], batch=[148608], ptr=[17])\n",
            "\n",
            "Training Batches: \n",
            "Step 46:\n",
            "=======\n",
            "Number of graphs in the current batch: 16\n",
            "DataBatch(x=[148608, 1], edge_index=[2, 4348336], y=[16], batch=[148608], ptr=[17])\n",
            "\n",
            "Training Batches: \n",
            "Step 47:\n",
            "=======\n",
            "Number of graphs in the current batch: 16\n",
            "DataBatch(x=[148608, 1], edge_index=[2, 4348336], y=[16], batch=[148608], ptr=[17])\n",
            "\n",
            "Training Batches: \n",
            "Step 48:\n",
            "=======\n",
            "Number of graphs in the current batch: 16\n",
            "DataBatch(x=[148608, 1], edge_index=[2, 4348336], y=[16], batch=[148608], ptr=[17])\n",
            "\n",
            "Training Batches: \n",
            "Step 49:\n",
            "=======\n",
            "Number of graphs in the current batch: 16\n",
            "DataBatch(x=[148608, 1], edge_index=[2, 4348336], y=[16], batch=[148608], ptr=[17])\n",
            "\n",
            "Training Batches: \n",
            "Step 50:\n",
            "=======\n",
            "Number of graphs in the current batch: 16\n",
            "DataBatch(x=[148608, 1], edge_index=[2, 4348336], y=[16], batch=[148608], ptr=[17])\n",
            "\n",
            "Training Batches: \n",
            "Step 51:\n",
            "=======\n",
            "Number of graphs in the current batch: 16\n",
            "DataBatch(x=[148608, 1], edge_index=[2, 4348336], y=[16], batch=[148608], ptr=[17])\n",
            "\n",
            "Training Batches: \n",
            "Step 52:\n",
            "=======\n",
            "Number of graphs in the current batch: 16\n",
            "DataBatch(x=[148608, 1], edge_index=[2, 4348336], y=[16], batch=[148608], ptr=[17])\n",
            "\n",
            "Training Batches: \n",
            "Step 53:\n",
            "=======\n",
            "Number of graphs in the current batch: 16\n",
            "DataBatch(x=[148608, 1], edge_index=[2, 4348336], y=[16], batch=[148608], ptr=[17])\n",
            "\n",
            "Training Batches: \n",
            "Step 54:\n",
            "=======\n",
            "Number of graphs in the current batch: 16\n",
            "DataBatch(x=[148608, 1], edge_index=[2, 4348336], y=[16], batch=[148608], ptr=[17])\n",
            "\n",
            "Training Batches: \n",
            "Step 55:\n",
            "=======\n",
            "Number of graphs in the current batch: 1\n",
            "DataBatch(x=[9288, 1], edge_index=[2, 271771], y=[1], batch=[9288], ptr=[2])\n",
            "\n"
          ]
        }
      ],
      "source": [
        "bs = 16\n",
        "train_loader = DataLoader(data_train, batch_size=bs, shuffle=True)\n",
        "test_loader = DataLoader(data_test, batch_size=bs, shuffle=False)\n",
        "\n",
        "for step, data in enumerate(train_loader):\n",
        "    data = data.to(device)  # Move the batch of data to the device\n",
        "\n",
        "    print('Training Batches: ')\n",
        "    print(f'Step {step + 1}:')\n",
        "    print('=======')\n",
        "    print(f'Number of graphs in the current batch: {data.num_graphs}')\n",
        "    print(data)\n",
        "    print()"
      ]
    },
    {
      "cell_type": "code",
      "execution_count": null,
      "metadata": {
        "id": "pqWv0wYqk22X",
        "colab": {
          "base_uri": "https://localhost:8080/"
        },
        "outputId": "9f47f65d-3ac3-4272-c46b-05cee3bf6fd0"
      },
      "outputs": [
        {
          "output_type": "stream",
          "name": "stdout",
          "text": [
            "Test Batches: \n",
            "Step 1:\n",
            "=======\n",
            "Number of graphs in the current batch: 16\n",
            "DataBatch(x=[148608, 1], edge_index=[2, 4348336], y=[16], batch=[148608], ptr=[17])\n",
            "\n",
            "Test Batches: \n",
            "Step 2:\n",
            "=======\n",
            "Number of graphs in the current batch: 16\n",
            "DataBatch(x=[148608, 1], edge_index=[2, 4348336], y=[16], batch=[148608], ptr=[17])\n",
            "\n",
            "Test Batches: \n",
            "Step 3:\n",
            "=======\n",
            "Number of graphs in the current batch: 16\n",
            "DataBatch(x=[148608, 1], edge_index=[2, 4348336], y=[16], batch=[148608], ptr=[17])\n",
            "\n",
            "Test Batches: \n",
            "Step 4:\n",
            "=======\n",
            "Number of graphs in the current batch: 16\n",
            "DataBatch(x=[148608, 1], edge_index=[2, 4348336], y=[16], batch=[148608], ptr=[17])\n",
            "\n",
            "Test Batches: \n",
            "Step 5:\n",
            "=======\n",
            "Number of graphs in the current batch: 16\n",
            "DataBatch(x=[148608, 1], edge_index=[2, 4348336], y=[16], batch=[148608], ptr=[17])\n",
            "\n",
            "Test Batches: \n",
            "Step 6:\n",
            "=======\n",
            "Number of graphs in the current batch: 16\n",
            "DataBatch(x=[148608, 1], edge_index=[2, 4348336], y=[16], batch=[148608], ptr=[17])\n",
            "\n",
            "Test Batches: \n",
            "Step 7:\n",
            "=======\n",
            "Number of graphs in the current batch: 16\n",
            "DataBatch(x=[148608, 1], edge_index=[2, 4348336], y=[16], batch=[148608], ptr=[17])\n",
            "\n",
            "Test Batches: \n",
            "Step 8:\n",
            "=======\n",
            "Number of graphs in the current batch: 16\n",
            "DataBatch(x=[148608, 1], edge_index=[2, 4348336], y=[16], batch=[148608], ptr=[17])\n",
            "\n",
            "Test Batches: \n",
            "Step 9:\n",
            "=======\n",
            "Number of graphs in the current batch: 16\n",
            "DataBatch(x=[148608, 1], edge_index=[2, 4348336], y=[16], batch=[148608], ptr=[17])\n",
            "\n",
            "Test Batches: \n",
            "Step 10:\n",
            "=======\n",
            "Number of graphs in the current batch: 16\n",
            "DataBatch(x=[148608, 1], edge_index=[2, 4348336], y=[16], batch=[148608], ptr=[17])\n",
            "\n",
            "Test Batches: \n",
            "Step 11:\n",
            "=======\n",
            "Number of graphs in the current batch: 16\n",
            "DataBatch(x=[148608, 1], edge_index=[2, 4348336], y=[16], batch=[148608], ptr=[17])\n",
            "\n",
            "Test Batches: \n",
            "Step 12:\n",
            "=======\n",
            "Number of graphs in the current batch: 16\n",
            "DataBatch(x=[148608, 1], edge_index=[2, 4348336], y=[16], batch=[148608], ptr=[17])\n",
            "\n",
            "Test Batches: \n",
            "Step 13:\n",
            "=======\n",
            "Number of graphs in the current batch: 16\n",
            "DataBatch(x=[148608, 1], edge_index=[2, 4348336], y=[16], batch=[148608], ptr=[17])\n",
            "\n",
            "Test Batches: \n",
            "Step 14:\n",
            "=======\n",
            "Number of graphs in the current batch: 9\n",
            "DataBatch(x=[83592, 1], edge_index=[2, 2445939], y=[9], batch=[83592], ptr=[10])\n",
            "\n"
          ]
        }
      ],
      "source": [
        "for step, data in enumerate(test_loader):\n",
        "    data = data.to(device)\n",
        "    print('Test Batches: ')\n",
        "    print(f'Step {step + 1}:')\n",
        "    print('=======')\n",
        "    print(f'Number of graphs in the current batch: {data.num_graphs}')\n",
        "    print(data)\n",
        "    print()"
      ]
    },
    {
      "cell_type": "markdown",
      "source": [
        "# Model Building and Evaluation"
      ],
      "metadata": {
        "id": "UzfC0CY_qGWw"
      }
    },
    {
      "cell_type": "code",
      "execution_count": null,
      "metadata": {
        "id": "0PQNhtuosLl3"
      },
      "outputs": [],
      "source": [
        "from torch.nn import Linear\n",
        "import torch.nn.functional as F\n",
        "from torch_geometric.nn import GCNConv\n",
        "from torch_geometric.nn import global_mean_pool"
      ]
    },
    {
      "cell_type": "markdown",
      "source": [
        "GATConv\n",
        "\n",
        "GraphNorm\n",
        "\n",
        "Dropout for all layers"
      ],
      "metadata": {
        "id": "PzRZ2m_VwEQo"
      }
    },
    {
      "cell_type": "code",
      "execution_count": null,
      "metadata": {
        "id": "HtR7piktlpI8"
      },
      "outputs": [],
      "source": [
        "class GCN(torch.nn.Module):\n",
        "    def __init__(self, hidden_channels, num_node_features):\n",
        "        super(GCN, self).__init__()\n",
        "        torch.manual_seed(12345)\n",
        "        self.conv1 = GCNConv(num_node_features, hidden_channels)\n",
        "        self.conv2 = GCNConv(hidden_channels, hidden_channels)\n",
        "        self.conv3 = GCNConv(hidden_channels, hidden_channels)\n",
        "        self.conv4 = GCNConv(hidden_channels, hidden_channels)\n",
        "        self.lin = Linear(hidden_channels, 1)  # Regression output with 1 dimension\n",
        "\n",
        "    def forward(self, x, edge_index, batch):\n",
        "        # 1. Obtain node embeddings\n",
        "        x = self.conv1(x, edge_index)\n",
        "        x = x.relu()\n",
        "        # x = F.dropout(x, p=0.2, training=self.training)\n",
        "        x = self.conv2(x, edge_index)\n",
        "        x = x.relu()\n",
        "        # F.dropout(x, p=0.2, training=self.training)\n",
        "        x = self.conv3(x, edge_index)\n",
        "        x = self.conv4(x, edge_index)\n",
        "\n",
        "        # 2. Readout layer\n",
        "        x = global_mean_pool(x, batch)  # [batch_size, hidden_channels]\n",
        "\n",
        "        # 3. Apply a final regression layer\n",
        "        x = F.dropout(x, p=0.2, training=self.training)\n",
        "        x = self.lin(x)\n",
        "\n",
        "        return x.squeeze()  # Remove the extra dimension"
      ]
    },
    {
      "cell_type": "code",
      "source": [
        "model = GCN(hidden_channels=64, num_node_features=1)\n",
        "criterion = torch.nn.MSELoss()\n",
        "optimizer = torch.optim.Adam(model.parameters(), lr=0.0001)\n",
        "\n",
        "model = model.to(device)  # Move the model to CUDA device\n",
        "criterion = criterion.to(device)  # Move the criterion to CUDA device\n",
        "\n",
        "model.double()  # Convert the model's parameters to Double type\n",
        "\n",
        "num_epochs = 101  # Specify the number of epochs\n",
        "\n",
        "for epoch in range(num_epochs):\n",
        "    model.train()  # Set the model to train mode\n",
        "    total_loss = 0\n",
        "\n",
        "    for step, data in enumerate(train_loader):\n",
        "        data = data.to(device)  # Move the batch of data to CUDA device\n",
        "\n",
        "        optimizer.zero_grad()\n",
        "\n",
        "        out = model(data.x.double(), data.edge_index, data.batch)\n",
        "        loss = criterion(out, data.y.view(-1).double())\n",
        "        loss.backward()\n",
        "        optimizer.step()\n",
        "\n",
        "        total_loss += loss.item()\n",
        "\n",
        "    # average_loss = total_loss / (step + 1)\n",
        "    average_loss = total_loss / len(train_loader)\n",
        "\n",
        "    # Evaluate on the test set\n",
        "    model.eval()  # Set the model to evaluation mode\n",
        "    with torch.no_grad():\n",
        "        test_loss = 0\n",
        "        for data in test_loader:\n",
        "            data = data.to(device)  # Move the batch of data to CUDA device\n",
        "\n",
        "            out = model(data.x.double(), data.edge_index, data.batch)\n",
        "            loss = criterion(out, data.y.view(-1).double())\n",
        "            test_loss += loss.item()\n",
        "\n",
        "        average_test_loss = test_loss / len(test_loader)\n",
        "        print(f'Epoch: {epoch:03d}, Train loss: {average_loss:.4f}, Test Loss: {average_test_loss:.4f}')\n"
      ],
      "metadata": {
        "colab": {
          "base_uri": "https://localhost:8080/",
          "height": 498
        },
        "id": "3Hw_1xpj_lSF",
        "outputId": "f5c2bfd7-abf7-4191-ec9e-3aff6284fbea"
      },
      "execution_count": null,
      "outputs": [
        {
          "output_type": "stream",
          "name": "stderr",
          "text": [
            "/usr/local/lib/python3.10/dist-packages/torch/nn/modules/loss.py:536: UserWarning: Using a target size (torch.Size([1])) that is different to the input size (torch.Size([])). This will likely lead to incorrect results due to broadcasting. Please ensure they have the same size.\n",
            "  return F.mse_loss(input, target, reduction=self.reduction)\n"
          ]
        },
        {
          "output_type": "stream",
          "name": "stdout",
          "text": [
            "Epoch: 000, Train loss: 8579.2108, Test Loss: 721.5855\n",
            "Epoch: 001, Train loss: 4935.7021, Test Loss: 821.8742\n",
            "Epoch: 002, Train loss: 3640.0271, Test Loss: 960.0009\n",
            "Epoch: 003, Train loss: 3335.8440, Test Loss: 891.0839\n",
            "Epoch: 004, Train loss: 2667.9678, Test Loss: 1235.8527\n",
            "Epoch: 005, Train loss: 2722.5816, Test Loss: 774.1534\n",
            "Epoch: 006, Train loss: 2520.1283, Test Loss: 766.3230\n",
            "Epoch: 007, Train loss: 2216.6224, Test Loss: 722.5284\n",
            "Epoch: 008, Train loss: 2094.2834, Test Loss: 997.0398\n",
            "Epoch: 009, Train loss: 2016.0662, Test Loss: 1038.2014\n",
            "Epoch: 010, Train loss: 2037.6068, Test Loss: 865.6619\n",
            "Epoch: 011, Train loss: 1994.0958, Test Loss: 896.2507\n"
          ]
        },
        {
          "output_type": "error",
          "ename": "KeyboardInterrupt",
          "evalue": "ignored",
          "traceback": [
            "\u001b[0;31m---------------------------------------------------------------------------\u001b[0m",
            "\u001b[0;31mKeyboardInterrupt\u001b[0m                         Traceback (most recent call last)",
            "\u001b[0;32m<ipython-input-52-96eb0425aa05>\u001b[0m in \u001b[0;36m<cell line: 12>\u001b[0;34m()\u001b[0m\n\u001b[1;32m     24\u001b[0m         \u001b[0moptimizer\u001b[0m\u001b[0;34m.\u001b[0m\u001b[0mstep\u001b[0m\u001b[0;34m(\u001b[0m\u001b[0;34m)\u001b[0m\u001b[0;34m\u001b[0m\u001b[0;34m\u001b[0m\u001b[0m\n\u001b[1;32m     25\u001b[0m \u001b[0;34m\u001b[0m\u001b[0m\n\u001b[0;32m---> 26\u001b[0;31m         \u001b[0mtotal_loss\u001b[0m \u001b[0;34m+=\u001b[0m \u001b[0mloss\u001b[0m\u001b[0;34m.\u001b[0m\u001b[0mitem\u001b[0m\u001b[0;34m(\u001b[0m\u001b[0;34m)\u001b[0m\u001b[0;34m\u001b[0m\u001b[0;34m\u001b[0m\u001b[0m\n\u001b[0m\u001b[1;32m     27\u001b[0m \u001b[0;34m\u001b[0m\u001b[0m\n\u001b[1;32m     28\u001b[0m     \u001b[0;31m# average_loss = total_loss / (step + 1)\u001b[0m\u001b[0;34m\u001b[0m\u001b[0;34m\u001b[0m\u001b[0m\n",
            "\u001b[0;31mKeyboardInterrupt\u001b[0m: "
          ]
        }
      ]
    },
    {
      "cell_type": "code",
      "source": [
        "is_cuda = next(model.parameters()).is_cuda\n",
        "\n",
        "if is_cuda:\n",
        "    print(\"The model is using CUDA (GPU) for computation.\")\n",
        "else:\n",
        "    print(\"The model is not using CUDA (GPU) for computation.\")"
      ],
      "metadata": {
        "colab": {
          "base_uri": "https://localhost:8080/"
        },
        "id": "02B7ZzMq8JQB",
        "outputId": "84d1bbb1-d66a-4a37-f18a-06eb4f9b8c5d"
      },
      "execution_count": null,
      "outputs": [
        {
          "output_type": "stream",
          "name": "stdout",
          "text": [
            "The model is not using CUDA (GPU) for computation.\n"
          ]
        }
      ]
    },
    {
      "cell_type": "code",
      "execution_count": null,
      "metadata": {
        "id": "hG2NZ_CwxvyI"
      },
      "outputs": [],
      "source": [
        "model.eval()  # Set the model to evaluation mode\n",
        "\n",
        "predictions = []  # List to store the predicted outputs\n",
        "\n",
        "with torch.no_grad():\n",
        "    for data in test_loader:\n",
        "        data = data.to(device)\n",
        "        out = model(data.x.double(), data.edge_index, data.batch)\n",
        "        predictions.append(out.detach().cpu().numpy())  # Convert the predictions to NumPy array\n",
        "\n",
        "# Concatenate the predictions from multiple batches\n",
        "predictions = np.concatenate(predictions)\n",
        "\n",
        "# Print the predictions\n",
        "# print(predictions)"
      ]
    },
    {
      "cell_type": "code",
      "execution_count": null,
      "metadata": {
        "id": "2vJhDwz5oX3Z",
        "colab": {
          "base_uri": "https://localhost:8080/"
        },
        "outputId": "1bada25e-9538-43c9-f090-e6656f0e12dc"
      },
      "outputs": [
        {
          "output_type": "stream",
          "name": "stdout",
          "text": [
            "Mean Squared Error (MSE) Loss: 705.2236\n"
          ]
        }
      ],
      "source": [
        "from sklearn.metrics import r2_score\n",
        "\n",
        "# Convert the test data batches to a list of Data objects\n",
        "test_data_batches = [\n",
        "    Data(x=batch.x, edge_index=batch.edge_index, y=batch.y) for batch in test_loader\n",
        "]\n",
        "\n",
        "# Convert the predictions to PyTorch tensors\n",
        "predictions = torch.tensor(predictions)\n",
        "\n",
        "# Convert the ground truth labels of the test data to a PyTorch tensor\n",
        "y_true = torch.cat([batch.y for batch in test_data_batches])\n",
        "\n",
        "# Calculate the mean squared error (MSE) loss using PyTorch's function\n",
        "mse_loss = torch.nn.functional.mse_loss(predictions.view(-1), y_true.view(-1))\n",
        "\n",
        "print(f\"Mean Squared Error (MSE) Loss: {mse_loss:.4f}\")"
      ]
    },
    {
      "cell_type": "code",
      "source": [],
      "metadata": {
        "id": "bUbuzHbzlhBw"
      },
      "execution_count": null,
      "outputs": []
    }
  ],
  "metadata": {
    "accelerator": "GPU",
    "colab": {
      "provenance": [],
      "gpuType": "T4",
      "include_colab_link": true
    },
    "kernelspec": {
      "display_name": "Python 3",
      "name": "python3"
    },
    "language_info": {
      "name": "python"
    }
  },
  "nbformat": 4,
  "nbformat_minor": 0
}