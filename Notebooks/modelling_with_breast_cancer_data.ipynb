{
  "cells": [
    {
      "cell_type": "markdown",
      "metadata": {
        "id": "view-in-github",
        "colab_type": "text"
      },
      "source": [
        "<a href=\"https://colab.research.google.com/github/cannin/gsoc_2023_pytorch_pathway_commons/blob/main/Notebooks/modelling_with_breast_cancer_data.ipynb\" target=\"_parent\"><img src=\"https://colab.research.google.com/assets/colab-badge.svg\" alt=\"Open In Colab\"/></a>"
      ]
    },
    {
      "cell_type": "markdown",
      "source": [
        "# Downloading Data"
      ],
      "metadata": {
        "id": "kl6voEgVJzBk"
      }
    },
    {
      "cell_type": "code",
      "execution_count": 1,
      "metadata": {
        "colab": {
          "base_uri": "https://localhost:8080/"
        },
        "id": "XqS-T3j6eTXs",
        "outputId": "32a9ddd1-8112-46f0-add1-413c00423ef0"
      },
      "outputs": [
        {
          "output_type": "stream",
          "name": "stdout",
          "text": [
            "--2023-08-10 11:13:53--  https://zenodo.org/record/8232723/files/X_train.csv?download=1\n",
            "Resolving zenodo.org (zenodo.org)... 188.185.124.72\n",
            "Connecting to zenodo.org (zenodo.org)|188.185.124.72|:443... connected.\n",
            "HTTP request sent, awaiting response... 200 OK\n",
            "Length: 44836667 (43M) [text/plain]\n",
            "Saving to: ‘X_train.csv’\n",
            "\n",
            "X_train.csv         100%[===================>]  42.76M   526KB/s    in 84s     \n",
            "\n",
            "2023-08-10 11:15:19 (523 KB/s) - ‘X_train.csv’ saved [44836667/44836667]\n",
            "\n"
          ]
        }
      ],
      "source": [
        "!wget https://zenodo.org/record/8232723/files/X_train.csv?download=1 -O X_train.csv"
      ]
    },
    {
      "cell_type": "code",
      "source": [
        "!wget https://zenodo.org/record/8232723/files/X_test.csv?download=1 -O X_test.csv"
      ],
      "metadata": {
        "id": "sWwqnbulJJK_",
        "colab": {
          "base_uri": "https://localhost:8080/"
        },
        "outputId": "77704eff-34de-41ec-841f-239de7771f63"
      },
      "execution_count": 2,
      "outputs": [
        {
          "output_type": "stream",
          "name": "stdout",
          "text": [
            "--2023-08-10 11:15:19--  https://zenodo.org/record/8232723/files/X_test.csv?download=1\n",
            "Resolving zenodo.org (zenodo.org)... 188.185.124.72\n",
            "Connecting to zenodo.org (zenodo.org)|188.185.124.72|:443... connected.\n",
            "HTTP request sent, awaiting response... 200 OK\n",
            "Length: 15058192 (14M) [text/plain]\n",
            "Saving to: ‘X_test.csv’\n",
            "\n",
            "X_test.csv          100%[===================>]  14.36M   531KB/s    in 28s     \n",
            "\n",
            "2023-08-10 11:15:48 (527 KB/s) - ‘X_test.csv’ saved [15058192/15058192]\n",
            "\n"
          ]
        }
      ]
    },
    {
      "cell_type": "code",
      "source": [
        "!wget https://zenodo.org/record/8232723/files/y_test.csv?download=1 -O y_test.csv"
      ],
      "metadata": {
        "id": "VLwG9TVtJJ3h",
        "colab": {
          "base_uri": "https://localhost:8080/"
        },
        "outputId": "e0467f27-0aae-4984-e3dc-5fe6d583df8a"
      },
      "execution_count": 3,
      "outputs": [
        {
          "output_type": "stream",
          "name": "stdout",
          "text": [
            "--2023-08-10 11:15:49--  https://zenodo.org/record/8232723/files/y_test.csv?download=1\n",
            "Resolving zenodo.org (zenodo.org)... 188.185.124.72\n",
            "Connecting to zenodo.org (zenodo.org)|188.185.124.72|:443... connected.\n",
            "HTTP request sent, awaiting response... 200 OK\n",
            "Length: 5425 (5.3K) [text/plain]\n",
            "Saving to: ‘y_test.csv’\n",
            "\n",
            "y_test.csv          100%[===================>]   5.30K  --.-KB/s    in 0s      \n",
            "\n",
            "2023-08-10 11:15:50 (2.83 GB/s) - ‘y_test.csv’ saved [5425/5425]\n",
            "\n"
          ]
        }
      ]
    },
    {
      "cell_type": "code",
      "source": [
        "!wget https://zenodo.org/record/8232723/files/y_train.csv?download=1 -O y_train.csv"
      ],
      "metadata": {
        "id": "U2nEOd68JKYe",
        "colab": {
          "base_uri": "https://localhost:8080/"
        },
        "outputId": "5f959bfd-d52a-444e-ff1c-612fa14e9a0b"
      },
      "execution_count": 4,
      "outputs": [
        {
          "output_type": "stream",
          "name": "stdout",
          "text": [
            "--2023-08-10 11:15:50--  https://zenodo.org/record/8232723/files/y_train.csv?download=1\n",
            "Resolving zenodo.org (zenodo.org)... 188.185.124.72\n",
            "Connecting to zenodo.org (zenodo.org)|188.185.124.72|:443... connected.\n",
            "HTTP request sent, awaiting response... 200 OK\n",
            "Length: 16225 (16K) [text/plain]\n",
            "Saving to: ‘y_train.csv’\n",
            "\n",
            "y_train.csv         100%[===================>]  15.84K  --.-KB/s    in 0s      \n",
            "\n",
            "2023-08-10 11:15:52 (201 MB/s) - ‘y_train.csv’ saved [16225/16225]\n",
            "\n"
          ]
        }
      ]
    },
    {
      "cell_type": "code",
      "source": [
        "!wget https://zenodo.org/record/8232723/files/X_val.csv?download=1 -O X_val.csv"
      ],
      "metadata": {
        "id": "twIwvgdkJLDt",
        "colab": {
          "base_uri": "https://localhost:8080/"
        },
        "outputId": "8367eee5-2b84-4a73-cd4f-8a94d3b656c0"
      },
      "execution_count": 5,
      "outputs": [
        {
          "output_type": "stream",
          "name": "stdout",
          "text": [
            "--2023-08-10 11:15:52--  https://zenodo.org/record/8232723/files/X_val.csv?download=1\n",
            "Resolving zenodo.org (zenodo.org)... 188.185.124.72\n",
            "Connecting to zenodo.org (zenodo.org)|188.185.124.72|:443... connected.\n",
            "HTTP request sent, awaiting response... 200 OK\n",
            "Length: 14951235 (14M) [text/plain]\n",
            "Saving to: ‘X_val.csv’\n",
            "\n",
            "X_val.csv           100%[===================>]  14.26M   538KB/s    in 28s     \n",
            "\n",
            "2023-08-10 11:16:22 (525 KB/s) - ‘X_val.csv’ saved [14951235/14951235]\n",
            "\n"
          ]
        }
      ]
    },
    {
      "cell_type": "code",
      "source": [
        "!wget https://zenodo.org/record/8232723/files/y_val.csv?download=1 -O y_val.csv"
      ],
      "metadata": {
        "id": "VvYw0PlgJeJ9",
        "colab": {
          "base_uri": "https://localhost:8080/"
        },
        "outputId": "79f61ad8-087a-4d04-9dff-658dccefdeb4"
      },
      "execution_count": 6,
      "outputs": [
        {
          "output_type": "stream",
          "name": "stdout",
          "text": [
            "--2023-08-10 11:16:22--  https://zenodo.org/record/8232723/files/y_val.csv?download=1\n",
            "Resolving zenodo.org (zenodo.org)... 188.185.124.72\n",
            "Connecting to zenodo.org (zenodo.org)|188.185.124.72|:443... connected.\n",
            "HTTP request sent, awaiting response... 200 OK\n",
            "Length: 5400 (5.3K) [text/plain]\n",
            "Saving to: ‘y_val.csv’\n",
            "\n",
            "y_val.csv           100%[===================>]   5.27K  --.-KB/s    in 0s      \n",
            "\n",
            "2023-08-10 11:16:23 (2.35 GB/s) - ‘y_val.csv’ saved [5400/5400]\n",
            "\n"
          ]
        }
      ]
    },
    {
      "cell_type": "code",
      "source": [
        "!wget https://zenodo.org/record/8233085/files/edge_index.pt?download=1 -O edge_index.pt"
      ],
      "metadata": {
        "colab": {
          "base_uri": "https://localhost:8080/"
        },
        "id": "CC1DpVhgKvL6",
        "outputId": "e89785dd-4bc4-4ad5-87eb-ef70ebc9234c"
      },
      "execution_count": 12,
      "outputs": [
        {
          "output_type": "stream",
          "name": "stdout",
          "text": [
            "--2023-08-10 11:20:21--  https://zenodo.org/record/8233085/files/edge_index.pt?download=1\n",
            "Resolving zenodo.org (zenodo.org)... 188.185.124.72\n",
            "Connecting to zenodo.org (zenodo.org)|188.185.124.72|:443... connected.\n",
            "HTTP request sent, awaiting response... 200 OK\n",
            "Length: 4349044 (4.1M) [application/octet-stream]\n",
            "Saving to: ‘edge_index.pt’\n",
            "\n",
            "edge_index.pt       100%[===================>]   4.15M   512KB/s    in 8.2s    \n",
            "\n",
            "2023-08-10 11:20:30 (516 KB/s) - ‘edge_index.pt’ saved [4349044/4349044]\n",
            "\n"
          ]
        }
      ]
    },
    {
      "cell_type": "code",
      "execution_count": 7,
      "metadata": {
        "colab": {
          "base_uri": "https://localhost:8080/"
        },
        "id": "OE2xc7If0ZCT",
        "outputId": "7a211140-4a3c-4100-ed32-4132d4497537"
      },
      "outputs": [
        {
          "output_type": "stream",
          "name": "stdout",
          "text": [
            "Collecting torch-geometric\n",
            "  Downloading torch_geometric-2.3.1.tar.gz (661 kB)\n",
            "\u001b[2K     \u001b[90m━━━━━━━━━━━━━━━━━━━━━━━━━━━━━━━━━━━━━━━\u001b[0m \u001b[32m661.6/661.6 kB\u001b[0m \u001b[31m6.2 MB/s\u001b[0m eta \u001b[36m0:00:00\u001b[0m\n",
            "\u001b[?25h  Installing build dependencies ... \u001b[?25l\u001b[?25hdone\n",
            "  Getting requirements to build wheel ... \u001b[?25l\u001b[?25hdone\n",
            "  Preparing metadata (pyproject.toml) ... \u001b[?25l\u001b[?25hdone\n",
            "Requirement already satisfied: tqdm in /usr/local/lib/python3.10/dist-packages (from torch-geometric) (4.65.0)\n",
            "Requirement already satisfied: numpy in /usr/local/lib/python3.10/dist-packages (from torch-geometric) (1.23.5)\n",
            "Requirement already satisfied: scipy in /usr/local/lib/python3.10/dist-packages (from torch-geometric) (1.10.1)\n",
            "Requirement already satisfied: jinja2 in /usr/local/lib/python3.10/dist-packages (from torch-geometric) (3.1.2)\n",
            "Requirement already satisfied: requests in /usr/local/lib/python3.10/dist-packages (from torch-geometric) (2.31.0)\n",
            "Requirement already satisfied: pyparsing in /usr/local/lib/python3.10/dist-packages (from torch-geometric) (3.1.1)\n",
            "Requirement already satisfied: scikit-learn in /usr/local/lib/python3.10/dist-packages (from torch-geometric) (1.2.2)\n",
            "Requirement already satisfied: psutil>=5.8.0 in /usr/local/lib/python3.10/dist-packages (from torch-geometric) (5.9.5)\n",
            "Requirement already satisfied: MarkupSafe>=2.0 in /usr/local/lib/python3.10/dist-packages (from jinja2->torch-geometric) (2.1.3)\n",
            "Requirement already satisfied: charset-normalizer<4,>=2 in /usr/local/lib/python3.10/dist-packages (from requests->torch-geometric) (3.2.0)\n",
            "Requirement already satisfied: idna<4,>=2.5 in /usr/local/lib/python3.10/dist-packages (from requests->torch-geometric) (3.4)\n",
            "Requirement already satisfied: urllib3<3,>=1.21.1 in /usr/local/lib/python3.10/dist-packages (from requests->torch-geometric) (1.26.16)\n",
            "Requirement already satisfied: certifi>=2017.4.17 in /usr/local/lib/python3.10/dist-packages (from requests->torch-geometric) (2023.7.22)\n",
            "Requirement already satisfied: joblib>=1.1.1 in /usr/local/lib/python3.10/dist-packages (from scikit-learn->torch-geometric) (1.3.1)\n",
            "Requirement already satisfied: threadpoolctl>=2.0.0 in /usr/local/lib/python3.10/dist-packages (from scikit-learn->torch-geometric) (3.2.0)\n",
            "Building wheels for collected packages: torch-geometric\n",
            "  Building wheel for torch-geometric (pyproject.toml) ... \u001b[?25l\u001b[?25hdone\n",
            "  Created wheel for torch-geometric: filename=torch_geometric-2.3.1-py3-none-any.whl size=910454 sha256=9f95df9130ad51b50e7d5239f9c823063051f2c25625c504796063f6c4fc986f\n",
            "  Stored in directory: /root/.cache/pip/wheels/ac/dc/30/e2874821ff308ee67dcd7a66dbde912411e19e35a1addda028\n",
            "Successfully built torch-geometric\n",
            "Installing collected packages: torch-geometric\n",
            "Successfully installed torch-geometric-2.3.1\n"
          ]
        }
      ],
      "source": [
        "!pip install torch-geometric"
      ]
    },
    {
      "cell_type": "markdown",
      "metadata": {
        "id": "6T-0DTo_3DLk"
      },
      "source": [
        "# Importing Data and Libraries"
      ]
    },
    {
      "cell_type": "code",
      "execution_count": 8,
      "metadata": {
        "id": "Wy1Dc5Z9vGE8"
      },
      "outputs": [],
      "source": [
        "import pandas as pd\n",
        "import numpy as np\n",
        "import torch\n",
        "from torch_geometric.data import Data\n",
        "from sklearn.model_selection import train_test_split\n",
        "import matplotlib.pyplot as plt"
      ]
    },
    {
      "cell_type": "code",
      "execution_count": 9,
      "metadata": {
        "colab": {
          "base_uri": "https://localhost:8080/"
        },
        "id": "Agul4fnR13Wa",
        "outputId": "c36da66e-dcea-4440-b367-387812a82ff1"
      },
      "outputs": [
        {
          "output_type": "stream",
          "name": "stdout",
          "text": [
            "Using device: cuda\n"
          ]
        }
      ],
      "source": [
        "device = torch.device('cuda' if torch.cuda.is_available() else 'cpu')\n",
        "print('Using device:', device)\n",
        "\n",
        "if device.type != 'cuda':\n",
        "    raise SystemError('GPU device not found')"
      ]
    },
    {
      "cell_type": "code",
      "source": [
        "X_train = pd.read_csv(\"X_train.csv\", index_col=0)\n",
        "y_train = np.loadtxt(\"y_train.csv\", delimiter=',')\n",
        "\n",
        "X_test = pd.read_csv(\"X_test.csv\", index_col=0)\n",
        "y_test = np.loadtxt(\"y_test.csv\", delimiter=',')\n",
        "\n",
        "X_val = pd.read_csv(\"X_val.csv\", index_col=0)\n",
        "y_val = np.loadtxt(\"y_val.csv\", delimiter=',')"
      ],
      "metadata": {
        "id": "-LYZy9ksSjI0"
      },
      "execution_count": 10,
      "outputs": []
    },
    {
      "cell_type": "code",
      "source": [
        "edge_index = torch.load('edge_index.pt')"
      ],
      "metadata": {
        "id": "-4Tx9-cHVwHZ"
      },
      "execution_count": 13,
      "outputs": []
    },
    {
      "cell_type": "code",
      "execution_count": 14,
      "metadata": {
        "id": "_hSLO4ioijm1",
        "colab": {
          "base_uri": "https://localhost:8080/"
        },
        "outputId": "2d03d2ab-7e67-4e83-a437-22ccb72e163d"
      },
      "outputs": [
        {
          "output_type": "execute_result",
          "data": {
            "text/plain": [
              "tensor([[   0,    0,    0,  ..., 9287, 9287, 9287],\n",
              "        [ 451,  452,  453,  ..., 3323, 3340, 3341]])"
            ]
          },
          "metadata": {},
          "execution_count": 14
        }
      ],
      "source": [
        "edge_index"
      ]
    },
    {
      "cell_type": "code",
      "execution_count": 15,
      "metadata": {
        "id": "8AijMTwRaV2O",
        "colab": {
          "base_uri": "https://localhost:8080/"
        },
        "outputId": "7441e05f-6d8b-4e7d-f145-4713cfa6d1ea"
      },
      "outputs": [
        {
          "output_type": "execute_result",
          "data": {
            "text/plain": [
              "torch.Size([2, 271771])"
            ]
          },
          "metadata": {},
          "execution_count": 15
        }
      ],
      "source": [
        "edge_index.shape"
      ]
    },
    {
      "cell_type": "code",
      "execution_count": 16,
      "metadata": {
        "id": "2moOSXN89L_s",
        "colab": {
          "base_uri": "https://localhost:8080/"
        },
        "outputId": "4a1af27e-2103-4e12-9236-0ba925b1f173"
      },
      "outputs": [
        {
          "output_type": "execute_result",
          "data": {
            "text/plain": [
              "((649, 9288), (217, 9288), (216, 9288))"
            ]
          },
          "metadata": {},
          "execution_count": 16
        }
      ],
      "source": [
        "X_train.shape, X_test.shape, X_val.shape"
      ]
    },
    {
      "cell_type": "code",
      "execution_count": null,
      "metadata": {
        "id": "gD5qBnVD9R3Z"
      },
      "outputs": [],
      "source": [
        "X_train = X_train.values\n",
        "X_test = X_test.values\n",
        "X_val = X_val.values"
      ]
    },
    {
      "cell_type": "markdown",
      "source": [
        "# Generating patient-specific graphs"
      ],
      "metadata": {
        "id": "1z7WbblxpLtR"
      }
    },
    {
      "cell_type": "code",
      "execution_count": null,
      "metadata": {
        "id": "IohJNJFPFqqs"
      },
      "outputs": [],
      "source": [
        "num_patients_train = X_train.shape[0]\n",
        "num_patients_test = X_test.shape[0]\n",
        "num_patients_val = X_val.shape[0]\n",
        "\n",
        "# Create patient-specific graphs for the training set\n",
        "graphs_train = []\n",
        "for i in range(num_patients_train):\n",
        "    node_features = X_train[i]  # Node features for the i-th patient\n",
        "    target = y_train[i]  # Target label for the i-th patient\n",
        "    graph_train = (node_features, edge_index, target)\n",
        "    graphs_train.append(graph_train)\n",
        "\n",
        "# Create patient-specific graphs for the test set\n",
        "graphs_test = []\n",
        "for i in range(num_patients_test):\n",
        "    node_features = X_test[i]  # Node features for the i-th patient\n",
        "    target = y_test[i]  # Target label for the i-th patient\n",
        "    graph_test = (node_features, edge_index, target)\n",
        "    graphs_test.append(graph_test)\n",
        "\n",
        "# Create patient-specific graphs for the test set\n",
        "graphs_val = []\n",
        "for i in range(num_patients_val):\n",
        "    node_features = X_val[i]  # Node features for the i-th patient\n",
        "    target = y_val[i]  # Target label for the i-th patient\n",
        "    graph_val = (node_features, edge_index, target)\n",
        "    graphs_val.append(graph_test)"
      ]
    },
    {
      "cell_type": "code",
      "execution_count": null,
      "metadata": {
        "id": "xGcmIHELMEdg",
        "colab": {
          "base_uri": "https://localhost:8080/"
        },
        "outputId": "968a000a-99f2-4f45-d087-654538fd0c9a"
      },
      "outputs": [
        {
          "output_type": "stream",
          "name": "stdout",
          "text": [
            "649\n",
            "217\n",
            "216\n"
          ]
        }
      ],
      "source": [
        "# Check the number of patient-specific graphs\n",
        "print(len(graphs_train))  # Should be 857\n",
        "print(len(graphs_test))  # Should be 217\n",
        "print(len(graphs_val))"
      ]
    },
    {
      "cell_type": "code",
      "execution_count": null,
      "metadata": {
        "id": "olPMTAImFxrJ",
        "colab": {
          "base_uri": "https://localhost:8080/"
        },
        "outputId": "0871854b-558f-420a-d0b6-311bc38a74bb"
      },
      "outputs": [
        {
          "output_type": "stream",
          "name": "stdout",
          "text": [
            "[   0.     5798.37      8.6165 ...  415.824   931.957  1180.46  ]\n",
            "tensor([[   0,    0,    0,  ..., 9287, 9287, 9287],\n",
            "        [ 451,  452,  453,  ..., 3323, 3340, 3341]])\n",
            "133.0505967\n"
          ]
        }
      ],
      "source": [
        "# Access the patient-specific graph for a specific patient in the training set\n",
        "patient_index = 0 # Index of the patient\n",
        "node_features, edge_index, y = graphs_train[patient_index]\n",
        "print(node_features)  # Node features for the specific patient\n",
        "print(edge_index)  # Edge index for the specific patient\n",
        "print(y)"
      ]
    },
    {
      "cell_type": "code",
      "execution_count": null,
      "metadata": {
        "id": "w9CCMwQeGGUj",
        "colab": {
          "base_uri": "https://localhost:8080/"
        },
        "outputId": "b28ba68b-3b8a-45e2-a75a-25d6dfd91799"
      },
      "outputs": [
        {
          "output_type": "stream",
          "name": "stdout",
          "text": [
            "[0.00000e+00 2.87393e+04 9.46600e-01 ... 5.60854e+02 7.04274e+02\n",
            " 5.87369e+02]\n",
            "tensor([[   0,    0,    0,  ..., 9287, 9287, 9287],\n",
            "        [ 451,  452,  453,  ..., 3323, 3340, 3341]])\n"
          ]
        }
      ],
      "source": [
        "# Access the patient-specific graph for a specific patient in the training set\n",
        "patient_index = 15  # Index of the patient\n",
        "node_features, edge_index, y = graphs_test[patient_index]\n",
        "print(node_features)  # Node features for the specific patient\n",
        "print(edge_index)  # Edge index for the specific patient\n",
        "# print(y)"
      ]
    },
    {
      "cell_type": "code",
      "source": [
        "# Access the patient-specific graph for a specific patient in the training set\n",
        "patient_index = 15  # Index of the patient\n",
        "node_features, edge_index, y = graphs_val[patient_index]\n",
        "print(node_features)  # Node features for the specific patient\n",
        "print(edge_index)  # Edge index for the specific patient\n",
        "# print(y)"
      ],
      "metadata": {
        "id": "oqKycb9AYsG3",
        "outputId": "72d7670a-be57-4a0f-faef-8aa719f3646b",
        "colab": {
          "base_uri": "https://localhost:8080/"
        }
      },
      "execution_count": null,
      "outputs": [
        {
          "output_type": "stream",
          "name": "stdout",
          "text": [
            "[   0.    7339.17     0.    ...  521.169 2435.84   462.114]\n",
            "tensor([[   0,    0,    0,  ..., 9287, 9287, 9287],\n",
            "        [ 451,  452,  453,  ..., 3323, 3340, 3341]])\n"
          ]
        }
      ]
    },
    {
      "cell_type": "markdown",
      "source": [
        "# Converting List of Graphs to Data Objects"
      ],
      "metadata": {
        "id": "73STw3hfpXYA"
      }
    },
    {
      "cell_type": "code",
      "execution_count": null,
      "metadata": {
        "id": "OQvmOmtabK95"
      },
      "outputs": [],
      "source": [
        "# Convert graphs_train to a list of Data objects\n",
        "data_train = [Data(x=torch.tensor(graph[0].reshape(len(graphs_train[0][0]), 1)), edge_index=graph[1], y=torch.tensor(graph[2])) for graph in graphs_train]\n",
        "\n",
        "# Convert graphs_test to a list of Data objects\n",
        "data_test = [Data(x=torch.tensor(graph[0].reshape(len(graphs_test[0][0]), 1)), edge_index=graph[1], y=torch.tensor(graph[2])) for graph in graphs_test]\n",
        "\n",
        "# Convert graphs_test to a list of Data objects\n",
        "data_val = [Data(x=torch.tensor(graph[0].reshape(len(graphs_val[0][0]), 1)), edge_index=graph[1], y=torch.tensor(graph[2])) for graph in graphs_val]"
      ]
    },
    {
      "cell_type": "code",
      "execution_count": null,
      "metadata": {
        "id": "M_AXY4EhirX7",
        "colab": {
          "base_uri": "https://localhost:8080/"
        },
        "outputId": "015cfc57-2171-4bc4-a40f-085bdcb20ca0"
      },
      "outputs": [
        {
          "output_type": "stream",
          "name": "stdout",
          "text": [
            "Data(x=[9288, 1], edge_index=[2, 271771], y=133.0505967)\n",
            "tensor([[   0.0000],\n",
            "        [5798.3700],\n",
            "        [   8.6165],\n",
            "        ...,\n",
            "        [ 415.8240],\n",
            "        [ 931.9570],\n",
            "        [1180.4600]], dtype=torch.float64)\n",
            "tensor([[   0,    0,    0,  ..., 9287, 9287, 9287],\n",
            "        [ 451,  452,  453,  ..., 3323, 3340, 3341]])\n",
            "tensor(133.0506, dtype=torch.float64)\n"
          ]
        }
      ],
      "source": [
        "# Access the attributes of a specific data object in the training set\n",
        "sample = data_train[0]  # Get the first data object\n",
        "print(sample)  # Print the data object\n",
        "\n",
        "# Access the node features, edge indices, and target label\n",
        "node_features = sample.x\n",
        "edge_index = sample.edge_index\n",
        "target = sample.y\n",
        "\n",
        "print(node_features)  # Print the node features\n",
        "print(edge_index)  # Print the edge indices\n",
        "print(target)  # Print the target label"
      ]
    },
    {
      "cell_type": "markdown",
      "source": [
        "# Creating Train, Test and Validation Batches"
      ],
      "metadata": {
        "id": "tHuhKYTmpqrY"
      }
    },
    {
      "cell_type": "code",
      "source": [
        "from torch_geometric.loader import DataLoader"
      ],
      "metadata": {
        "id": "mN5kObB2-n9n"
      },
      "execution_count": null,
      "outputs": []
    },
    {
      "cell_type": "code",
      "execution_count": null,
      "metadata": {
        "id": "0gZ-l0npPIca",
        "colab": {
          "base_uri": "https://localhost:8080/"
        },
        "outputId": "0f0782f1-d8fc-4b40-bd51-808ec1711d2f"
      },
      "outputs": [
        {
          "output_type": "stream",
          "name": "stdout",
          "text": [
            "Training Batches: \n",
            "Step 1:\n",
            "=======\n",
            "Number of graphs in the current batch: 16\n",
            "DataBatch(x=[148608, 1], edge_index=[2, 4348336], y=[16], batch=[148608], ptr=[17])\n",
            "\n",
            "Training Batches: \n",
            "Step 2:\n",
            "=======\n",
            "Number of graphs in the current batch: 16\n",
            "DataBatch(x=[148608, 1], edge_index=[2, 4348336], y=[16], batch=[148608], ptr=[17])\n",
            "\n",
            "Training Batches: \n",
            "Step 3:\n",
            "=======\n",
            "Number of graphs in the current batch: 16\n",
            "DataBatch(x=[148608, 1], edge_index=[2, 4348336], y=[16], batch=[148608], ptr=[17])\n",
            "\n",
            "Training Batches: \n",
            "Step 4:\n",
            "=======\n",
            "Number of graphs in the current batch: 16\n",
            "DataBatch(x=[148608, 1], edge_index=[2, 4348336], y=[16], batch=[148608], ptr=[17])\n",
            "\n",
            "Training Batches: \n",
            "Step 5:\n",
            "=======\n",
            "Number of graphs in the current batch: 16\n",
            "DataBatch(x=[148608, 1], edge_index=[2, 4348336], y=[16], batch=[148608], ptr=[17])\n",
            "\n",
            "Training Batches: \n",
            "Step 6:\n",
            "=======\n",
            "Number of graphs in the current batch: 16\n",
            "DataBatch(x=[148608, 1], edge_index=[2, 4348336], y=[16], batch=[148608], ptr=[17])\n",
            "\n",
            "Training Batches: \n",
            "Step 7:\n",
            "=======\n",
            "Number of graphs in the current batch: 16\n",
            "DataBatch(x=[148608, 1], edge_index=[2, 4348336], y=[16], batch=[148608], ptr=[17])\n",
            "\n",
            "Training Batches: \n",
            "Step 8:\n",
            "=======\n",
            "Number of graphs in the current batch: 16\n",
            "DataBatch(x=[148608, 1], edge_index=[2, 4348336], y=[16], batch=[148608], ptr=[17])\n",
            "\n",
            "Training Batches: \n",
            "Step 9:\n",
            "=======\n",
            "Number of graphs in the current batch: 16\n",
            "DataBatch(x=[148608, 1], edge_index=[2, 4348336], y=[16], batch=[148608], ptr=[17])\n",
            "\n",
            "Training Batches: \n",
            "Step 10:\n",
            "=======\n",
            "Number of graphs in the current batch: 16\n",
            "DataBatch(x=[148608, 1], edge_index=[2, 4348336], y=[16], batch=[148608], ptr=[17])\n",
            "\n",
            "Training Batches: \n",
            "Step 11:\n",
            "=======\n",
            "Number of graphs in the current batch: 16\n",
            "DataBatch(x=[148608, 1], edge_index=[2, 4348336], y=[16], batch=[148608], ptr=[17])\n",
            "\n",
            "Training Batches: \n",
            "Step 12:\n",
            "=======\n",
            "Number of graphs in the current batch: 16\n",
            "DataBatch(x=[148608, 1], edge_index=[2, 4348336], y=[16], batch=[148608], ptr=[17])\n",
            "\n",
            "Training Batches: \n",
            "Step 13:\n",
            "=======\n",
            "Number of graphs in the current batch: 16\n",
            "DataBatch(x=[148608, 1], edge_index=[2, 4348336], y=[16], batch=[148608], ptr=[17])\n",
            "\n",
            "Training Batches: \n",
            "Step 14:\n",
            "=======\n",
            "Number of graphs in the current batch: 16\n",
            "DataBatch(x=[148608, 1], edge_index=[2, 4348336], y=[16], batch=[148608], ptr=[17])\n",
            "\n",
            "Training Batches: \n",
            "Step 15:\n",
            "=======\n",
            "Number of graphs in the current batch: 16\n",
            "DataBatch(x=[148608, 1], edge_index=[2, 4348336], y=[16], batch=[148608], ptr=[17])\n",
            "\n",
            "Training Batches: \n",
            "Step 16:\n",
            "=======\n",
            "Number of graphs in the current batch: 16\n",
            "DataBatch(x=[148608, 1], edge_index=[2, 4348336], y=[16], batch=[148608], ptr=[17])\n",
            "\n",
            "Training Batches: \n",
            "Step 17:\n",
            "=======\n",
            "Number of graphs in the current batch: 16\n",
            "DataBatch(x=[148608, 1], edge_index=[2, 4348336], y=[16], batch=[148608], ptr=[17])\n",
            "\n",
            "Training Batches: \n",
            "Step 18:\n",
            "=======\n",
            "Number of graphs in the current batch: 16\n",
            "DataBatch(x=[148608, 1], edge_index=[2, 4348336], y=[16], batch=[148608], ptr=[17])\n",
            "\n",
            "Training Batches: \n",
            "Step 19:\n",
            "=======\n",
            "Number of graphs in the current batch: 16\n",
            "DataBatch(x=[148608, 1], edge_index=[2, 4348336], y=[16], batch=[148608], ptr=[17])\n",
            "\n",
            "Training Batches: \n",
            "Step 20:\n",
            "=======\n",
            "Number of graphs in the current batch: 16\n",
            "DataBatch(x=[148608, 1], edge_index=[2, 4348336], y=[16], batch=[148608], ptr=[17])\n",
            "\n",
            "Training Batches: \n",
            "Step 21:\n",
            "=======\n",
            "Number of graphs in the current batch: 16\n",
            "DataBatch(x=[148608, 1], edge_index=[2, 4348336], y=[16], batch=[148608], ptr=[17])\n",
            "\n",
            "Training Batches: \n",
            "Step 22:\n",
            "=======\n",
            "Number of graphs in the current batch: 16\n",
            "DataBatch(x=[148608, 1], edge_index=[2, 4348336], y=[16], batch=[148608], ptr=[17])\n",
            "\n",
            "Training Batches: \n",
            "Step 23:\n",
            "=======\n",
            "Number of graphs in the current batch: 16\n",
            "DataBatch(x=[148608, 1], edge_index=[2, 4348336], y=[16], batch=[148608], ptr=[17])\n",
            "\n",
            "Training Batches: \n",
            "Step 24:\n",
            "=======\n",
            "Number of graphs in the current batch: 16\n",
            "DataBatch(x=[148608, 1], edge_index=[2, 4348336], y=[16], batch=[148608], ptr=[17])\n",
            "\n",
            "Training Batches: \n",
            "Step 25:\n",
            "=======\n",
            "Number of graphs in the current batch: 16\n",
            "DataBatch(x=[148608, 1], edge_index=[2, 4348336], y=[16], batch=[148608], ptr=[17])\n",
            "\n",
            "Training Batches: \n",
            "Step 26:\n",
            "=======\n",
            "Number of graphs in the current batch: 16\n",
            "DataBatch(x=[148608, 1], edge_index=[2, 4348336], y=[16], batch=[148608], ptr=[17])\n",
            "\n",
            "Training Batches: \n",
            "Step 27:\n",
            "=======\n",
            "Number of graphs in the current batch: 16\n",
            "DataBatch(x=[148608, 1], edge_index=[2, 4348336], y=[16], batch=[148608], ptr=[17])\n",
            "\n",
            "Training Batches: \n",
            "Step 28:\n",
            "=======\n",
            "Number of graphs in the current batch: 16\n",
            "DataBatch(x=[148608, 1], edge_index=[2, 4348336], y=[16], batch=[148608], ptr=[17])\n",
            "\n",
            "Training Batches: \n",
            "Step 29:\n",
            "=======\n",
            "Number of graphs in the current batch: 16\n",
            "DataBatch(x=[148608, 1], edge_index=[2, 4348336], y=[16], batch=[148608], ptr=[17])\n",
            "\n",
            "Training Batches: \n",
            "Step 30:\n",
            "=======\n",
            "Number of graphs in the current batch: 16\n",
            "DataBatch(x=[148608, 1], edge_index=[2, 4348336], y=[16], batch=[148608], ptr=[17])\n",
            "\n",
            "Training Batches: \n",
            "Step 31:\n",
            "=======\n",
            "Number of graphs in the current batch: 16\n",
            "DataBatch(x=[148608, 1], edge_index=[2, 4348336], y=[16], batch=[148608], ptr=[17])\n",
            "\n",
            "Training Batches: \n",
            "Step 32:\n",
            "=======\n",
            "Number of graphs in the current batch: 16\n",
            "DataBatch(x=[148608, 1], edge_index=[2, 4348336], y=[16], batch=[148608], ptr=[17])\n",
            "\n",
            "Training Batches: \n",
            "Step 33:\n",
            "=======\n",
            "Number of graphs in the current batch: 16\n",
            "DataBatch(x=[148608, 1], edge_index=[2, 4348336], y=[16], batch=[148608], ptr=[17])\n",
            "\n",
            "Training Batches: \n",
            "Step 34:\n",
            "=======\n",
            "Number of graphs in the current batch: 16\n",
            "DataBatch(x=[148608, 1], edge_index=[2, 4348336], y=[16], batch=[148608], ptr=[17])\n",
            "\n",
            "Training Batches: \n",
            "Step 35:\n",
            "=======\n",
            "Number of graphs in the current batch: 16\n",
            "DataBatch(x=[148608, 1], edge_index=[2, 4348336], y=[16], batch=[148608], ptr=[17])\n",
            "\n",
            "Training Batches: \n",
            "Step 36:\n",
            "=======\n",
            "Number of graphs in the current batch: 16\n",
            "DataBatch(x=[148608, 1], edge_index=[2, 4348336], y=[16], batch=[148608], ptr=[17])\n",
            "\n",
            "Training Batches: \n",
            "Step 37:\n",
            "=======\n",
            "Number of graphs in the current batch: 16\n",
            "DataBatch(x=[148608, 1], edge_index=[2, 4348336], y=[16], batch=[148608], ptr=[17])\n",
            "\n",
            "Training Batches: \n",
            "Step 38:\n",
            "=======\n",
            "Number of graphs in the current batch: 16\n",
            "DataBatch(x=[148608, 1], edge_index=[2, 4348336], y=[16], batch=[148608], ptr=[17])\n",
            "\n",
            "Training Batches: \n",
            "Step 39:\n",
            "=======\n",
            "Number of graphs in the current batch: 16\n",
            "DataBatch(x=[148608, 1], edge_index=[2, 4348336], y=[16], batch=[148608], ptr=[17])\n",
            "\n",
            "Training Batches: \n",
            "Step 40:\n",
            "=======\n",
            "Number of graphs in the current batch: 16\n",
            "DataBatch(x=[148608, 1], edge_index=[2, 4348336], y=[16], batch=[148608], ptr=[17])\n",
            "\n",
            "Training Batches: \n",
            "Step 41:\n",
            "=======\n",
            "Number of graphs in the current batch: 9\n",
            "DataBatch(x=[83592, 1], edge_index=[2, 2445939], y=[9], batch=[83592], ptr=[10])\n",
            "\n"
          ]
        }
      ],
      "source": [
        "bs = 16\n",
        "train_loader = DataLoader(data_train, batch_size=bs, shuffle=True)\n",
        "test_loader = DataLoader(data_test, batch_size=bs, shuffle=False)\n",
        "val_loader = DataLoader(data_val, batch_size=bs, shuffle=True)\n",
        "\n",
        "for step, data in enumerate(train_loader):\n",
        "    data = data.to(device)  # Move the batch of data to the device\n",
        "\n",
        "    print('Training Batches: ')\n",
        "    print(f'Step {step + 1}:')\n",
        "    print('=======')\n",
        "    print(f'Number of graphs in the current batch: {data.num_graphs}')\n",
        "    print(data)\n",
        "    print()"
      ]
    },
    {
      "cell_type": "code",
      "execution_count": null,
      "metadata": {
        "id": "pqWv0wYqk22X",
        "colab": {
          "base_uri": "https://localhost:8080/"
        },
        "outputId": "9325e17f-03c5-4981-881c-ec963f791f58"
      },
      "outputs": [
        {
          "output_type": "stream",
          "name": "stdout",
          "text": [
            "Test Batches: \n",
            "Step 1:\n",
            "=======\n",
            "Number of graphs in the current batch: 16\n",
            "DataBatch(x=[148608, 1], edge_index=[2, 4348336], y=[16], batch=[148608], ptr=[17])\n",
            "\n",
            "Test Batches: \n",
            "Step 2:\n",
            "=======\n",
            "Number of graphs in the current batch: 16\n",
            "DataBatch(x=[148608, 1], edge_index=[2, 4348336], y=[16], batch=[148608], ptr=[17])\n",
            "\n",
            "Test Batches: \n",
            "Step 3:\n",
            "=======\n",
            "Number of graphs in the current batch: 16\n",
            "DataBatch(x=[148608, 1], edge_index=[2, 4348336], y=[16], batch=[148608], ptr=[17])\n",
            "\n",
            "Test Batches: \n",
            "Step 4:\n",
            "=======\n",
            "Number of graphs in the current batch: 16\n",
            "DataBatch(x=[148608, 1], edge_index=[2, 4348336], y=[16], batch=[148608], ptr=[17])\n",
            "\n",
            "Test Batches: \n",
            "Step 5:\n",
            "=======\n",
            "Number of graphs in the current batch: 16\n",
            "DataBatch(x=[148608, 1], edge_index=[2, 4348336], y=[16], batch=[148608], ptr=[17])\n",
            "\n",
            "Test Batches: \n",
            "Step 6:\n",
            "=======\n",
            "Number of graphs in the current batch: 16\n",
            "DataBatch(x=[148608, 1], edge_index=[2, 4348336], y=[16], batch=[148608], ptr=[17])\n",
            "\n",
            "Test Batches: \n",
            "Step 7:\n",
            "=======\n",
            "Number of graphs in the current batch: 16\n",
            "DataBatch(x=[148608, 1], edge_index=[2, 4348336], y=[16], batch=[148608], ptr=[17])\n",
            "\n",
            "Test Batches: \n",
            "Step 8:\n",
            "=======\n",
            "Number of graphs in the current batch: 16\n",
            "DataBatch(x=[148608, 1], edge_index=[2, 4348336], y=[16], batch=[148608], ptr=[17])\n",
            "\n",
            "Test Batches: \n",
            "Step 9:\n",
            "=======\n",
            "Number of graphs in the current batch: 16\n",
            "DataBatch(x=[148608, 1], edge_index=[2, 4348336], y=[16], batch=[148608], ptr=[17])\n",
            "\n",
            "Test Batches: \n",
            "Step 10:\n",
            "=======\n",
            "Number of graphs in the current batch: 16\n",
            "DataBatch(x=[148608, 1], edge_index=[2, 4348336], y=[16], batch=[148608], ptr=[17])\n",
            "\n",
            "Test Batches: \n",
            "Step 11:\n",
            "=======\n",
            "Number of graphs in the current batch: 16\n",
            "DataBatch(x=[148608, 1], edge_index=[2, 4348336], y=[16], batch=[148608], ptr=[17])\n",
            "\n",
            "Test Batches: \n",
            "Step 12:\n",
            "=======\n",
            "Number of graphs in the current batch: 16\n",
            "DataBatch(x=[148608, 1], edge_index=[2, 4348336], y=[16], batch=[148608], ptr=[17])\n",
            "\n",
            "Test Batches: \n",
            "Step 13:\n",
            "=======\n",
            "Number of graphs in the current batch: 16\n",
            "DataBatch(x=[148608, 1], edge_index=[2, 4348336], y=[16], batch=[148608], ptr=[17])\n",
            "\n",
            "Test Batches: \n",
            "Step 14:\n",
            "=======\n",
            "Number of graphs in the current batch: 9\n",
            "DataBatch(x=[83592, 1], edge_index=[2, 2445939], y=[9], batch=[83592], ptr=[10])\n",
            "\n"
          ]
        }
      ],
      "source": [
        "for step, data in enumerate(test_loader):\n",
        "    data = data.to(device)\n",
        "    print('Test Batches: ')\n",
        "    print(f'Step {step + 1}:')\n",
        "    print('=======')\n",
        "    print(f'Number of graphs in the current batch: {data.num_graphs}')\n",
        "    print(data)\n",
        "    print()"
      ]
    },
    {
      "cell_type": "code",
      "source": [
        "for step, data in enumerate(val_loader):\n",
        "    data = data.to(device)\n",
        "    print('Val Batches: ')\n",
        "    print(f'Step {step + 1}:')\n",
        "    print('=======')\n",
        "    print(f'Number of graphs in the current batch: {data.num_graphs}')\n",
        "    print(data)\n",
        "    print()"
      ],
      "metadata": {
        "id": "ULvEVyV9Zo1B",
        "outputId": "24d1f898-db04-42e9-a8f2-0cd870973a2e",
        "colab": {
          "base_uri": "https://localhost:8080/"
        }
      },
      "execution_count": null,
      "outputs": [
        {
          "output_type": "stream",
          "name": "stdout",
          "text": [
            "Val Batches: \n",
            "Step 1:\n",
            "=======\n",
            "Number of graphs in the current batch: 16\n",
            "DataBatch(x=[148608, 1], edge_index=[2, 4348336], y=[16], batch=[148608], ptr=[17])\n",
            "\n",
            "Val Batches: \n",
            "Step 2:\n",
            "=======\n",
            "Number of graphs in the current batch: 16\n",
            "DataBatch(x=[148608, 1], edge_index=[2, 4348336], y=[16], batch=[148608], ptr=[17])\n",
            "\n",
            "Val Batches: \n",
            "Step 3:\n",
            "=======\n",
            "Number of graphs in the current batch: 16\n",
            "DataBatch(x=[148608, 1], edge_index=[2, 4348336], y=[16], batch=[148608], ptr=[17])\n",
            "\n",
            "Val Batches: \n",
            "Step 4:\n",
            "=======\n",
            "Number of graphs in the current batch: 16\n",
            "DataBatch(x=[148608, 1], edge_index=[2, 4348336], y=[16], batch=[148608], ptr=[17])\n",
            "\n",
            "Val Batches: \n",
            "Step 5:\n",
            "=======\n",
            "Number of graphs in the current batch: 16\n",
            "DataBatch(x=[148608, 1], edge_index=[2, 4348336], y=[16], batch=[148608], ptr=[17])\n",
            "\n",
            "Val Batches: \n",
            "Step 6:\n",
            "=======\n",
            "Number of graphs in the current batch: 16\n",
            "DataBatch(x=[148608, 1], edge_index=[2, 4348336], y=[16], batch=[148608], ptr=[17])\n",
            "\n",
            "Val Batches: \n",
            "Step 7:\n",
            "=======\n",
            "Number of graphs in the current batch: 16\n",
            "DataBatch(x=[148608, 1], edge_index=[2, 4348336], y=[16], batch=[148608], ptr=[17])\n",
            "\n",
            "Val Batches: \n",
            "Step 8:\n",
            "=======\n",
            "Number of graphs in the current batch: 16\n",
            "DataBatch(x=[148608, 1], edge_index=[2, 4348336], y=[16], batch=[148608], ptr=[17])\n",
            "\n",
            "Val Batches: \n",
            "Step 9:\n",
            "=======\n",
            "Number of graphs in the current batch: 16\n",
            "DataBatch(x=[148608, 1], edge_index=[2, 4348336], y=[16], batch=[148608], ptr=[17])\n",
            "\n",
            "Val Batches: \n",
            "Step 10:\n",
            "=======\n",
            "Number of graphs in the current batch: 16\n",
            "DataBatch(x=[148608, 1], edge_index=[2, 4348336], y=[16], batch=[148608], ptr=[17])\n",
            "\n",
            "Val Batches: \n",
            "Step 11:\n",
            "=======\n",
            "Number of graphs in the current batch: 16\n",
            "DataBatch(x=[148608, 1], edge_index=[2, 4348336], y=[16], batch=[148608], ptr=[17])\n",
            "\n",
            "Val Batches: \n",
            "Step 12:\n",
            "=======\n",
            "Number of graphs in the current batch: 16\n",
            "DataBatch(x=[148608, 1], edge_index=[2, 4348336], y=[16], batch=[148608], ptr=[17])\n",
            "\n",
            "Val Batches: \n",
            "Step 13:\n",
            "=======\n",
            "Number of graphs in the current batch: 16\n",
            "DataBatch(x=[148608, 1], edge_index=[2, 4348336], y=[16], batch=[148608], ptr=[17])\n",
            "\n",
            "Val Batches: \n",
            "Step 14:\n",
            "=======\n",
            "Number of graphs in the current batch: 8\n",
            "DataBatch(x=[74304, 1], edge_index=[2, 2174168], y=[8], batch=[74304], ptr=[9])\n",
            "\n"
          ]
        }
      ]
    },
    {
      "cell_type": "markdown",
      "source": [
        "# Model Building and Evaluation"
      ],
      "metadata": {
        "id": "UzfC0CY_qGWw"
      }
    },
    {
      "cell_type": "code",
      "execution_count": null,
      "metadata": {
        "id": "0PQNhtuosLl3"
      },
      "outputs": [],
      "source": [
        "from torch.nn import Linear\n",
        "import torch.nn.functional as F\n",
        "from torch_geometric.nn import GCNConv\n",
        "from torch_geometric.nn import global_mean_pool"
      ]
    },
    {
      "cell_type": "markdown",
      "source": [
        "GATConv\n",
        "\n",
        "GraphNorm\n",
        "\n",
        "Dropout for all layers"
      ],
      "metadata": {
        "id": "PzRZ2m_VwEQo"
      }
    },
    {
      "cell_type": "code",
      "execution_count": null,
      "metadata": {
        "id": "HtR7piktlpI8"
      },
      "outputs": [],
      "source": [
        "class GCN(torch.nn.Module):\n",
        "    def __init__(self, hidden_channels, num_node_features):\n",
        "        super(GCN, self).__init__()\n",
        "        torch.manual_seed(12345)\n",
        "        self.conv1 = GCNConv(num_node_features, hidden_channels)\n",
        "        self.conv2 = GCNConv(hidden_channels, hidden_channels)\n",
        "        self.conv3 = GCNConv(hidden_channels, hidden_channels)\n",
        "        self.conv4 = GCNConv(hidden_channels, hidden_channels)\n",
        "        self.lin = Linear(hidden_channels, 1)  # Regression output with 1 dimension\n",
        "\n",
        "    def forward(self, x, edge_index, batch):\n",
        "        # 1. Obtain node embeddings\n",
        "        x = self.conv1(x, edge_index)\n",
        "        x = x.relu()\n",
        "        # x = F.dropout(x, p=0.2, training=self.training)\n",
        "        x = self.conv2(x, edge_index)\n",
        "        x = x.relu()\n",
        "        # F.dropout(x, p=0.2, training=self.training)\n",
        "        x = self.conv3(x, edge_index)\n",
        "        x = self.conv4(x, edge_index)\n",
        "\n",
        "        # 2. Readout layer\n",
        "        x = global_mean_pool(x, batch)  # [batch_size, hidden_channels]\n",
        "\n",
        "        # 3. Apply a final regression layer\n",
        "        x = F.dropout(x, p=0.2, training=self.training)\n",
        "        x = self.lin(x)\n",
        "\n",
        "        return x.squeeze()  # Remove the extra dimension"
      ]
    },
    {
      "cell_type": "code",
      "source": [
        "import time"
      ],
      "metadata": {
        "id": "lJgdv5ErhoQM"
      },
      "execution_count": null,
      "outputs": []
    },
    {
      "cell_type": "code",
      "source": [
        "start_time = time.time()\n",
        "\n",
        "model = GCN(hidden_channels=64, num_node_features=1)\n",
        "criterion = torch.nn.MSELoss()\n",
        "optimizer = torch.optim.Adam(model.parameters(), lr=0.0001)\n",
        "\n",
        "model = model.to(device)  # Move the model to CUDA device\n",
        "criterion = criterion.to(device)  # Move the criterion to CUDA device\n",
        "\n",
        "model.double()  # Convert the model's parameters to Double type\n",
        "\n",
        "num_epochs = 101  # Specify the number of epochs\n",
        "\n",
        "\n",
        "# Initialize lists to store training and validation losses\n",
        "train_losses = []\n",
        "val_losses = []\n",
        "\n",
        "for epoch in range(num_epochs):\n",
        "    model.train()  # Set the model to train mode\n",
        "    total_loss = 0\n",
        "\n",
        "    for step, data in enumerate(train_loader):\n",
        "        data = data.to(device)  # Move the batch of data to CUDA device\n",
        "\n",
        "        optimizer.zero_grad()\n",
        "\n",
        "        out = model(data.x.double(), data.edge_index, data.batch)\n",
        "        loss = criterion(out, data.y.view(-1).double())\n",
        "        loss.backward()\n",
        "        optimizer.step()\n",
        "\n",
        "        total_loss += loss.item()\n",
        "\n",
        "    # average_loss = total_loss / (step + 1)\n",
        "    average_loss = total_loss / len(train_loader)\n",
        "    train_losses.append(average_loss)\n",
        "\n",
        "    # Evaluate on the validation set\n",
        "    model.eval()\n",
        "    with torch.no_grad():\n",
        "        val_loss = 0\n",
        "        for data in val_loader:\n",
        "            data = data.to(device)\n",
        "            out = model(data.x.double(), data.edge_index, data.batch)\n",
        "            loss = criterion(out, data.y.view(-1).double())\n",
        "            val_loss += loss.item()\n",
        "\n",
        "        average_val_loss = val_loss / len(val_loader)\n",
        "        val_losses.append(average_val_loss)\n",
        "\n",
        "        print(f'Epoch: {epoch:03d}, Train loss: {average_loss:.4f}, Validation Loss: {average_val_loss:.4f}')\n",
        "\n",
        "# Calculate the elapsed time\n",
        "elapsed_time = time.time() - start_time\n",
        "\n",
        "print(f\"Time used for training: {elapsed_time:.2f} seconds\")"
      ],
      "metadata": {
        "colab": {
          "base_uri": "https://localhost:8080/"
        },
        "id": "3Hw_1xpj_lSF",
        "outputId": "826f7987-9cec-4e6a-aefe-d8d1d0a208aa"
      },
      "execution_count": null,
      "outputs": [
        {
          "output_type": "stream",
          "name": "stdout",
          "text": [
            "Epoch: 000, Train loss: 10132.6370, Validation Loss: 4025.5869\n",
            "Epoch: 001, Train loss: 5770.7315, Validation Loss: 3646.5534\n",
            "Epoch: 002, Train loss: 5181.3856, Validation Loss: 2451.2463\n",
            "Epoch: 003, Train loss: 4012.0951, Validation Loss: 3061.8195\n",
            "Epoch: 004, Train loss: 3636.3772, Validation Loss: 3405.7166\n",
            "Epoch: 005, Train loss: 3204.7383, Validation Loss: 3695.5665\n",
            "Epoch: 006, Train loss: 3019.1480, Validation Loss: 3965.9711\n",
            "Epoch: 007, Train loss: 2938.4869, Validation Loss: 3509.5998\n",
            "Epoch: 008, Train loss: 2564.9824, Validation Loss: 2749.6864\n",
            "Epoch: 009, Train loss: 2639.6444, Validation Loss: 4262.8099\n",
            "Epoch: 010, Train loss: 2378.8293, Validation Loss: 3074.2873\n",
            "Epoch: 011, Train loss: 2526.8721, Validation Loss: 3675.9624\n",
            "Epoch: 012, Train loss: 2384.6189, Validation Loss: 4438.9961\n",
            "Epoch: 013, Train loss: 2464.6361, Validation Loss: 3444.3356\n",
            "Epoch: 014, Train loss: 2434.5143, Validation Loss: 3103.3803\n",
            "Epoch: 015, Train loss: 2317.5653, Validation Loss: 4100.2050\n",
            "Epoch: 016, Train loss: 2224.3885, Validation Loss: 2499.1052\n",
            "Epoch: 017, Train loss: 2336.4465, Validation Loss: 4044.3826\n",
            "Epoch: 018, Train loss: 2281.8488, Validation Loss: 3637.2033\n",
            "Epoch: 019, Train loss: 2261.2234, Validation Loss: 4415.6330\n",
            "Epoch: 020, Train loss: 2252.7518, Validation Loss: 3021.1411\n",
            "Epoch: 021, Train loss: 2195.9726, Validation Loss: 3726.1035\n",
            "Epoch: 022, Train loss: 2205.1414, Validation Loss: 3518.5043\n",
            "Epoch: 023, Train loss: 2259.0900, Validation Loss: 3204.0487\n",
            "Epoch: 024, Train loss: 2181.4785, Validation Loss: 3635.5232\n",
            "Epoch: 025, Train loss: 2214.9610, Validation Loss: 3684.1029\n",
            "Epoch: 026, Train loss: 2178.5171, Validation Loss: 4729.3309\n",
            "Epoch: 027, Train loss: 2225.1057, Validation Loss: 3010.4051\n",
            "Epoch: 028, Train loss: 2169.5636, Validation Loss: 2508.1180\n",
            "Epoch: 029, Train loss: 2181.9750, Validation Loss: 3413.7206\n",
            "Epoch: 030, Train loss: 2199.7762, Validation Loss: 3544.0646\n",
            "Epoch: 031, Train loss: 2232.4896, Validation Loss: 2158.4464\n",
            "Epoch: 032, Train loss: 2271.8228, Validation Loss: 2780.0472\n",
            "Epoch: 033, Train loss: 2227.6436, Validation Loss: 3951.4502\n",
            "Epoch: 034, Train loss: 2196.3515, Validation Loss: 3761.0847\n",
            "Epoch: 035, Train loss: 2174.8040, Validation Loss: 4970.3875\n",
            "Epoch: 036, Train loss: 2182.7089, Validation Loss: 2480.6455\n",
            "Epoch: 037, Train loss: 2180.9390, Validation Loss: 4842.2632\n",
            "Epoch: 038, Train loss: 2205.2552, Validation Loss: 3518.6450\n",
            "Epoch: 039, Train loss: 2135.0135, Validation Loss: 2775.6337\n",
            "Epoch: 040, Train loss: 2193.9262, Validation Loss: 2128.0739\n",
            "Epoch: 041, Train loss: 2263.0212, Validation Loss: 3200.3387\n",
            "Epoch: 042, Train loss: 2128.4975, Validation Loss: 3873.5248\n",
            "Epoch: 043, Train loss: 2134.9203, Validation Loss: 2494.4755\n",
            "Epoch: 044, Train loss: 2121.6025, Validation Loss: 3730.4571\n",
            "Epoch: 045, Train loss: 2138.2866, Validation Loss: 3241.4276\n",
            "Epoch: 046, Train loss: 2151.1583, Validation Loss: 2849.1710\n",
            "Epoch: 047, Train loss: 2117.7344, Validation Loss: 2947.4504\n",
            "Epoch: 048, Train loss: 2144.9263, Validation Loss: 3600.2226\n",
            "Epoch: 049, Train loss: 2201.0525, Validation Loss: 2516.2067\n",
            "Epoch: 050, Train loss: 2142.0422, Validation Loss: 3147.4408\n",
            "Epoch: 051, Train loss: 2118.6970, Validation Loss: 3323.4638\n",
            "Epoch: 052, Train loss: 2096.0885, Validation Loss: 3925.8794\n",
            "Epoch: 053, Train loss: 2126.1810, Validation Loss: 3366.4543\n",
            "Epoch: 054, Train loss: 2102.8735, Validation Loss: 4226.4871\n",
            "Epoch: 055, Train loss: 2121.0880, Validation Loss: 4252.3119\n",
            "Epoch: 056, Train loss: 2164.3981, Validation Loss: 3623.3698\n",
            "Epoch: 057, Train loss: 2161.2132, Validation Loss: 3797.4169\n",
            "Epoch: 058, Train loss: 2221.3745, Validation Loss: 3243.9051\n",
            "Epoch: 059, Train loss: 2130.6175, Validation Loss: 3116.2944\n",
            "Epoch: 060, Train loss: 2105.3914, Validation Loss: 3197.5538\n",
            "Epoch: 061, Train loss: 2160.3814, Validation Loss: 3041.6443\n",
            "Epoch: 062, Train loss: 2139.6945, Validation Loss: 3635.6360\n",
            "Epoch: 063, Train loss: 2125.2974, Validation Loss: 3113.8472\n",
            "Epoch: 064, Train loss: 2131.9068, Validation Loss: 4234.8387\n",
            "Epoch: 065, Train loss: 2177.0178, Validation Loss: 3294.7834\n",
            "Epoch: 066, Train loss: 2053.9844, Validation Loss: 4720.4419\n",
            "Epoch: 067, Train loss: 2137.9709, Validation Loss: 3644.6021\n",
            "Epoch: 068, Train loss: 2149.8673, Validation Loss: 3749.7290\n",
            "Epoch: 069, Train loss: 2115.5471, Validation Loss: 3755.7775\n",
            "Epoch: 070, Train loss: 2082.2655, Validation Loss: 3778.2714\n",
            "Epoch: 071, Train loss: 2154.0371, Validation Loss: 3551.6967\n",
            "Epoch: 072, Train loss: 2134.3027, Validation Loss: 2983.6012\n",
            "Epoch: 073, Train loss: 2149.0942, Validation Loss: 4368.1980\n",
            "Epoch: 074, Train loss: 2144.3292, Validation Loss: 3252.7353\n",
            "Epoch: 075, Train loss: 2063.6877, Validation Loss: 4077.6326\n",
            "Epoch: 076, Train loss: 2125.0794, Validation Loss: 3382.1500\n",
            "Epoch: 077, Train loss: 2180.4024, Validation Loss: 3731.5966\n",
            "Epoch: 078, Train loss: 2145.5000, Validation Loss: 3519.2267\n",
            "Epoch: 079, Train loss: 2170.1941, Validation Loss: 5074.3734\n",
            "Epoch: 080, Train loss: 2182.8817, Validation Loss: 3436.6622\n",
            "Epoch: 081, Train loss: 2068.4954, Validation Loss: 3332.4777\n",
            "Epoch: 082, Train loss: 2132.8923, Validation Loss: 3707.8328\n",
            "Epoch: 083, Train loss: 2124.0648, Validation Loss: 3366.8505\n",
            "Epoch: 084, Train loss: 2157.2545, Validation Loss: 4060.1223\n",
            "Epoch: 085, Train loss: 2167.0881, Validation Loss: 2936.6657\n",
            "Epoch: 086, Train loss: 2102.0747, Validation Loss: 3927.7350\n",
            "Epoch: 087, Train loss: 2110.9088, Validation Loss: 4155.0426\n",
            "Epoch: 088, Train loss: 2094.7380, Validation Loss: 3326.0696\n",
            "Epoch: 089, Train loss: 2107.3179, Validation Loss: 1864.5181\n",
            "Epoch: 090, Train loss: 2244.6842, Validation Loss: 3826.1844\n",
            "Epoch: 091, Train loss: 2125.2509, Validation Loss: 4190.4808\n",
            "Epoch: 092, Train loss: 2138.0523, Validation Loss: 3904.1389\n",
            "Epoch: 093, Train loss: 2197.8973, Validation Loss: 3149.8370\n",
            "Epoch: 094, Train loss: 2128.0973, Validation Loss: 3206.3975\n",
            "Epoch: 095, Train loss: 2090.8393, Validation Loss: 4478.9270\n",
            "Epoch: 096, Train loss: 2121.5891, Validation Loss: 3133.2888\n",
            "Epoch: 097, Train loss: 2127.5464, Validation Loss: 3186.1548\n",
            "Epoch: 098, Train loss: 2166.3746, Validation Loss: 3253.1897\n",
            "Epoch: 099, Train loss: 2183.8949, Validation Loss: 3310.0948\n",
            "Epoch: 100, Train loss: 2200.3594, Validation Loss: 3554.3719\n",
            "Time used for training: 2644.10 seconds\n"
          ]
        }
      ]
    },
    {
      "cell_type": "code",
      "execution_count": null,
      "metadata": {
        "colab": {
          "base_uri": "https://localhost:8080/"
        },
        "outputId": "86a4058f-119a-4bd0-c6c6-eae90cdddc1b",
        "id": "QmpOy-Hxcsv1"
      },
      "outputs": [
        {
          "output_type": "stream",
          "name": "stdout",
          "text": [
            "[43.55725092 44.08028075 38.91240359 49.6856782  57.11545471 49.2488646\n",
            " 46.26797878 69.44459431 40.08783161 47.09477596 41.79447049 59.6563456\n",
            " 42.1638118  41.82494993 46.81332123 62.32889962 49.33881261 42.57041928\n",
            " 52.39576228 54.71745061 48.86888308 48.3693378  43.41075096 42.29800485\n",
            " 40.57629728 48.14563459 43.39985199 43.4280826  44.10320179 41.80334809\n",
            " 46.04080267 49.50979418 44.05228203 41.74079503 40.28526262 58.01311131\n",
            " 51.82924971 66.92649916 42.34902062 43.49067802 44.6448583  41.8613574\n",
            " 41.62454029 58.73852732 51.27562298 46.36812612 55.27125528 45.11960998\n",
            " 40.79312407 45.78704319 38.52153649 47.51369774 42.43833828 45.77688507\n",
            " 42.98232197 41.46602893 45.48200315 40.32172104 44.28584843 39.03582643\n",
            " 38.74683687 54.32599793 56.82479863 46.20568204 47.30315729 53.57794485\n",
            " 52.535465   36.82116806 39.03770265 54.15825062 47.73256675 44.26751476\n",
            " 50.13237356 44.07045962 47.44692756 42.51068506 49.23656117 41.21456483\n",
            " 44.40527585 45.43675912 51.69582596 39.12083207 45.4686505  52.04524442\n",
            " 47.53264089 50.8687203  53.80873158 55.16784047 44.72761203 42.76922823\n",
            " 57.27572568 50.64960851 43.73911722 49.49787835 42.31306252 40.46499774\n",
            " 43.30131345 47.5669914  50.66577207 48.58386624 50.62903136 49.73345855\n",
            " 47.34399601 43.1438388  41.38890173 50.01325956 49.06658802 46.77517922\n",
            " 47.24995704 40.2029333  48.61680164 45.4173474  48.96880529 48.26983057\n",
            " 45.59851498 48.94170902 50.32864932 75.98051616 41.52282665 67.93278459\n",
            " 63.33901018 39.46503114 49.1990633  55.05608542 58.50281744 43.60256513\n",
            " 46.39743929 46.58215934 44.13972548 52.1555828  46.39265128 46.96649014\n",
            " 51.87485492 45.07822701 41.54474378 40.74159213 42.29180725 42.4764792\n",
            " 59.43997959 48.64201701 52.84826029 45.38764095 42.51638961 37.20130323\n",
            " 52.02160921 47.61429093 43.50258583 39.27851378 43.35666227 54.56689322\n",
            " 48.69779722 48.33813624 50.9610178  50.55421088 47.40203459 63.37632301\n",
            " 71.32292364 45.68119091 48.93494129 50.83565997 49.76348779 48.00554671\n",
            " 54.47113917 51.50943898 42.57526972 42.38942845 44.19494875 58.33737098\n",
            " 49.56035773 44.52817824 44.17095819 42.59139851 45.03059269 51.87610402\n",
            " 41.71363673 47.58039463 47.80760096 56.26784196 43.30368872 55.32180206\n",
            " 45.02851194 43.792193   59.92356726 58.82052413 44.92592181 70.44887797\n",
            " 47.65640123 48.8225905  40.21697941 47.07707858 44.97928162 45.55360918\n",
            " 47.03626795 50.37714917 44.00691468 48.39881744 46.14385698 42.50797585\n",
            " 36.33716877 44.68620688 49.09978014 49.06601261 38.64818357 40.88548947\n",
            " 43.536661   49.37246686 42.73924336 49.86946444 59.65099136 55.09790057\n",
            " 42.01962014 49.34577296 60.72814137 45.1235172  46.30242166 51.96842895\n",
            " 47.42684876]\n"
          ]
        }
      ],
      "source": [
        "model.eval()  # Set the model to evaluation mode\n",
        "\n",
        "predictions = []  # List to store the predicted outputs\n",
        "test_losses = []\n",
        "with torch.no_grad():\n",
        "    test_loss = 0\n",
        "    for data in test_loader:\n",
        "        data = data.to(device)  # Move the batch of data to CUDA device\n",
        "        out = model(data.x.double(), data.edge_index, data.batch)\n",
        "        loss = criterion(out, data.y.view(-1).double())\n",
        "        test_loss += loss.item()\n",
        "\n",
        "        average_test_loss = test_loss / len(test_loader)\n",
        "        test_losses.append(average_val_loss)\n",
        "\n",
        "        predictions.append(out.cpu().detach().numpy())  # Convert the predictions to NumPy array\n",
        "\n",
        "# Concatenate the predictions from multiple batches\n",
        "predictions = np.concatenate(predictions)\n",
        "\n",
        "# Print the predictions\n",
        "print(predictions)"
      ]
    },
    {
      "cell_type": "code",
      "source": [
        "# Visualize convergence results\n",
        "plt.figure()\n",
        "plt.plot(range(1, num_epochs + 1), train_losses, label='Training Loss')\n",
        "plt.plot(range(1, num_epochs + 1), val_losses, label='Validation Loss')\n",
        "plt.plot(range(1, num_epochs + 1), test_losses, label='Test Loss')\n",
        "plt.xlabel('Epoch')\n",
        "plt.ylabel('Loss')\n",
        "plt.legend()\n",
        "plt.title('Convergence of Model')\n",
        "plt.show()"
      ],
      "metadata": {
        "id": "bAZdyMDfiFzo",
        "outputId": "b8b5326e-d561-49a5-8b10-917f05e6fc81",
        "colab": {
          "base_uri": "https://localhost:8080/",
          "height": 825
        }
      },
      "execution_count": null,
      "outputs": [
        {
          "output_type": "error",
          "ename": "ValueError",
          "evalue": "ignored",
          "traceback": [
            "\u001b[0;31m---------------------------------------------------------------------------\u001b[0m",
            "\u001b[0;31mValueError\u001b[0m                                Traceback (most recent call last)",
            "\u001b[0;32m<ipython-input-40-67b3aaa62b28>\u001b[0m in \u001b[0;36m<cell line: 6>\u001b[0;34m()\u001b[0m\n\u001b[1;32m      4\u001b[0m \u001b[0mplt\u001b[0m\u001b[0;34m.\u001b[0m\u001b[0mfigure\u001b[0m\u001b[0;34m(\u001b[0m\u001b[0;34m)\u001b[0m\u001b[0;34m\u001b[0m\u001b[0;34m\u001b[0m\u001b[0m\n\u001b[1;32m      5\u001b[0m \u001b[0;31m# plt.plot(range(1, num_epochs + 1), train_losses, label='Training Loss')\u001b[0m\u001b[0;34m\u001b[0m\u001b[0;34m\u001b[0m\u001b[0m\n\u001b[0;32m----> 6\u001b[0;31m \u001b[0mplt\u001b[0m\u001b[0;34m.\u001b[0m\u001b[0mplot\u001b[0m\u001b[0;34m(\u001b[0m\u001b[0mrange\u001b[0m\u001b[0;34m(\u001b[0m\u001b[0;36m1\u001b[0m\u001b[0;34m,\u001b[0m \u001b[0mnum_epochs\u001b[0m \u001b[0;34m+\u001b[0m \u001b[0;36m1\u001b[0m\u001b[0;34m)\u001b[0m\u001b[0;34m,\u001b[0m \u001b[0mtest_losses\u001b[0m\u001b[0;34m,\u001b[0m \u001b[0mlabel\u001b[0m\u001b[0;34m=\u001b[0m\u001b[0;34m'Test Loss'\u001b[0m\u001b[0;34m)\u001b[0m\u001b[0;34m\u001b[0m\u001b[0;34m\u001b[0m\u001b[0m\n\u001b[0m\u001b[1;32m      7\u001b[0m \u001b[0mplt\u001b[0m\u001b[0;34m.\u001b[0m\u001b[0mplot\u001b[0m\u001b[0;34m(\u001b[0m\u001b[0mrange\u001b[0m\u001b[0;34m(\u001b[0m\u001b[0;36m1\u001b[0m\u001b[0;34m,\u001b[0m \u001b[0mnum_epochs\u001b[0m \u001b[0;34m+\u001b[0m \u001b[0;36m1\u001b[0m\u001b[0;34m)\u001b[0m\u001b[0;34m,\u001b[0m \u001b[0mval_losses\u001b[0m\u001b[0;34m,\u001b[0m \u001b[0mlabel\u001b[0m\u001b[0;34m=\u001b[0m\u001b[0;34m'Validation Loss'\u001b[0m\u001b[0;34m)\u001b[0m\u001b[0;34m\u001b[0m\u001b[0;34m\u001b[0m\u001b[0m\n\u001b[1;32m      8\u001b[0m \u001b[0mplt\u001b[0m\u001b[0;34m.\u001b[0m\u001b[0mxlabel\u001b[0m\u001b[0;34m(\u001b[0m\u001b[0;34m'Epoch'\u001b[0m\u001b[0;34m)\u001b[0m\u001b[0;34m\u001b[0m\u001b[0;34m\u001b[0m\u001b[0m\n",
            "\u001b[0;32m/usr/local/lib/python3.10/dist-packages/matplotlib/pyplot.py\u001b[0m in \u001b[0;36mplot\u001b[0;34m(scalex, scaley, data, *args, **kwargs)\u001b[0m\n\u001b[1;32m   2810\u001b[0m \u001b[0;34m@\u001b[0m\u001b[0m_copy_docstring_and_deprecators\u001b[0m\u001b[0;34m(\u001b[0m\u001b[0mAxes\u001b[0m\u001b[0;34m.\u001b[0m\u001b[0mplot\u001b[0m\u001b[0;34m)\u001b[0m\u001b[0;34m\u001b[0m\u001b[0;34m\u001b[0m\u001b[0m\n\u001b[1;32m   2811\u001b[0m \u001b[0;32mdef\u001b[0m \u001b[0mplot\u001b[0m\u001b[0;34m(\u001b[0m\u001b[0;34m*\u001b[0m\u001b[0margs\u001b[0m\u001b[0;34m,\u001b[0m \u001b[0mscalex\u001b[0m\u001b[0;34m=\u001b[0m\u001b[0;32mTrue\u001b[0m\u001b[0;34m,\u001b[0m \u001b[0mscaley\u001b[0m\u001b[0;34m=\u001b[0m\u001b[0;32mTrue\u001b[0m\u001b[0;34m,\u001b[0m \u001b[0mdata\u001b[0m\u001b[0;34m=\u001b[0m\u001b[0;32mNone\u001b[0m\u001b[0;34m,\u001b[0m \u001b[0;34m**\u001b[0m\u001b[0mkwargs\u001b[0m\u001b[0;34m)\u001b[0m\u001b[0;34m:\u001b[0m\u001b[0;34m\u001b[0m\u001b[0;34m\u001b[0m\u001b[0m\n\u001b[0;32m-> 2812\u001b[0;31m     return gca().plot(\n\u001b[0m\u001b[1;32m   2813\u001b[0m         \u001b[0;34m*\u001b[0m\u001b[0margs\u001b[0m\u001b[0;34m,\u001b[0m \u001b[0mscalex\u001b[0m\u001b[0;34m=\u001b[0m\u001b[0mscalex\u001b[0m\u001b[0;34m,\u001b[0m \u001b[0mscaley\u001b[0m\u001b[0;34m=\u001b[0m\u001b[0mscaley\u001b[0m\u001b[0;34m,\u001b[0m\u001b[0;34m\u001b[0m\u001b[0;34m\u001b[0m\u001b[0m\n\u001b[1;32m   2814\u001b[0m         **({\"data\": data} if data is not None else {}), **kwargs)\n",
            "\u001b[0;32m/usr/local/lib/python3.10/dist-packages/matplotlib/axes/_axes.py\u001b[0m in \u001b[0;36mplot\u001b[0;34m(self, scalex, scaley, data, *args, **kwargs)\u001b[0m\n\u001b[1;32m   1686\u001b[0m         \"\"\"\n\u001b[1;32m   1687\u001b[0m         \u001b[0mkwargs\u001b[0m \u001b[0;34m=\u001b[0m \u001b[0mcbook\u001b[0m\u001b[0;34m.\u001b[0m\u001b[0mnormalize_kwargs\u001b[0m\u001b[0;34m(\u001b[0m\u001b[0mkwargs\u001b[0m\u001b[0;34m,\u001b[0m \u001b[0mmlines\u001b[0m\u001b[0;34m.\u001b[0m\u001b[0mLine2D\u001b[0m\u001b[0;34m)\u001b[0m\u001b[0;34m\u001b[0m\u001b[0;34m\u001b[0m\u001b[0m\n\u001b[0;32m-> 1688\u001b[0;31m         \u001b[0mlines\u001b[0m \u001b[0;34m=\u001b[0m \u001b[0;34m[\u001b[0m\u001b[0;34m*\u001b[0m\u001b[0mself\u001b[0m\u001b[0;34m.\u001b[0m\u001b[0m_get_lines\u001b[0m\u001b[0;34m(\u001b[0m\u001b[0;34m*\u001b[0m\u001b[0margs\u001b[0m\u001b[0;34m,\u001b[0m \u001b[0mdata\u001b[0m\u001b[0;34m=\u001b[0m\u001b[0mdata\u001b[0m\u001b[0;34m,\u001b[0m \u001b[0;34m**\u001b[0m\u001b[0mkwargs\u001b[0m\u001b[0;34m)\u001b[0m\u001b[0;34m]\u001b[0m\u001b[0;34m\u001b[0m\u001b[0;34m\u001b[0m\u001b[0m\n\u001b[0m\u001b[1;32m   1689\u001b[0m         \u001b[0;32mfor\u001b[0m \u001b[0mline\u001b[0m \u001b[0;32min\u001b[0m \u001b[0mlines\u001b[0m\u001b[0;34m:\u001b[0m\u001b[0;34m\u001b[0m\u001b[0;34m\u001b[0m\u001b[0m\n\u001b[1;32m   1690\u001b[0m             \u001b[0mself\u001b[0m\u001b[0;34m.\u001b[0m\u001b[0madd_line\u001b[0m\u001b[0;34m(\u001b[0m\u001b[0mline\u001b[0m\u001b[0;34m)\u001b[0m\u001b[0;34m\u001b[0m\u001b[0;34m\u001b[0m\u001b[0m\n",
            "\u001b[0;32m/usr/local/lib/python3.10/dist-packages/matplotlib/axes/_base.py\u001b[0m in \u001b[0;36m__call__\u001b[0;34m(self, data, *args, **kwargs)\u001b[0m\n\u001b[1;32m    309\u001b[0m                 \u001b[0mthis\u001b[0m \u001b[0;34m+=\u001b[0m \u001b[0margs\u001b[0m\u001b[0;34m[\u001b[0m\u001b[0;36m0\u001b[0m\u001b[0;34m]\u001b[0m\u001b[0;34m,\u001b[0m\u001b[0;34m\u001b[0m\u001b[0;34m\u001b[0m\u001b[0m\n\u001b[1;32m    310\u001b[0m                 \u001b[0margs\u001b[0m \u001b[0;34m=\u001b[0m \u001b[0margs\u001b[0m\u001b[0;34m[\u001b[0m\u001b[0;36m1\u001b[0m\u001b[0;34m:\u001b[0m\u001b[0;34m]\u001b[0m\u001b[0;34m\u001b[0m\u001b[0;34m\u001b[0m\u001b[0m\n\u001b[0;32m--> 311\u001b[0;31m             yield from self._plot_args(\n\u001b[0m\u001b[1;32m    312\u001b[0m                 this, kwargs, ambiguous_fmt_datakey=ambiguous_fmt_datakey)\n\u001b[1;32m    313\u001b[0m \u001b[0;34m\u001b[0m\u001b[0m\n",
            "\u001b[0;32m/usr/local/lib/python3.10/dist-packages/matplotlib/axes/_base.py\u001b[0m in \u001b[0;36m_plot_args\u001b[0;34m(self, tup, kwargs, return_kwargs, ambiguous_fmt_datakey)\u001b[0m\n\u001b[1;32m    502\u001b[0m \u001b[0;34m\u001b[0m\u001b[0m\n\u001b[1;32m    503\u001b[0m         \u001b[0;32mif\u001b[0m \u001b[0mx\u001b[0m\u001b[0;34m.\u001b[0m\u001b[0mshape\u001b[0m\u001b[0;34m[\u001b[0m\u001b[0;36m0\u001b[0m\u001b[0;34m]\u001b[0m \u001b[0;34m!=\u001b[0m \u001b[0my\u001b[0m\u001b[0;34m.\u001b[0m\u001b[0mshape\u001b[0m\u001b[0;34m[\u001b[0m\u001b[0;36m0\u001b[0m\u001b[0;34m]\u001b[0m\u001b[0;34m:\u001b[0m\u001b[0;34m\u001b[0m\u001b[0;34m\u001b[0m\u001b[0m\n\u001b[0;32m--> 504\u001b[0;31m             raise ValueError(f\"x and y must have same first dimension, but \"\n\u001b[0m\u001b[1;32m    505\u001b[0m                              f\"have shapes {x.shape} and {y.shape}\")\n\u001b[1;32m    506\u001b[0m         \u001b[0;32mif\u001b[0m \u001b[0mx\u001b[0m\u001b[0;34m.\u001b[0m\u001b[0mndim\u001b[0m \u001b[0;34m>\u001b[0m \u001b[0;36m2\u001b[0m \u001b[0;32mor\u001b[0m \u001b[0my\u001b[0m\u001b[0;34m.\u001b[0m\u001b[0mndim\u001b[0m \u001b[0;34m>\u001b[0m \u001b[0;36m2\u001b[0m\u001b[0;34m:\u001b[0m\u001b[0;34m\u001b[0m\u001b[0;34m\u001b[0m\u001b[0m\n",
            "\u001b[0;31mValueError\u001b[0m: x and y must have same first dimension, but have shapes (101,) and (14,)"
          ]
        },
        {
          "output_type": "display_data",
          "data": {
            "text/plain": [
              "<Figure size 640x480 with 1 Axes>"
            ],
            "image/png": "[encoded data removed]"
          },
          "metadata": {}
        }
      ]
    },
    {
      "cell_type": "code",
      "execution_count": null,
      "metadata": {
        "id": "2vJhDwz5oX3Z"
      },
      "outputs": [],
      "source": [
        "from sklearn.metrics import r2_score\n",
        "\n",
        "# Convert the test data batches to a list of Data objects\n",
        "test_data_batches = [\n",
        "    Data(x=batch.x, edge_index=batch.edge_index, y=batch.y) for batch in test_loader\n",
        "]\n",
        "\n",
        "# Convert the predictions to PyTorch tensors\n",
        "predictions = torch.tensor(predictions)\n",
        "\n",
        "# Convert the ground truth labels of the test data to a PyTorch tensor\n",
        "y_true = torch.cat([batch.y for batch in test_data_batches])\n",
        "\n",
        "# Calculate the mean squared error (MSE) loss using PyTorch's function\n",
        "mse_loss = torch.nn.functional.mse_loss(predictions.view(-1), y_true.view(-1))\n",
        "\n",
        "print(f\"Mean Squared Error (MSE) Loss: {mse_loss:.4f}\")"
      ]
    },
    {
      "cell_type": "code",
      "source": [],
      "metadata": {
        "id": "bUbuzHbzlhBw"
      },
      "execution_count": null,
      "outputs": []
    }
  ],
  "metadata": {
    "accelerator": "GPU",
    "colab": {
      "provenance": [],
      "gpuType": "T4",
      "include_colab_link": true
    },
    "kernelspec": {
      "display_name": "Python 3",
      "name": "python3"
    },
    "language_info": {
      "name": "python"
    }
  },
  "nbformat": 4,
  "nbformat_minor": 0
}