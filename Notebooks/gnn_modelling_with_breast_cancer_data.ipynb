{
  "cells": [
    {
      "cell_type": "markdown",
      "metadata": {
        "id": "view-in-github",
        "colab_type": "text"
      },
      "source": [
        "<a href=\"https://colab.research.google.com/github/cannin/gsoc_2023_pytorch_pathway_commons/blob/main/Notebooks/gnn_modelling_with_breast_cancer_data.ipynb\" target=\"_parent\"><img src=\"https://colab.research.google.com/assets/colab-badge.svg\" alt=\"Open In Colab\"/></a>"
      ]
    },
    {
      "cell_type": "markdown",
      "source": [
        "# Downloading Data"
      ],
      "metadata": {
        "id": "kl6voEgVJzBk"
      }
    },
    {
      "cell_type": "code",
      "execution_count": null,
      "metadata": {
        "colab": {
          "base_uri": "https://localhost:8080/"
        },
        "id": "XqS-T3j6eTXs",
        "outputId": "e2ed0b4d-b354-4699-9cc1-e48c89723dc2"
      },
      "outputs": [
        {
          "output_type": "stream",
          "name": "stdout",
          "text": [
            "--2023-08-17 13:09:46--  https://zenodo.org/record/8232723/files/X_train.csv?download=1\n",
            "Resolving zenodo.org (zenodo.org)... 188.185.124.72\n",
            "Connecting to zenodo.org (zenodo.org)|188.185.124.72|:443... connected.\n",
            "HTTP request sent, awaiting response... 200 OK\n",
            "Length: 44836667 (43M) [text/plain]\n",
            "Saving to: ‘X_train.csv’\n",
            "\n",
            "X_train.csv         100%[===================>]  42.76M   534KB/s    in 83s     \n",
            "\n",
            "2023-08-17 13:11:11 (527 KB/s) - ‘X_train.csv’ saved [44836667/44836667]\n",
            "\n"
          ]
        }
      ],
      "source": [
        "!wget https://zenodo.org/record/8232723/files/X_train.csv?download=1 -O X_train.csv"
      ]
    },
    {
      "cell_type": "code",
      "source": [
        "!wget https://zenodo.org/record/8232723/files/X_test.csv?download=1 -O X_test.csv"
      ],
      "metadata": {
        "id": "sWwqnbulJJK_",
        "colab": {
          "base_uri": "https://localhost:8080/"
        },
        "outputId": "25f64190-9a50-42ec-e4cb-46fed935cba4"
      },
      "execution_count": null,
      "outputs": [
        {
          "output_type": "stream",
          "name": "stdout",
          "text": [
            "--2023-08-17 13:11:11--  https://zenodo.org/record/8232723/files/X_test.csv?download=1\n",
            "Resolving zenodo.org (zenodo.org)... 188.185.124.72\n",
            "Connecting to zenodo.org (zenodo.org)|188.185.124.72|:443... connected.\n",
            "HTTP request sent, awaiting response... 200 OK\n",
            "Length: 15058192 (14M) [text/plain]\n",
            "Saving to: ‘X_test.csv’\n",
            "\n",
            "X_test.csv          100%[===================>]  14.36M   305KB/s    in 30s     \n",
            "\n",
            "2023-08-17 13:11:43 (487 KB/s) - ‘X_test.csv’ saved [15058192/15058192]\n",
            "\n"
          ]
        }
      ]
    },
    {
      "cell_type": "code",
      "source": [
        "!wget https://zenodo.org/record/8232723/files/y_test.csv?download=1 -O y_test.csv"
      ],
      "metadata": {
        "id": "VLwG9TVtJJ3h",
        "colab": {
          "base_uri": "https://localhost:8080/"
        },
        "outputId": "7e5e0c6a-d0dc-464c-91a5-fd3681bf6a32"
      },
      "execution_count": null,
      "outputs": [
        {
          "output_type": "stream",
          "name": "stdout",
          "text": [
            "--2023-08-17 13:11:43--  https://zenodo.org/record/8232723/files/y_test.csv?download=1\n",
            "Resolving zenodo.org (zenodo.org)... 188.185.124.72\n",
            "Connecting to zenodo.org (zenodo.org)|188.185.124.72|:443... connected.\n",
            "HTTP request sent, awaiting response... 200 OK\n",
            "Length: 5425 (5.3K) [text/plain]\n",
            "Saving to: ‘y_test.csv’\n",
            "\n",
            "y_test.csv          100%[===================>]   5.30K  --.-KB/s    in 0s      \n",
            "\n",
            "2023-08-17 13:11:45 (3.28 GB/s) - ‘y_test.csv’ saved [5425/5425]\n",
            "\n"
          ]
        }
      ]
    },
    {
      "cell_type": "code",
      "source": [
        "!wget https://zenodo.org/record/8232723/files/y_train.csv?download=1 -O y_train.csv"
      ],
      "metadata": {
        "id": "U2nEOd68JKYe",
        "colab": {
          "base_uri": "https://localhost:8080/"
        },
        "outputId": "2c9a6747-f7c6-4ed2-9d98-285e7f24f955"
      },
      "execution_count": null,
      "outputs": [
        {
          "output_type": "stream",
          "name": "stdout",
          "text": [
            "--2023-08-17 13:11:45--  https://zenodo.org/record/8232723/files/y_train.csv?download=1\n",
            "Resolving zenodo.org (zenodo.org)... 188.185.124.72\n",
            "Connecting to zenodo.org (zenodo.org)|188.185.124.72|:443... connected.\n",
            "HTTP request sent, awaiting response... 200 OK\n",
            "Length: 16225 (16K) [text/plain]\n",
            "Saving to: ‘y_train.csv’\n",
            "\n",
            "y_train.csv         100%[===================>]  15.84K  --.-KB/s    in 0s      \n",
            "\n",
            "2023-08-17 13:11:55 (136 MB/s) - ‘y_train.csv’ saved [16225/16225]\n",
            "\n"
          ]
        }
      ]
    },
    {
      "cell_type": "code",
      "source": [
        "!wget https://zenodo.org/record/8232723/files/X_val.csv?download=1 -O X_val.csv"
      ],
      "metadata": {
        "id": "twIwvgdkJLDt",
        "colab": {
          "base_uri": "https://localhost:8080/"
        },
        "outputId": "5624c136-d18d-4f3c-e829-8c0c79a81856"
      },
      "execution_count": null,
      "outputs": [
        {
          "output_type": "stream",
          "name": "stdout",
          "text": [
            "--2023-08-17 13:11:55--  https://zenodo.org/record/8232723/files/X_val.csv?download=1\n",
            "Resolving zenodo.org (zenodo.org)... 188.185.124.72\n",
            "Connecting to zenodo.org (zenodo.org)|188.185.124.72|:443... connected.\n",
            "HTTP request sent, awaiting response... 200 OK\n",
            "Length: 14951235 (14M) [text/plain]\n",
            "Saving to: ‘X_val.csv’\n",
            "\n",
            "X_val.csv           100%[===================>]  14.26M   528KB/s    in 28s     \n",
            "\n",
            "2023-08-17 13:12:24 (527 KB/s) - ‘X_val.csv’ saved [14951235/14951235]\n",
            "\n"
          ]
        }
      ]
    },
    {
      "cell_type": "code",
      "source": [
        "!wget https://zenodo.org/record/8232723/files/y_val.csv?download=1 -O y_val.csv"
      ],
      "metadata": {
        "id": "VvYw0PlgJeJ9",
        "colab": {
          "base_uri": "https://localhost:8080/"
        },
        "outputId": "c037c4c2-b808-4cfa-8903-92999e11fa49"
      },
      "execution_count": null,
      "outputs": [
        {
          "output_type": "stream",
          "name": "stdout",
          "text": [
            "--2023-08-17 13:12:24--  https://zenodo.org/record/8232723/files/y_val.csv?download=1\n",
            "Resolving zenodo.org (zenodo.org)... 188.185.124.72\n",
            "Connecting to zenodo.org (zenodo.org)|188.185.124.72|:443... connected.\n",
            "HTTP request sent, awaiting response... 200 OK\n",
            "Length: 5400 (5.3K) [text/plain]\n",
            "Saving to: ‘y_val.csv’\n",
            "\n",
            "y_val.csv           100%[===================>]   5.27K  --.-KB/s    in 0s      \n",
            "\n",
            "2023-08-17 13:12:25 (2.51 GB/s) - ‘y_val.csv’ saved [5400/5400]\n",
            "\n"
          ]
        }
      ]
    },
    {
      "cell_type": "code",
      "source": [
        "!wget https://zenodo.org/record/8233085/files/edge_index.pt?download=1 -O edge_index.pt"
      ],
      "metadata": {
        "colab": {
          "base_uri": "https://localhost:8080/"
        },
        "id": "CC1DpVhgKvL6",
        "outputId": "f8328a7b-b548-4a98-97fa-259ec585acb9"
      },
      "execution_count": null,
      "outputs": [
        {
          "output_type": "stream",
          "name": "stdout",
          "text": [
            "--2023-08-17 13:12:25--  https://zenodo.org/record/8233085/files/edge_index.pt?download=1\n",
            "Resolving zenodo.org (zenodo.org)... 188.185.124.72\n",
            "Connecting to zenodo.org (zenodo.org)|188.185.124.72|:443... connected.\n",
            "HTTP request sent, awaiting response... 200 OK\n",
            "Length: 4349044 (4.1M) [application/octet-stream]\n",
            "Saving to: ‘edge_index.pt’\n",
            "\n",
            "edge_index.pt       100%[===================>]   4.15M   534KB/s    in 8.1s    \n",
            "\n",
            "2023-08-17 13:12:34 (521 KB/s) - ‘edge_index.pt’ saved [4349044/4349044]\n",
            "\n"
          ]
        }
      ]
    },
    {
      "cell_type": "code",
      "execution_count": null,
      "metadata": {
        "colab": {
          "base_uri": "https://localhost:8080/"
        },
        "id": "OE2xc7If0ZCT",
        "outputId": "7932bb33-3da9-429c-a9d9-aea07f8fe906"
      },
      "outputs": [
        {
          "output_type": "stream",
          "name": "stdout",
          "text": [
            "Requirement already satisfied: torch-geometric in /usr/local/lib/python3.10/dist-packages (2.3.1)\n",
            "Requirement already satisfied: tqdm in /usr/local/lib/python3.10/dist-packages (from torch-geometric) (4.66.1)\n",
            "Requirement already satisfied: numpy in /usr/local/lib/python3.10/dist-packages (from torch-geometric) (1.23.5)\n",
            "Requirement already satisfied: scipy in /usr/local/lib/python3.10/dist-packages (from torch-geometric) (1.10.1)\n",
            "Requirement already satisfied: jinja2 in /usr/local/lib/python3.10/dist-packages (from torch-geometric) (3.1.2)\n",
            "Requirement already satisfied: requests in /usr/local/lib/python3.10/dist-packages (from torch-geometric) (2.31.0)\n",
            "Requirement already satisfied: pyparsing in /usr/local/lib/python3.10/dist-packages (from torch-geometric) (3.1.1)\n",
            "Requirement already satisfied: scikit-learn in /usr/local/lib/python3.10/dist-packages (from torch-geometric) (1.2.2)\n",
            "Requirement already satisfied: psutil>=5.8.0 in /usr/local/lib/python3.10/dist-packages (from torch-geometric) (5.9.5)\n",
            "Requirement already satisfied: MarkupSafe>=2.0 in /usr/local/lib/python3.10/dist-packages (from jinja2->torch-geometric) (2.1.3)\n",
            "Requirement already satisfied: charset-normalizer<4,>=2 in /usr/local/lib/python3.10/dist-packages (from requests->torch-geometric) (3.2.0)\n",
            "Requirement already satisfied: idna<4,>=2.5 in /usr/local/lib/python3.10/dist-packages (from requests->torch-geometric) (3.4)\n",
            "Requirement already satisfied: urllib3<3,>=1.21.1 in /usr/local/lib/python3.10/dist-packages (from requests->torch-geometric) (2.0.4)\n",
            "Requirement already satisfied: certifi>=2017.4.17 in /usr/local/lib/python3.10/dist-packages (from requests->torch-geometric) (2023.7.22)\n",
            "Requirement already satisfied: joblib>=1.1.1 in /usr/local/lib/python3.10/dist-packages (from scikit-learn->torch-geometric) (1.3.2)\n",
            "Requirement already satisfied: threadpoolctl>=2.0.0 in /usr/local/lib/python3.10/dist-packages (from scikit-learn->torch-geometric) (3.2.0)\n"
          ]
        }
      ],
      "source": [
        "!pip install torch-geometric"
      ]
    },
    {
      "cell_type": "markdown",
      "metadata": {
        "id": "6T-0DTo_3DLk"
      },
      "source": [
        "# Importing Data and Libraries"
      ]
    },
    {
      "cell_type": "code",
      "execution_count": null,
      "metadata": {
        "id": "Wy1Dc5Z9vGE8"
      },
      "outputs": [],
      "source": [
        "import pandas as pd\n",
        "import numpy as np\n",
        "import torch\n",
        "from torch_geometric.data import Data\n",
        "from sklearn.model_selection import train_test_split\n",
        "import matplotlib.pyplot as plt"
      ]
    },
    {
      "cell_type": "code",
      "execution_count": null,
      "metadata": {
        "colab": {
          "base_uri": "https://localhost:8080/"
        },
        "id": "Agul4fnR13Wa",
        "outputId": "2ddb746e-2460-470e-ca70-888873006c75"
      },
      "outputs": [
        {
          "output_type": "stream",
          "name": "stdout",
          "text": [
            "Using device: cuda\n"
          ]
        }
      ],
      "source": [
        "device = torch.device('cuda' if torch.cuda.is_available() else 'cpu')\n",
        "print('Using device:', device)\n",
        "\n",
        "if device.type != 'cuda':\n",
        "    raise SystemError('GPU device not found')"
      ]
    },
    {
      "cell_type": "code",
      "source": [
        "X_train = pd.read_csv(\"X_train.csv\", index_col=0)\n",
        "y_train = np.loadtxt(\"y_train.csv\", delimiter=',')\n",
        "\n",
        "X_test = pd.read_csv(\"X_test.csv\", index_col=0)\n",
        "y_test = np.loadtxt(\"y_test.csv\", delimiter=',')\n",
        "\n",
        "X_val = pd.read_csv(\"X_val.csv\", index_col=0)\n",
        "y_val = np.loadtxt(\"y_val.csv\", delimiter=',')"
      ],
      "metadata": {
        "id": "-LYZy9ksSjI0"
      },
      "execution_count": null,
      "outputs": []
    },
    {
      "cell_type": "code",
      "source": [
        "edge_index = torch.load('edge_index.pt')"
      ],
      "metadata": {
        "id": "-4Tx9-cHVwHZ"
      },
      "execution_count": null,
      "outputs": []
    },
    {
      "cell_type": "code",
      "execution_count": null,
      "metadata": {
        "id": "_hSLO4ioijm1",
        "colab": {
          "base_uri": "https://localhost:8080/"
        },
        "outputId": "389d6413-8723-4621-c8a0-5e788ba694a7"
      },
      "outputs": [
        {
          "output_type": "execute_result",
          "data": {
            "text/plain": [
              "tensor([[   0,    0,    0,  ..., 9287, 9287, 9287],\n",
              "        [ 451,  452,  453,  ..., 3323, 3340, 3341]])"
            ]
          },
          "metadata": {},
          "execution_count": 13
        }
      ],
      "source": [
        "edge_index"
      ]
    },
    {
      "cell_type": "code",
      "execution_count": null,
      "metadata": {
        "id": "8AijMTwRaV2O",
        "colab": {
          "base_uri": "https://localhost:8080/"
        },
        "outputId": "b9cc0932-5806-403b-949d-212a676ef7a5"
      },
      "outputs": [
        {
          "output_type": "execute_result",
          "data": {
            "text/plain": [
              "torch.Size([2, 271771])"
            ]
          },
          "metadata": {},
          "execution_count": 14
        }
      ],
      "source": [
        "edge_index.shape"
      ]
    },
    {
      "cell_type": "code",
      "execution_count": null,
      "metadata": {
        "id": "2moOSXN89L_s",
        "colab": {
          "base_uri": "https://localhost:8080/"
        },
        "outputId": "7a488ec5-92ca-4730-fd72-9f99361cd03e"
      },
      "outputs": [
        {
          "output_type": "execute_result",
          "data": {
            "text/plain": [
              "((649, 9288), (217, 9288), (216, 9288))"
            ]
          },
          "metadata": {},
          "execution_count": 15
        }
      ],
      "source": [
        "X_train.shape, X_test.shape, X_val.shape"
      ]
    },
    {
      "cell_type": "code",
      "execution_count": null,
      "metadata": {
        "id": "gD5qBnVD9R3Z"
      },
      "outputs": [],
      "source": [
        "X_train = X_train.values\n",
        "X_test = X_test.values\n",
        "X_val = X_val.values"
      ]
    },
    {
      "cell_type": "markdown",
      "source": [
        "# Generating patient-specific graphs"
      ],
      "metadata": {
        "id": "1z7WbblxpLtR"
      }
    },
    {
      "cell_type": "code",
      "execution_count": null,
      "metadata": {
        "id": "IohJNJFPFqqs"
      },
      "outputs": [],
      "source": [
        "num_patients_train = X_train.shape[0]\n",
        "num_patients_test = X_test.shape[0]\n",
        "num_patients_val = X_val.shape[0]\n",
        "\n",
        "# Create patient-specific graphs for the training set\n",
        "graphs_train = []\n",
        "for i in range(num_patients_train):\n",
        "    node_features = X_train[i]  # Node features for the i-th patient\n",
        "    target = y_train[i]  # Target label for the i-th patient\n",
        "    graph_train = (node_features, edge_index, target)\n",
        "    graphs_train.append(graph_train)\n",
        "\n",
        "# Create patient-specific graphs for the test set\n",
        "graphs_test = []\n",
        "for i in range(num_patients_test):\n",
        "    node_features = X_test[i]  # Node features for the i-th patient\n",
        "    target = y_test[i]  # Target label for the i-th patient\n",
        "    graph_test = (node_features, edge_index, target)\n",
        "    graphs_test.append(graph_test)\n",
        "\n",
        "# Create patient-specific graphs for the test set\n",
        "graphs_val = []\n",
        "for i in range(num_patients_val):\n",
        "    node_features = X_val[i]  # Node features for the i-th patient\n",
        "    target = y_val[i]  # Target label for the i-th patient\n",
        "    graph_val = (node_features, edge_index, target)\n",
        "    graphs_val.append(graph_test)"
      ]
    },
    {
      "cell_type": "code",
      "execution_count": null,
      "metadata": {
        "id": "xGcmIHELMEdg",
        "colab": {
          "base_uri": "https://localhost:8080/"
        },
        "outputId": "d145a511-85b9-48b0-fa47-f68b3d1096fc"
      },
      "outputs": [
        {
          "output_type": "stream",
          "name": "stdout",
          "text": [
            "649\n",
            "217\n",
            "216\n"
          ]
        }
      ],
      "source": [
        "# Check the number of patient-specific graphs\n",
        "print(len(graphs_train))  # Should be 857\n",
        "print(len(graphs_test))  # Should be 217\n",
        "print(len(graphs_val))"
      ]
    },
    {
      "cell_type": "code",
      "execution_count": null,
      "metadata": {
        "id": "olPMTAImFxrJ",
        "colab": {
          "base_uri": "https://localhost:8080/"
        },
        "outputId": "904b8c93-05f9-4f9d-d54e-28b949e97f1b"
      },
      "outputs": [
        {
          "output_type": "stream",
          "name": "stdout",
          "text": [
            "[   0.     5798.37      8.6165 ...  415.824   931.957  1180.46  ]\n",
            "tensor([[   0,    0,    0,  ..., 9287, 9287, 9287],\n",
            "        [ 451,  452,  453,  ..., 3323, 3340, 3341]])\n",
            "133.0505967\n"
          ]
        }
      ],
      "source": [
        "# Access the patient-specific graph for a specific patient in the training set\n",
        "patient_index = 0 # Index of the patient\n",
        "node_features, edge_index, y = graphs_train[patient_index]\n",
        "print(node_features)  # Node features for the specific patient\n",
        "print(edge_index)  # Edge index for the specific patient\n",
        "print(y)"
      ]
    },
    {
      "cell_type": "code",
      "execution_count": null,
      "metadata": {
        "id": "w9CCMwQeGGUj",
        "colab": {
          "base_uri": "https://localhost:8080/"
        },
        "outputId": "77d3d9ed-25fe-42b8-aa61-7213b847f458"
      },
      "outputs": [
        {
          "output_type": "stream",
          "name": "stdout",
          "text": [
            "[0.00000e+00 2.87393e+04 9.46600e-01 ... 5.60854e+02 7.04274e+02\n",
            " 5.87369e+02]\n",
            "tensor([[   0,    0,    0,  ..., 9287, 9287, 9287],\n",
            "        [ 451,  452,  453,  ..., 3323, 3340, 3341]])\n"
          ]
        }
      ],
      "source": [
        "# Access the patient-specific graph for a specific patient in the training set\n",
        "patient_index = 15  # Index of the patient\n",
        "node_features, edge_index, y = graphs_test[patient_index]\n",
        "print(node_features)  # Node features for the specific patient\n",
        "print(edge_index)  # Edge index for the specific patient\n",
        "# print(y)"
      ]
    },
    {
      "cell_type": "code",
      "source": [
        "# Access the patient-specific graph for a specific patient in the training set\n",
        "patient_index = 15  # Index of the patient\n",
        "node_features, edge_index, y = graphs_val[patient_index]\n",
        "print(node_features)  # Node features for the specific patient\n",
        "print(edge_index)  # Edge index for the specific patient\n",
        "# print(y)"
      ],
      "metadata": {
        "id": "oqKycb9AYsG3",
        "outputId": "e0cf5065-8fd9-4146-deef-c73941cd85e7",
        "colab": {
          "base_uri": "https://localhost:8080/"
        }
      },
      "execution_count": null,
      "outputs": [
        {
          "output_type": "stream",
          "name": "stdout",
          "text": [
            "[   0.    7339.17     0.    ...  521.169 2435.84   462.114]\n",
            "tensor([[   0,    0,    0,  ..., 9287, 9287, 9287],\n",
            "        [ 451,  452,  453,  ..., 3323, 3340, 3341]])\n"
          ]
        }
      ]
    },
    {
      "cell_type": "markdown",
      "source": [
        "# Converting List of Graphs to Data Objects"
      ],
      "metadata": {
        "id": "73STw3hfpXYA"
      }
    },
    {
      "cell_type": "code",
      "execution_count": null,
      "metadata": {
        "id": "OQvmOmtabK95"
      },
      "outputs": [],
      "source": [
        "# Convert graphs_train to a list of Data objects\n",
        "data_train = [Data(x=torch.tensor(graph[0].reshape(len(graphs_train[0][0]), 1)), edge_index=graph[1], y=torch.tensor(graph[2])) for graph in graphs_train]\n",
        "\n",
        "# Convert graphs_test to a list of Data objects\n",
        "data_test = [Data(x=torch.tensor(graph[0].reshape(len(graphs_test[0][0]), 1)), edge_index=graph[1], y=torch.tensor(graph[2])) for graph in graphs_test]\n",
        "\n",
        "# Convert graphs_test to a list of Data objects\n",
        "data_val = [Data(x=torch.tensor(graph[0].reshape(len(graphs_val[0][0]), 1)), edge_index=graph[1], y=torch.tensor(graph[2])) for graph in graphs_val]"
      ]
    },
    {
      "cell_type": "code",
      "execution_count": null,
      "metadata": {
        "id": "M_AXY4EhirX7",
        "colab": {
          "base_uri": "https://localhost:8080/"
        },
        "outputId": "62d6af9e-5c74-4557-ee32-55b53199bda8"
      },
      "outputs": [
        {
          "output_type": "stream",
          "name": "stdout",
          "text": [
            "Data(x=[9288, 1], edge_index=[2, 271771], y=133.0505967)\n",
            "tensor([[   0.0000],\n",
            "        [5798.3700],\n",
            "        [   8.6165],\n",
            "        ...,\n",
            "        [ 415.8240],\n",
            "        [ 931.9570],\n",
            "        [1180.4600]], dtype=torch.float64)\n",
            "tensor([[   0,    0,    0,  ..., 9287, 9287, 9287],\n",
            "        [ 451,  452,  453,  ..., 3323, 3340, 3341]])\n",
            "tensor(133.0506, dtype=torch.float64)\n"
          ]
        }
      ],
      "source": [
        "# Access the attributes of a specific data object in the training set\n",
        "sample = data_train[0]  # Get the first data object\n",
        "print(sample)  # Print the data object\n",
        "\n",
        "# Access the node features, edge indices, and target label\n",
        "node_features = sample.x\n",
        "edge_index = sample.edge_index\n",
        "target = sample.y\n",
        "\n",
        "print(node_features)  # Print the node features\n",
        "print(edge_index)  # Print the edge indices\n",
        "print(target)  # Print the target label"
      ]
    },
    {
      "cell_type": "markdown",
      "source": [
        "# Creating Train, Test and Validation Batches"
      ],
      "metadata": {
        "id": "tHuhKYTmpqrY"
      }
    },
    {
      "cell_type": "code",
      "source": [
        "from torch_geometric.loader import DataLoader"
      ],
      "metadata": {
        "id": "mN5kObB2-n9n"
      },
      "execution_count": null,
      "outputs": []
    },
    {
      "cell_type": "code",
      "execution_count": null,
      "metadata": {
        "id": "0gZ-l0npPIca",
        "colab": {
          "base_uri": "https://localhost:8080/"
        },
        "outputId": "c620c3a7-7d16-4e8b-a3cb-269509dd9af4"
      },
      "outputs": [
        {
          "output_type": "stream",
          "name": "stdout",
          "text": [
            "Training Batches: \n",
            "Step 1:\n",
            "=======\n",
            "Number of graphs in the current batch: 8\n",
            "DataBatch(x=[74304, 1], edge_index=[2, 2174168], y=[8], batch=[74304], ptr=[9])\n",
            "\n",
            "Training Batches: \n",
            "Step 2:\n",
            "=======\n",
            "Number of graphs in the current batch: 8\n",
            "DataBatch(x=[74304, 1], edge_index=[2, 2174168], y=[8], batch=[74304], ptr=[9])\n",
            "\n",
            "Training Batches: \n",
            "Step 3:\n",
            "=======\n",
            "Number of graphs in the current batch: 8\n",
            "DataBatch(x=[74304, 1], edge_index=[2, 2174168], y=[8], batch=[74304], ptr=[9])\n",
            "\n",
            "Training Batches: \n",
            "Step 4:\n",
            "=======\n",
            "Number of graphs in the current batch: 8\n",
            "DataBatch(x=[74304, 1], edge_index=[2, 2174168], y=[8], batch=[74304], ptr=[9])\n",
            "\n",
            "Training Batches: \n",
            "Step 5:\n",
            "=======\n",
            "Number of graphs in the current batch: 8\n",
            "DataBatch(x=[74304, 1], edge_index=[2, 2174168], y=[8], batch=[74304], ptr=[9])\n",
            "\n",
            "Training Batches: \n",
            "Step 6:\n",
            "=======\n",
            "Number of graphs in the current batch: 8\n",
            "DataBatch(x=[74304, 1], edge_index=[2, 2174168], y=[8], batch=[74304], ptr=[9])\n",
            "\n",
            "Training Batches: \n",
            "Step 7:\n",
            "=======\n",
            "Number of graphs in the current batch: 8\n",
            "DataBatch(x=[74304, 1], edge_index=[2, 2174168], y=[8], batch=[74304], ptr=[9])\n",
            "\n",
            "Training Batches: \n",
            "Step 8:\n",
            "=======\n",
            "Number of graphs in the current batch: 8\n",
            "DataBatch(x=[74304, 1], edge_index=[2, 2174168], y=[8], batch=[74304], ptr=[9])\n",
            "\n",
            "Training Batches: \n",
            "Step 9:\n",
            "=======\n",
            "Number of graphs in the current batch: 8\n",
            "DataBatch(x=[74304, 1], edge_index=[2, 2174168], y=[8], batch=[74304], ptr=[9])\n",
            "\n",
            "Training Batches: \n",
            "Step 10:\n",
            "=======\n",
            "Number of graphs in the current batch: 8\n",
            "DataBatch(x=[74304, 1], edge_index=[2, 2174168], y=[8], batch=[74304], ptr=[9])\n",
            "\n",
            "Training Batches: \n",
            "Step 11:\n",
            "=======\n",
            "Number of graphs in the current batch: 8\n",
            "DataBatch(x=[74304, 1], edge_index=[2, 2174168], y=[8], batch=[74304], ptr=[9])\n",
            "\n",
            "Training Batches: \n",
            "Step 12:\n",
            "=======\n",
            "Number of graphs in the current batch: 8\n",
            "DataBatch(x=[74304, 1], edge_index=[2, 2174168], y=[8], batch=[74304], ptr=[9])\n",
            "\n",
            "Training Batches: \n",
            "Step 13:\n",
            "=======\n",
            "Number of graphs in the current batch: 8\n",
            "DataBatch(x=[74304, 1], edge_index=[2, 2174168], y=[8], batch=[74304], ptr=[9])\n",
            "\n",
            "Training Batches: \n",
            "Step 14:\n",
            "=======\n",
            "Number of graphs in the current batch: 8\n",
            "DataBatch(x=[74304, 1], edge_index=[2, 2174168], y=[8], batch=[74304], ptr=[9])\n",
            "\n",
            "Training Batches: \n",
            "Step 15:\n",
            "=======\n",
            "Number of graphs in the current batch: 8\n",
            "DataBatch(x=[74304, 1], edge_index=[2, 2174168], y=[8], batch=[74304], ptr=[9])\n",
            "\n",
            "Training Batches: \n",
            "Step 16:\n",
            "=======\n",
            "Number of graphs in the current batch: 8\n",
            "DataBatch(x=[74304, 1], edge_index=[2, 2174168], y=[8], batch=[74304], ptr=[9])\n",
            "\n",
            "Training Batches: \n",
            "Step 17:\n",
            "=======\n",
            "Number of graphs in the current batch: 8\n",
            "DataBatch(x=[74304, 1], edge_index=[2, 2174168], y=[8], batch=[74304], ptr=[9])\n",
            "\n",
            "Training Batches: \n",
            "Step 18:\n",
            "=======\n",
            "Number of graphs in the current batch: 8\n",
            "DataBatch(x=[74304, 1], edge_index=[2, 2174168], y=[8], batch=[74304], ptr=[9])\n",
            "\n",
            "Training Batches: \n",
            "Step 19:\n",
            "=======\n",
            "Number of graphs in the current batch: 8\n",
            "DataBatch(x=[74304, 1], edge_index=[2, 2174168], y=[8], batch=[74304], ptr=[9])\n",
            "\n",
            "Training Batches: \n",
            "Step 20:\n",
            "=======\n",
            "Number of graphs in the current batch: 8\n",
            "DataBatch(x=[74304, 1], edge_index=[2, 2174168], y=[8], batch=[74304], ptr=[9])\n",
            "\n",
            "Training Batches: \n",
            "Step 21:\n",
            "=======\n",
            "Number of graphs in the current batch: 8\n",
            "DataBatch(x=[74304, 1], edge_index=[2, 2174168], y=[8], batch=[74304], ptr=[9])\n",
            "\n",
            "Training Batches: \n",
            "Step 22:\n",
            "=======\n",
            "Number of graphs in the current batch: 8\n",
            "DataBatch(x=[74304, 1], edge_index=[2, 2174168], y=[8], batch=[74304], ptr=[9])\n",
            "\n",
            "Training Batches: \n",
            "Step 23:\n",
            "=======\n",
            "Number of graphs in the current batch: 8\n",
            "DataBatch(x=[74304, 1], edge_index=[2, 2174168], y=[8], batch=[74304], ptr=[9])\n",
            "\n",
            "Training Batches: \n",
            "Step 24:\n",
            "=======\n",
            "Number of graphs in the current batch: 8\n",
            "DataBatch(x=[74304, 1], edge_index=[2, 2174168], y=[8], batch=[74304], ptr=[9])\n",
            "\n",
            "Training Batches: \n",
            "Step 25:\n",
            "=======\n",
            "Number of graphs in the current batch: 8\n",
            "DataBatch(x=[74304, 1], edge_index=[2, 2174168], y=[8], batch=[74304], ptr=[9])\n",
            "\n",
            "Training Batches: \n",
            "Step 26:\n",
            "=======\n",
            "Number of graphs in the current batch: 8\n",
            "DataBatch(x=[74304, 1], edge_index=[2, 2174168], y=[8], batch=[74304], ptr=[9])\n",
            "\n",
            "Training Batches: \n",
            "Step 27:\n",
            "=======\n",
            "Number of graphs in the current batch: 8\n",
            "DataBatch(x=[74304, 1], edge_index=[2, 2174168], y=[8], batch=[74304], ptr=[9])\n",
            "\n",
            "Training Batches: \n",
            "Step 28:\n",
            "=======\n",
            "Number of graphs in the current batch: 8\n",
            "DataBatch(x=[74304, 1], edge_index=[2, 2174168], y=[8], batch=[74304], ptr=[9])\n",
            "\n",
            "Training Batches: \n",
            "Step 29:\n",
            "=======\n",
            "Number of graphs in the current batch: 8\n",
            "DataBatch(x=[74304, 1], edge_index=[2, 2174168], y=[8], batch=[74304], ptr=[9])\n",
            "\n",
            "Training Batches: \n",
            "Step 30:\n",
            "=======\n",
            "Number of graphs in the current batch: 8\n",
            "DataBatch(x=[74304, 1], edge_index=[2, 2174168], y=[8], batch=[74304], ptr=[9])\n",
            "\n",
            "Training Batches: \n",
            "Step 31:\n",
            "=======\n",
            "Number of graphs in the current batch: 8\n",
            "DataBatch(x=[74304, 1], edge_index=[2, 2174168], y=[8], batch=[74304], ptr=[9])\n",
            "\n",
            "Training Batches: \n",
            "Step 32:\n",
            "=======\n",
            "Number of graphs in the current batch: 8\n",
            "DataBatch(x=[74304, 1], edge_index=[2, 2174168], y=[8], batch=[74304], ptr=[9])\n",
            "\n",
            "Training Batches: \n",
            "Step 33:\n",
            "=======\n",
            "Number of graphs in the current batch: 8\n",
            "DataBatch(x=[74304, 1], edge_index=[2, 2174168], y=[8], batch=[74304], ptr=[9])\n",
            "\n",
            "Training Batches: \n",
            "Step 34:\n",
            "=======\n",
            "Number of graphs in the current batch: 8\n",
            "DataBatch(x=[74304, 1], edge_index=[2, 2174168], y=[8], batch=[74304], ptr=[9])\n",
            "\n",
            "Training Batches: \n",
            "Step 35:\n",
            "=======\n",
            "Number of graphs in the current batch: 8\n",
            "DataBatch(x=[74304, 1], edge_index=[2, 2174168], y=[8], batch=[74304], ptr=[9])\n",
            "\n",
            "Training Batches: \n",
            "Step 36:\n",
            "=======\n",
            "Number of graphs in the current batch: 8\n",
            "DataBatch(x=[74304, 1], edge_index=[2, 2174168], y=[8], batch=[74304], ptr=[9])\n",
            "\n",
            "Training Batches: \n",
            "Step 37:\n",
            "=======\n",
            "Number of graphs in the current batch: 8\n",
            "DataBatch(x=[74304, 1], edge_index=[2, 2174168], y=[8], batch=[74304], ptr=[9])\n",
            "\n",
            "Training Batches: \n",
            "Step 38:\n",
            "=======\n",
            "Number of graphs in the current batch: 8\n",
            "DataBatch(x=[74304, 1], edge_index=[2, 2174168], y=[8], batch=[74304], ptr=[9])\n",
            "\n",
            "Training Batches: \n",
            "Step 39:\n",
            "=======\n",
            "Number of graphs in the current batch: 8\n",
            "DataBatch(x=[74304, 1], edge_index=[2, 2174168], y=[8], batch=[74304], ptr=[9])\n",
            "\n",
            "Training Batches: \n",
            "Step 40:\n",
            "=======\n",
            "Number of graphs in the current batch: 8\n",
            "DataBatch(x=[74304, 1], edge_index=[2, 2174168], y=[8], batch=[74304], ptr=[9])\n",
            "\n",
            "Training Batches: \n",
            "Step 41:\n",
            "=======\n",
            "Number of graphs in the current batch: 8\n",
            "DataBatch(x=[74304, 1], edge_index=[2, 2174168], y=[8], batch=[74304], ptr=[9])\n",
            "\n",
            "Training Batches: \n",
            "Step 42:\n",
            "=======\n",
            "Number of graphs in the current batch: 8\n",
            "DataBatch(x=[74304, 1], edge_index=[2, 2174168], y=[8], batch=[74304], ptr=[9])\n",
            "\n",
            "Training Batches: \n",
            "Step 43:\n",
            "=======\n",
            "Number of graphs in the current batch: 8\n",
            "DataBatch(x=[74304, 1], edge_index=[2, 2174168], y=[8], batch=[74304], ptr=[9])\n",
            "\n",
            "Training Batches: \n",
            "Step 44:\n",
            "=======\n",
            "Number of graphs in the current batch: 8\n",
            "DataBatch(x=[74304, 1], edge_index=[2, 2174168], y=[8], batch=[74304], ptr=[9])\n",
            "\n",
            "Training Batches: \n",
            "Step 45:\n",
            "=======\n",
            "Number of graphs in the current batch: 8\n",
            "DataBatch(x=[74304, 1], edge_index=[2, 2174168], y=[8], batch=[74304], ptr=[9])\n",
            "\n",
            "Training Batches: \n",
            "Step 46:\n",
            "=======\n",
            "Number of graphs in the current batch: 8\n",
            "DataBatch(x=[74304, 1], edge_index=[2, 2174168], y=[8], batch=[74304], ptr=[9])\n",
            "\n",
            "Training Batches: \n",
            "Step 47:\n",
            "=======\n",
            "Number of graphs in the current batch: 8\n",
            "DataBatch(x=[74304, 1], edge_index=[2, 2174168], y=[8], batch=[74304], ptr=[9])\n",
            "\n",
            "Training Batches: \n",
            "Step 48:\n",
            "=======\n",
            "Number of graphs in the current batch: 8\n",
            "DataBatch(x=[74304, 1], edge_index=[2, 2174168], y=[8], batch=[74304], ptr=[9])\n",
            "\n",
            "Training Batches: \n",
            "Step 49:\n",
            "=======\n",
            "Number of graphs in the current batch: 8\n",
            "DataBatch(x=[74304, 1], edge_index=[2, 2174168], y=[8], batch=[74304], ptr=[9])\n",
            "\n",
            "Training Batches: \n",
            "Step 50:\n",
            "=======\n",
            "Number of graphs in the current batch: 8\n",
            "DataBatch(x=[74304, 1], edge_index=[2, 2174168], y=[8], batch=[74304], ptr=[9])\n",
            "\n",
            "Training Batches: \n",
            "Step 51:\n",
            "=======\n",
            "Number of graphs in the current batch: 8\n",
            "DataBatch(x=[74304, 1], edge_index=[2, 2174168], y=[8], batch=[74304], ptr=[9])\n",
            "\n",
            "Training Batches: \n",
            "Step 52:\n",
            "=======\n",
            "Number of graphs in the current batch: 8\n",
            "DataBatch(x=[74304, 1], edge_index=[2, 2174168], y=[8], batch=[74304], ptr=[9])\n",
            "\n",
            "Training Batches: \n",
            "Step 53:\n",
            "=======\n",
            "Number of graphs in the current batch: 8\n",
            "DataBatch(x=[74304, 1], edge_index=[2, 2174168], y=[8], batch=[74304], ptr=[9])\n",
            "\n",
            "Training Batches: \n",
            "Step 54:\n",
            "=======\n",
            "Number of graphs in the current batch: 8\n",
            "DataBatch(x=[74304, 1], edge_index=[2, 2174168], y=[8], batch=[74304], ptr=[9])\n",
            "\n",
            "Training Batches: \n",
            "Step 55:\n",
            "=======\n",
            "Number of graphs in the current batch: 8\n",
            "DataBatch(x=[74304, 1], edge_index=[2, 2174168], y=[8], batch=[74304], ptr=[9])\n",
            "\n",
            "Training Batches: \n",
            "Step 56:\n",
            "=======\n",
            "Number of graphs in the current batch: 8\n",
            "DataBatch(x=[74304, 1], edge_index=[2, 2174168], y=[8], batch=[74304], ptr=[9])\n",
            "\n",
            "Training Batches: \n",
            "Step 57:\n",
            "=======\n",
            "Number of graphs in the current batch: 8\n",
            "DataBatch(x=[74304, 1], edge_index=[2, 2174168], y=[8], batch=[74304], ptr=[9])\n",
            "\n",
            "Training Batches: \n",
            "Step 58:\n",
            "=======\n",
            "Number of graphs in the current batch: 8\n",
            "DataBatch(x=[74304, 1], edge_index=[2, 2174168], y=[8], batch=[74304], ptr=[9])\n",
            "\n",
            "Training Batches: \n",
            "Step 59:\n",
            "=======\n",
            "Number of graphs in the current batch: 8\n",
            "DataBatch(x=[74304, 1], edge_index=[2, 2174168], y=[8], batch=[74304], ptr=[9])\n",
            "\n",
            "Training Batches: \n",
            "Step 60:\n",
            "=======\n",
            "Number of graphs in the current batch: 8\n",
            "DataBatch(x=[74304, 1], edge_index=[2, 2174168], y=[8], batch=[74304], ptr=[9])\n",
            "\n",
            "Training Batches: \n",
            "Step 61:\n",
            "=======\n",
            "Number of graphs in the current batch: 8\n",
            "DataBatch(x=[74304, 1], edge_index=[2, 2174168], y=[8], batch=[74304], ptr=[9])\n",
            "\n",
            "Training Batches: \n",
            "Step 62:\n",
            "=======\n",
            "Number of graphs in the current batch: 8\n",
            "DataBatch(x=[74304, 1], edge_index=[2, 2174168], y=[8], batch=[74304], ptr=[9])\n",
            "\n",
            "Training Batches: \n",
            "Step 63:\n",
            "=======\n",
            "Number of graphs in the current batch: 8\n",
            "DataBatch(x=[74304, 1], edge_index=[2, 2174168], y=[8], batch=[74304], ptr=[9])\n",
            "\n",
            "Training Batches: \n",
            "Step 64:\n",
            "=======\n",
            "Number of graphs in the current batch: 8\n",
            "DataBatch(x=[74304, 1], edge_index=[2, 2174168], y=[8], batch=[74304], ptr=[9])\n",
            "\n",
            "Training Batches: \n",
            "Step 65:\n",
            "=======\n",
            "Number of graphs in the current batch: 8\n",
            "DataBatch(x=[74304, 1], edge_index=[2, 2174168], y=[8], batch=[74304], ptr=[9])\n",
            "\n",
            "Training Batches: \n",
            "Step 66:\n",
            "=======\n",
            "Number of graphs in the current batch: 8\n",
            "DataBatch(x=[74304, 1], edge_index=[2, 2174168], y=[8], batch=[74304], ptr=[9])\n",
            "\n",
            "Training Batches: \n",
            "Step 67:\n",
            "=======\n",
            "Number of graphs in the current batch: 8\n",
            "DataBatch(x=[74304, 1], edge_index=[2, 2174168], y=[8], batch=[74304], ptr=[9])\n",
            "\n",
            "Training Batches: \n",
            "Step 68:\n",
            "=======\n",
            "Number of graphs in the current batch: 8\n",
            "DataBatch(x=[74304, 1], edge_index=[2, 2174168], y=[8], batch=[74304], ptr=[9])\n",
            "\n",
            "Training Batches: \n",
            "Step 69:\n",
            "=======\n",
            "Number of graphs in the current batch: 8\n",
            "DataBatch(x=[74304, 1], edge_index=[2, 2174168], y=[8], batch=[74304], ptr=[9])\n",
            "\n",
            "Training Batches: \n",
            "Step 70:\n",
            "=======\n",
            "Number of graphs in the current batch: 8\n",
            "DataBatch(x=[74304, 1], edge_index=[2, 2174168], y=[8], batch=[74304], ptr=[9])\n",
            "\n",
            "Training Batches: \n",
            "Step 71:\n",
            "=======\n",
            "Number of graphs in the current batch: 8\n",
            "DataBatch(x=[74304, 1], edge_index=[2, 2174168], y=[8], batch=[74304], ptr=[9])\n",
            "\n",
            "Training Batches: \n",
            "Step 72:\n",
            "=======\n",
            "Number of graphs in the current batch: 8\n",
            "DataBatch(x=[74304, 1], edge_index=[2, 2174168], y=[8], batch=[74304], ptr=[9])\n",
            "\n",
            "Training Batches: \n",
            "Step 73:\n",
            "=======\n",
            "Number of graphs in the current batch: 8\n",
            "DataBatch(x=[74304, 1], edge_index=[2, 2174168], y=[8], batch=[74304], ptr=[9])\n",
            "\n",
            "Training Batches: \n",
            "Step 74:\n",
            "=======\n",
            "Number of graphs in the current batch: 8\n",
            "DataBatch(x=[74304, 1], edge_index=[2, 2174168], y=[8], batch=[74304], ptr=[9])\n",
            "\n",
            "Training Batches: \n",
            "Step 75:\n",
            "=======\n",
            "Number of graphs in the current batch: 8\n",
            "DataBatch(x=[74304, 1], edge_index=[2, 2174168], y=[8], batch=[74304], ptr=[9])\n",
            "\n",
            "Training Batches: \n",
            "Step 76:\n",
            "=======\n",
            "Number of graphs in the current batch: 8\n",
            "DataBatch(x=[74304, 1], edge_index=[2, 2174168], y=[8], batch=[74304], ptr=[9])\n",
            "\n",
            "Training Batches: \n",
            "Step 77:\n",
            "=======\n",
            "Number of graphs in the current batch: 8\n",
            "DataBatch(x=[74304, 1], edge_index=[2, 2174168], y=[8], batch=[74304], ptr=[9])\n",
            "\n",
            "Training Batches: \n",
            "Step 78:\n",
            "=======\n",
            "Number of graphs in the current batch: 8\n",
            "DataBatch(x=[74304, 1], edge_index=[2, 2174168], y=[8], batch=[74304], ptr=[9])\n",
            "\n",
            "Training Batches: \n",
            "Step 79:\n",
            "=======\n",
            "Number of graphs in the current batch: 8\n",
            "DataBatch(x=[74304, 1], edge_index=[2, 2174168], y=[8], batch=[74304], ptr=[9])\n",
            "\n",
            "Training Batches: \n",
            "Step 80:\n",
            "=======\n",
            "Number of graphs in the current batch: 8\n",
            "DataBatch(x=[74304, 1], edge_index=[2, 2174168], y=[8], batch=[74304], ptr=[9])\n",
            "\n",
            "Training Batches: \n",
            "Step 81:\n",
            "=======\n",
            "Number of graphs in the current batch: 8\n",
            "DataBatch(x=[74304, 1], edge_index=[2, 2174168], y=[8], batch=[74304], ptr=[9])\n",
            "\n",
            "Training Batches: \n",
            "Step 82:\n",
            "=======\n",
            "Number of graphs in the current batch: 1\n",
            "DataBatch(x=[9288, 1], edge_index=[2, 271771], y=[1], batch=[9288], ptr=[2])\n",
            "\n"
          ]
        }
      ],
      "source": [
        "bs = 8\n",
        "train_loader = DataLoader(data_train, batch_size=bs, shuffle=True)\n",
        "test_loader = DataLoader(data_test, batch_size=bs, shuffle=False)\n",
        "val_loader = DataLoader(data_val, batch_size=bs, shuffle=True)\n",
        "\n",
        "for step, data in enumerate(train_loader):\n",
        "    data = data.to(device)  # Move the batch of data to the device\n",
        "\n",
        "    print('Training Batches: ')\n",
        "    print(f'Step {step + 1}:')\n",
        "    print('=======')\n",
        "    print(f'Number of graphs in the current batch: {data.num_graphs}')\n",
        "    print(data)\n",
        "    print()"
      ]
    },
    {
      "cell_type": "code",
      "execution_count": null,
      "metadata": {
        "id": "pqWv0wYqk22X",
        "colab": {
          "base_uri": "https://localhost:8080/"
        },
        "outputId": "0a4d9022-e975-43a1-9310-c1e21b8143ef"
      },
      "outputs": [
        {
          "output_type": "stream",
          "name": "stdout",
          "text": [
            "Test Batches: \n",
            "Step 1:\n",
            "=======\n",
            "Number of graphs in the current batch: 8\n",
            "DataBatch(x=[74304, 1], edge_index=[2, 2174168], y=[8], batch=[74304], ptr=[9])\n",
            "\n",
            "Test Batches: \n",
            "Step 2:\n",
            "=======\n",
            "Number of graphs in the current batch: 8\n",
            "DataBatch(x=[74304, 1], edge_index=[2, 2174168], y=[8], batch=[74304], ptr=[9])\n",
            "\n",
            "Test Batches: \n",
            "Step 3:\n",
            "=======\n",
            "Number of graphs in the current batch: 8\n",
            "DataBatch(x=[74304, 1], edge_index=[2, 2174168], y=[8], batch=[74304], ptr=[9])\n",
            "\n",
            "Test Batches: \n",
            "Step 4:\n",
            "=======\n",
            "Number of graphs in the current batch: 8\n",
            "DataBatch(x=[74304, 1], edge_index=[2, 2174168], y=[8], batch=[74304], ptr=[9])\n",
            "\n",
            "Test Batches: \n",
            "Step 5:\n",
            "=======\n",
            "Number of graphs in the current batch: 8\n",
            "DataBatch(x=[74304, 1], edge_index=[2, 2174168], y=[8], batch=[74304], ptr=[9])\n",
            "\n",
            "Test Batches: \n",
            "Step 6:\n",
            "=======\n",
            "Number of graphs in the current batch: 8\n",
            "DataBatch(x=[74304, 1], edge_index=[2, 2174168], y=[8], batch=[74304], ptr=[9])\n",
            "\n",
            "Test Batches: \n",
            "Step 7:\n",
            "=======\n",
            "Number of graphs in the current batch: 8\n",
            "DataBatch(x=[74304, 1], edge_index=[2, 2174168], y=[8], batch=[74304], ptr=[9])\n",
            "\n",
            "Test Batches: \n",
            "Step 8:\n",
            "=======\n",
            "Number of graphs in the current batch: 8\n",
            "DataBatch(x=[74304, 1], edge_index=[2, 2174168], y=[8], batch=[74304], ptr=[9])\n",
            "\n",
            "Test Batches: \n",
            "Step 9:\n",
            "=======\n",
            "Number of graphs in the current batch: 8\n",
            "DataBatch(x=[74304, 1], edge_index=[2, 2174168], y=[8], batch=[74304], ptr=[9])\n",
            "\n",
            "Test Batches: \n",
            "Step 10:\n",
            "=======\n",
            "Number of graphs in the current batch: 8\n",
            "DataBatch(x=[74304, 1], edge_index=[2, 2174168], y=[8], batch=[74304], ptr=[9])\n",
            "\n",
            "Test Batches: \n",
            "Step 11:\n",
            "=======\n",
            "Number of graphs in the current batch: 8\n",
            "DataBatch(x=[74304, 1], edge_index=[2, 2174168], y=[8], batch=[74304], ptr=[9])\n",
            "\n",
            "Test Batches: \n",
            "Step 12:\n",
            "=======\n",
            "Number of graphs in the current batch: 8\n",
            "DataBatch(x=[74304, 1], edge_index=[2, 2174168], y=[8], batch=[74304], ptr=[9])\n",
            "\n",
            "Test Batches: \n",
            "Step 13:\n",
            "=======\n",
            "Number of graphs in the current batch: 8\n",
            "DataBatch(x=[74304, 1], edge_index=[2, 2174168], y=[8], batch=[74304], ptr=[9])\n",
            "\n",
            "Test Batches: \n",
            "Step 14:\n",
            "=======\n",
            "Number of graphs in the current batch: 8\n",
            "DataBatch(x=[74304, 1], edge_index=[2, 2174168], y=[8], batch=[74304], ptr=[9])\n",
            "\n",
            "Test Batches: \n",
            "Step 15:\n",
            "=======\n",
            "Number of graphs in the current batch: 8\n",
            "DataBatch(x=[74304, 1], edge_index=[2, 2174168], y=[8], batch=[74304], ptr=[9])\n",
            "\n",
            "Test Batches: \n",
            "Step 16:\n",
            "=======\n",
            "Number of graphs in the current batch: 8\n",
            "DataBatch(x=[74304, 1], edge_index=[2, 2174168], y=[8], batch=[74304], ptr=[9])\n",
            "\n",
            "Test Batches: \n",
            "Step 17:\n",
            "=======\n",
            "Number of graphs in the current batch: 8\n",
            "DataBatch(x=[74304, 1], edge_index=[2, 2174168], y=[8], batch=[74304], ptr=[9])\n",
            "\n",
            "Test Batches: \n",
            "Step 18:\n",
            "=======\n",
            "Number of graphs in the current batch: 8\n",
            "DataBatch(x=[74304, 1], edge_index=[2, 2174168], y=[8], batch=[74304], ptr=[9])\n",
            "\n",
            "Test Batches: \n",
            "Step 19:\n",
            "=======\n",
            "Number of graphs in the current batch: 8\n",
            "DataBatch(x=[74304, 1], edge_index=[2, 2174168], y=[8], batch=[74304], ptr=[9])\n",
            "\n",
            "Test Batches: \n",
            "Step 20:\n",
            "=======\n",
            "Number of graphs in the current batch: 8\n",
            "DataBatch(x=[74304, 1], edge_index=[2, 2174168], y=[8], batch=[74304], ptr=[9])\n",
            "\n",
            "Test Batches: \n",
            "Step 21:\n",
            "=======\n",
            "Number of graphs in the current batch: 8\n",
            "DataBatch(x=[74304, 1], edge_index=[2, 2174168], y=[8], batch=[74304], ptr=[9])\n",
            "\n",
            "Test Batches: \n",
            "Step 22:\n",
            "=======\n",
            "Number of graphs in the current batch: 8\n",
            "DataBatch(x=[74304, 1], edge_index=[2, 2174168], y=[8], batch=[74304], ptr=[9])\n",
            "\n",
            "Test Batches: \n",
            "Step 23:\n",
            "=======\n",
            "Number of graphs in the current batch: 8\n",
            "DataBatch(x=[74304, 1], edge_index=[2, 2174168], y=[8], batch=[74304], ptr=[9])\n",
            "\n",
            "Test Batches: \n",
            "Step 24:\n",
            "=======\n",
            "Number of graphs in the current batch: 8\n",
            "DataBatch(x=[74304, 1], edge_index=[2, 2174168], y=[8], batch=[74304], ptr=[9])\n",
            "\n",
            "Test Batches: \n",
            "Step 25:\n",
            "=======\n",
            "Number of graphs in the current batch: 8\n",
            "DataBatch(x=[74304, 1], edge_index=[2, 2174168], y=[8], batch=[74304], ptr=[9])\n",
            "\n",
            "Test Batches: \n",
            "Step 26:\n",
            "=======\n",
            "Number of graphs in the current batch: 8\n",
            "DataBatch(x=[74304, 1], edge_index=[2, 2174168], y=[8], batch=[74304], ptr=[9])\n",
            "\n",
            "Test Batches: \n",
            "Step 27:\n",
            "=======\n",
            "Number of graphs in the current batch: 8\n",
            "DataBatch(x=[74304, 1], edge_index=[2, 2174168], y=[8], batch=[74304], ptr=[9])\n",
            "\n",
            "Test Batches: \n",
            "Step 28:\n",
            "=======\n",
            "Number of graphs in the current batch: 1\n",
            "DataBatch(x=[9288, 1], edge_index=[2, 271771], y=[1], batch=[9288], ptr=[2])\n",
            "\n"
          ]
        }
      ],
      "source": [
        "for step, data in enumerate(test_loader):\n",
        "    data = data.to(device)\n",
        "    print('Test Batches: ')\n",
        "    print(f'Step {step + 1}:')\n",
        "    print('=======')\n",
        "    print(f'Number of graphs in the current batch: {data.num_graphs}')\n",
        "    print(data)\n",
        "    print()"
      ]
    },
    {
      "cell_type": "code",
      "source": [
        "for step, data in enumerate(val_loader):\n",
        "    data = data.to(device)\n",
        "    print('Val Batches: ')\n",
        "    print(f'Step {step + 1}:')\n",
        "    print('=======')\n",
        "    print(f'Number of graphs in the current batch: {data.num_graphs}')\n",
        "    print(data)\n",
        "    print()"
      ],
      "metadata": {
        "id": "ULvEVyV9Zo1B",
        "outputId": "117b4182-73da-4e55-ab55-57d742765838",
        "colab": {
          "base_uri": "https://localhost:8080/"
        }
      },
      "execution_count": null,
      "outputs": [
        {
          "output_type": "stream",
          "name": "stdout",
          "text": [
            "Val Batches: \n",
            "Step 1:\n",
            "=======\n",
            "Number of graphs in the current batch: 8\n",
            "DataBatch(x=[74304, 1], edge_index=[2, 2174168], y=[8], batch=[74304], ptr=[9])\n",
            "\n",
            "Val Batches: \n",
            "Step 2:\n",
            "=======\n",
            "Number of graphs in the current batch: 8\n",
            "DataBatch(x=[74304, 1], edge_index=[2, 2174168], y=[8], batch=[74304], ptr=[9])\n",
            "\n",
            "Val Batches: \n",
            "Step 3:\n",
            "=======\n",
            "Number of graphs in the current batch: 8\n",
            "DataBatch(x=[74304, 1], edge_index=[2, 2174168], y=[8], batch=[74304], ptr=[9])\n",
            "\n",
            "Val Batches: \n",
            "Step 4:\n",
            "=======\n",
            "Number of graphs in the current batch: 8\n",
            "DataBatch(x=[74304, 1], edge_index=[2, 2174168], y=[8], batch=[74304], ptr=[9])\n",
            "\n",
            "Val Batches: \n",
            "Step 5:\n",
            "=======\n",
            "Number of graphs in the current batch: 8\n",
            "DataBatch(x=[74304, 1], edge_index=[2, 2174168], y=[8], batch=[74304], ptr=[9])\n",
            "\n",
            "Val Batches: \n",
            "Step 6:\n",
            "=======\n",
            "Number of graphs in the current batch: 8\n",
            "DataBatch(x=[74304, 1], edge_index=[2, 2174168], y=[8], batch=[74304], ptr=[9])\n",
            "\n",
            "Val Batches: \n",
            "Step 7:\n",
            "=======\n",
            "Number of graphs in the current batch: 8\n",
            "DataBatch(x=[74304, 1], edge_index=[2, 2174168], y=[8], batch=[74304], ptr=[9])\n",
            "\n",
            "Val Batches: \n",
            "Step 8:\n",
            "=======\n",
            "Number of graphs in the current batch: 8\n",
            "DataBatch(x=[74304, 1], edge_index=[2, 2174168], y=[8], batch=[74304], ptr=[9])\n",
            "\n",
            "Val Batches: \n",
            "Step 9:\n",
            "=======\n",
            "Number of graphs in the current batch: 8\n",
            "DataBatch(x=[74304, 1], edge_index=[2, 2174168], y=[8], batch=[74304], ptr=[9])\n",
            "\n",
            "Val Batches: \n",
            "Step 10:\n",
            "=======\n",
            "Number of graphs in the current batch: 8\n",
            "DataBatch(x=[74304, 1], edge_index=[2, 2174168], y=[8], batch=[74304], ptr=[9])\n",
            "\n",
            "Val Batches: \n",
            "Step 11:\n",
            "=======\n",
            "Number of graphs in the current batch: 8\n",
            "DataBatch(x=[74304, 1], edge_index=[2, 2174168], y=[8], batch=[74304], ptr=[9])\n",
            "\n",
            "Val Batches: \n",
            "Step 12:\n",
            "=======\n",
            "Number of graphs in the current batch: 8\n",
            "DataBatch(x=[74304, 1], edge_index=[2, 2174168], y=[8], batch=[74304], ptr=[9])\n",
            "\n",
            "Val Batches: \n",
            "Step 13:\n",
            "=======\n",
            "Number of graphs in the current batch: 8\n",
            "DataBatch(x=[74304, 1], edge_index=[2, 2174168], y=[8], batch=[74304], ptr=[9])\n",
            "\n",
            "Val Batches: \n",
            "Step 14:\n",
            "=======\n",
            "Number of graphs in the current batch: 8\n",
            "DataBatch(x=[74304, 1], edge_index=[2, 2174168], y=[8], batch=[74304], ptr=[9])\n",
            "\n",
            "Val Batches: \n",
            "Step 15:\n",
            "=======\n",
            "Number of graphs in the current batch: 8\n",
            "DataBatch(x=[74304, 1], edge_index=[2, 2174168], y=[8], batch=[74304], ptr=[9])\n",
            "\n",
            "Val Batches: \n",
            "Step 16:\n",
            "=======\n",
            "Number of graphs in the current batch: 8\n",
            "DataBatch(x=[74304, 1], edge_index=[2, 2174168], y=[8], batch=[74304], ptr=[9])\n",
            "\n",
            "Val Batches: \n",
            "Step 17:\n",
            "=======\n",
            "Number of graphs in the current batch: 8\n",
            "DataBatch(x=[74304, 1], edge_index=[2, 2174168], y=[8], batch=[74304], ptr=[9])\n",
            "\n",
            "Val Batches: \n",
            "Step 18:\n",
            "=======\n",
            "Number of graphs in the current batch: 8\n",
            "DataBatch(x=[74304, 1], edge_index=[2, 2174168], y=[8], batch=[74304], ptr=[9])\n",
            "\n",
            "Val Batches: \n",
            "Step 19:\n",
            "=======\n",
            "Number of graphs in the current batch: 8\n",
            "DataBatch(x=[74304, 1], edge_index=[2, 2174168], y=[8], batch=[74304], ptr=[9])\n",
            "\n",
            "Val Batches: \n",
            "Step 20:\n",
            "=======\n",
            "Number of graphs in the current batch: 8\n",
            "DataBatch(x=[74304, 1], edge_index=[2, 2174168], y=[8], batch=[74304], ptr=[9])\n",
            "\n",
            "Val Batches: \n",
            "Step 21:\n",
            "=======\n",
            "Number of graphs in the current batch: 8\n",
            "DataBatch(x=[74304, 1], edge_index=[2, 2174168], y=[8], batch=[74304], ptr=[9])\n",
            "\n",
            "Val Batches: \n",
            "Step 22:\n",
            "=======\n",
            "Number of graphs in the current batch: 8\n",
            "DataBatch(x=[74304, 1], edge_index=[2, 2174168], y=[8], batch=[74304], ptr=[9])\n",
            "\n",
            "Val Batches: \n",
            "Step 23:\n",
            "=======\n",
            "Number of graphs in the current batch: 8\n",
            "DataBatch(x=[74304, 1], edge_index=[2, 2174168], y=[8], batch=[74304], ptr=[9])\n",
            "\n",
            "Val Batches: \n",
            "Step 24:\n",
            "=======\n",
            "Number of graphs in the current batch: 8\n",
            "DataBatch(x=[74304, 1], edge_index=[2, 2174168], y=[8], batch=[74304], ptr=[9])\n",
            "\n",
            "Val Batches: \n",
            "Step 25:\n",
            "=======\n",
            "Number of graphs in the current batch: 8\n",
            "DataBatch(x=[74304, 1], edge_index=[2, 2174168], y=[8], batch=[74304], ptr=[9])\n",
            "\n",
            "Val Batches: \n",
            "Step 26:\n",
            "=======\n",
            "Number of graphs in the current batch: 8\n",
            "DataBatch(x=[74304, 1], edge_index=[2, 2174168], y=[8], batch=[74304], ptr=[9])\n",
            "\n",
            "Val Batches: \n",
            "Step 27:\n",
            "=======\n",
            "Number of graphs in the current batch: 8\n",
            "DataBatch(x=[74304, 1], edge_index=[2, 2174168], y=[8], batch=[74304], ptr=[9])\n",
            "\n"
          ]
        }
      ]
    },
    {
      "cell_type": "markdown",
      "source": [
        "# Model Building and Evaluation"
      ],
      "metadata": {
        "id": "UzfC0CY_qGWw"
      }
    },
    {
      "cell_type": "code",
      "execution_count": null,
      "metadata": {
        "id": "0PQNhtuosLl3"
      },
      "outputs": [],
      "source": [
        "import torch_geometric\n",
        "from torch.nn import Linear, Module, Dropout, MSELoss, CrossEntropyLoss, BatchNorm1d\n",
        "import torch.nn.functional as F\n",
        "from torch_geometric.nn import GCNConv, GATConv, GraphNorm\n",
        "from torch_geometric.nn import global_mean_pool\n",
        "\n",
        "from torch.nn.functional import relu, sigmoid\n",
        "# from torch_sparse import SparseTensor"
      ]
    },
    {
      "cell_type": "code",
      "execution_count": null,
      "metadata": {
        "id": "HtR7piktlpI8"
      },
      "outputs": [],
      "source": [
        "class GCN(torch.nn.Module):\n",
        "    def __init__(self, hidden_channels, num_node_features):\n",
        "        super(GCN, self).__init__()\n",
        "        torch.manual_seed(12345)\n",
        "        self.conv1 = GCNConv(num_node_features, hidden_channels)\n",
        "        self.conv2 = GCNConv(hidden_channels, hidden_channels)\n",
        "        self.conv3 = GCNConv(hidden_channels, hidden_channels)\n",
        "        self.conv4 = GCNConv(hidden_channels, hidden_channels)\n",
        "        self.lin = Linear(hidden_channels, 1)  # Regression output with 1 dimension\n",
        "\n",
        "    def forward(self, x, edge_index, batch):\n",
        "        # 1. Obtain node embeddings\n",
        "        x = self.conv1(x, edge_index)\n",
        "        x = x.relu()\n",
        "        # x = F.dropout(x, p=0.2, training=self.training)\n",
        "        x = self.conv2(x, edge_index)\n",
        "        x = x.relu()\n",
        "        # F.dropout(x, p=0.2, training=self.training)\n",
        "        x = self.conv3(x, edge_index)\n",
        "        x = self.conv4(x, edge_index)\n",
        "\n",
        "        # 2. Readout layer\n",
        "        x = global_mean_pool(x, batch)  # [batch_size, hidden_channels]\n",
        "\n",
        "        # 3. Apply a final regression layer\n",
        "        x = F.dropout(x, p=0.2, training=self.training)\n",
        "        x = self.lin(x)\n",
        "\n",
        "        return x.squeeze()  # Remove the extra dimension"
      ]
    },
    {
      "cell_type": "code",
      "source": [
        "import time"
      ],
      "metadata": {
        "id": "lJgdv5ErhoQM"
      },
      "execution_count": null,
      "outputs": []
    },
    {
      "cell_type": "code",
      "source": [
        "start_time = time.time()\n",
        "\n",
        "model = GCN(hidden_channels=64, num_node_features=1)\n",
        "criterion = torch.nn.MSELoss()\n",
        "optimizer = torch.optim.Adam(model.parameters(), lr=0.0001)\n",
        "\n",
        "model = model.to(device)  # Move the model to CUDA device\n",
        "criterion = criterion.to(device)  # Move the criterion to CUDA device\n",
        "\n",
        "model.double()  # Convert the model's parameters to Double type\n",
        "\n",
        "num_epochs = 101  # Specify the number of epochs\n",
        "\n",
        "\n",
        "# Initialize lists to store training and validation losses\n",
        "train_losses = []\n",
        "val_losses = []\n",
        "\n",
        "for epoch in range(num_epochs):\n",
        "    model.train()  # Set the model to train mode\n",
        "    total_loss = 0\n",
        "\n",
        "    for step, data in enumerate(train_loader):\n",
        "        data = data.to(device)  # Move the batch of data to CUDA device\n",
        "\n",
        "        optimizer.zero_grad()\n",
        "\n",
        "        out = model(data.x.double(), data.edge_index, data.batch)\n",
        "        loss = criterion(out, data.y.view(-1).double())\n",
        "        loss.backward()\n",
        "        optimizer.step()\n",
        "\n",
        "        total_loss += loss.item()\n",
        "\n",
        "    # average_loss = total_loss / (step + 1)\n",
        "    average_loss = total_loss / len(train_loader)\n",
        "    train_losses.append(average_loss)\n",
        "\n",
        "    # Evaluate on the validation set\n",
        "    model.eval()\n",
        "    with torch.no_grad():\n",
        "        val_loss = 0\n",
        "        for data in val_loader:\n",
        "            data = data.to(device)\n",
        "            out = model(data.x.double(), data.edge_index, data.batch)\n",
        "            loss = criterion(out, data.y.view(-1).double())\n",
        "            val_loss += loss.item()\n",
        "\n",
        "        average_val_loss = val_loss / len(val_loader)\n",
        "        val_losses.append(average_val_loss)\n",
        "\n",
        "        print(f'Epoch: {epoch:03d}, Train loss: {average_loss:.4f}, Validation Loss: {average_val_loss:.4f}')\n",
        "\n",
        "# Calculate the elapsed time\n",
        "elapsed_time = time.time() - start_time\n",
        "\n",
        "print(f\"Time used for training: {elapsed_time:.2f} seconds\")"
      ],
      "metadata": {
        "colab": {
          "base_uri": "https://localhost:8080/"
        },
        "id": "3Hw_1xpj_lSF",
        "outputId": "82ed93c1-1ce4-4593-c606-d6115304a0f6"
      },
      "execution_count": null,
      "outputs": [
        {
          "output_type": "stream",
          "name": "stdout",
          "text": [
            "Epoch: 000, Train loss: 10132.6370, Validation Loss: 4025.5869\n",
            "Epoch: 001, Train loss: 5770.7315, Validation Loss: 3646.5534\n",
            "Epoch: 002, Train loss: 5181.3856, Validation Loss: 2451.2463\n",
            "Epoch: 003, Train loss: 4012.0951, Validation Loss: 3061.8195\n",
            "Epoch: 004, Train loss: 3636.3772, Validation Loss: 3405.7166\n",
            "Epoch: 005, Train loss: 3204.7383, Validation Loss: 3695.5665\n",
            "Epoch: 006, Train loss: 3019.1480, Validation Loss: 3965.9711\n",
            "Epoch: 007, Train loss: 2938.4869, Validation Loss: 3509.5998\n",
            "Epoch: 008, Train loss: 2564.9824, Validation Loss: 2749.6864\n",
            "Epoch: 009, Train loss: 2639.6444, Validation Loss: 4262.8099\n",
            "Epoch: 010, Train loss: 2378.8293, Validation Loss: 3074.2873\n",
            "Epoch: 011, Train loss: 2526.8721, Validation Loss: 3675.9624\n",
            "Epoch: 012, Train loss: 2384.6189, Validation Loss: 4438.9961\n",
            "Epoch: 013, Train loss: 2464.6361, Validation Loss: 3444.3356\n",
            "Epoch: 014, Train loss: 2434.5143, Validation Loss: 3103.3803\n",
            "Epoch: 015, Train loss: 2317.5653, Validation Loss: 4100.2050\n",
            "Epoch: 016, Train loss: 2224.3885, Validation Loss: 2499.1052\n",
            "Epoch: 017, Train loss: 2336.4465, Validation Loss: 4044.3826\n",
            "Epoch: 018, Train loss: 2281.8488, Validation Loss: 3637.2033\n",
            "Epoch: 019, Train loss: 2261.2234, Validation Loss: 4415.6330\n",
            "Epoch: 020, Train loss: 2252.7518, Validation Loss: 3021.1411\n",
            "Epoch: 021, Train loss: 2195.9726, Validation Loss: 3726.1035\n",
            "Epoch: 022, Train loss: 2205.1414, Validation Loss: 3518.5043\n",
            "Epoch: 023, Train loss: 2259.0900, Validation Loss: 3204.0487\n",
            "Epoch: 024, Train loss: 2181.4785, Validation Loss: 3635.5232\n",
            "Epoch: 025, Train loss: 2214.9610, Validation Loss: 3684.1029\n",
            "Epoch: 026, Train loss: 2178.5171, Validation Loss: 4729.3309\n",
            "Epoch: 027, Train loss: 2225.1057, Validation Loss: 3010.4051\n",
            "Epoch: 028, Train loss: 2169.5636, Validation Loss: 2508.1180\n",
            "Epoch: 029, Train loss: 2181.9750, Validation Loss: 3413.7206\n",
            "Epoch: 030, Train loss: 2199.7762, Validation Loss: 3544.0646\n",
            "Epoch: 031, Train loss: 2232.4896, Validation Loss: 2158.4464\n",
            "Epoch: 032, Train loss: 2271.8228, Validation Loss: 2780.0472\n",
            "Epoch: 033, Train loss: 2227.6436, Validation Loss: 3951.4502\n",
            "Epoch: 034, Train loss: 2196.3515, Validation Loss: 3761.0847\n",
            "Epoch: 035, Train loss: 2174.8040, Validation Loss: 4970.3875\n",
            "Epoch: 036, Train loss: 2182.7089, Validation Loss: 2480.6455\n",
            "Epoch: 037, Train loss: 2180.9390, Validation Loss: 4842.2632\n",
            "Epoch: 038, Train loss: 2205.2552, Validation Loss: 3518.6450\n",
            "Epoch: 039, Train loss: 2135.0135, Validation Loss: 2775.6337\n",
            "Epoch: 040, Train loss: 2193.9262, Validation Loss: 2128.0739\n",
            "Epoch: 041, Train loss: 2263.0212, Validation Loss: 3200.3387\n",
            "Epoch: 042, Train loss: 2128.4975, Validation Loss: 3873.5248\n",
            "Epoch: 043, Train loss: 2134.9203, Validation Loss: 2494.4755\n",
            "Epoch: 044, Train loss: 2121.6025, Validation Loss: 3730.4571\n",
            "Epoch: 045, Train loss: 2138.2866, Validation Loss: 3241.4276\n",
            "Epoch: 046, Train loss: 2151.1583, Validation Loss: 2849.1710\n",
            "Epoch: 047, Train loss: 2117.7344, Validation Loss: 2947.4504\n",
            "Epoch: 048, Train loss: 2144.9263, Validation Loss: 3600.2226\n",
            "Epoch: 049, Train loss: 2201.0525, Validation Loss: 2516.2067\n",
            "Epoch: 050, Train loss: 2142.0422, Validation Loss: 3147.4408\n",
            "Epoch: 051, Train loss: 2118.6970, Validation Loss: 3323.4638\n",
            "Epoch: 052, Train loss: 2096.0885, Validation Loss: 3925.8794\n",
            "Epoch: 053, Train loss: 2126.1810, Validation Loss: 3366.4543\n",
            "Epoch: 054, Train loss: 2102.8735, Validation Loss: 4226.4871\n",
            "Epoch: 055, Train loss: 2121.0880, Validation Loss: 4252.3119\n",
            "Epoch: 056, Train loss: 2164.3981, Validation Loss: 3623.3698\n",
            "Epoch: 057, Train loss: 2161.2132, Validation Loss: 3797.4169\n",
            "Epoch: 058, Train loss: 2221.3745, Validation Loss: 3243.9051\n",
            "Epoch: 059, Train loss: 2130.6175, Validation Loss: 3116.2944\n",
            "Epoch: 060, Train loss: 2105.3914, Validation Loss: 3197.5538\n",
            "Epoch: 061, Train loss: 2160.3814, Validation Loss: 3041.6443\n",
            "Epoch: 062, Train loss: 2139.6945, Validation Loss: 3635.6360\n",
            "Epoch: 063, Train loss: 2125.2974, Validation Loss: 3113.8472\n",
            "Epoch: 064, Train loss: 2131.9068, Validation Loss: 4234.8387\n",
            "Epoch: 065, Train loss: 2177.0178, Validation Loss: 3294.7834\n",
            "Epoch: 066, Train loss: 2053.9844, Validation Loss: 4720.4419\n",
            "Epoch: 067, Train loss: 2137.9709, Validation Loss: 3644.6021\n",
            "Epoch: 068, Train loss: 2149.8673, Validation Loss: 3749.7290\n",
            "Epoch: 069, Train loss: 2115.5471, Validation Loss: 3755.7775\n",
            "Epoch: 070, Train loss: 2082.2655, Validation Loss: 3778.2714\n",
            "Epoch: 071, Train loss: 2154.0371, Validation Loss: 3551.6967\n",
            "Epoch: 072, Train loss: 2134.3027, Validation Loss: 2983.6012\n",
            "Epoch: 073, Train loss: 2149.0942, Validation Loss: 4368.1980\n",
            "Epoch: 074, Train loss: 2144.3292, Validation Loss: 3252.7353\n",
            "Epoch: 075, Train loss: 2063.6877, Validation Loss: 4077.6326\n",
            "Epoch: 076, Train loss: 2125.0794, Validation Loss: 3382.1500\n",
            "Epoch: 077, Train loss: 2180.4024, Validation Loss: 3731.5966\n",
            "Epoch: 078, Train loss: 2145.5000, Validation Loss: 3519.2267\n",
            "Epoch: 079, Train loss: 2170.1941, Validation Loss: 5074.3734\n",
            "Epoch: 080, Train loss: 2182.8817, Validation Loss: 3436.6622\n",
            "Epoch: 081, Train loss: 2068.4954, Validation Loss: 3332.4777\n",
            "Epoch: 082, Train loss: 2132.8923, Validation Loss: 3707.8328\n",
            "Epoch: 083, Train loss: 2124.0648, Validation Loss: 3366.8505\n",
            "Epoch: 084, Train loss: 2157.2545, Validation Loss: 4060.1223\n",
            "Epoch: 085, Train loss: 2167.0881, Validation Loss: 2936.6657\n",
            "Epoch: 086, Train loss: 2102.0747, Validation Loss: 3927.7350\n",
            "Epoch: 087, Train loss: 2110.9088, Validation Loss: 4155.0426\n",
            "Epoch: 088, Train loss: 2094.7380, Validation Loss: 3326.0696\n",
            "Epoch: 089, Train loss: 2107.3179, Validation Loss: 1864.5181\n",
            "Epoch: 090, Train loss: 2244.6842, Validation Loss: 3826.1844\n",
            "Epoch: 091, Train loss: 2125.2509, Validation Loss: 4190.4808\n",
            "Epoch: 092, Train loss: 2138.0523, Validation Loss: 3904.1389\n",
            "Epoch: 093, Train loss: 2197.8973, Validation Loss: 3149.8370\n",
            "Epoch: 094, Train loss: 2128.0973, Validation Loss: 3206.3975\n",
            "Epoch: 095, Train loss: 2090.8393, Validation Loss: 4478.9270\n",
            "Epoch: 096, Train loss: 2121.5891, Validation Loss: 3133.2888\n",
            "Epoch: 097, Train loss: 2127.5464, Validation Loss: 3186.1548\n",
            "Epoch: 098, Train loss: 2166.3746, Validation Loss: 3253.1897\n",
            "Epoch: 099, Train loss: 2183.8949, Validation Loss: 3310.0948\n",
            "Epoch: 100, Train loss: 2200.3594, Validation Loss: 3554.3719\n",
            "Time used for training: 2721.55 seconds\n"
          ]
        }
      ]
    },
    {
      "cell_type": "code",
      "execution_count": null,
      "metadata": {
        "id": "QmpOy-Hxcsv1",
        "colab": {
          "base_uri": "https://localhost:8080/"
        },
        "outputId": "6f9b0811-7f28-4548-9f7f-5edbc2057c24"
      },
      "outputs": [
        {
          "output_type": "stream",
          "name": "stdout",
          "text": [
            "[43.55725092 44.08028075 38.91240359 49.6856782  57.11545471 49.2488646\n",
            " 46.26797878 69.44459431 40.08783161 47.09477596]\n"
          ]
        }
      ],
      "source": [
        "model.eval()  # Set the model to evaluation mode\n",
        "\n",
        "predictions = []  # List to store the predicted outputs\n",
        "test_losses = []\n",
        "with torch.no_grad():\n",
        "    test_loss = 0\n",
        "    for data in test_loader:\n",
        "        data = data.to(device)  # Move the batch of data to CUDA device\n",
        "        out = model(data.x.double(), data.edge_index, data.batch)\n",
        "        loss = criterion(out, data.y.view(-1).double())\n",
        "        test_loss += loss.item()\n",
        "\n",
        "        average_test_loss = test_loss / len(test_loader)\n",
        "        test_losses.append(average_val_loss)\n",
        "\n",
        "        predictions.append(out.cpu().detach().numpy())  # Convert the predictions to NumPy array\n",
        "\n",
        "# Concatenate the predictions from multiple batches\n",
        "predictions = np.concatenate(predictions)\n",
        "\n",
        "# Print the predictions\n",
        "print(predictions[:10])"
      ]
    },
    {
      "cell_type": "markdown",
      "source": [
        "## Making Predictions and calculating MSE"
      ],
      "metadata": {
        "id": "ObqZIaWayz4-"
      }
    },
    {
      "cell_type": "code",
      "execution_count": null,
      "metadata": {
        "id": "2vJhDwz5oX3Z",
        "colab": {
          "base_uri": "https://localhost:8080/"
        },
        "outputId": "c58cdd49-ffb8-439b-d3d4-d5b70b7a199d"
      },
      "outputs": [
        {
          "output_type": "stream",
          "name": "stdout",
          "text": [
            "Mean Squared Error (MSE) Loss: 957.8370\n"
          ]
        }
      ],
      "source": [
        "# Convert the test data batches to a list of Data objects\n",
        "test_data_batches = [\n",
        "    Data(x=batch.x, edge_index=batch.edge_index, y=batch.y) for batch in test_loader\n",
        "]\n",
        "\n",
        "# Convert the predictions to PyTorch tensors\n",
        "predictions = torch.tensor(predictions)\n",
        "\n",
        "# Convert the ground truth labels of the test data to a PyTorch tensor\n",
        "y_true = torch.cat([batch.y for batch in test_data_batches])\n",
        "\n",
        "# Calculate the mean squared error (MSE) loss using PyTorch's function\n",
        "mse_loss = torch.nn.functional.mse_loss(predictions.view(-1), y_true.view(-1))\n",
        "\n",
        "print(f\"Mean Squared Error (MSE) Loss: {mse_loss:.4f}\")"
      ]
    },
    {
      "cell_type": "markdown",
      "source": [
        "## Plotting the convergence of the model"
      ],
      "metadata": {
        "id": "TL88mb4mzO5g"
      }
    },
    {
      "cell_type": "code",
      "source": [
        "# Visualize convergence results\n",
        "plt.figure()\n",
        "plt.plot(range(1, num_epochs + 1), train_losses, label='Training Loss')\n",
        "plt.plot(range(1, num_epochs + 1), val_losses, label='Validation Loss')\n",
        "plt.xlabel('Epoch')\n",
        "plt.ylabel('Loss')\n",
        "plt.legend()\n",
        "plt.title('Convergence of Model')\n",
        "plt.show()"
      ],
      "metadata": {
        "id": "bAZdyMDfiFzo",
        "colab": {
          "base_uri": "https://localhost:8080/",
          "height": 472
        },
        "outputId": "c01dd374-23d6-4cff-9483-1f998bd0fc2c"
      },
      "execution_count": null,
      "outputs": [
        {
          "output_type": "display_data",
          "data": {
            "text/plain": [
              "<Figure size 640x480 with 1 Axes>"
            ],
            "image/png": "[encoded data removed]"
          },
          "metadata": {}
        }
      ]
    },
    {
      "cell_type": "code",
      "source": [],
      "metadata": {
        "id": "bUbuzHbzlhBw"
      },
      "execution_count": null,
      "outputs": []
    }
  ],
  "metadata": {
    "accelerator": "GPU",
    "colab": {
      "provenance": [],
      "gpuType": "T4",
      "toc_visible": true,
      "include_colab_link": true
    },
    "kernelspec": {
      "display_name": "Python 3",
      "name": "python3"
    },
    "language_info": {
      "name": "python"
    }
  },
  "nbformat": 4,
  "nbformat_minor": 0
}