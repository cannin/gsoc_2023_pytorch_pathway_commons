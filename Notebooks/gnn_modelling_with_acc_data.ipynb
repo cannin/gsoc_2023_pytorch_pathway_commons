{
  "cells": [
    {
      "cell_type": "markdown",
      "metadata": {
        "id": "view-in-github",
        "colab_type": "text"
      },
      "source": [
        "<a href=\"https://colab.research.google.com/github/cannin/gsoc_2023_pytorch_pathway_commons/blob/main/Notebooks/gnn_modelling_with_acc_data.ipynb\" target=\"_parent\"><img src=\"https://colab.research.google.com/assets/colab-badge.svg\" alt=\"Open In Colab\"/></a>"
      ]
    },
    {
      "cell_type": "code",
      "execution_count": null,
      "metadata": {
        "id": "OE2xc7If0ZCT",
        "colab": {
          "base_uri": "https://localhost:8080/"
        },
        "outputId": "fa3bcb9e-df65-40ac-d9f2-aa60655f3dec"
      },
      "outputs": [
        {
          "output_type": "stream",
          "name": "stdout",
          "text": [
            "Collecting torch-geometric\n",
            "  Downloading torch_geometric-2.3.1.tar.gz (661 kB)\n",
            "\u001b[2K     \u001b[90m━━━━━━━━━━━━━━━━━━━━━━━━━━━━━━━━━━━━━━━\u001b[0m \u001b[32m661.6/661.6 kB\u001b[0m \u001b[31m4.8 MB/s\u001b[0m eta \u001b[36m0:00:00\u001b[0m\n",
            "\u001b[?25h  Installing build dependencies ... \u001b[?25l\u001b[?25hdone\n",
            "  Getting requirements to build wheel ... \u001b[?25l\u001b[?25hdone\n",
            "  Preparing metadata (pyproject.toml) ... \u001b[?25l\u001b[?25hdone\n",
            "Requirement already satisfied: tqdm in /usr/local/lib/python3.10/dist-packages (from torch-geometric) (4.66.1)\n",
            "Requirement already satisfied: numpy in /usr/local/lib/python3.10/dist-packages (from torch-geometric) (1.23.5)\n",
            "Requirement already satisfied: scipy in /usr/local/lib/python3.10/dist-packages (from torch-geometric) (1.10.1)\n",
            "Requirement already satisfied: jinja2 in /usr/local/lib/python3.10/dist-packages (from torch-geometric) (3.1.2)\n",
            "Requirement already satisfied: requests in /usr/local/lib/python3.10/dist-packages (from torch-geometric) (2.31.0)\n",
            "Requirement already satisfied: pyparsing in /usr/local/lib/python3.10/dist-packages (from torch-geometric) (3.1.1)\n",
            "Requirement already satisfied: scikit-learn in /usr/local/lib/python3.10/dist-packages (from torch-geometric) (1.2.2)\n",
            "Requirement already satisfied: psutil>=5.8.0 in /usr/local/lib/python3.10/dist-packages (from torch-geometric) (5.9.5)\n",
            "Requirement already satisfied: MarkupSafe>=2.0 in /usr/local/lib/python3.10/dist-packages (from jinja2->torch-geometric) (2.1.3)\n",
            "Requirement already satisfied: charset-normalizer<4,>=2 in /usr/local/lib/python3.10/dist-packages (from requests->torch-geometric) (3.2.0)\n",
            "Requirement already satisfied: idna<4,>=2.5 in /usr/local/lib/python3.10/dist-packages (from requests->torch-geometric) (3.4)\n",
            "Requirement already satisfied: urllib3<3,>=1.21.1 in /usr/local/lib/python3.10/dist-packages (from requests->torch-geometric) (2.0.4)\n",
            "Requirement already satisfied: certifi>=2017.4.17 in /usr/local/lib/python3.10/dist-packages (from requests->torch-geometric) (2023.7.22)\n",
            "Requirement already satisfied: joblib>=1.1.1 in /usr/local/lib/python3.10/dist-packages (from scikit-learn->torch-geometric) (1.3.2)\n",
            "Requirement already satisfied: threadpoolctl>=2.0.0 in /usr/local/lib/python3.10/dist-packages (from scikit-learn->torch-geometric) (3.2.0)\n",
            "Building wheels for collected packages: torch-geometric\n",
            "  Building wheel for torch-geometric (pyproject.toml) ... \u001b[?25l\u001b[?25hdone\n",
            "  Created wheel for torch-geometric: filename=torch_geometric-2.3.1-py3-none-any.whl size=910454 sha256=52d8b5a6f54728a5960461084b1acd3c94db7700adf0135aba0fdf09d5de5536\n",
            "  Stored in directory: /root/.cache/pip/wheels/ac/dc/30/e2874821ff308ee67dcd7a66dbde912411e19e35a1addda028\n",
            "Successfully built torch-geometric\n",
            "Installing collected packages: torch-geometric\n",
            "Successfully installed torch-geometric-2.3.1\n"
          ]
        }
      ],
      "source": [
        "!pip install torch-geometric"
      ]
    },
    {
      "cell_type": "markdown",
      "metadata": {
        "id": "6T-0DTo_3DLk"
      },
      "source": [
        "# Importing Data and Libraries"
      ]
    },
    {
      "cell_type": "code",
      "execution_count": null,
      "metadata": {
        "id": "Wy1Dc5Z9vGE8"
      },
      "outputs": [],
      "source": [
        "import pandas as pd\n",
        "import numpy as np\n",
        "import torch\n",
        "from torch_geometric.data import Data\n",
        "from sklearn.model_selection import train_test_split"
      ]
    },
    {
      "cell_type": "code",
      "execution_count": null,
      "metadata": {
        "id": "Agul4fnR13Wa"
      },
      "outputs": [],
      "source": [
        "# device = torch.device('cuda' if torch.cuda.is_available() else 'cpu')\n",
        "# print('Using device:', device)\n",
        "\n",
        "# if device.type != 'cuda':\n",
        "#     raise SystemError('GPU device not found')"
      ]
    },
    {
      "cell_type": "code",
      "source": [
        "!wget https://zenodo.org/record/8286179/files/train_set.zip?download=1 -O train_set.zip"
      ],
      "metadata": {
        "colab": {
          "base_uri": "https://localhost:8080/"
        },
        "id": "py1cgVxyAOlV",
        "outputId": "7e4f0f55-f734-4efb-fb34-c8cada2a997d"
      },
      "execution_count": null,
      "outputs": [
        {
          "output_type": "stream",
          "name": "stdout",
          "text": [
            "--2023-08-28 11:59:17--  https://zenodo.org/record/8286179/files/train_set.zip?download=1\n",
            "Resolving zenodo.org (zenodo.org)... 188.185.124.72\n",
            "Connecting to zenodo.org (zenodo.org)|188.185.124.72|:443... connected.\n",
            "HTTP request sent, awaiting response... 200 OK\n",
            "Length: 1492010 (1.4M) [application/octet-stream]\n",
            "Saving to: ‘train_set.zip’\n",
            "\n",
            "train_set.zip       100%[===================>]   1.42M   526KB/s    in 2.8s    \n",
            "\n",
            "2023-08-28 11:59:21 (526 KB/s) - ‘train_set.zip’ saved [1492010/1492010]\n",
            "\n"
          ]
        }
      ]
    },
    {
      "cell_type": "code",
      "source": [
        "!wget https://zenodo.org/record/8286179/files/test_set.zip?download=1 -O test_set.zip"
      ],
      "metadata": {
        "colab": {
          "base_uri": "https://localhost:8080/"
        },
        "id": "hDIrs8GoAX94",
        "outputId": "69dff534-1c1f-4e14-b1a2-5b3db00ff2fe"
      },
      "execution_count": null,
      "outputs": [
        {
          "output_type": "stream",
          "name": "stdout",
          "text": [
            "--2023-08-28 11:59:22--  https://zenodo.org/record/8286179/files/test_set.zip?download=1\n",
            "Resolving zenodo.org (zenodo.org)... 188.185.124.72\n",
            "Connecting to zenodo.org (zenodo.org)|188.185.124.72|:443... connected.\n",
            "HTTP request sent, awaiting response... 200 OK\n",
            "Length: 780091 (762K) [application/octet-stream]\n",
            "Saving to: ‘test_set.zip’\n",
            "\n",
            "test_set.zip        100%[===================>] 761.81K   528KB/s    in 1.4s    \n",
            "\n",
            "2023-08-28 11:59:25 (528 KB/s) - ‘test_set.zip’ saved [780091/780091]\n",
            "\n"
          ]
        }
      ]
    },
    {
      "cell_type": "code",
      "source": [
        "!unzip /content/test_set.zip"
      ],
      "metadata": {
        "colab": {
          "base_uri": "https://localhost:8080/"
        },
        "id": "w9QmRnBJAY9m",
        "outputId": "534480b0-30ab-40e9-da5b-bfca5c5b07c4"
      },
      "execution_count": null,
      "outputs": [
        {
          "output_type": "stream",
          "name": "stdout",
          "text": [
            "Archive:  /content/test_set.zip\n",
            "   creating: test_set/\n",
            "  inflating: test_set/edge_index.pt  \n",
            "  inflating: test_set/X_test.csv     \n",
            "  inflating: test_set/y_test.csv     \n"
          ]
        }
      ]
    },
    {
      "cell_type": "code",
      "source": [
        "!unzip /content/train_set.zip"
      ],
      "metadata": {
        "colab": {
          "base_uri": "https://localhost:8080/"
        },
        "id": "tkfGxOcWAe3j",
        "outputId": "b876efed-8b68-4a0f-8f2d-35c422f83643"
      },
      "execution_count": null,
      "outputs": [
        {
          "output_type": "stream",
          "name": "stdout",
          "text": [
            "Archive:  /content/train_set.zip\n",
            "   creating: train_set/\n",
            "  inflating: train_set/edge_index.pt  \n",
            "  inflating: train_set/X_train.csv   \n",
            "  inflating: train_set/y_train.csv   \n"
          ]
        }
      ]
    },
    {
      "cell_type": "code",
      "source": [
        "X_train = pd.read_csv(\"train_set/X_train.csv\", index_col=0)\n",
        "y_train = np.loadtxt(\"train_set/y_train.csv\", delimiter=',')\n",
        "X_test = pd.read_csv(\"test_set/X_test.csv\", index_col=0)\n",
        "y_test = np.loadtxt(\"test_set/y_test.csv\", delimiter=',')"
      ],
      "metadata": {
        "id": "jhtEISk8q_mN"
      },
      "execution_count": null,
      "outputs": []
    },
    {
      "cell_type": "code",
      "source": [
        "edge_index = torch.load('train_set/edge_index.pt')"
      ],
      "metadata": {
        "id": "r87yfLu6rY2j"
      },
      "execution_count": null,
      "outputs": []
    },
    {
      "cell_type": "code",
      "source": [
        "edge_index"
      ],
      "metadata": {
        "colab": {
          "base_uri": "https://localhost:8080/"
        },
        "id": "3GUiy7zYrl82",
        "outputId": "d71a58f2-5d7f-46fc-b8a9-5e8fc9ce5609"
      },
      "execution_count": null,
      "outputs": [
        {
          "output_type": "execute_result",
          "data": {
            "text/plain": [
              "tensor([[   0,    0,    0,  ..., 9287, 9287, 9287],\n",
              "        [ 451,  452,  453,  ..., 3323, 3340, 3341]])"
            ]
          },
          "metadata": {},
          "execution_count": 23
        }
      ]
    },
    {
      "cell_type": "code",
      "execution_count": null,
      "metadata": {
        "colab": {
          "base_uri": "https://localhost:8080/"
        },
        "id": "2moOSXN89L_s",
        "outputId": "1aebfa59-d229-4310-8e63-5508676d1de1"
      },
      "outputs": [
        {
          "output_type": "execute_result",
          "data": {
            "text/plain": [
              "((54, 9288), (24, 9288))"
            ]
          },
          "metadata": {},
          "execution_count": 24
        }
      ],
      "source": [
        "X_train.shape, X_test.shape"
      ]
    },
    {
      "cell_type": "code",
      "execution_count": null,
      "metadata": {
        "id": "gD5qBnVD9R3Z"
      },
      "outputs": [],
      "source": [
        "X_train = X_train.values\n",
        "X_test = X_test.values"
      ]
    },
    {
      "cell_type": "markdown",
      "source": [
        "# Generating patient-specific graphs"
      ],
      "metadata": {
        "id": "1z7WbblxpLtR"
      }
    },
    {
      "cell_type": "code",
      "execution_count": null,
      "metadata": {
        "id": "IohJNJFPFqqs"
      },
      "outputs": [],
      "source": [
        "num_patients_train = X_train.shape[0]\n",
        "num_patients_test = X_test.shape[0]\n",
        "\n",
        "# Create patient-specific graphs for the training set\n",
        "graphs_train = []\n",
        "for i in range(num_patients_train):\n",
        "    node_features = X_train[i]  # Node features for the i-th patient\n",
        "    target = y_train[i]  # Target label for the i-th patient\n",
        "    graph_train = (node_features, edge_index, target)\n",
        "    graphs_train.append(graph_train)\n",
        "\n",
        "# Create patient-specific graphs for the test set\n",
        "graphs_test = []\n",
        "for i in range(num_patients_test):\n",
        "    node_features = X_test[i]  # Node features for the i-th patient\n",
        "    target = y_test[i]  # Target label for the i-th patient\n",
        "    graph_test = (node_features, edge_index, target)\n",
        "    graphs_test.append(graph_test)"
      ]
    },
    {
      "cell_type": "code",
      "execution_count": null,
      "metadata": {
        "colab": {
          "base_uri": "https://localhost:8080/"
        },
        "id": "xGcmIHELMEdg",
        "outputId": "7116b145-891c-4e0e-996b-c06effa4badf"
      },
      "outputs": [
        {
          "output_type": "stream",
          "name": "stdout",
          "text": [
            "54\n",
            "24\n"
          ]
        }
      ],
      "source": [
        "# Check the number of patient-specific graphs\n",
        "print(len(graphs_train))  # Should be 62\n",
        "print(len(graphs_test))  # Should be 16"
      ]
    },
    {
      "cell_type": "code",
      "execution_count": null,
      "metadata": {
        "colab": {
          "base_uri": "https://localhost:8080/"
        },
        "id": "olPMTAImFxrJ",
        "outputId": "83720e8d-5083-42c0-9710-3a9573ece8bf"
      },
      "outputs": [
        {
          "output_type": "stream",
          "name": "stdout",
          "text": [
            "[    0.    10373.7       0.    ...   183.958   146.974   596.062]\n",
            "tensor([[   0,    0,    0,  ..., 9287, 9287, 9287],\n",
            "        [ 451,  452,  453,  ..., 3323, 3340, 3341]])\n",
            "44.54745701\n"
          ]
        }
      ],
      "source": [
        "# Access the patient-specific graph for a specific patient in the training set\n",
        "patient_index = 0 # Index of the patient\n",
        "node_features, edge_index, y = graphs_train[patient_index]\n",
        "print(node_features)  # Node features for the specific patient\n",
        "print(edge_index)  # Edge index for the specific patient\n",
        "print(y)"
      ]
    },
    {
      "cell_type": "code",
      "execution_count": null,
      "metadata": {
        "colab": {
          "base_uri": "https://localhost:8080/"
        },
        "id": "w9CCMwQeGGUj",
        "outputId": "9ce81ad7-5f5e-466c-8344-ae7f17885f9f"
      },
      "outputs": [
        {
          "output_type": "stream",
          "name": "stdout",
          "text": [
            "[   0.    4777.5      0.    ...  136.202  594.274  496.019]\n",
            "tensor([[   0,    0,    0,  ..., 9287, 9287, 9287],\n",
            "        [ 451,  452,  453,  ..., 3323, 3340, 3341]])\n",
            "36.03248184\n"
          ]
        }
      ],
      "source": [
        "# Access the patient-specific graph for a specific patient in the training set\n",
        "patient_index = 15  # Index of the patient\n",
        "node_features, edge_index, y = graphs_test[patient_index]\n",
        "print(node_features)  # Node features for the specific patient\n",
        "print(edge_index)  # Edge index for the specific patient\n",
        "print(y)"
      ]
    },
    {
      "cell_type": "markdown",
      "source": [
        "# Converting List of Graphs to Data Objects"
      ],
      "metadata": {
        "id": "73STw3hfpXYA"
      }
    },
    {
      "cell_type": "code",
      "execution_count": null,
      "metadata": {
        "id": "OQvmOmtabK95"
      },
      "outputs": [],
      "source": [
        "# Convert graphs_train to a list of Data objects\n",
        "data_train = [Data(x=torch.tensor(graph[0].reshape(len(graphs_train[0][0]), 1)), edge_index=graph[1], y=torch.tensor(graph[2])) for graph in graphs_train]\n",
        "\n",
        "# Convert graphs_test to a list of Data objects\n",
        "data_test = [Data(x=torch.tensor(graph[0].reshape(len(graphs_test[0][0]), 1)), edge_index=graph[1], y=torch.tensor(graph[2])) for graph in graphs_test]"
      ]
    },
    {
      "cell_type": "code",
      "execution_count": null,
      "metadata": {
        "colab": {
          "base_uri": "https://localhost:8080/"
        },
        "id": "8ZeTylyJgjtK",
        "outputId": "43caa2f4-1399-441f-e353-49ba78307e44"
      },
      "outputs": [
        {
          "output_type": "execute_result",
          "data": {
            "text/plain": [
              "array([    0.   , 10373.7  ,     0.   , ...,   183.958,   146.974,\n",
              "         596.062])"
            ]
          },
          "metadata": {},
          "execution_count": 31
        }
      ],
      "source": [
        "graphs_train[0][0]"
      ]
    },
    {
      "cell_type": "code",
      "execution_count": null,
      "metadata": {
        "colab": {
          "base_uri": "https://localhost:8080/"
        },
        "id": "M_AXY4EhirX7",
        "outputId": "4db5f260-23f6-4426-fd6b-440aa9aa7cca"
      },
      "outputs": [
        {
          "output_type": "stream",
          "name": "stdout",
          "text": [
            "Data(x=[9288, 1], edge_index=[2, 271771], y=44.54745701)\n",
            "tensor([[    0.0000],\n",
            "        [10373.7000],\n",
            "        [    0.0000],\n",
            "        ...,\n",
            "        [  183.9580],\n",
            "        [  146.9740],\n",
            "        [  596.0620]], dtype=torch.float64)\n",
            "tensor([[   0,    0,    0,  ..., 9287, 9287, 9287],\n",
            "        [ 451,  452,  453,  ..., 3323, 3340, 3341]])\n",
            "tensor(44.5475, dtype=torch.float64)\n"
          ]
        }
      ],
      "source": [
        "# Access the attributes of a specific data object in the training set\n",
        "sample = data_train[0]  # Get the first data object\n",
        "print(sample)  # Print the data object\n",
        "\n",
        "# Access the node features, edge indices, and target label\n",
        "node_features = sample.x\n",
        "edge_index = sample.edge_index\n",
        "target = sample.y\n",
        "\n",
        "print(node_features)  # Print the node features\n",
        "print(edge_index)  # Print the edge indices\n",
        "print(target)  # Print the target label"
      ]
    },
    {
      "cell_type": "markdown",
      "source": [
        "# Creating Train and Test Batches"
      ],
      "metadata": {
        "id": "tHuhKYTmpqrY"
      }
    },
    {
      "cell_type": "code",
      "execution_count": null,
      "metadata": {
        "colab": {
          "base_uri": "https://localhost:8080/"
        },
        "id": "0gZ-l0npPIca",
        "outputId": "bbf2c80e-b1ca-4e14-ce7d-43ce43d42d53"
      },
      "outputs": [
        {
          "output_type": "stream",
          "name": "stdout",
          "text": [
            "Training Batches: \n",
            "Step 1:\n",
            "=======\n",
            "Number of graphs in the current batch: 32\n",
            "DataBatch(x=[297216, 1], edge_index=[2, 8696672], y=[32], batch=[297216], ptr=[33])\n",
            "\n",
            "Training Batches: \n",
            "Step 2:\n",
            "=======\n",
            "Number of graphs in the current batch: 22\n",
            "DataBatch(x=[204336, 1], edge_index=[2, 5978962], y=[22], batch=[204336], ptr=[23])\n",
            "\n"
          ]
        }
      ],
      "source": [
        "from torch_geometric.loader import DataLoader\n",
        "\n",
        "train_loader = DataLoader(data_train, batch_size=32, shuffle=True)\n",
        "test_loader = DataLoader(data_test, batch_size=8, shuffle=False)\n",
        "\n",
        "for step, data in enumerate(train_loader):\n",
        "    print('Training Batches: ')\n",
        "    print(f'Step {step + 1}:')\n",
        "    print('=======')\n",
        "    print(f'Number of graphs in the current batch: {data.num_graphs}')\n",
        "    print(data)\n",
        "    print()"
      ]
    },
    {
      "cell_type": "code",
      "execution_count": null,
      "metadata": {
        "colab": {
          "base_uri": "https://localhost:8080/"
        },
        "id": "pqWv0wYqk22X",
        "outputId": "72043c9a-12fa-4a3e-e521-f9c24dafdd2c"
      },
      "outputs": [
        {
          "output_type": "stream",
          "name": "stdout",
          "text": [
            "Test Batches: \n",
            "Step 1:\n",
            "=======\n",
            "Number of graphs in the current batch: 8\n",
            "DataBatch(x=[74304, 1], edge_index=[2, 2174168], y=[8], batch=[74304], ptr=[9])\n",
            "\n",
            "Test Batches: \n",
            "Step 2:\n",
            "=======\n",
            "Number of graphs in the current batch: 8\n",
            "DataBatch(x=[74304, 1], edge_index=[2, 2174168], y=[8], batch=[74304], ptr=[9])\n",
            "\n",
            "Test Batches: \n",
            "Step 3:\n",
            "=======\n",
            "Number of graphs in the current batch: 8\n",
            "DataBatch(x=[74304, 1], edge_index=[2, 2174168], y=[8], batch=[74304], ptr=[9])\n",
            "\n"
          ]
        }
      ],
      "source": [
        "for step, data in enumerate(test_loader):\n",
        "    print('Test Batches: ')\n",
        "    print(f'Step {step + 1}:')\n",
        "    print('=======')\n",
        "    print(f'Number of graphs in the current batch: {data.num_graphs}')\n",
        "    print(data)\n",
        "    print()"
      ]
    },
    {
      "cell_type": "markdown",
      "source": [
        "# Model Building and Evaluation"
      ],
      "metadata": {
        "id": "UzfC0CY_qGWw"
      }
    },
    {
      "cell_type": "code",
      "execution_count": null,
      "metadata": {
        "id": "0PQNhtuosLl3"
      },
      "outputs": [],
      "source": [
        "from torch.nn import Linear\n",
        "import torch.nn.functional as F\n",
        "from torch_geometric.nn import GCNConv\n",
        "from torch_geometric.nn import global_mean_pool"
      ]
    },
    {
      "cell_type": "markdown",
      "source": [
        "GATConv\n",
        "\n",
        "GraphNorm\n",
        "\n",
        "Dropout for all layers"
      ],
      "metadata": {
        "id": "PzRZ2m_VwEQo"
      }
    },
    {
      "cell_type": "code",
      "source": [
        "import time"
      ],
      "metadata": {
        "id": "0OP1_07xpoO4"
      },
      "execution_count": null,
      "outputs": []
    },
    {
      "cell_type": "code",
      "execution_count": null,
      "metadata": {
        "id": "HtR7piktlpI8"
      },
      "outputs": [],
      "source": [
        "class GCN(torch.nn.Module):\n",
        "    def __init__(self, hidden_channels, num_node_features):\n",
        "        super(GCN, self).__init__()\n",
        "        torch.manual_seed(12345)\n",
        "        self.conv1 = GCNConv(num_node_features, hidden_channels)\n",
        "        self.conv2 = GCNConv(hidden_channels, hidden_channels)\n",
        "        self.conv3 = GCNConv(hidden_channels, hidden_channels)\n",
        "        self.lin = Linear(hidden_channels, 1)  # Regression output with 1 dimension\n",
        "\n",
        "    def forward(self, x, edge_index, batch):\n",
        "        # 1. Obtain node embeddings\n",
        "        x = self.conv1(x, edge_index)\n",
        "        x = x.relu()\n",
        "        x = self.conv2(x, edge_index)\n",
        "        x = x.relu()\n",
        "        x = self.conv3(x, edge_index)\n",
        "\n",
        "        # 2. Readout layer\n",
        "        x = global_mean_pool(x, batch)  # [batch_size, hidden_channels]\n",
        "\n",
        "        # 3. Apply a final regression layer\n",
        "        x = F.dropout(x, p=0.2, training=self.training)\n",
        "        x = self.lin(x)\n",
        "\n",
        "        return x.squeeze()  # Remove the extra dimension"
      ]
    },
    {
      "cell_type": "code",
      "execution_count": null,
      "metadata": {
        "colab": {
          "base_uri": "https://localhost:8080/"
        },
        "id": "z_loQUgsoQ-n",
        "outputId": "a6447575-2083-4c62-97c0-89360ce63221"
      },
      "outputs": [
        {
          "output_type": "stream",
          "name": "stdout",
          "text": [
            "Epoch: 000, Train loss: 247088.8224, Test Loss: 4590.6727\n",
            "Epoch: 001, Train loss: 35451.5736, Test Loss: 5730.4715\n",
            "Epoch: 002, Train loss: 41846.5685, Test Loss: 1414.2224\n",
            "Epoch: 003, Train loss: 7788.0172, Test Loss: 496.3415\n",
            "Epoch: 004, Train loss: 8384.2166, Test Loss: 1237.3134\n",
            "Epoch: 005, Train loss: 10228.3771, Test Loss: 929.1081\n",
            "Epoch: 006, Train loss: 7639.3797, Test Loss: 451.1776\n",
            "Epoch: 007, Train loss: 4045.5788, Test Loss: 192.9330\n",
            "Epoch: 008, Train loss: 2174.2256, Test Loss: 107.6250\n",
            "Epoch: 009, Train loss: 1456.3740, Test Loss: 87.9392\n",
            "Epoch: 010, Train loss: 1530.7286, Test Loss: 84.6980\n",
            "Epoch: 011, Train loss: 1536.4458, Test Loss: 83.3409\n",
            "Epoch: 012, Train loss: 1437.5769, Test Loss: 84.1301\n",
            "Epoch: 013, Train loss: 1586.5822, Test Loss: 87.8861\n",
            "Epoch: 014, Train loss: 1549.3042, Test Loss: 91.3751\n",
            "Epoch: 015, Train loss: 1592.1538, Test Loss: 91.6104\n",
            "Epoch: 016, Train loss: 1549.8045, Test Loss: 89.1403\n",
            "Epoch: 017, Train loss: 1352.4045, Test Loss: 86.3324\n",
            "Epoch: 018, Train loss: 1558.7808, Test Loss: 84.2414\n",
            "Epoch: 019, Train loss: 1519.3603, Test Loss: 83.3729\n",
            "Epoch: 020, Train loss: 1495.7037, Test Loss: 83.1254\n",
            "Epoch: 021, Train loss: 1458.3474, Test Loss: 83.2560\n",
            "Epoch: 022, Train loss: 1444.2923, Test Loss: 83.3332\n",
            "Epoch: 023, Train loss: 1758.7739, Test Loss: 83.4890\n",
            "Epoch: 024, Train loss: 1547.9098, Test Loss: 83.4792\n",
            "Epoch: 025, Train loss: 1285.0969, Test Loss: 83.1584\n",
            "Epoch: 026, Train loss: 1374.1369, Test Loss: 83.2296\n",
            "Epoch: 027, Train loss: 1438.1406, Test Loss: 83.9595\n",
            "Epoch: 028, Train loss: 1485.6230, Test Loss: 85.2072\n",
            "Epoch: 029, Train loss: 1513.0050, Test Loss: 86.4287\n",
            "Epoch: 030, Train loss: 1272.5235, Test Loss: 87.4442\n",
            "Epoch: 031, Train loss: 1445.5347, Test Loss: 86.5008\n",
            "Epoch: 032, Train loss: 1702.2809, Test Loss: 84.8043\n",
            "Epoch: 033, Train loss: 1556.0524, Test Loss: 83.6577\n",
            "Epoch: 034, Train loss: 1376.0926, Test Loss: 83.1392\n",
            "Epoch: 035, Train loss: 1731.2075, Test Loss: 83.4163\n",
            "Epoch: 036, Train loss: 1602.5079, Test Loss: 83.7583\n",
            "Epoch: 037, Train loss: 1504.6508, Test Loss: 83.7125\n",
            "Epoch: 038, Train loss: 1469.6753, Test Loss: 83.3673\n",
            "Epoch: 039, Train loss: 1341.2466, Test Loss: 83.1431\n",
            "Epoch: 040, Train loss: 1426.6207, Test Loss: 83.7831\n",
            "Epoch: 041, Train loss: 1405.6155, Test Loss: 85.0709\n",
            "Epoch: 042, Train loss: 1550.2181, Test Loss: 86.2964\n",
            "Epoch: 043, Train loss: 1437.0024, Test Loss: 86.4928\n",
            "Epoch: 044, Train loss: 1427.9230, Test Loss: 86.2488\n",
            "Epoch: 045, Train loss: 1318.0232, Test Loss: 85.6147\n",
            "Epoch: 046, Train loss: 1492.1033, Test Loss: 83.9661\n",
            "Epoch: 047, Train loss: 1664.8297, Test Loss: 83.1807\n",
            "Epoch: 048, Train loss: 1437.8657, Test Loss: 83.1614\n",
            "Epoch: 049, Train loss: 1243.7129, Test Loss: 83.2021\n",
            "Epoch: 050, Train loss: 1415.4237, Test Loss: 83.1512\n",
            "Epoch: 051, Train loss: 1362.7038, Test Loss: 83.1618\n",
            "Epoch: 052, Train loss: 1538.7925, Test Loss: 83.2804\n",
            "Epoch: 053, Train loss: 1326.4593, Test Loss: 83.7077\n",
            "Epoch: 054, Train loss: 1377.0978, Test Loss: 84.1837\n",
            "Epoch: 055, Train loss: 1310.7701, Test Loss: 84.1499\n",
            "Epoch: 056, Train loss: 1447.3827, Test Loss: 83.4884\n",
            "Epoch: 057, Train loss: 1356.1974, Test Loss: 83.1933\n",
            "Epoch: 058, Train loss: 1309.7085, Test Loss: 83.1386\n",
            "Epoch: 059, Train loss: 1417.5574, Test Loss: 83.2775\n",
            "Epoch: 060, Train loss: 1470.6395, Test Loss: 83.3690\n",
            "Epoch: 061, Train loss: 1412.9430, Test Loss: 83.1358\n",
            "Epoch: 062, Train loss: 1437.5166, Test Loss: 83.2891\n",
            "Epoch: 063, Train loss: 1285.9835, Test Loss: 83.9976\n",
            "Epoch: 064, Train loss: 1299.2589, Test Loss: 84.3834\n",
            "Epoch: 065, Train loss: 1389.1519, Test Loss: 84.4064\n",
            "Epoch: 066, Train loss: 1279.8721, Test Loss: 84.0202\n",
            "Epoch: 067, Train loss: 1460.3547, Test Loss: 83.6577\n",
            "Epoch: 068, Train loss: 1226.8113, Test Loss: 83.4702\n",
            "Epoch: 069, Train loss: 1387.8710, Test Loss: 83.4717\n",
            "Epoch: 070, Train loss: 1488.9409, Test Loss: 83.3497\n",
            "Epoch: 071, Train loss: 1369.9904, Test Loss: 83.3415\n",
            "Epoch: 072, Train loss: 1286.3417, Test Loss: 83.3042\n",
            "Epoch: 073, Train loss: 1397.5345, Test Loss: 83.1707\n",
            "Epoch: 074, Train loss: 1349.8379, Test Loss: 83.1385\n",
            "Epoch: 075, Train loss: 1435.9922, Test Loss: 83.1385\n",
            "Epoch: 076, Train loss: 1401.1243, Test Loss: 83.3290\n",
            "Epoch: 077, Train loss: 1438.2167, Test Loss: 83.8727\n",
            "Epoch: 078, Train loss: 1383.7812, Test Loss: 84.3091\n",
            "Epoch: 079, Train loss: 1380.0965, Test Loss: 84.1965\n",
            "Epoch: 080, Train loss: 1305.0503, Test Loss: 83.7393\n",
            "Epoch: 081, Train loss: 1319.7092, Test Loss: 83.9603\n",
            "Epoch: 082, Train loss: 1375.0751, Test Loss: 84.4145\n",
            "Epoch: 083, Train loss: 1281.9982, Test Loss: 84.1942\n",
            "Epoch: 084, Train loss: 1299.9220, Test Loss: 83.4513\n",
            "Epoch: 085, Train loss: 1484.3895, Test Loss: 83.1550\n",
            "Epoch: 086, Train loss: 1370.3856, Test Loss: 83.1922\n",
            "Epoch: 087, Train loss: 1427.0613, Test Loss: 83.1504\n",
            "Epoch: 088, Train loss: 1399.5305, Test Loss: 83.1417\n",
            "Epoch: 089, Train loss: 1467.9208, Test Loss: 83.1453\n",
            "Epoch: 090, Train loss: 1349.9638, Test Loss: 83.2803\n",
            "Epoch: 091, Train loss: 1381.6413, Test Loss: 83.3824\n",
            "Epoch: 092, Train loss: 1318.5462, Test Loss: 83.6099\n",
            "Epoch: 093, Train loss: 1415.3364, Test Loss: 84.0077\n",
            "Epoch: 094, Train loss: 1397.0362, Test Loss: 84.6174\n",
            "Epoch: 095, Train loss: 1258.8309, Test Loss: 85.1601\n",
            "Epoch: 096, Train loss: 1450.2735, Test Loss: 84.9137\n",
            "Epoch: 097, Train loss: 1378.7630, Test Loss: 83.7908\n",
            "Epoch: 098, Train loss: 1456.5822, Test Loss: 83.1852\n",
            "Epoch: 099, Train loss: 1312.1681, Test Loss: 83.1495\n",
            "Epoch: 100, Train loss: 1544.7409, Test Loss: 83.1486\n",
            "Time used for training: 178.91 seconds\n"
          ]
        }
      ],
      "source": [
        "model = GCN(hidden_channels=64, num_node_features=1)\n",
        "criterion = torch.nn.MSELoss()\n",
        "optimizer = torch.optim.Adam(model.parameters(), lr=0.01)\n",
        "\n",
        "model = model.to(device)  # Move the model to CUDA device\n",
        "criterion = criterion.to(device)  # Move the criterion to CUDA device\n",
        "\n",
        "model.double()  # Convert the model's parameters to Double type\n",
        "\n",
        "num_epochs = 101  # Specify the number of epochs\n",
        "\n",
        "start_time = time.time()\n",
        "\n",
        "# Initialize lists to store training and test losses\n",
        "train_losses = []\n",
        "test_losses = []\n",
        "for epoch in range(num_epochs):\n",
        "    model.train()  # Set the model to train mode\n",
        "    total_loss = 0\n",
        "\n",
        "    for step, data in enumerate(train_loader):\n",
        "        data = data.to(device)  # Move the batch of data to CUDA device\n",
        "        optimizer.zero_grad()\n",
        "\n",
        "        out = model(data.x.double(), data.edge_index, data.batch)\n",
        "        loss = criterion(out, data.y.view(-1).double())\n",
        "        loss.backward()\n",
        "        optimizer.step()\n",
        "\n",
        "        total_loss += loss.item()\n",
        "\n",
        "    average_loss = total_loss / (step + 1)\n",
        "    train_losses.append(average_loss)\n",
        "\n",
        "    # Evaluate on the test set\n",
        "    model.eval()  # Set the model to evaluation mode\n",
        "    with torch.no_grad():\n",
        "        test_loss = 0\n",
        "        for data in test_loader:\n",
        "            data = data.to(device)  # Move the batch of data to CUDA device\n",
        "            out = model(data.x.double(), data.edge_index, data.batch)\n",
        "            loss = criterion(out, data.y.view(-1).double())\n",
        "            test_loss += loss.item()\n",
        "\n",
        "\n",
        "        average_test_loss = test_loss / len(data_test)\n",
        "        test_losses.append(average_test_loss)\n",
        "\n",
        "        print(f'Epoch: {epoch:03d}, Train loss: {average_loss:.4f}, Test Loss: {average_test_loss:.4f}')\n",
        "\n",
        "# Calculate the elapsed time\n",
        "elapsed_time = time.time() - start_time\n",
        "\n",
        "print(f\"Time used for training: {elapsed_time:.2f} seconds\")"
      ]
    },
    {
      "cell_type": "code",
      "source": [
        "import matplotlib.pyplot as plt\n",
        "\n",
        "# Visualize convergence results\n",
        "plt.figure()\n",
        "plt.plot(range(1, num_epochs + 1), train_losses, label='Training Loss')\n",
        "plt.plot(range(1, num_epochs + 1), test_losses, label='Test Loss')\n",
        "plt.xlabel('Epoch')\n",
        "plt.ylabel('Loss')\n",
        "plt.legend()\n",
        "plt.title('Convergence of Model for Acc data')\n",
        "plt.show()"
      ],
      "metadata": {
        "colab": {
          "base_uri": "https://localhost:8080/",
          "height": 472
        },
        "id": "9Pjix5SjyemR",
        "outputId": "3632bccc-0999-4e1d-d6a8-bfb527f33dd8"
      },
      "execution_count": null,
      "outputs": [
        {
          "output_type": "display_data",
          "data": {
            "text/plain": [
              "<Figure size 640x480 with 1 Axes>"
            ],
            "image/png": "[encoded data removed]"
          },
          "metadata": {}
        }
      ]
    },
    {
      "cell_type": "code",
      "execution_count": null,
      "metadata": {
        "id": "hG2NZ_CwxvyI",
        "colab": {
          "base_uri": "https://localhost:8080/"
        },
        "outputId": "74512b90-68d1-4224-9f7a-9b43140d31d9"
      },
      "outputs": [
        {
          "output_type": "stream",
          "name": "stdout",
          "text": [
            "[54.7908902  42.68042542 41.46369231 46.62099351 43.53139086 46.71744213\n",
            " 44.86960047 42.71519428 56.23555359 42.44410441 51.97316039 47.2208563\n",
            " 37.88468131 47.6598499  49.43051608 40.85898411 41.61337731 41.35790309\n",
            " 41.87858928 50.83126728 55.12354779 46.94001563 47.41400786 47.73594443]\n"
          ]
        }
      ],
      "source": [
        "model.eval()  # Set the model to evaluation mode\n",
        "\n",
        "predictions = []  # List to store the predicted outputs\n",
        "\n",
        "with torch.no_grad():\n",
        "    for data in test_loader:\n",
        "        data = data.to(device)  # Move the batch of data to CUDA device\n",
        "        out = model(data.x.double(), data.edge_index, data.batch)\n",
        "        predictions.append(out.cpu().detach().numpy())  # Convert the predictions to NumPy array\n",
        "\n",
        "# Concatenate the predictions from multiple batches\n",
        "predictions = np.concatenate(predictions)\n",
        "\n",
        "# Print the predictions\n",
        "print(predictions)\n"
      ]
    },
    {
      "cell_type": "code",
      "execution_count": null,
      "metadata": {
        "id": "2vJhDwz5oX3Z",
        "colab": {
          "base_uri": "https://localhost:8080/"
        },
        "outputId": "e603b5fa-f7e1-47b8-d275-98bd0305f621"
      },
      "outputs": [
        {
          "output_type": "stream",
          "name": "stdout",
          "text": [
            "Mean Squared Error (MSE) Loss: 665.1887\n"
          ]
        }
      ],
      "source": [
        "from sklearn.metrics import r2_score\n",
        "\n",
        "# Convert the test data batches to a list of Data objects\n",
        "Test_batches = [\n",
        "    Data(x=batch.x, edge_index=batch.edge_index, y=batch.y) for batch in test_loader\n",
        "]\n",
        "\n",
        "# Convert the predictions to PyTorch tensors\n",
        "predictions = torch.tensor(predictions)\n",
        "\n",
        "# Convert the ground truth labels of the test data to a PyTorch tensor\n",
        "y_true = torch.cat([batch.y for batch in Test_batches])\n",
        "\n",
        "# Calculate the mean squared error (MSE) loss using PyTorch's function\n",
        "mse_loss = torch.nn.functional.mse_loss(predictions.view(-1), y_true.view(-1))\n",
        "\n",
        "\n",
        "print(f\"Mean Squared Error (MSE) Loss: {mse_loss:.4f}\")"
      ]
    },
    {
      "cell_type": "code",
      "source": [],
      "metadata": {
        "id": "X4tR3MDgz7sG"
      },
      "execution_count": null,
      "outputs": []
    }
  ],
  "metadata": {
    "colab": {
      "provenance": [],
      "include_colab_link": true
    },
    "kernelspec": {
      "display_name": "Python 3",
      "name": "python3"
    },
    "language_info": {
      "name": "python"
    }
  },
  "nbformat": 4,
  "nbformat_minor": 0
}