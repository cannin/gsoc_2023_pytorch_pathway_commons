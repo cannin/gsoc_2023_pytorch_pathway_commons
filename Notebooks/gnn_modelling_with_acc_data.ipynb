{
  "cells": [
    {
      "cell_type": "markdown",
      "metadata": {
        "id": "view-in-github",
        "colab_type": "text"
      },
      "source": [
        "<a href=\"https://colab.research.google.com/github/cannin/gsoc_2023_pytorch_pathway_commons/blob/main/Building_GNNmodel_with_PyG(First_Notbebook).ipynb\" target=\"_parent\"><img src=\"https://colab.research.google.com/assets/colab-badge.svg\" alt=\"Open In Colab\"/></a>"
      ]
    },
    {
      "cell_type": "code",
      "execution_count": null,
      "metadata": {
        "colab": {
          "base_uri": "https://localhost:8080/"
        },
        "id": "OE2xc7If0ZCT",
        "outputId": "79ba7fce-ce55-49d8-d66a-050ccfbed652"
      },
      "outputs": [
        {
          "name": "stdout",
          "output_type": "stream",
          "text": [
            "Looking in indexes: https://pypi.org/simple, https://us-python.pkg.dev/colab-wheels/public/simple/\n",
            "Collecting torch-geometric\n",
            "  Downloading torch_geometric-2.3.1.tar.gz (661 kB)\n",
            "\u001b[2K     \u001b[90m━━━━━━━━━━━━━━━━━━━━━━━━━━━━━━━━━━━━━━\u001b[0m \u001b[32m661.6/661.6 kB\u001b[0m \u001b[31m24.0 MB/s\u001b[0m eta \u001b[36m0:00:00\u001b[0m\n",
            "\u001b[?25h  Installing build dependencies ... \u001b[?25l\u001b[?25hdone\n",
            "  Getting requirements to build wheel ... \u001b[?25l\u001b[?25hdone\n",
            "  Preparing metadata (pyproject.toml) ... \u001b[?25l\u001b[?25hdone\n",
            "Requirement already satisfied: tqdm in /usr/local/lib/python3.10/dist-packages (from torch-geometric) (4.65.0)\n",
            "Requirement already satisfied: numpy in /usr/local/lib/python3.10/dist-packages (from torch-geometric) (1.22.4)\n",
            "Requirement already satisfied: scipy in /usr/local/lib/python3.10/dist-packages (from torch-geometric) (1.10.1)\n",
            "Requirement already satisfied: jinja2 in /usr/local/lib/python3.10/dist-packages (from torch-geometric) (3.1.2)\n",
            "Requirement already satisfied: requests in /usr/local/lib/python3.10/dist-packages (from torch-geometric) (2.27.1)\n",
            "Requirement already satisfied: pyparsing in /usr/local/lib/python3.10/dist-packages (from torch-geometric) (3.0.9)\n",
            "Requirement already satisfied: scikit-learn in /usr/local/lib/python3.10/dist-packages (from torch-geometric) (1.2.2)\n",
            "Requirement already satisfied: psutil>=5.8.0 in /usr/local/lib/python3.10/dist-packages (from torch-geometric) (5.9.5)\n",
            "Requirement already satisfied: MarkupSafe>=2.0 in /usr/local/lib/python3.10/dist-packages (from jinja2->torch-geometric) (2.1.2)\n",
            "Requirement already satisfied: urllib3<1.27,>=1.21.1 in /usr/local/lib/python3.10/dist-packages (from requests->torch-geometric) (1.26.15)\n",
            "Requirement already satisfied: certifi>=2017.4.17 in /usr/local/lib/python3.10/dist-packages (from requests->torch-geometric) (2022.12.7)\n",
            "Requirement already satisfied: charset-normalizer~=2.0.0 in /usr/local/lib/python3.10/dist-packages (from requests->torch-geometric) (2.0.12)\n",
            "Requirement already satisfied: idna<4,>=2.5 in /usr/local/lib/python3.10/dist-packages (from requests->torch-geometric) (3.4)\n",
            "Requirement already satisfied: joblib>=1.1.1 in /usr/local/lib/python3.10/dist-packages (from scikit-learn->torch-geometric) (1.2.0)\n",
            "Requirement already satisfied: threadpoolctl>=2.0.0 in /usr/local/lib/python3.10/dist-packages (from scikit-learn->torch-geometric) (3.1.0)\n",
            "Building wheels for collected packages: torch-geometric\n",
            "  Building wheel for torch-geometric (pyproject.toml) ... \u001b[?25l\u001b[?25hdone\n",
            "  Created wheel for torch-geometric: filename=torch_geometric-2.3.1-py3-none-any.whl size=910459 sha256=8fa406ed70f90fdc433e1610fe5dd4c15c8f4f3b28fd117ba5bbd892f7369994\n",
            "  Stored in directory: /root/.cache/pip/wheels/ac/dc/30/e2874821ff308ee67dcd7a66dbde912411e19e35a1addda028\n",
            "Successfully built torch-geometric\n",
            "Installing collected packages: torch-geometric\n",
            "Successfully installed torch-geometric-2.3.1\n"
          ]
        }
      ],
      "source": [
        "!pip install torch-geometric"
      ]
    },
    {
      "cell_type": "markdown",
      "metadata": {
        "id": "6T-0DTo_3DLk"
      },
      "source": [
        "# Importing Data and Libraries"
      ]
    },
    {
      "cell_type": "code",
      "execution_count": null,
      "metadata": {
        "id": "Wy1Dc5Z9vGE8"
      },
      "outputs": [],
      "source": [
        "import pandas as pd\n",
        "import numpy as np\n",
        "import torch\n",
        "from torch_geometric.data import Data\n",
        "from sklearn.model_selection import train_test_split"
      ]
    },
    {
      "cell_type": "code",
      "execution_count": null,
      "metadata": {
        "colab": {
          "base_uri": "https://localhost:8080/"
        },
        "id": "Agul4fnR13Wa",
        "outputId": "98b3b2fb-94af-44ed-990e-07084dbf54f5"
      },
      "outputs": [
        {
          "name": "stdout",
          "output_type": "stream",
          "text": [
            "Using device: cuda\n"
          ]
        }
      ],
      "source": [
        "device = torch.device('cuda' if torch.cuda.is_available() else 'cpu')\n",
        "print('Using device:', device)\n",
        "\n",
        "if device.type != 'cuda':\n",
        "    raise SystemError('GPU device not found')"
      ]
    },
    {
      "cell_type": "code",
      "execution_count": null,
      "metadata": {
        "colab": {
          "base_uri": "https://localhost:8080/"
        },
        "id": "XqS-T3j6eTXs",
        "outputId": "18ce7a63-af25-46bd-f2e1-ea86c1cc3345"
      },
      "outputs": [
        {
          "name": "stdout",
          "output_type": "stream",
          "text": [
            "Mounted at /content/drive\n"
          ]
        }
      ],
      "source": [
        "from google.colab import drive\n",
        "drive.mount('/content/drive')"
      ]
    },
    {
      "cell_type": "code",
      "execution_count": null,
      "metadata": {
        "id": "QQOFmd9l0XZg"
      },
      "outputs": [],
      "source": [
        "cBio = pd.read_csv('/content/drive/MyDrive/gsoc data/cBio.csv')"
      ]
    },
    {
      "cell_type": "code",
      "execution_count": null,
      "metadata": {
        "colab": {
          "base_uri": "https://localhost:8080/",
          "height": 344
        },
        "id": "_eqxj5HV6b2F",
        "outputId": "673b3f3e-3d04-4338-b2cd-32c08b7e6fcd"
      },
      "outputs": [
        {
          "data": {
            "text/html": [
              "\n",
              "  <div id=\"df-a50c54fc-afed-42f4-85e4-4526dba0c178\">\n",
              "    <div class=\"colab-df-container\">\n",
              "      <div>\n",
              "<style scoped>\n",
              "    .dataframe tbody tr th:only-of-type {\n",
              "        vertical-align: middle;\n",
              "    }\n",
              "\n",
              "    .dataframe tbody tr th {\n",
              "        vertical-align: top;\n",
              "    }\n",
              "\n",
              "    .dataframe thead th {\n",
              "        text-align: right;\n",
              "    }\n",
              "</style>\n",
              "<table border=\"1\" class=\"dataframe\">\n",
              "  <thead>\n",
              "    <tr style=\"text-align: right;\">\n",
              "      <th></th>\n",
              "      <th>Overall Survival (Months)</th>\n",
              "      <th>NUDT18</th>\n",
              "      <th>SHC3</th>\n",
              "      <th>NCRNA00112</th>\n",
              "      <th>FAM49B</th>\n",
              "      <th>FMO6P</th>\n",
              "      <th>BAT2L2</th>\n",
              "      <th>SIRT1</th>\n",
              "      <th>MSLNL</th>\n",
              "      <th>ATG4A</th>\n",
              "      <th>...</th>\n",
              "      <th>SCARNA6</th>\n",
              "      <th>SNORD77</th>\n",
              "      <th>TLR10</th>\n",
              "      <th>GKN2</th>\n",
              "      <th>PCDHGB4</th>\n",
              "      <th>ZMAT5</th>\n",
              "      <th>AXIN2</th>\n",
              "      <th>LONRF1</th>\n",
              "      <th>KLHL10</th>\n",
              "      <th>C12orf36</th>\n",
              "    </tr>\n",
              "  </thead>\n",
              "  <tbody>\n",
              "    <tr>\n",
              "      <th>TCGA-OR-A5J1-01</th>\n",
              "      <td>44.547457</td>\n",
              "      <td>85.0144</td>\n",
              "      <td>97.5024</td>\n",
              "      <td>0.0</td>\n",
              "      <td>671.950</td>\n",
              "      <td>0.0</td>\n",
              "      <td>2428.43</td>\n",
              "      <td>462.056</td>\n",
              "      <td>0.0</td>\n",
              "      <td>385.687</td>\n",
              "      <td>...</td>\n",
              "      <td>0.0000</td>\n",
              "      <td>0.0</td>\n",
              "      <td>12.0077</td>\n",
              "      <td>0.0</td>\n",
              "      <td>17.2911</td>\n",
              "      <td>913.535</td>\n",
              "      <td>547.55</td>\n",
              "      <td>363.112</td>\n",
              "      <td>1.9212</td>\n",
              "      <td>0.0</td>\n",
              "    </tr>\n",
              "    <tr>\n",
              "      <th>TCGA-OR-A5J2-01</th>\n",
              "      <td>55.133642</td>\n",
              "      <td>165.8840</td>\n",
              "      <td>92.6050</td>\n",
              "      <td>0.0</td>\n",
              "      <td>812.911</td>\n",
              "      <td>0.0</td>\n",
              "      <td>5097.30</td>\n",
              "      <td>669.977</td>\n",
              "      <td>0.0</td>\n",
              "      <td>547.980</td>\n",
              "      <td>...</td>\n",
              "      <td>0.4026</td>\n",
              "      <td>0.0</td>\n",
              "      <td>0.8053</td>\n",
              "      <td>0.0</td>\n",
              "      <td>268.9890</td>\n",
              "      <td>303.978</td>\n",
              "      <td>1793.32</td>\n",
              "      <td>592.672</td>\n",
              "      <td>0.0000</td>\n",
              "      <td>0.0</td>\n",
              "    </tr>\n",
              "  </tbody>\n",
              "</table>\n",
              "<p>2 rows × 20512 columns</p>\n",
              "</div>\n",
              "      <button class=\"colab-df-convert\" onclick=\"convertToInteractive('df-a50c54fc-afed-42f4-85e4-4526dba0c178')\"\n",
              "              title=\"Convert this dataframe to an interactive table.\"\n",
              "              style=\"display:none;\">\n",
              "        \n",
              "  <svg xmlns=\"http://www.w3.org/2000/svg\" height=\"24px\"viewBox=\"0 0 24 24\"\n",
              "       width=\"24px\">\n",
              "    <path d=\"M0 0h24v24H0V0z\" fill=\"none\"/>\n",
              "    <path d=\"M18.56 5.44l.94 2.06.94-2.06 2.06-.94-2.06-.94-.94-2.06-.94 2.06-2.06.94zm-11 1L8.5 8.5l.94-2.06 2.06-.94-2.06-.94L8.5 2.5l-.94 2.06-2.06.94zm10 10l.94 2.06.94-2.06 2.06-.94-2.06-.94-.94-2.06-.94 2.06-2.06.94z\"/><path d=\"M17.41 7.96l-1.37-1.37c-.4-.4-.92-.59-1.43-.59-.52 0-1.04.2-1.43.59L10.3 9.45l-7.72 7.72c-.78.78-.78 2.05 0 2.83L4 21.41c.39.39.9.59 1.41.59.51 0 1.02-.2 1.41-.59l7.78-7.78 2.81-2.81c.8-.78.8-2.07 0-2.86zM5.41 20L4 18.59l7.72-7.72 1.47 1.35L5.41 20z\"/>\n",
              "  </svg>\n",
              "      </button>\n",
              "      \n",
              "  <style>\n",
              "    .colab-df-container {\n",
              "      display:flex;\n",
              "      flex-wrap:wrap;\n",
              "      gap: 12px;\n",
              "    }\n",
              "\n",
              "    .colab-df-convert {\n",
              "      background-color: #E8F0FE;\n",
              "      border: none;\n",
              "      border-radius: 50%;\n",
              "      cursor: pointer;\n",
              "      display: none;\n",
              "      fill: #1967D2;\n",
              "      height: 32px;\n",
              "      padding: 0 0 0 0;\n",
              "      width: 32px;\n",
              "    }\n",
              "\n",
              "    .colab-df-convert:hover {\n",
              "      background-color: #E2EBFA;\n",
              "      box-shadow: 0px 1px 2px rgba(60, 64, 67, 0.3), 0px 1px 3px 1px rgba(60, 64, 67, 0.15);\n",
              "      fill: #174EA6;\n",
              "    }\n",
              "\n",
              "    [theme=dark] .colab-df-convert {\n",
              "      background-color: #3B4455;\n",
              "      fill: #D2E3FC;\n",
              "    }\n",
              "\n",
              "    [theme=dark] .colab-df-convert:hover {\n",
              "      background-color: #434B5C;\n",
              "      box-shadow: 0px 1px 3px 1px rgba(0, 0, 0, 0.15);\n",
              "      filter: drop-shadow(0px 1px 2px rgba(0, 0, 0, 0.3));\n",
              "      fill: #FFFFFF;\n",
              "    }\n",
              "  </style>\n",
              "\n",
              "      <script>\n",
              "        const buttonEl =\n",
              "          document.querySelector('#df-a50c54fc-afed-42f4-85e4-4526dba0c178 button.colab-df-convert');\n",
              "        buttonEl.style.display =\n",
              "          google.colab.kernel.accessAllowed ? 'block' : 'none';\n",
              "\n",
              "        async function convertToInteractive(key) {\n",
              "          const element = document.querySelector('#df-a50c54fc-afed-42f4-85e4-4526dba0c178');\n",
              "          const dataTable =\n",
              "            await google.colab.kernel.invokeFunction('convertToInteractive',\n",
              "                                                     [key], {});\n",
              "          if (!dataTable) return;\n",
              "\n",
              "          const docLinkHtml = 'Like what you see? Visit the ' +\n",
              "            '<a target=\"_blank\" href=https://colab.research.google.com/notebooks/data_table.ipynb>data table notebook</a>'\n",
              "            + ' to learn more about interactive tables.';\n",
              "          element.innerHTML = '';\n",
              "          dataTable['output_type'] = 'display_data';\n",
              "          await google.colab.output.renderOutput(dataTable, element);\n",
              "          const docLink = document.createElement('div');\n",
              "          docLink.innerHTML = docLinkHtml;\n",
              "          element.appendChild(docLink);\n",
              "        }\n",
              "      </script>\n",
              "    </div>\n",
              "  </div>\n",
              "  "
            ],
            "text/plain": [
              "                 Overall Survival (Months)    NUDT18     SHC3  NCRNA00112  \\\n",
              "TCGA-OR-A5J1-01                  44.547457   85.0144  97.5024         0.0   \n",
              "TCGA-OR-A5J2-01                  55.133642  165.8840  92.6050         0.0   \n",
              "\n",
              "                  FAM49B  FMO6P   BAT2L2    SIRT1  MSLNL    ATG4A  ...  \\\n",
              "TCGA-OR-A5J1-01  671.950    0.0  2428.43  462.056    0.0  385.687  ...   \n",
              "TCGA-OR-A5J2-01  812.911    0.0  5097.30  669.977    0.0  547.980  ...   \n",
              "\n",
              "                 SCARNA6  SNORD77    TLR10  GKN2   PCDHGB4    ZMAT5    AXIN2  \\\n",
              "TCGA-OR-A5J1-01   0.0000      0.0  12.0077   0.0   17.2911  913.535   547.55   \n",
              "TCGA-OR-A5J2-01   0.4026      0.0   0.8053   0.0  268.9890  303.978  1793.32   \n",
              "\n",
              "                  LONRF1  KLHL10  C12orf36  \n",
              "TCGA-OR-A5J1-01  363.112  1.9212       0.0  \n",
              "TCGA-OR-A5J2-01  592.672  0.0000       0.0  \n",
              "\n",
              "[2 rows x 20512 columns]"
            ]
          },
          "execution_count": 6,
          "metadata": {},
          "output_type": "execute_result"
        }
      ],
      "source": [
        "cBio = cBio.set_index('Sample Identifier')\n",
        "cBio.index.name = None\n",
        "cBio.head(2)"
      ]
    },
    {
      "cell_type": "code",
      "execution_count": null,
      "metadata": {
        "id": "qqVJxhDoe0SW"
      },
      "outputs": [],
      "source": [
        "#defining features and labels\n",
        "\n",
        "y = np.array(cBio['Overall Survival (Months)'], dtype=float)\n",
        "X = cBio.drop('Overall Survival (Months)', axis=1)"
      ]
    },
    {
      "cell_type": "code",
      "execution_count": null,
      "metadata": {
        "id": "h2FVAe724Jd2"
      },
      "outputs": [],
      "source": [
        "path = \"/content/drive/MyDrive/gsoc data/PathwayCommons12.reactome.hgnc.sif.gz\"  \n",
        "\n",
        "\n",
        "#specify compression type because the file is compressed\n",
        "df = pd.read_csv(path, sep=\"\\t\", compression=\"gzip\", header=None, names=[\"Source\", \"InteractionType\", \"Target\"])"
      ]
    },
    {
      "cell_type": "code",
      "execution_count": null,
      "metadata": {
        "id": "-AGfsNU452Zm"
      },
      "outputs": [],
      "source": [
        "df = df.drop(columns='InteractionType')"
      ]
    },
    {
      "cell_type": "code",
      "execution_count": null,
      "metadata": {
        "colab": {
          "base_uri": "https://localhost:8080/",
          "height": 206
        },
        "id": "MR-hGnfotMG8",
        "outputId": "ff9c8cdf-27e9-442c-983b-ce248609d369"
      },
      "outputs": [
        {
          "data": {
            "text/html": [
              "\n",
              "  <div id=\"df-923302b5-9269-4049-8a40-9aa90dff8b91\">\n",
              "    <div class=\"colab-df-container\">\n",
              "      <div>\n",
              "<style scoped>\n",
              "    .dataframe tbody tr th:only-of-type {\n",
              "        vertical-align: middle;\n",
              "    }\n",
              "\n",
              "    .dataframe tbody tr th {\n",
              "        vertical-align: top;\n",
              "    }\n",
              "\n",
              "    .dataframe thead th {\n",
              "        text-align: right;\n",
              "    }\n",
              "</style>\n",
              "<table border=\"1\" class=\"dataframe\">\n",
              "  <thead>\n",
              "    <tr style=\"text-align: right;\">\n",
              "      <th></th>\n",
              "      <th>Source</th>\n",
              "      <th>Target</th>\n",
              "    </tr>\n",
              "  </thead>\n",
              "  <tbody>\n",
              "    <tr>\n",
              "      <th>0</th>\n",
              "      <td>A1CF</td>\n",
              "      <td>APOBEC1</td>\n",
              "    </tr>\n",
              "    <tr>\n",
              "      <th>1</th>\n",
              "      <td>A1CF</td>\n",
              "      <td>APOBEC2</td>\n",
              "    </tr>\n",
              "    <tr>\n",
              "      <th>2</th>\n",
              "      <td>A1CF</td>\n",
              "      <td>APOBEC3A</td>\n",
              "    </tr>\n",
              "    <tr>\n",
              "      <th>3</th>\n",
              "      <td>A1CF</td>\n",
              "      <td>APOBEC3B</td>\n",
              "    </tr>\n",
              "    <tr>\n",
              "      <th>4</th>\n",
              "      <td>A1CF</td>\n",
              "      <td>APOBEC3C</td>\n",
              "    </tr>\n",
              "  </tbody>\n",
              "</table>\n",
              "</div>\n",
              "      <button class=\"colab-df-convert\" onclick=\"convertToInteractive('df-923302b5-9269-4049-8a40-9aa90dff8b91')\"\n",
              "              title=\"Convert this dataframe to an interactive table.\"\n",
              "              style=\"display:none;\">\n",
              "        \n",
              "  <svg xmlns=\"http://www.w3.org/2000/svg\" height=\"24px\"viewBox=\"0 0 24 24\"\n",
              "       width=\"24px\">\n",
              "    <path d=\"M0 0h24v24H0V0z\" fill=\"none\"/>\n",
              "    <path d=\"M18.56 5.44l.94 2.06.94-2.06 2.06-.94-2.06-.94-.94-2.06-.94 2.06-2.06.94zm-11 1L8.5 8.5l.94-2.06 2.06-.94-2.06-.94L8.5 2.5l-.94 2.06-2.06.94zm10 10l.94 2.06.94-2.06 2.06-.94-2.06-.94-.94-2.06-.94 2.06-2.06.94z\"/><path d=\"M17.41 7.96l-1.37-1.37c-.4-.4-.92-.59-1.43-.59-.52 0-1.04.2-1.43.59L10.3 9.45l-7.72 7.72c-.78.78-.78 2.05 0 2.83L4 21.41c.39.39.9.59 1.41.59.51 0 1.02-.2 1.41-.59l7.78-7.78 2.81-2.81c.8-.78.8-2.07 0-2.86zM5.41 20L4 18.59l7.72-7.72 1.47 1.35L5.41 20z\"/>\n",
              "  </svg>\n",
              "      </button>\n",
              "      \n",
              "  <style>\n",
              "    .colab-df-container {\n",
              "      display:flex;\n",
              "      flex-wrap:wrap;\n",
              "      gap: 12px;\n",
              "    }\n",
              "\n",
              "    .colab-df-convert {\n",
              "      background-color: #E8F0FE;\n",
              "      border: none;\n",
              "      border-radius: 50%;\n",
              "      cursor: pointer;\n",
              "      display: none;\n",
              "      fill: #1967D2;\n",
              "      height: 32px;\n",
              "      padding: 0 0 0 0;\n",
              "      width: 32px;\n",
              "    }\n",
              "\n",
              "    .colab-df-convert:hover {\n",
              "      background-color: #E2EBFA;\n",
              "      box-shadow: 0px 1px 2px rgba(60, 64, 67, 0.3), 0px 1px 3px 1px rgba(60, 64, 67, 0.15);\n",
              "      fill: #174EA6;\n",
              "    }\n",
              "\n",
              "    [theme=dark] .colab-df-convert {\n",
              "      background-color: #3B4455;\n",
              "      fill: #D2E3FC;\n",
              "    }\n",
              "\n",
              "    [theme=dark] .colab-df-convert:hover {\n",
              "      background-color: #434B5C;\n",
              "      box-shadow: 0px 1px 3px 1px rgba(0, 0, 0, 0.15);\n",
              "      filter: drop-shadow(0px 1px 2px rgba(0, 0, 0, 0.3));\n",
              "      fill: #FFFFFF;\n",
              "    }\n",
              "  </style>\n",
              "\n",
              "      <script>\n",
              "        const buttonEl =\n",
              "          document.querySelector('#df-923302b5-9269-4049-8a40-9aa90dff8b91 button.colab-df-convert');\n",
              "        buttonEl.style.display =\n",
              "          google.colab.kernel.accessAllowed ? 'block' : 'none';\n",
              "\n",
              "        async function convertToInteractive(key) {\n",
              "          const element = document.querySelector('#df-923302b5-9269-4049-8a40-9aa90dff8b91');\n",
              "          const dataTable =\n",
              "            await google.colab.kernel.invokeFunction('convertToInteractive',\n",
              "                                                     [key], {});\n",
              "          if (!dataTable) return;\n",
              "\n",
              "          const docLinkHtml = 'Like what you see? Visit the ' +\n",
              "            '<a target=\"_blank\" href=https://colab.research.google.com/notebooks/data_table.ipynb>data table notebook</a>'\n",
              "            + ' to learn more about interactive tables.';\n",
              "          element.innerHTML = '';\n",
              "          dataTable['output_type'] = 'display_data';\n",
              "          await google.colab.output.renderOutput(dataTable, element);\n",
              "          const docLink = document.createElement('div');\n",
              "          docLink.innerHTML = docLinkHtml;\n",
              "          element.appendChild(docLink);\n",
              "        }\n",
              "      </script>\n",
              "    </div>\n",
              "  </div>\n",
              "  "
            ],
            "text/plain": [
              "  Source    Target\n",
              "0   A1CF   APOBEC1\n",
              "1   A1CF   APOBEC2\n",
              "2   A1CF  APOBEC3A\n",
              "3   A1CF  APOBEC3B\n",
              "4   A1CF  APOBEC3C"
            ]
          },
          "execution_count": 10,
          "metadata": {},
          "output_type": "execute_result"
        }
      ],
      "source": [
        "df.head()"
      ]
    },
    {
      "cell_type": "markdown",
      "metadata": {
        "id": "fpy8kHb03M9y"
      },
      "source": [
        "# Selecting Common Nodes From Both Data"
      ]
    },
    {
      "cell_type": "code",
      "execution_count": null,
      "metadata": {
        "colab": {
          "base_uri": "https://localhost:8080/"
        },
        "id": "enN3qxwRfIV1",
        "outputId": "863f75ac-a657-4a40-f63d-9d41e12f4bd5"
      },
      "outputs": [
        {
          "data": {
            "text/plain": [
              "12324"
            ]
          },
          "execution_count": 11,
          "metadata": {},
          "output_type": "execute_result"
        }
      ],
      "source": [
        "all_nodes = sorted(list(set(df['Source']) | set(df['Target'])))\n",
        "len(all_nodes)"
      ]
    },
    {
      "cell_type": "code",
      "execution_count": null,
      "metadata": {
        "colab": {
          "base_uri": "https://localhost:8080/"
        },
        "id": "qf-NNwBneVfU",
        "outputId": "dfd3a18a-9bde-494e-a71d-435eeba800e1"
      },
      "outputs": [
        {
          "data": {
            "text/plain": [
              "9614"
            ]
          },
          "execution_count": 12,
          "metadata": {},
          "output_type": "execute_result"
        }
      ],
      "source": [
        "len(set(all_nodes) & set(X.columns))"
      ]
    },
    {
      "cell_type": "code",
      "execution_count": null,
      "metadata": {
        "colab": {
          "base_uri": "https://localhost:8080/"
        },
        "id": "r9LD0UajfXLg",
        "outputId": "72261499-a3c5-40bf-f888-b6acd62b8ca8"
      },
      "outputs": [
        {
          "data": {
            "text/plain": [
              "9614"
            ]
          },
          "execution_count": 13,
          "metadata": {},
          "output_type": "execute_result"
        }
      ],
      "source": [
        "used_nodes = sorted(list(set(X.columns) & set(all_nodes)))\n",
        "len(used_nodes)"
      ]
    },
    {
      "cell_type": "code",
      "execution_count": null,
      "metadata": {
        "colab": {
          "base_uri": "https://localhost:8080/",
          "height": 310
        },
        "id": "cDnGvGnXfMl2",
        "outputId": "1eb61a2c-18a3-4a1c-81cc-f2bd84903142"
      },
      "outputs": [
        {
          "data": {
            "text/html": [
              "\n",
              "  <div id=\"df-c8d5eea3-bed8-4648-b83a-a4396c3c8386\">\n",
              "    <div class=\"colab-df-container\">\n",
              "      <div>\n",
              "<style scoped>\n",
              "    .dataframe tbody tr th:only-of-type {\n",
              "        vertical-align: middle;\n",
              "    }\n",
              "\n",
              "    .dataframe tbody tr th {\n",
              "        vertical-align: top;\n",
              "    }\n",
              "\n",
              "    .dataframe thead th {\n",
              "        text-align: right;\n",
              "    }\n",
              "</style>\n",
              "<table border=\"1\" class=\"dataframe\">\n",
              "  <thead>\n",
              "    <tr style=\"text-align: right;\">\n",
              "      <th></th>\n",
              "      <th>A1CF</th>\n",
              "      <th>A2M</th>\n",
              "      <th>A4GNT</th>\n",
              "      <th>AAAS</th>\n",
              "      <th>AACS</th>\n",
              "      <th>AADAC</th>\n",
              "      <th>AADAT</th>\n",
              "      <th>AAK1</th>\n",
              "      <th>AANAT</th>\n",
              "      <th>AARS</th>\n",
              "      <th>...</th>\n",
              "      <th>ZP2</th>\n",
              "      <th>ZP3</th>\n",
              "      <th>ZP4</th>\n",
              "      <th>ZRANB1</th>\n",
              "      <th>ZRSR2</th>\n",
              "      <th>ZSCAN10</th>\n",
              "      <th>ZW10</th>\n",
              "      <th>ZWILCH</th>\n",
              "      <th>ZWINT</th>\n",
              "      <th>ZZZ3</th>\n",
              "    </tr>\n",
              "  </thead>\n",
              "  <tbody>\n",
              "    <tr>\n",
              "      <th>TCGA-OR-A5J1-01</th>\n",
              "      <td>0.0</td>\n",
              "      <td>10373.70</td>\n",
              "      <td>0.0</td>\n",
              "      <td>2225.26</td>\n",
              "      <td>1266.090</td>\n",
              "      <td>0.0000</td>\n",
              "      <td>121.0370</td>\n",
              "      <td>868.876</td>\n",
              "      <td>1.4409</td>\n",
              "      <td>3520.65</td>\n",
              "      <td>...</td>\n",
              "      <td>0.0</td>\n",
              "      <td>306.9160</td>\n",
              "      <td>0.0</td>\n",
              "      <td>2180.12</td>\n",
              "      <td>256.004</td>\n",
              "      <td>0.0000</td>\n",
              "      <td>253.602</td>\n",
              "      <td>183.958</td>\n",
              "      <td>146.974</td>\n",
              "      <td>596.062</td>\n",
              "    </tr>\n",
              "    <tr>\n",
              "      <th>TCGA-OR-A5J2-01</th>\n",
              "      <td>0.0</td>\n",
              "      <td>9844.91</td>\n",
              "      <td>0.0</td>\n",
              "      <td>1509.46</td>\n",
              "      <td>981.613</td>\n",
              "      <td>1.2079</td>\n",
              "      <td>31.0025</td>\n",
              "      <td>1627.030</td>\n",
              "      <td>0.0000</td>\n",
              "      <td>5470.94</td>\n",
              "      <td>...</td>\n",
              "      <td>0.0</td>\n",
              "      <td>99.4255</td>\n",
              "      <td>0.0</td>\n",
              "      <td>2553.48</td>\n",
              "      <td>104.684</td>\n",
              "      <td>0.4026</td>\n",
              "      <td>270.165</td>\n",
              "      <td>264.125</td>\n",
              "      <td>438.464</td>\n",
              "      <td>801.637</td>\n",
              "    </tr>\n",
              "  </tbody>\n",
              "</table>\n",
              "<p>2 rows × 9614 columns</p>\n",
              "</div>\n",
              "      <button class=\"colab-df-convert\" onclick=\"convertToInteractive('df-c8d5eea3-bed8-4648-b83a-a4396c3c8386')\"\n",
              "              title=\"Convert this dataframe to an interactive table.\"\n",
              "              style=\"display:none;\">\n",
              "        \n",
              "  <svg xmlns=\"http://www.w3.org/2000/svg\" height=\"24px\"viewBox=\"0 0 24 24\"\n",
              "       width=\"24px\">\n",
              "    <path d=\"M0 0h24v24H0V0z\" fill=\"none\"/>\n",
              "    <path d=\"M18.56 5.44l.94 2.06.94-2.06 2.06-.94-2.06-.94-.94-2.06-.94 2.06-2.06.94zm-11 1L8.5 8.5l.94-2.06 2.06-.94-2.06-.94L8.5 2.5l-.94 2.06-2.06.94zm10 10l.94 2.06.94-2.06 2.06-.94-2.06-.94-.94-2.06-.94 2.06-2.06.94z\"/><path d=\"M17.41 7.96l-1.37-1.37c-.4-.4-.92-.59-1.43-.59-.52 0-1.04.2-1.43.59L10.3 9.45l-7.72 7.72c-.78.78-.78 2.05 0 2.83L4 21.41c.39.39.9.59 1.41.59.51 0 1.02-.2 1.41-.59l7.78-7.78 2.81-2.81c.8-.78.8-2.07 0-2.86zM5.41 20L4 18.59l7.72-7.72 1.47 1.35L5.41 20z\"/>\n",
              "  </svg>\n",
              "      </button>\n",
              "      \n",
              "  <style>\n",
              "    .colab-df-container {\n",
              "      display:flex;\n",
              "      flex-wrap:wrap;\n",
              "      gap: 12px;\n",
              "    }\n",
              "\n",
              "    .colab-df-convert {\n",
              "      background-color: #E8F0FE;\n",
              "      border: none;\n",
              "      border-radius: 50%;\n",
              "      cursor: pointer;\n",
              "      display: none;\n",
              "      fill: #1967D2;\n",
              "      height: 32px;\n",
              "      padding: 0 0 0 0;\n",
              "      width: 32px;\n",
              "    }\n",
              "\n",
              "    .colab-df-convert:hover {\n",
              "      background-color: #E2EBFA;\n",
              "      box-shadow: 0px 1px 2px rgba(60, 64, 67, 0.3), 0px 1px 3px 1px rgba(60, 64, 67, 0.15);\n",
              "      fill: #174EA6;\n",
              "    }\n",
              "\n",
              "    [theme=dark] .colab-df-convert {\n",
              "      background-color: #3B4455;\n",
              "      fill: #D2E3FC;\n",
              "    }\n",
              "\n",
              "    [theme=dark] .colab-df-convert:hover {\n",
              "      background-color: #434B5C;\n",
              "      box-shadow: 0px 1px 3px 1px rgba(0, 0, 0, 0.15);\n",
              "      filter: drop-shadow(0px 1px 2px rgba(0, 0, 0, 0.3));\n",
              "      fill: #FFFFFF;\n",
              "    }\n",
              "  </style>\n",
              "\n",
              "      <script>\n",
              "        const buttonEl =\n",
              "          document.querySelector('#df-c8d5eea3-bed8-4648-b83a-a4396c3c8386 button.colab-df-convert');\n",
              "        buttonEl.style.display =\n",
              "          google.colab.kernel.accessAllowed ? 'block' : 'none';\n",
              "\n",
              "        async function convertToInteractive(key) {\n",
              "          const element = document.querySelector('#df-c8d5eea3-bed8-4648-b83a-a4396c3c8386');\n",
              "          const dataTable =\n",
              "            await google.colab.kernel.invokeFunction('convertToInteractive',\n",
              "                                                     [key], {});\n",
              "          if (!dataTable) return;\n",
              "\n",
              "          const docLinkHtml = 'Like what you see? Visit the ' +\n",
              "            '<a target=\"_blank\" href=https://colab.research.google.com/notebooks/data_table.ipynb>data table notebook</a>'\n",
              "            + ' to learn more about interactive tables.';\n",
              "          element.innerHTML = '';\n",
              "          dataTable['output_type'] = 'display_data';\n",
              "          await google.colab.output.renderOutput(dataTable, element);\n",
              "          const docLink = document.createElement('div');\n",
              "          docLink.innerHTML = docLinkHtml;\n",
              "          element.appendChild(docLink);\n",
              "        }\n",
              "      </script>\n",
              "    </div>\n",
              "  </div>\n",
              "  "
            ],
            "text/plain": [
              "                 A1CF       A2M  A4GNT     AAAS      AACS   AADAC     AADAT  \\\n",
              "TCGA-OR-A5J1-01   0.0  10373.70    0.0  2225.26  1266.090  0.0000  121.0370   \n",
              "TCGA-OR-A5J2-01   0.0   9844.91    0.0  1509.46   981.613  1.2079   31.0025   \n",
              "\n",
              "                     AAK1   AANAT     AARS  ...  ZP2       ZP3  ZP4   ZRANB1  \\\n",
              "TCGA-OR-A5J1-01   868.876  1.4409  3520.65  ...  0.0  306.9160  0.0  2180.12   \n",
              "TCGA-OR-A5J2-01  1627.030  0.0000  5470.94  ...  0.0   99.4255  0.0  2553.48   \n",
              "\n",
              "                   ZRSR2  ZSCAN10     ZW10   ZWILCH    ZWINT     ZZZ3  \n",
              "TCGA-OR-A5J1-01  256.004   0.0000  253.602  183.958  146.974  596.062  \n",
              "TCGA-OR-A5J2-01  104.684   0.4026  270.165  264.125  438.464  801.637  \n",
              "\n",
              "[2 rows x 9614 columns]"
            ]
          },
          "execution_count": 14,
          "metadata": {},
          "output_type": "execute_result"
        }
      ],
      "source": [
        "X = X.loc[:, used_nodes]\n",
        "X.head(2)"
      ]
    },
    {
      "cell_type": "code",
      "execution_count": null,
      "metadata": {
        "id": "yCbpUWJxfpid"
      },
      "outputs": [],
      "source": [
        "# Extract the values from the 'Source' column of the DataFrame\n",
        "source_values = df['Source'].values\n",
        "\n",
        "# Create a boolean mask indicating whether each element in 'source_values' is present in 'used_nodes'\n",
        "mask = np.isin(source_values, used_nodes)\n",
        "\n",
        "df = df.loc[mask]\n",
        "\n",
        "# Update 'source_values' with the values from the 'Target' column of the filtered DataFrame\n",
        "source_values = df['Target'].values\n",
        "\n",
        "# Create a new boolean mask based on the updated 'source_values' array\n",
        "mask = np.isin(source_values, used_nodes)\n",
        "\n",
        "\n",
        "df = df.loc[mask]\n",
        "\n",
        "# Reset the index of the filtered DataFrame, dropping the old index\n",
        "df = df.reset_index(drop=True)"
      ]
    },
    {
      "cell_type": "code",
      "execution_count": null,
      "metadata": {
        "colab": {
          "base_uri": "https://localhost:8080/"
        },
        "id": "4rPVPxhAfsld",
        "outputId": "b091deca-0ba3-4957-cebd-4ee0bb3a5c79"
      },
      "outputs": [
        {
          "data": {
            "text/plain": [
              "9288"
            ]
          },
          "execution_count": 16,
          "metadata": {},
          "output_type": "execute_result"
        }
      ],
      "source": [
        "len(set(df['Source']) | set(df['Target']))"
      ]
    },
    {
      "cell_type": "code",
      "execution_count": null,
      "metadata": {
        "colab": {
          "base_uri": "https://localhost:8080/",
          "height": 310
        },
        "id": "_gbA4mcif0Ud",
        "outputId": "5cadefdf-af36-4392-ecda-df469742b903"
      },
      "outputs": [
        {
          "data": {
            "text/html": [
              "\n",
              "  <div id=\"df-dc83801f-5f45-4b6a-9506-207636f06f66\">\n",
              "    <div class=\"colab-df-container\">\n",
              "      <div>\n",
              "<style scoped>\n",
              "    .dataframe tbody tr th:only-of-type {\n",
              "        vertical-align: middle;\n",
              "    }\n",
              "\n",
              "    .dataframe tbody tr th {\n",
              "        vertical-align: top;\n",
              "    }\n",
              "\n",
              "    .dataframe thead th {\n",
              "        text-align: right;\n",
              "    }\n",
              "</style>\n",
              "<table border=\"1\" class=\"dataframe\">\n",
              "  <thead>\n",
              "    <tr style=\"text-align: right;\">\n",
              "      <th></th>\n",
              "      <th>A1CF</th>\n",
              "      <th>A2M</th>\n",
              "      <th>A4GNT</th>\n",
              "      <th>AAAS</th>\n",
              "      <th>AACS</th>\n",
              "      <th>AADAT</th>\n",
              "      <th>AAK1</th>\n",
              "      <th>AANAT</th>\n",
              "      <th>AARS</th>\n",
              "      <th>AARS2</th>\n",
              "      <th>...</th>\n",
              "      <th>ZP2</th>\n",
              "      <th>ZP3</th>\n",
              "      <th>ZP4</th>\n",
              "      <th>ZRANB1</th>\n",
              "      <th>ZRSR2</th>\n",
              "      <th>ZSCAN10</th>\n",
              "      <th>ZW10</th>\n",
              "      <th>ZWILCH</th>\n",
              "      <th>ZWINT</th>\n",
              "      <th>ZZZ3</th>\n",
              "    </tr>\n",
              "  </thead>\n",
              "  <tbody>\n",
              "    <tr>\n",
              "      <th>TCGA-OR-A5J1-01</th>\n",
              "      <td>0.0</td>\n",
              "      <td>10373.70</td>\n",
              "      <td>0.0</td>\n",
              "      <td>2225.26</td>\n",
              "      <td>1266.090</td>\n",
              "      <td>121.0370</td>\n",
              "      <td>868.876</td>\n",
              "      <td>1.4409</td>\n",
              "      <td>3520.65</td>\n",
              "      <td>299.712</td>\n",
              "      <td>...</td>\n",
              "      <td>0.0</td>\n",
              "      <td>306.9160</td>\n",
              "      <td>0.0</td>\n",
              "      <td>2180.12</td>\n",
              "      <td>256.004</td>\n",
              "      <td>0.0000</td>\n",
              "      <td>253.602</td>\n",
              "      <td>183.958</td>\n",
              "      <td>146.974</td>\n",
              "      <td>596.062</td>\n",
              "    </tr>\n",
              "    <tr>\n",
              "      <th>TCGA-OR-A5J2-01</th>\n",
              "      <td>0.0</td>\n",
              "      <td>9844.91</td>\n",
              "      <td>0.0</td>\n",
              "      <td>1509.46</td>\n",
              "      <td>981.613</td>\n",
              "      <td>31.0025</td>\n",
              "      <td>1627.030</td>\n",
              "      <td>0.0000</td>\n",
              "      <td>5470.94</td>\n",
              "      <td>408.666</td>\n",
              "      <td>...</td>\n",
              "      <td>0.0</td>\n",
              "      <td>99.4255</td>\n",
              "      <td>0.0</td>\n",
              "      <td>2553.48</td>\n",
              "      <td>104.684</td>\n",
              "      <td>0.4026</td>\n",
              "      <td>270.165</td>\n",
              "      <td>264.125</td>\n",
              "      <td>438.464</td>\n",
              "      <td>801.637</td>\n",
              "    </tr>\n",
              "  </tbody>\n",
              "</table>\n",
              "<p>2 rows × 9288 columns</p>\n",
              "</div>\n",
              "      <button class=\"colab-df-convert\" onclick=\"convertToInteractive('df-dc83801f-5f45-4b6a-9506-207636f06f66')\"\n",
              "              title=\"Convert this dataframe to an interactive table.\"\n",
              "              style=\"display:none;\">\n",
              "        \n",
              "  <svg xmlns=\"http://www.w3.org/2000/svg\" height=\"24px\"viewBox=\"0 0 24 24\"\n",
              "       width=\"24px\">\n",
              "    <path d=\"M0 0h24v24H0V0z\" fill=\"none\"/>\n",
              "    <path d=\"M18.56 5.44l.94 2.06.94-2.06 2.06-.94-2.06-.94-.94-2.06-.94 2.06-2.06.94zm-11 1L8.5 8.5l.94-2.06 2.06-.94-2.06-.94L8.5 2.5l-.94 2.06-2.06.94zm10 10l.94 2.06.94-2.06 2.06-.94-2.06-.94-.94-2.06-.94 2.06-2.06.94z\"/><path d=\"M17.41 7.96l-1.37-1.37c-.4-.4-.92-.59-1.43-.59-.52 0-1.04.2-1.43.59L10.3 9.45l-7.72 7.72c-.78.78-.78 2.05 0 2.83L4 21.41c.39.39.9.59 1.41.59.51 0 1.02-.2 1.41-.59l7.78-7.78 2.81-2.81c.8-.78.8-2.07 0-2.86zM5.41 20L4 18.59l7.72-7.72 1.47 1.35L5.41 20z\"/>\n",
              "  </svg>\n",
              "      </button>\n",
              "      \n",
              "  <style>\n",
              "    .colab-df-container {\n",
              "      display:flex;\n",
              "      flex-wrap:wrap;\n",
              "      gap: 12px;\n",
              "    }\n",
              "\n",
              "    .colab-df-convert {\n",
              "      background-color: #E8F0FE;\n",
              "      border: none;\n",
              "      border-radius: 50%;\n",
              "      cursor: pointer;\n",
              "      display: none;\n",
              "      fill: #1967D2;\n",
              "      height: 32px;\n",
              "      padding: 0 0 0 0;\n",
              "      width: 32px;\n",
              "    }\n",
              "\n",
              "    .colab-df-convert:hover {\n",
              "      background-color: #E2EBFA;\n",
              "      box-shadow: 0px 1px 2px rgba(60, 64, 67, 0.3), 0px 1px 3px 1px rgba(60, 64, 67, 0.15);\n",
              "      fill: #174EA6;\n",
              "    }\n",
              "\n",
              "    [theme=dark] .colab-df-convert {\n",
              "      background-color: #3B4455;\n",
              "      fill: #D2E3FC;\n",
              "    }\n",
              "\n",
              "    [theme=dark] .colab-df-convert:hover {\n",
              "      background-color: #434B5C;\n",
              "      box-shadow: 0px 1px 3px 1px rgba(0, 0, 0, 0.15);\n",
              "      filter: drop-shadow(0px 1px 2px rgba(0, 0, 0, 0.3));\n",
              "      fill: #FFFFFF;\n",
              "    }\n",
              "  </style>\n",
              "\n",
              "      <script>\n",
              "        const buttonEl =\n",
              "          document.querySelector('#df-dc83801f-5f45-4b6a-9506-207636f06f66 button.colab-df-convert');\n",
              "        buttonEl.style.display =\n",
              "          google.colab.kernel.accessAllowed ? 'block' : 'none';\n",
              "\n",
              "        async function convertToInteractive(key) {\n",
              "          const element = document.querySelector('#df-dc83801f-5f45-4b6a-9506-207636f06f66');\n",
              "          const dataTable =\n",
              "            await google.colab.kernel.invokeFunction('convertToInteractive',\n",
              "                                                     [key], {});\n",
              "          if (!dataTable) return;\n",
              "\n",
              "          const docLinkHtml = 'Like what you see? Visit the ' +\n",
              "            '<a target=\"_blank\" href=https://colab.research.google.com/notebooks/data_table.ipynb>data table notebook</a>'\n",
              "            + ' to learn more about interactive tables.';\n",
              "          element.innerHTML = '';\n",
              "          dataTable['output_type'] = 'display_data';\n",
              "          await google.colab.output.renderOutput(dataTable, element);\n",
              "          const docLink = document.createElement('div');\n",
              "          docLink.innerHTML = docLinkHtml;\n",
              "          element.appendChild(docLink);\n",
              "        }\n",
              "      </script>\n",
              "    </div>\n",
              "  </div>\n",
              "  "
            ],
            "text/plain": [
              "                 A1CF       A2M  A4GNT     AAAS      AACS     AADAT      AAK1  \\\n",
              "TCGA-OR-A5J1-01   0.0  10373.70    0.0  2225.26  1266.090  121.0370   868.876   \n",
              "TCGA-OR-A5J2-01   0.0   9844.91    0.0  1509.46   981.613   31.0025  1627.030   \n",
              "\n",
              "                  AANAT     AARS    AARS2  ...  ZP2       ZP3  ZP4   ZRANB1  \\\n",
              "TCGA-OR-A5J1-01  1.4409  3520.65  299.712  ...  0.0  306.9160  0.0  2180.12   \n",
              "TCGA-OR-A5J2-01  0.0000  5470.94  408.666  ...  0.0   99.4255  0.0  2553.48   \n",
              "\n",
              "                   ZRSR2  ZSCAN10     ZW10   ZWILCH    ZWINT     ZZZ3  \n",
              "TCGA-OR-A5J1-01  256.004   0.0000  253.602  183.958  146.974  596.062  \n",
              "TCGA-OR-A5J2-01  104.684   0.4026  270.165  264.125  438.464  801.637  \n",
              "\n",
              "[2 rows x 9288 columns]"
            ]
          },
          "execution_count": 17,
          "metadata": {},
          "output_type": "execute_result"
        }
      ],
      "source": [
        "\n",
        "# Select the columns from DataFrame 'X' that correspond to unique values \n",
        "columns_to_select = sorted(set(df['Source']).union(set(df['Target'])))\n",
        "X = X[columns_to_select]\n",
        "X.head(2)"
      ]
    },
    {
      "cell_type": "markdown",
      "source": [
        "# Creating Edge Index from Pathway Commons"
      ],
      "metadata": {
        "id": "WqxE_qXCmRN1"
      }
    },
    {
      "cell_type": "code",
      "execution_count": null,
      "metadata": {
        "id": "3a2Ek5R65Nwo"
      },
      "outputs": [],
      "source": [
        "source_nodes = df['Source'].tolist()\n",
        "target_nodes = df['Target'].tolist()\n",
        "\n",
        "\n",
        "# Create a dictionary to map each unique node to a unique index\n",
        "node_to_index = {node: index for index, node in enumerate(X.columns)}\n",
        "\n",
        "# Map the source and target nodes to their corresponding indices\n",
        "source_indices = [node_to_index[node] for node in source_nodes]\n",
        "target_indices = [node_to_index[node] for node in target_nodes]"
      ]
    },
    {
      "cell_type": "code",
      "execution_count": null,
      "metadata": {
        "id": "lDkBhxaIiSJl"
      },
      "outputs": [],
      "source": [
        "# Convert the source and target indices to a PyTorch tensor\n",
        "edge_index = torch.tensor([source_indices, target_indices], dtype=torch.long)"
      ]
    },
    {
      "cell_type": "code",
      "execution_count": null,
      "metadata": {
        "colab": {
          "base_uri": "https://localhost:8080/"
        },
        "id": "_hSLO4ioijm1",
        "outputId": "96ef3199-c8ee-4624-a7d4-691245ab3bc1"
      },
      "outputs": [
        {
          "data": {
            "text/plain": [
              "tensor([[   0,    0,    0,  ..., 9287, 9287, 9287],\n",
              "        [ 451,  452,  453,  ..., 3323, 3340, 3341]])"
            ]
          },
          "execution_count": 20,
          "metadata": {},
          "output_type": "execute_result"
        }
      ],
      "source": [
        "edge_index"
      ]
    },
    {
      "cell_type": "code",
      "execution_count": null,
      "metadata": {
        "colab": {
          "base_uri": "https://localhost:8080/"
        },
        "id": "8AijMTwRaV2O",
        "outputId": "5e3582b9-8862-415b-8423-98097ae7b5dd"
      },
      "outputs": [
        {
          "data": {
            "text/plain": [
              "torch.Size([2, 271771])"
            ]
          },
          "execution_count": 21,
          "metadata": {},
          "output_type": "execute_result"
        }
      ],
      "source": [
        "edge_index.shape"
      ]
    },
    {
      "cell_type": "markdown",
      "source": [
        "# Splitting the Data into Train and Test Splits"
      ],
      "metadata": {
        "id": "bwiNRVk9o0YF"
      }
    },
    {
      "cell_type": "code",
      "execution_count": null,
      "metadata": {
        "id": "A9SORNvuNaGW"
      },
      "outputs": [],
      "source": [
        "# Set the fixed index for splitting\n",
        "split_index = int(0.8 * X.shape[0])\n",
        "\n",
        "# Split the data based on the fixed index\n",
        "X_train = X[:split_index]\n",
        "X_test = X[split_index:]\n",
        "y_train = y[:split_index]\n",
        "y_test = y[split_index:]"
      ]
    },
    {
      "cell_type": "code",
      "execution_count": null,
      "metadata": {
        "colab": {
          "base_uri": "https://localhost:8080/"
        },
        "id": "2moOSXN89L_s",
        "outputId": "d45db975-da80-4212-a60c-dd920013790a"
      },
      "outputs": [
        {
          "data": {
            "text/plain": [
              "((62, 9288), (16, 9288))"
            ]
          },
          "execution_count": 23,
          "metadata": {},
          "output_type": "execute_result"
        }
      ],
      "source": [
        "X_train.shape, X_test.shape"
      ]
    },
    {
      "cell_type": "code",
      "execution_count": null,
      "metadata": {
        "id": "gD5qBnVD9R3Z"
      },
      "outputs": [],
      "source": [
        "X_train = X_train.values\n",
        "X_test = X_test.values"
      ]
    },
    {
      "cell_type": "code",
      "execution_count": null,
      "metadata": {
        "colab": {
          "base_uri": "https://localhost:8080/"
        },
        "id": "ti6NCahQOrmo",
        "outputId": "eb4f2a27-9132-4673-fe3e-4e1776bea7ba"
      },
      "outputs": [
        {
          "data": {
            "text/plain": [
              "array([    0.   , 10373.7  ,     0.   , ...,   183.958,   146.974,\n",
              "         596.062])"
            ]
          },
          "execution_count": 25,
          "metadata": {},
          "output_type": "execute_result"
        }
      ],
      "source": [
        "X_train[0]"
      ]
    },
    {
      "cell_type": "code",
      "execution_count": null,
      "metadata": {
        "colab": {
          "base_uri": "https://localhost:8080/"
        },
        "id": "JVmn65Q1O5qT",
        "outputId": "41c836fc-26aa-4642-a918-1cdfca36b5ac"
      },
      "outputs": [
        {
          "data": {
            "text/plain": [
              "array([   0.    , 1728.03  ,    0.    , ...,  106.475 ,   39.4796,\n",
              "        261.403 ])"
            ]
          },
          "execution_count": 26,
          "metadata": {},
          "output_type": "execute_result"
        }
      ],
      "source": [
        "X_test[1]"
      ]
    },
    {
      "cell_type": "code",
      "execution_count": null,
      "metadata": {
        "colab": {
          "base_uri": "https://localhost:8080/"
        },
        "id": "xevvmFAQO8h7",
        "outputId": "4bb29c84-dfae-4a4a-8ff4-641b03ee73b6"
      },
      "outputs": [
        {
          "data": {
            "text/plain": [
              "array([ 44.54745701,  55.13364237,  68.74445212,  11.9998685 ,\n",
              "        88.86477956,  16.1094125 ,  19.03540783,  44.44882796,\n",
              "        30.31199658,  18.11486997,  57.53361607,  99.8783575 ,\n",
              "        69.20472104,  66.24584936,  17.78610645,  76.63477661,\n",
              "        16.1094125 ,  49.215899  ,  67.59377979,  18.47650985,\n",
              "        39.25436434,  15.25462735,  36.2626163 , 121.2479863 ,\n",
              "        12.59164283,  29.8188513 ,  66.50886018,  72.39372719,\n",
              "        31.23253444,  18.14774633,  27.02436138,  33.82976625,\n",
              "       108.1303219 ,  32.67909393, 113.9165598 ,  35.57221291,\n",
              "        16.37242332,  49.0843936 ,  24.62438768,  11.3094651 ,\n",
              "        46.48716179,  95.17703916, 153.6311931 , 127.4944932 ,\n",
              "        68.25130684,  44.84334418,  12.85465365,   4.10954401,\n",
              "       152.1517572 ,  31.79143242,  43.29815564,  28.30653911,\n",
              "        29.09557156,  28.63530263,  23.63809712,  39.58312786,\n",
              "         5.22733997,  39.35299339,  21.76414505,  52.24052339,\n",
              "        78.41009962,  36.328369  ])"
            ]
          },
          "execution_count": 27,
          "metadata": {},
          "output_type": "execute_result"
        }
      ],
      "source": [
        "y_train"
      ]
    },
    {
      "cell_type": "markdown",
      "source": [
        "# Generating patient-specific graphs"
      ],
      "metadata": {
        "id": "1z7WbblxpLtR"
      }
    },
    {
      "cell_type": "code",
      "execution_count": null,
      "metadata": {
        "id": "IohJNJFPFqqs"
      },
      "outputs": [],
      "source": [
        "num_patients_train = X_train.shape[0]\n",
        "num_patients_test = X_test.shape[0]\n",
        "\n",
        "# Create patient-specific graphs for the training set\n",
        "graphs_train = []\n",
        "for i in range(num_patients_train):\n",
        "    node_features = X_train[i]  # Node features for the i-th patient\n",
        "    target = y_train[i]  # Target label for the i-th patient\n",
        "    graph_train = (node_features, edge_index, target)\n",
        "    graphs_train.append(graph_train)\n",
        "\n",
        "# Create patient-specific graphs for the test set\n",
        "graphs_test = []\n",
        "for i in range(num_patients_test):\n",
        "    node_features = X_test[i]  # Node features for the i-th patient\n",
        "    target = y_test[i]  # Target label for the i-th patient\n",
        "    graph_test = (node_features, edge_index, target)\n",
        "    graphs_test.append(graph_test)"
      ]
    },
    {
      "cell_type": "code",
      "execution_count": null,
      "metadata": {
        "colab": {
          "base_uri": "https://localhost:8080/"
        },
        "id": "xGcmIHELMEdg",
        "outputId": "8c3bc540-fcdc-450b-b1ee-6ab5b252a575"
      },
      "outputs": [
        {
          "name": "stdout",
          "output_type": "stream",
          "text": [
            "62\n",
            "16\n"
          ]
        }
      ],
      "source": [
        "# Check the number of patient-specific graphs\n",
        "print(len(graphs_train))  # Should be 62\n",
        "print(len(graphs_test))  # Should be 16"
      ]
    },
    {
      "cell_type": "code",
      "execution_count": null,
      "metadata": {
        "colab": {
          "base_uri": "https://localhost:8080/"
        },
        "id": "olPMTAImFxrJ",
        "outputId": "dd47adaa-a93b-46d0-d15e-261f9539e5a6"
      },
      "outputs": [
        {
          "name": "stdout",
          "output_type": "stream",
          "text": [
            "[    0.    10373.7       0.    ...   183.958   146.974   596.062]\n",
            "tensor([[   0,    0,    0,  ..., 9287, 9287, 9287],\n",
            "        [ 451,  452,  453,  ..., 3323, 3340, 3341]])\n",
            "44.54745701\n"
          ]
        }
      ],
      "source": [
        "# Access the patient-specific graph for a specific patient in the training set\n",
        "patient_index = 0 # Index of the patient\n",
        "node_features, edge_index, y = graphs_train[patient_index]\n",
        "print(node_features)  # Node features for the specific patient\n",
        "print(edge_index)  # Edge index for the specific patient\n",
        "print(y)"
      ]
    },
    {
      "cell_type": "code",
      "execution_count": null,
      "metadata": {
        "colab": {
          "base_uri": "https://localhost:8080/"
        },
        "id": "w9CCMwQeGGUj",
        "outputId": "5ec909f2-4f77-4a09-fc4b-e7cc387b20e8"
      },
      "outputs": [
        {
          "name": "stdout",
          "output_type": "stream",
          "text": [
            "[1.20290e+00 1.17995e+04 0.00000e+00 ... 9.13745e+02 1.31836e+03\n",
            " 6.15878e+02]\n",
            "tensor([[   0,    0,    0,  ..., 9287, 9287, 9287],\n",
            "        [ 451,  452,  453,  ..., 3323, 3340, 3341]])\n",
            "42.50912319\n"
          ]
        }
      ],
      "source": [
        "# Access the patient-specific graph for a specific patient in the training set\n",
        "patient_index = 15  # Index of the patient\n",
        "node_features, edge_index, y = graphs_test[patient_index]\n",
        "print(node_features)  # Node features for the specific patient\n",
        "print(edge_index)  # Edge index for the specific patient\n",
        "print(y)"
      ]
    },
    {
      "cell_type": "markdown",
      "source": [
        "# Converting List of Graphs to Data Objects"
      ],
      "metadata": {
        "id": "73STw3hfpXYA"
      }
    },
    {
      "cell_type": "code",
      "execution_count": null,
      "metadata": {
        "id": "OQvmOmtabK95"
      },
      "outputs": [],
      "source": [
        "# Convert graphs_train to a list of Data objects\n",
        "data_train = [Data(x=torch.tensor(graph[0].reshape(len(graphs_train[0][0]), 1)), edge_index=graph[1], y=torch.tensor(graph[2])) for graph in graphs_train]\n",
        "\n",
        "# Convert graphs_test to a list of Data objects\n",
        "data_test = [Data(x=torch.tensor(graph[0].reshape(len(graphs_test[0][0]), 1)), edge_index=graph[1], y=torch.tensor(graph[2])) for graph in graphs_test]"
      ]
    },
    {
      "cell_type": "code",
      "execution_count": null,
      "metadata": {
        "colab": {
          "base_uri": "https://localhost:8080/"
        },
        "id": "8ZeTylyJgjtK",
        "outputId": "719800a5-db27-4a9b-c059-67fba54fca05"
      },
      "outputs": [
        {
          "data": {
            "text/plain": [
              "array([    0.   , 10373.7  ,     0.   , ...,   183.958,   146.974,\n",
              "         596.062])"
            ]
          },
          "execution_count": 33,
          "metadata": {},
          "output_type": "execute_result"
        }
      ],
      "source": [
        "graphs_train[0][0]"
      ]
    },
    {
      "cell_type": "code",
      "execution_count": null,
      "metadata": {
        "colab": {
          "base_uri": "https://localhost:8080/"
        },
        "id": "--lYO8N9jWNI",
        "outputId": "aa7b44a0-871e-4371-cd15-342909fa2466"
      },
      "outputs": [
        {
          "data": {
            "text/plain": [
              "(array([    0.   , 10373.7  ,     0.   , ...,   183.958,   146.974,\n",
              "          596.062]),\n",
              " tensor([[   0,    0,    0,  ..., 9287, 9287, 9287],\n",
              "         [ 451,  452,  453,  ..., 3323, 3340, 3341]]),\n",
              " 44.54745701)"
            ]
          },
          "execution_count": 34,
          "metadata": {},
          "output_type": "execute_result"
        }
      ],
      "source": [
        "graphs_train[0]"
      ]
    },
    {
      "cell_type": "code",
      "execution_count": null,
      "metadata": {
        "colab": {
          "base_uri": "https://localhost:8080/"
        },
        "id": "2b-nnbsHop46",
        "outputId": "5d7dc565-2d5a-43f9-c026-d5b0db7a1a8d"
      },
      "outputs": [
        {
          "data": {
            "text/plain": [
              "[Data(x=[9288, 1], edge_index=[2, 271771], y=90.08120459),\n",
              " Data(x=[9288, 1], edge_index=[2, 271771], y=53.02955584),\n",
              " Data(x=[9288, 1], edge_index=[2, 271771], y=61.08426209),\n",
              " Data(x=[9288, 1], edge_index=[2, 271771], y=76.99641648),\n",
              " Data(x=[9288, 1], edge_index=[2, 271771], y=79.06762666),\n",
              " Data(x=[9288, 1], edge_index=[2, 271771], y=61.05138574),\n",
              " Data(x=[9288, 1], edge_index=[2, 271771], y=28.04352829),\n",
              " Data(x=[9288, 1], edge_index=[2, 271771], y=36.03248184),\n",
              " Data(x=[9288, 1], edge_index=[2, 271771], y=18.04911727),\n",
              " Data(x=[9288, 1], edge_index=[2, 271771], y=38.49820824),\n",
              " Data(x=[9288, 1], edge_index=[2, 271771], y=6.805404872),\n",
              " Data(x=[9288, 1], edge_index=[2, 271771], y=24.85452214),\n",
              " Data(x=[9288, 1], edge_index=[2, 271771], y=119.1110234),\n",
              " Data(x=[9288, 1], edge_index=[2, 271771], y=20.25183286),\n",
              " Data(x=[9288, 1], edge_index=[2, 271771], y=39.4844988),\n",
              " Data(x=[9288, 1], edge_index=[2, 271771], y=42.50912319)]"
            ]
          },
          "execution_count": 35,
          "metadata": {},
          "output_type": "execute_result"
        }
      ],
      "source": [
        "data_test"
      ]
    },
    {
      "cell_type": "code",
      "execution_count": null,
      "metadata": {
        "colab": {
          "base_uri": "https://localhost:8080/"
        },
        "id": "M_AXY4EhirX7",
        "outputId": "fb32ba1f-822c-40a1-cce9-f9b8d6d369ae"
      },
      "outputs": [
        {
          "name": "stdout",
          "output_type": "stream",
          "text": [
            "Data(x=[9288, 1], edge_index=[2, 271771], y=44.54745701)\n",
            "tensor([[    0.0000],\n",
            "        [10373.7000],\n",
            "        [    0.0000],\n",
            "        ...,\n",
            "        [  183.9580],\n",
            "        [  146.9740],\n",
            "        [  596.0620]], dtype=torch.float64)\n",
            "tensor([[   0,    0,    0,  ..., 9287, 9287, 9287],\n",
            "        [ 451,  452,  453,  ..., 3323, 3340, 3341]])\n",
            "tensor(44.5475, dtype=torch.float64)\n"
          ]
        }
      ],
      "source": [
        "# Access the attributes of a specific data object in the training set\n",
        "sample = data_train[0]  # Get the first data object\n",
        "print(sample)  # Print the data object\n",
        "\n",
        "# Access the node features, edge indices, and target label\n",
        "node_features = sample.x\n",
        "edge_index = sample.edge_index\n",
        "target = sample.y\n",
        "\n",
        "print(node_features)  # Print the node features\n",
        "print(edge_index)  # Print the edge indices\n",
        "print(target)  # Print the target label"
      ]
    },
    {
      "cell_type": "markdown",
      "source": [
        "# Creating Train and Test Batches"
      ],
      "metadata": {
        "id": "tHuhKYTmpqrY"
      }
    },
    {
      "cell_type": "code",
      "execution_count": null,
      "metadata": {
        "colab": {
          "base_uri": "https://localhost:8080/"
        },
        "id": "0gZ-l0npPIca",
        "outputId": "81fc8069-34e7-4e8f-a073-c22c788c834c"
      },
      "outputs": [
        {
          "name": "stdout",
          "output_type": "stream",
          "text": [
            "Training Batches: \n",
            "Step 1:\n",
            "=======\n",
            "Number of graphs in the current batch: 32\n",
            "DataBatch(x=[297216, 1], edge_index=[2, 8696672], y=[32], batch=[297216], ptr=[33])\n",
            "\n",
            "Training Batches: \n",
            "Step 2:\n",
            "=======\n",
            "Number of graphs in the current batch: 30\n",
            "DataBatch(x=[278640, 1], edge_index=[2, 8153130], y=[30], batch=[278640], ptr=[31])\n",
            "\n"
          ]
        }
      ],
      "source": [
        "from torch_geometric.loader import DataLoader\n",
        "\n",
        "train_loader = DataLoader(data_train, batch_size=32, shuffle=True)\n",
        "test_loader = DataLoader(data_test, batch_size=8, shuffle=False)\n",
        "\n",
        "for step, data in enumerate(train_loader):\n",
        "    print('Training Batches: ')\n",
        "    print(f'Step {step + 1}:')\n",
        "    print('=======')\n",
        "    print(f'Number of graphs in the current batch: {data.num_graphs}')\n",
        "    print(data)\n",
        "    print()"
      ]
    },
    {
      "cell_type": "code",
      "execution_count": null,
      "metadata": {
        "colab": {
          "base_uri": "https://localhost:8080/"
        },
        "id": "pqWv0wYqk22X",
        "outputId": "7d1fd14e-7446-458e-8839-ecb2b12408dc"
      },
      "outputs": [
        {
          "name": "stdout",
          "output_type": "stream",
          "text": [
            "Test Batches: \n",
            "Step 1:\n",
            "=======\n",
            "Number of graphs in the current batch: 8\n",
            "DataBatch(x=[74304, 1], edge_index=[2, 2174168], y=[8], batch=[74304], ptr=[9])\n",
            "\n",
            "Test Batches: \n",
            "Step 2:\n",
            "=======\n",
            "Number of graphs in the current batch: 8\n",
            "DataBatch(x=[74304, 1], edge_index=[2, 2174168], y=[8], batch=[74304], ptr=[9])\n",
            "\n"
          ]
        }
      ],
      "source": [
        "for step, data in enumerate(test_loader):\n",
        "    print('Test Batches: ')\n",
        "    print(f'Step {step + 1}:')\n",
        "    print('=======')\n",
        "    print(f'Number of graphs in the current batch: {data.num_graphs}')\n",
        "    print(data)\n",
        "    print()"
      ]
    },
    {
      "cell_type": "markdown",
      "source": [
        "# Model Building and Evaluation"
      ],
      "metadata": {
        "id": "UzfC0CY_qGWw"
      }
    },
    {
      "cell_type": "code",
      "execution_count": null,
      "metadata": {
        "id": "0PQNhtuosLl3"
      },
      "outputs": [],
      "source": [
        "from torch.nn import Linear\n",
        "import torch.nn.functional as F\n",
        "from torch_geometric.nn import GCNConv\n",
        "from torch_geometric.nn import global_mean_pool"
      ]
    },
    {
      "cell_type": "code",
      "execution_count": null,
      "metadata": {
        "id": "HtR7piktlpI8"
      },
      "outputs": [],
      "source": [
        "class GCN(torch.nn.Module):\n",
        "    def __init__(self, hidden_channels, num_node_features):\n",
        "        super(GCN, self).__init__()\n",
        "        torch.manual_seed(12345)\n",
        "        self.conv1 = GCNConv(num_node_features, hidden_channels)\n",
        "        self.conv2 = GCNConv(hidden_channels, hidden_channels)\n",
        "        self.conv3 = GCNConv(hidden_channels, hidden_channels)\n",
        "        self.lin = Linear(hidden_channels, 1)  # Regression output with 1 dimension\n",
        "\n",
        "    def forward(self, x, edge_index, batch):\n",
        "        # 1. Obtain node embeddings\n",
        "        x = self.conv1(x, edge_index)\n",
        "        x = x.relu()\n",
        "        x = self.conv2(x, edge_index)\n",
        "        x = x.relu()\n",
        "        x = self.conv3(x, edge_index)\n",
        "\n",
        "        # 2. Readout layer\n",
        "        x = global_mean_pool(x, batch)  # [batch_size, hidden_channels]\n",
        "\n",
        "        # 3. Apply a final regression layer\n",
        "        x = F.dropout(x, p=0.2, training=self.training)\n",
        "        x = self.lin(x)\n",
        "\n",
        "        return x.squeeze()  # Remove the extra dimension"
      ]
    },
    {
      "cell_type": "code",
      "execution_count": 41,
      "metadata": {
        "colab": {
          "base_uri": "https://localhost:8080/"
        },
        "id": "z_loQUgsoQ-n",
        "outputId": "0f03f304-f784-4b0e-b107-78e66ed9b75d"
      },
      "outputs": [
        {
          "output_type": "stream",
          "name": "stdout",
          "text": [
            "Epoch: 000, Train loss: 129410.2112, Test Loss: 791.3781\n",
            "Epoch: 001, Train loss: 23701.5885, Test Loss: 5243.8372\n",
            "Epoch: 002, Train loss: 34177.5206, Test Loss: 600.6721\n",
            "Epoch: 003, Train loss: 3650.1808, Test Loss: 246.1246\n",
            "Epoch: 004, Train loss: 2968.0425, Test Loss: 347.6179\n",
            "Epoch: 005, Train loss: 3282.8482, Test Loss: 418.1660\n",
            "Epoch: 006, Train loss: 3647.8534, Test Loss: 421.4515\n",
            "Epoch: 007, Train loss: 3548.1207, Test Loss: 409.9760\n",
            "Epoch: 008, Train loss: 3553.1150, Test Loss: 397.4286\n",
            "Epoch: 009, Train loss: 3395.7473, Test Loss: 374.8122\n",
            "Epoch: 010, Train loss: 3209.0978, Test Loss: 345.3970\n",
            "Epoch: 011, Train loss: 2973.3637, Test Loss: 309.0914\n",
            "Epoch: 012, Train loss: 2734.1807, Test Loss: 264.8467\n",
            "Epoch: 013, Train loss: 2345.7370, Test Loss: 214.0014\n",
            "Epoch: 014, Train loss: 1973.3042, Test Loss: 161.6546\n",
            "Epoch: 015, Train loss: 1732.9938, Test Loss: 118.0704\n",
            "Epoch: 016, Train loss: 1290.9724, Test Loss: 94.3744\n",
            "Epoch: 017, Train loss: 1297.6568, Test Loss: 93.3776\n",
            "Epoch: 018, Train loss: 1394.7162, Test Loss: 105.0787\n",
            "Epoch: 019, Train loss: 1503.4680, Test Loss: 112.0713\n",
            "Epoch: 020, Train loss: 1705.7642, Test Loss: 105.6758\n",
            "Epoch: 021, Train loss: 1435.7338, Test Loss: 95.3745\n",
            "Epoch: 022, Train loss: 1247.1849, Test Loss: 91.4286\n",
            "Epoch: 023, Train loss: 1375.6064, Test Loss: 94.9003\n",
            "Epoch: 024, Train loss: 1265.4536, Test Loss: 101.6660\n",
            "Epoch: 025, Train loss: 1305.7858, Test Loss: 106.6251\n",
            "Epoch: 026, Train loss: 1344.9693, Test Loss: 107.7054\n",
            "Epoch: 027, Train loss: 1507.1802, Test Loss: 105.4377\n",
            "Epoch: 028, Train loss: 1263.6551, Test Loss: 100.6796\n",
            "Epoch: 029, Train loss: 1441.4215, Test Loss: 96.1305\n",
            "Epoch: 030, Train loss: 1307.8664, Test Loss: 92.8314\n",
            "Epoch: 031, Train loss: 1256.6256, Test Loss: 91.5273\n",
            "Epoch: 032, Train loss: 1375.6805, Test Loss: 91.5584\n",
            "Epoch: 033, Train loss: 1366.3869, Test Loss: 91.7340\n",
            "Epoch: 034, Train loss: 1382.2581, Test Loss: 91.4481\n",
            "Epoch: 035, Train loss: 1363.5074, Test Loss: 91.7624\n",
            "Epoch: 036, Train loss: 1346.0656, Test Loss: 92.8105\n",
            "Epoch: 037, Train loss: 1472.8868, Test Loss: 94.0697\n",
            "Epoch: 038, Train loss: 1282.2591, Test Loss: 95.3014\n",
            "Epoch: 039, Train loss: 1406.6785, Test Loss: 96.2159\n",
            "Epoch: 040, Train loss: 1259.3240, Test Loss: 95.7483\n",
            "Epoch: 041, Train loss: 1162.9851, Test Loss: 94.3879\n",
            "Epoch: 042, Train loss: 1334.3162, Test Loss: 93.1448\n",
            "Epoch: 043, Train loss: 1273.0581, Test Loss: 92.3179\n",
            "Epoch: 044, Train loss: 1337.4997, Test Loss: 92.2342\n",
            "Epoch: 045, Train loss: 1363.2749, Test Loss: 92.2725\n",
            "Epoch: 046, Train loss: 1247.1860, Test Loss: 92.7199\n",
            "Epoch: 047, Train loss: 1312.4043, Test Loss: 93.2699\n",
            "Epoch: 048, Train loss: 1320.1935, Test Loss: 93.5346\n",
            "Epoch: 049, Train loss: 1354.5004, Test Loss: 93.0234\n",
            "Epoch: 050, Train loss: 1340.0155, Test Loss: 93.1646\n",
            "Epoch: 051, Train loss: 1367.5851, Test Loss: 93.5955\n",
            "Epoch: 052, Train loss: 1420.0324, Test Loss: 94.3114\n",
            "Epoch: 053, Train loss: 1298.8689, Test Loss: 94.2766\n",
            "Epoch: 054, Train loss: 1334.5255, Test Loss: 94.3648\n",
            "Epoch: 055, Train loss: 1268.9246, Test Loss: 93.0493\n",
            "Epoch: 056, Train loss: 1377.5287, Test Loss: 92.5548\n",
            "Epoch: 057, Train loss: 1277.0069, Test Loss: 92.2339\n",
            "Epoch: 058, Train loss: 1397.2416, Test Loss: 92.4586\n",
            "Epoch: 059, Train loss: 1288.0777, Test Loss: 93.2253\n",
            "Epoch: 060, Train loss: 1330.4769, Test Loss: 93.7537\n",
            "Epoch: 061, Train loss: 1421.0089, Test Loss: 93.9519\n",
            "Epoch: 062, Train loss: 1429.6755, Test Loss: 93.6826\n",
            "Epoch: 063, Train loss: 1340.3164, Test Loss: 93.4660\n",
            "Epoch: 064, Train loss: 1313.2440, Test Loss: 92.9803\n",
            "Epoch: 065, Train loss: 1338.2829, Test Loss: 92.5624\n",
            "Epoch: 066, Train loss: 1306.5997, Test Loss: 92.1532\n",
            "Epoch: 067, Train loss: 1260.4325, Test Loss: 91.8167\n",
            "Epoch: 068, Train loss: 1304.6432, Test Loss: 91.7427\n",
            "Epoch: 069, Train loss: 1369.9941, Test Loss: 92.2438\n",
            "Epoch: 070, Train loss: 1429.6581, Test Loss: 93.3381\n",
            "Epoch: 071, Train loss: 1251.0897, Test Loss: 95.4654\n",
            "Epoch: 072, Train loss: 1338.8913, Test Loss: 96.1708\n",
            "Epoch: 073, Train loss: 1392.1133, Test Loss: 95.4305\n",
            "Epoch: 074, Train loss: 1246.3661, Test Loss: 95.4200\n",
            "Epoch: 075, Train loss: 1346.0215, Test Loss: 94.0746\n",
            "Epoch: 076, Train loss: 1227.9766, Test Loss: 92.5668\n",
            "Epoch: 077, Train loss: 1382.6313, Test Loss: 92.1275\n",
            "Epoch: 078, Train loss: 1365.1884, Test Loss: 92.2750\n",
            "Epoch: 079, Train loss: 1187.0129, Test Loss: 92.3545\n",
            "Epoch: 080, Train loss: 1247.6341, Test Loss: 92.3563\n",
            "Epoch: 081, Train loss: 1273.9594, Test Loss: 92.5025\n",
            "Epoch: 082, Train loss: 1307.8149, Test Loss: 93.6731\n",
            "Epoch: 083, Train loss: 1346.0535, Test Loss: 94.1048\n",
            "Epoch: 084, Train loss: 1341.6216, Test Loss: 95.0653\n",
            "Epoch: 085, Train loss: 1377.8295, Test Loss: 94.2089\n",
            "Epoch: 086, Train loss: 1308.5907, Test Loss: 94.6237\n",
            "Epoch: 087, Train loss: 1211.9469, Test Loss: 92.3827\n",
            "Epoch: 088, Train loss: 1266.1097, Test Loss: 91.6167\n",
            "Epoch: 089, Train loss: 1407.4842, Test Loss: 91.6287\n",
            "Epoch: 090, Train loss: 1395.6876, Test Loss: 92.6038\n",
            "Epoch: 091, Train loss: 1307.6563, Test Loss: 95.0343\n",
            "Epoch: 092, Train loss: 1329.8271, Test Loss: 96.9223\n",
            "Epoch: 093, Train loss: 1266.9756, Test Loss: 95.1049\n",
            "Epoch: 094, Train loss: 1249.8646, Test Loss: 93.1641\n",
            "Epoch: 095, Train loss: 1328.7770, Test Loss: 91.8931\n",
            "Epoch: 096, Train loss: 1276.7304, Test Loss: 91.4818\n",
            "Epoch: 097, Train loss: 1233.3336, Test Loss: 91.7773\n",
            "Epoch: 098, Train loss: 1393.1381, Test Loss: 92.0648\n",
            "Epoch: 099, Train loss: 1282.1152, Test Loss: 94.7721\n",
            "Epoch: 100, Train loss: 1330.3872, Test Loss: 96.8705\n"
          ]
        }
      ],
      "source": [
        "model = GCN(hidden_channels=64, num_node_features=1)\n",
        "criterion = torch.nn.MSELoss()\n",
        "optimizer = torch.optim.Adam(model.parameters(), lr=0.01)\n",
        "\n",
        "model.double()  # Convert the model's parameters to Double type\n",
        "\n",
        "num_epochs = 101  # Specify the number of epochs\n",
        "\n",
        "for epoch in range(num_epochs):\n",
        "    model.train()  # Set the model to train mode\n",
        "    total_loss = 0\n",
        "\n",
        "    for step, data in enumerate(train_loader):\n",
        "        optimizer.zero_grad()\n",
        "\n",
        "        out = model(data.x.double(), data.edge_index, data.batch)\n",
        "        loss = criterion(out, data.y.view(-1).double())\n",
        "        loss.backward()\n",
        "        optimizer.step()\n",
        "\n",
        "        total_loss += loss.item()\n",
        "\n",
        "    average_loss = total_loss / (step + 1)\n",
        "    \n",
        "    # Evaluate on the test set\n",
        "    model.eval()  # Set the model to evaluation mode\n",
        "    with torch.no_grad():\n",
        "        test_loss = 0\n",
        "        for data in test_loader:\n",
        "            out = model(data.x.double(), data.edge_index, data.batch)\n",
        "            loss = criterion(out, data.y.view(-1).double())\n",
        "            test_loss += loss.item()\n",
        "\n",
        "        average_test_loss = test_loss / len(data_test)\n",
        "        #print(f\"Epoch: {epoch+1:03d}, Test Loss: {average_test_loss:.4f}\")\n",
        "        print(f'Epoch: {epoch:03d}, Train loss: {average_loss:.4f}, Test Loss: {average_test_loss:.4f}')"
      ]
    },
    {
      "cell_type": "code",
      "execution_count": 42,
      "metadata": {
        "id": "hG2NZ_CwxvyI",
        "colab": {
          "base_uri": "https://localhost:8080/"
        },
        "outputId": "bbea22eb-73b1-4b81-ea8d-348ccbb65096"
      },
      "outputs": [
        {
          "output_type": "stream",
          "name": "stdout",
          "text": [
            "[53.01817626 40.05074882 49.00959863 44.54161161 35.76659514 44.95573184\n",
            " 46.62116467 38.56213906 39.27010396 39.03080886 39.52077349 47.93688063\n",
            " 51.97068159 44.27898666 44.72378354 45.02683638]\n"
          ]
        }
      ],
      "source": [
        "model.eval()  # Set the model to evaluation mode\n",
        "\n",
        "predictions = []  # List to store the predicted outputs\n",
        "\n",
        "with torch.no_grad():\n",
        "    for data in test_loader:\n",
        "        out = model(data.x.double(), data.edge_index, data.batch)\n",
        "        predictions.append(out.detach().numpy())  # Convert the predictions to NumPy array\n",
        "\n",
        "# Concatenate the predictions from multiple batches\n",
        "predictions = np.concatenate(predictions)\n",
        "\n",
        "# Print the predictions\n",
        "print(predictions)"
      ]
    },
    {
      "cell_type": "code",
      "execution_count": 45,
      "metadata": {
        "id": "2vJhDwz5oX3Z",
        "colab": {
          "base_uri": "https://localhost:8080/"
        },
        "outputId": "d9b72a4d-9958-4482-988e-74b52e26ce40"
      },
      "outputs": [
        {
          "output_type": "stream",
          "name": "stdout",
          "text": [
            "Mean Squared Error (MSE) Loss: 774.9644\n",
            "R-squared (Accuracy): 0.0876\n"
          ]
        },
        {
          "output_type": "stream",
          "name": "stderr",
          "text": [
            "<ipython-input-45-d38790cb8a51>:9: UserWarning: To copy construct from a tensor, it is recommended to use sourceTensor.clone().detach() or sourceTensor.clone().detach().requires_grad_(True), rather than torch.tensor(sourceTensor).\n",
            "  predictions = torch.tensor(predictions)\n"
          ]
        }
      ],
      "source": [
        "from sklearn.metrics import r2_score\n",
        "\n",
        "# Convert the test data batches to a list of Data objects\n",
        "test_data_batches = [\n",
        "    Data(x=batch.x, edge_index=batch.edge_index, y=batch.y) for batch in test_data_batches\n",
        "]\n",
        "\n",
        "# Convert the predictions to PyTorch tensors\n",
        "predictions = torch.tensor(predictions)\n",
        "\n",
        "# Convert the ground truth labels of the test data to a PyTorch tensor\n",
        "y_true = torch.cat([batch.y for batch in test_data_batches])\n",
        "\n",
        "# Calculate the mean squared error (MSE) loss using PyTorch's function\n",
        "mse_loss = torch.nn.functional.mse_loss(predictions.view(-1), y_true.view(-1))\n",
        "\n",
        "# Calculate the R-squared (coefficient of determination) using scikit-learn's function\n",
        "r2 = r2_score(y_true.view(-1).numpy(), predictions.view(-1).numpy())\n",
        "\n",
        "print(f\"Mean Squared Error (MSE) Loss: {mse_loss:.4f}\")\n",
        "print(f\"R-squared (Accuracy): {r2:.4f}\")\n"
      ]
    },
    {
      "cell_type": "code",
      "source": [],
      "metadata": {
        "id": "bUbuzHbzlhBw"
      },
      "execution_count": null,
      "outputs": []
    }
  ],
  "metadata": {
    "accelerator": "GPU",
    "colab": {
      "provenance": [],
      "toc_visible": true,
      "include_colab_link": true
    },
    "kernelspec": {
      "display_name": "Python 3",
      "name": "python3"
    },
    "language_info": {
      "name": "python"
    }
  },
  "nbformat": 4,
  "nbformat_minor": 0
}
