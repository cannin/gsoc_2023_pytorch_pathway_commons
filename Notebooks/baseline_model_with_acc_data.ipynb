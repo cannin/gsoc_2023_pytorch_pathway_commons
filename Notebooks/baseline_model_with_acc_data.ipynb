{
  "cells": [
    {
      "cell_type": "markdown",
      "metadata": {
        "id": "view-in-github",
        "colab_type": "text"
      },
      "source": [
        "<a href=\"https://colab.research.google.com/github/cannin/gsoc_2023_pytorch_pathway_commons/blob/main/Notebooks/baseline_model_with_acc_data.ipynb\" target=\"_parent\"><img src=\"https://colab.research.google.com/assets/colab-badge.svg\" alt=\"Open In Colab\"/></a>"
      ]
    },
    {
      "cell_type": "code",
      "execution_count": null,
      "metadata": {
        "colab": {
          "base_uri": "https://localhost:8080/"
        },
        "id": "OE2xc7If0ZCT",
        "outputId": "e3903e15-634e-4144-9efa-17d0fb5f151b"
      },
      "outputs": [
        {
          "output_type": "stream",
          "name": "stdout",
          "text": [
            "Collecting torch-geometric\n",
            "  Downloading torch_geometric-2.3.1.tar.gz (661 kB)\n",
            "\u001b[?25l     \u001b[90m━━━━━━━━━━━━━━━━━━━━━━━━━━━━━━━━━━━━━━━━\u001b[0m \u001b[32m0.0/661.6 kB\u001b[0m \u001b[31m?\u001b[0m eta \u001b[36m-:--:--\u001b[0m\r\u001b[2K     \u001b[91m━━━━━━━━━━━━━━\u001b[0m\u001b[90m╺\u001b[0m\u001b[90m━━━━━━━━━━━━━━━━━━━━━━━━\u001b[0m \u001b[32m245.8/661.6 kB\u001b[0m \u001b[31m7.3 MB/s\u001b[0m eta \u001b[36m0:00:01\u001b[0m\r\u001b[2K     \u001b[91m━━━━━━━━━━━━━━━━━━━━━━━━━━━━━━━━━━━━━\u001b[0m\u001b[91m╸\u001b[0m \u001b[32m655.4/661.6 kB\u001b[0m \u001b[31m16.8 MB/s\u001b[0m eta \u001b[36m0:00:01\u001b[0m\r\u001b[2K     \u001b[90m━━━━━━━━━━━━━━━━━━━━━━━━━━━━━━━━━━━━━━━\u001b[0m \u001b[32m661.6/661.6 kB\u001b[0m \u001b[31m8.1 MB/s\u001b[0m eta \u001b[36m0:00:00\u001b[0m\n",
            "\u001b[?25h  Installing build dependencies ... \u001b[?25l\u001b[?25hdone\n",
            "  Getting requirements to build wheel ... \u001b[?25l\u001b[?25hdone\n",
            "  Preparing metadata (pyproject.toml) ... \u001b[?25l\u001b[?25hdone\n",
            "Requirement already satisfied: tqdm in /usr/local/lib/python3.10/dist-packages (from torch-geometric) (4.65.0)\n",
            "Requirement already satisfied: numpy in /usr/local/lib/python3.10/dist-packages (from torch-geometric) (1.22.4)\n",
            "Requirement already satisfied: scipy in /usr/local/lib/python3.10/dist-packages (from torch-geometric) (1.10.1)\n",
            "Requirement already satisfied: jinja2 in /usr/local/lib/python3.10/dist-packages (from torch-geometric) (3.1.2)\n",
            "Requirement already satisfied: requests in /usr/local/lib/python3.10/dist-packages (from torch-geometric) (2.27.1)\n",
            "Requirement already satisfied: pyparsing in /usr/local/lib/python3.10/dist-packages (from torch-geometric) (3.1.0)\n",
            "Requirement already satisfied: scikit-learn in /usr/local/lib/python3.10/dist-packages (from torch-geometric) (1.2.2)\n",
            "Requirement already satisfied: psutil>=5.8.0 in /usr/local/lib/python3.10/dist-packages (from torch-geometric) (5.9.5)\n",
            "Requirement already satisfied: MarkupSafe>=2.0 in /usr/local/lib/python3.10/dist-packages (from jinja2->torch-geometric) (2.1.3)\n",
            "Requirement already satisfied: urllib3<1.27,>=1.21.1 in /usr/local/lib/python3.10/dist-packages (from requests->torch-geometric) (1.26.16)\n",
            "Requirement already satisfied: certifi>=2017.4.17 in /usr/local/lib/python3.10/dist-packages (from requests->torch-geometric) (2023.5.7)\n",
            "Requirement already satisfied: charset-normalizer~=2.0.0 in /usr/local/lib/python3.10/dist-packages (from requests->torch-geometric) (2.0.12)\n",
            "Requirement already satisfied: idna<4,>=2.5 in /usr/local/lib/python3.10/dist-packages (from requests->torch-geometric) (3.4)\n",
            "Requirement already satisfied: joblib>=1.1.1 in /usr/local/lib/python3.10/dist-packages (from scikit-learn->torch-geometric) (1.3.1)\n",
            "Requirement already satisfied: threadpoolctl>=2.0.0 in /usr/local/lib/python3.10/dist-packages (from scikit-learn->torch-geometric) (3.1.0)\n",
            "Building wheels for collected packages: torch-geometric\n",
            "  Building wheel for torch-geometric (pyproject.toml) ... \u001b[?25l\u001b[?25hdone\n",
            "  Created wheel for torch-geometric: filename=torch_geometric-2.3.1-py3-none-any.whl size=910459 sha256=be69cbd6cac961d2565a00fc6a702431b550d692344d0f407ba5dba77a84af9f\n",
            "  Stored in directory: /root/.cache/pip/wheels/ac/dc/30/e2874821ff308ee67dcd7a66dbde912411e19e35a1addda028\n",
            "Successfully built torch-geometric\n",
            "Installing collected packages: torch-geometric\n",
            "Successfully installed torch-geometric-2.3.1\n"
          ]
        }
      ],
      "source": [
        "!pip install torch-geometric"
      ]
    },
    {
      "cell_type": "markdown",
      "metadata": {
        "id": "6T-0DTo_3DLk"
      },
      "source": [
        "# Importing Data and Libraries"
      ]
    },
    {
      "cell_type": "code",
      "execution_count": null,
      "metadata": {
        "id": "Wy1Dc5Z9vGE8"
      },
      "outputs": [],
      "source": [
        "import pandas as pd\n",
        "import numpy as np\n",
        "import torch\n",
        "from torch_geometric.data import Data\n",
        "import sklearn"
      ]
    },
    {
      "cell_type": "code",
      "source": [
        "!wget https://zenodo.org/record/8286179/files/train_set.zip?download=1 -O train_set.zip"
      ],
      "metadata": {
        "id": "Ab_wYC_VbfJ6"
      },
      "execution_count": null,
      "outputs": []
    },
    {
      "cell_type": "code",
      "source": [
        "!wget https://zenodo.org/record/8286179/files/test_set.zip?download=1 -O test_set.zip"
      ],
      "metadata": {
        "id": "DH2Eqv-sbo9d"
      },
      "execution_count": null,
      "outputs": []
    },
    {
      "cell_type": "code",
      "source": [
        "!unzip /content/test_set.zip"
      ],
      "metadata": {
        "id": "kFO4AV8JbshR"
      },
      "execution_count": null,
      "outputs": []
    },
    {
      "cell_type": "code",
      "source": [
        "!unzip /content/train_set.zip"
      ],
      "metadata": {
        "id": "NMf9npCnbxFT"
      },
      "execution_count": null,
      "outputs": []
    },
    {
      "cell_type": "code",
      "execution_count": null,
      "metadata": {
        "colab": {
          "base_uri": "https://localhost:8080/"
        },
        "id": "Agul4fnR13Wa",
        "outputId": "0ee9279d-1bd5-4bb2-88e6-598a8278da15"
      },
      "outputs": [
        {
          "output_type": "stream",
          "name": "stdout",
          "text": [
            "Using device: cuda\n",
            "Using device: cuda\n"
          ]
        }
      ],
      "source": [
        "device = torch.device('cuda' if torch.cuda.is_available() else 'cpu')\n",
        "print('Using device:', device)\n",
        "\n",
        "if device.type != 'cuda':\n",
        "    raise SystemError('GPU device not found')"
      ]
    },
    {
      "cell_type": "code",
      "execution_count": null,
      "metadata": {
        "id": "QQOFmd9l0XZg"
      },
      "outputs": [],
      "source": [
        "X_train = pd.read_csv(\"train_set/X_train.csv\", index_col=0)\n",
        "y_train = np.loadtxt(\"train_set/y_train.csv\", delimiter=',')\n",
        "X_test = pd.read_csv(\"test_set/X_test.csv\", index_col=0)\n",
        "y_test = np.loadtxt(\"test_set/y_test.csv\", delimiter=',')"
      ]
    },
    {
      "cell_type": "code",
      "execution_count": null,
      "metadata": {
        "colab": {
          "base_uri": "https://localhost:8080/",
          "height": 560
        },
        "id": "ti6NCahQOrmo",
        "outputId": "ed6aae0b-1674-44fa-93ad-be3b46f5f59b"
      },
      "outputs": [
        {
          "output_type": "execute_result",
          "data": {
            "text/plain": [
              "                   A1CF       A2M   A4GNT     AAAS      AACS     AADAT  \\\n",
              "TCGA-OR-A5J1-01  0.0000  10373.70  0.0000  2225.26  1266.090  121.0370   \n",
              "TCGA-OR-A5J2-01  0.0000   9844.91  0.0000  1509.46   981.613   31.0025   \n",
              "TCGA-OR-A5J3-01  0.5925   7201.84  2.3700  1259.67  5182.050   39.1053   \n",
              "TCGA-OR-A5J5-01  1.5492   2939.04  0.7746  2993.80   967.467   98.3734   \n",
              "TCGA-OR-A5J6-01  0.0000   9586.96  0.5589  1186.45  1479.290   19.5600   \n",
              "\n",
              "                     AAK1   AANAT     AARS    AARS2  ...  ZP2       ZP3  ZP4  \\\n",
              "TCGA-OR-A5J1-01   868.876  1.4409  3520.65  299.712  ...  0.0  306.9160  0.0   \n",
              "TCGA-OR-A5J2-01  1627.030  0.0000  5470.94  408.666  ...  0.0   99.4255  0.0   \n",
              "TCGA-OR-A5J3-01  1158.350  0.0000  4042.66  291.512  ...  0.0  333.5090  0.0   \n",
              "TCGA-OR-A5J5-01   646.785  1.5492  2738.96  533.687  ...  0.0  358.6060  0.0   \n",
              "TCGA-OR-A5J6-01  1238.990  0.0000  2996.59  414.102  ...  0.0  143.6260  0.0   \n",
              "\n",
              "                   ZRANB1    ZRSR2  ZSCAN10     ZW10    ZWILCH     ZWINT  \\\n",
              "TCGA-OR-A5J1-01  2180.120  256.004   0.0000  253.602  183.9580  146.9740   \n",
              "TCGA-OR-A5J2-01  2553.480  104.684   0.4026  270.165  264.1250  438.4640   \n",
              "TCGA-OR-A5J3-01   864.465  193.749   1.1850  297.437   90.6532  190.1940   \n",
              "TCGA-OR-A5J5-01  1803.250  472.502   5.4222  146.398  260.2630  840.4340   \n",
              "TCGA-OR-A5J6-01  1110.450  282.223   0.0000  384.493   64.2685   63.1508   \n",
              "\n",
              "                    ZZZ3  \n",
              "TCGA-OR-A5J1-01  596.062  \n",
              "TCGA-OR-A5J2-01  801.637  \n",
              "TCGA-OR-A5J3-01  437.269  \n",
              "TCGA-OR-A5J5-01  512.781  \n",
              "TCGA-OR-A5J6-01  475.587  \n",
              "\n",
              "[5 rows x 9288 columns]"
            ],
            "text/html": [
              "\n",
              "  <div id=\"df-1dad560f-d9f0-4912-b7fa-51fb03472add\">\n",
              "    <div class=\"colab-df-container\">\n",
              "      <div>\n",
              "<style scoped>\n",
              "    .dataframe tbody tr th:only-of-type {\n",
              "        vertical-align: middle;\n",
              "    }\n",
              "\n",
              "    .dataframe tbody tr th {\n",
              "        vertical-align: top;\n",
              "    }\n",
              "\n",
              "    .dataframe thead th {\n",
              "        text-align: right;\n",
              "    }\n",
              "</style>\n",
              "<table border=\"1\" class=\"dataframe\">\n",
              "  <thead>\n",
              "    <tr style=\"text-align: right;\">\n",
              "      <th></th>\n",
              "      <th>A1CF</th>\n",
              "      <th>A2M</th>\n",
              "      <th>A4GNT</th>\n",
              "      <th>AAAS</th>\n",
              "      <th>AACS</th>\n",
              "      <th>AADAT</th>\n",
              "      <th>AAK1</th>\n",
              "      <th>AANAT</th>\n",
              "      <th>AARS</th>\n",
              "      <th>AARS2</th>\n",
              "      <th>...</th>\n",
              "      <th>ZP2</th>\n",
              "      <th>ZP3</th>\n",
              "      <th>ZP4</th>\n",
              "      <th>ZRANB1</th>\n",
              "      <th>ZRSR2</th>\n",
              "      <th>ZSCAN10</th>\n",
              "      <th>ZW10</th>\n",
              "      <th>ZWILCH</th>\n",
              "      <th>ZWINT</th>\n",
              "      <th>ZZZ3</th>\n",
              "    </tr>\n",
              "  </thead>\n",
              "  <tbody>\n",
              "    <tr>\n",
              "      <th>TCGA-OR-A5J1-01</th>\n",
              "      <td>0.0000</td>\n",
              "      <td>10373.70</td>\n",
              "      <td>0.0000</td>\n",
              "      <td>2225.26</td>\n",
              "      <td>1266.090</td>\n",
              "      <td>121.0370</td>\n",
              "      <td>868.876</td>\n",
              "      <td>1.4409</td>\n",
              "      <td>3520.65</td>\n",
              "      <td>299.712</td>\n",
              "      <td>...</td>\n",
              "      <td>0.0</td>\n",
              "      <td>306.9160</td>\n",
              "      <td>0.0</td>\n",
              "      <td>2180.120</td>\n",
              "      <td>256.004</td>\n",
              "      <td>0.0000</td>\n",
              "      <td>253.602</td>\n",
              "      <td>183.9580</td>\n",
              "      <td>146.9740</td>\n",
              "      <td>596.062</td>\n",
              "    </tr>\n",
              "    <tr>\n",
              "      <th>TCGA-OR-A5J2-01</th>\n",
              "      <td>0.0000</td>\n",
              "      <td>9844.91</td>\n",
              "      <td>0.0000</td>\n",
              "      <td>1509.46</td>\n",
              "      <td>981.613</td>\n",
              "      <td>31.0025</td>\n",
              "      <td>1627.030</td>\n",
              "      <td>0.0000</td>\n",
              "      <td>5470.94</td>\n",
              "      <td>408.666</td>\n",
              "      <td>...</td>\n",
              "      <td>0.0</td>\n",
              "      <td>99.4255</td>\n",
              "      <td>0.0</td>\n",
              "      <td>2553.480</td>\n",
              "      <td>104.684</td>\n",
              "      <td>0.4026</td>\n",
              "      <td>270.165</td>\n",
              "      <td>264.1250</td>\n",
              "      <td>438.4640</td>\n",
              "      <td>801.637</td>\n",
              "    </tr>\n",
              "    <tr>\n",
              "      <th>TCGA-OR-A5J3-01</th>\n",
              "      <td>0.5925</td>\n",
              "      <td>7201.84</td>\n",
              "      <td>2.3700</td>\n",
              "      <td>1259.67</td>\n",
              "      <td>5182.050</td>\n",
              "      <td>39.1053</td>\n",
              "      <td>1158.350</td>\n",
              "      <td>0.0000</td>\n",
              "      <td>4042.66</td>\n",
              "      <td>291.512</td>\n",
              "      <td>...</td>\n",
              "      <td>0.0</td>\n",
              "      <td>333.5090</td>\n",
              "      <td>0.0</td>\n",
              "      <td>864.465</td>\n",
              "      <td>193.749</td>\n",
              "      <td>1.1850</td>\n",
              "      <td>297.437</td>\n",
              "      <td>90.6532</td>\n",
              "      <td>190.1940</td>\n",
              "      <td>437.269</td>\n",
              "    </tr>\n",
              "    <tr>\n",
              "      <th>TCGA-OR-A5J5-01</th>\n",
              "      <td>1.5492</td>\n",
              "      <td>2939.04</td>\n",
              "      <td>0.7746</td>\n",
              "      <td>2993.80</td>\n",
              "      <td>967.467</td>\n",
              "      <td>98.3734</td>\n",
              "      <td>646.785</td>\n",
              "      <td>1.5492</td>\n",
              "      <td>2738.96</td>\n",
              "      <td>533.687</td>\n",
              "      <td>...</td>\n",
              "      <td>0.0</td>\n",
              "      <td>358.6060</td>\n",
              "      <td>0.0</td>\n",
              "      <td>1803.250</td>\n",
              "      <td>472.502</td>\n",
              "      <td>5.4222</td>\n",
              "      <td>146.398</td>\n",
              "      <td>260.2630</td>\n",
              "      <td>840.4340</td>\n",
              "      <td>512.781</td>\n",
              "    </tr>\n",
              "    <tr>\n",
              "      <th>TCGA-OR-A5J6-01</th>\n",
              "      <td>0.0000</td>\n",
              "      <td>9586.96</td>\n",
              "      <td>0.5589</td>\n",
              "      <td>1186.45</td>\n",
              "      <td>1479.290</td>\n",
              "      <td>19.5600</td>\n",
              "      <td>1238.990</td>\n",
              "      <td>0.0000</td>\n",
              "      <td>2996.59</td>\n",
              "      <td>414.102</td>\n",
              "      <td>...</td>\n",
              "      <td>0.0</td>\n",
              "      <td>143.6260</td>\n",
              "      <td>0.0</td>\n",
              "      <td>1110.450</td>\n",
              "      <td>282.223</td>\n",
              "      <td>0.0000</td>\n",
              "      <td>384.493</td>\n",
              "      <td>64.2685</td>\n",
              "      <td>63.1508</td>\n",
              "      <td>475.587</td>\n",
              "    </tr>\n",
              "  </tbody>\n",
              "</table>\n",
              "<p>5 rows × 9288 columns</p>\n",
              "</div>\n",
              "      <button class=\"colab-df-convert\" onclick=\"convertToInteractive('df-1dad560f-d9f0-4912-b7fa-51fb03472add')\"\n",
              "              title=\"Convert this dataframe to an interactive table.\"\n",
              "              style=\"display:none;\">\n",
              "        \n",
              "  <svg xmlns=\"http://www.w3.org/2000/svg\" height=\"24px\"viewBox=\"0 0 24 24\"\n",
              "       width=\"24px\">\n",
              "    <path d=\"M0 0h24v24H0V0z\" fill=\"none\"/>\n",
              "    <path d=\"M18.56 5.44l.94 2.06.94-2.06 2.06-.94-2.06-.94-.94-2.06-.94 2.06-2.06.94zm-11 1L8.5 8.5l.94-2.06 2.06-.94-2.06-.94L8.5 2.5l-.94 2.06-2.06.94zm10 10l.94 2.06.94-2.06 2.06-.94-2.06-.94-.94-2.06-.94 2.06-2.06.94z\"/><path d=\"M17.41 7.96l-1.37-1.37c-.4-.4-.92-.59-1.43-.59-.52 0-1.04.2-1.43.59L10.3 9.45l-7.72 7.72c-.78.78-.78 2.05 0 2.83L4 21.41c.39.39.9.59 1.41.59.51 0 1.02-.2 1.41-.59l7.78-7.78 2.81-2.81c.8-.78.8-2.07 0-2.86zM5.41 20L4 18.59l7.72-7.72 1.47 1.35L5.41 20z\"/>\n",
              "  </svg>\n",
              "      </button>\n",
              "      \n",
              "  <style>\n",
              "    .colab-df-container {\n",
              "      display:flex;\n",
              "      flex-wrap:wrap;\n",
              "      gap: 12px;\n",
              "    }\n",
              "\n",
              "    .colab-df-convert {\n",
              "      background-color: #E8F0FE;\n",
              "      border: none;\n",
              "      border-radius: 50%;\n",
              "      cursor: pointer;\n",
              "      display: none;\n",
              "      fill: #1967D2;\n",
              "      height: 32px;\n",
              "      padding: 0 0 0 0;\n",
              "      width: 32px;\n",
              "    }\n",
              "\n",
              "    .colab-df-convert:hover {\n",
              "      background-color: #E2EBFA;\n",
              "      box-shadow: 0px 1px 2px rgba(60, 64, 67, 0.3), 0px 1px 3px 1px rgba(60, 64, 67, 0.15);\n",
              "      fill: #174EA6;\n",
              "    }\n",
              "\n",
              "    [theme=dark] .colab-df-convert {\n",
              "      background-color: #3B4455;\n",
              "      fill: #D2E3FC;\n",
              "    }\n",
              "\n",
              "    [theme=dark] .colab-df-convert:hover {\n",
              "      background-color: #434B5C;\n",
              "      box-shadow: 0px 1px 3px 1px rgba(0, 0, 0, 0.15);\n",
              "      filter: drop-shadow(0px 1px 2px rgba(0, 0, 0, 0.3));\n",
              "      fill: #FFFFFF;\n",
              "    }\n",
              "  </style>\n",
              "\n",
              "      <script>\n",
              "        const buttonEl =\n",
              "          document.querySelector('#df-1dad560f-d9f0-4912-b7fa-51fb03472add button.colab-df-convert');\n",
              "        buttonEl.style.display =\n",
              "          google.colab.kernel.accessAllowed ? 'block' : 'none';\n",
              "\n",
              "        async function convertToInteractive(key) {\n",
              "          const element = document.querySelector('#df-1dad560f-d9f0-4912-b7fa-51fb03472add');\n",
              "          const dataTable =\n",
              "            await google.colab.kernel.invokeFunction('convertToInteractive',\n",
              "                                                     [key], {});\n",
              "          if (!dataTable) return;\n",
              "\n",
              "          const docLinkHtml = 'Like what you see? Visit the ' +\n",
              "            '<a target=\"_blank\" href=https://colab.research.google.com/notebooks/data_table.ipynb>data table notebook</a>'\n",
              "            + ' to learn more about interactive tables.';\n",
              "          element.innerHTML = '';\n",
              "          dataTable['output_type'] = 'display_data';\n",
              "          await google.colab.output.renderOutput(dataTable, element);\n",
              "          const docLink = document.createElement('div');\n",
              "          docLink.innerHTML = docLinkHtml;\n",
              "          element.appendChild(docLink);\n",
              "        }\n",
              "      </script>\n",
              "    </div>\n",
              "  </div>\n",
              "  "
            ]
          },
          "metadata": {},
          "execution_count": 12
        }
      ],
      "source": [
        "X_train.head()"
      ]
    },
    {
      "cell_type": "code",
      "execution_count": null,
      "metadata": {
        "colab": {
          "base_uri": "https://localhost:8080/"
        },
        "id": "xevvmFAQO8h7",
        "outputId": "294772d9-9d99-41be-a9a1-de7191b5106e"
      },
      "outputs": [
        {
          "output_type": "execute_result",
          "data": {
            "text/plain": [
              "array([ 44.54745701,  55.13364237,  68.74445212,  11.9998685 ,\n",
              "        88.86477956,  16.1094125 ,  19.03540783,  44.44882796,\n",
              "        30.31199658,  18.11486997,  57.53361607,  99.8783575 ,\n",
              "        69.20472104,  66.24584936,  17.78610645,  76.63477661,\n",
              "        16.1094125 ,  49.215899  ,  67.59377979,  18.47650985,\n",
              "        39.25436434,  15.25462735,  36.2626163 , 121.2479863 ,\n",
              "        12.59164283,  29.8188513 ,  66.50886018,  72.39372719,\n",
              "        31.23253444,  18.14774633,  27.02436138,  33.82976625,\n",
              "       108.1303219 ,  32.67909393, 113.9165598 ,  35.57221291,\n",
              "        16.37242332,  49.0843936 ,  24.62438768,  11.3094651 ,\n",
              "        46.48716179,  95.17703916, 153.6311931 , 127.4944932 ,\n",
              "        68.25130684,  44.84334418,  12.85465365,   4.10954401,\n",
              "       152.1517572 ,  31.79143242,  43.29815564,  28.30653911,\n",
              "        29.09557156,  28.63530263])"
            ]
          },
          "metadata": {},
          "execution_count": 14
        }
      ],
      "source": [
        "y_train"
      ]
    },
    {
      "cell_type": "markdown",
      "source": [
        "# Modelling"
      ],
      "metadata": {
        "id": "EChcimHakRWg"
      }
    },
    {
      "cell_type": "code",
      "source": [
        "!pip install flaml"
      ],
      "metadata": {
        "id": "5CeqLto93ttN"
      },
      "execution_count": null,
      "outputs": []
    },
    {
      "cell_type": "code",
      "source": [
        "from flaml import AutoML\n",
        "import pickle"
      ],
      "metadata": {
        "id": "PU70crt_Rvfe"
      },
      "execution_count": null,
      "outputs": []
    },
    {
      "cell_type": "code",
      "source": [
        "# Initialize an AutoML instance\n",
        "automl = AutoML()\n",
        "# Specify automl goal and constraint\n",
        "automl_settings = {\n",
        "    \"time_budget\": 300,  # in seconds\n",
        "    \"metric\": 'mse',\n",
        "    \"task\": 'regression',\n",
        "}\n",
        "# Train with labeled input data\n",
        "automl.fit(X_train=X_train, y_train=y_train,\n",
        "           **automl_settings)"
      ],
      "metadata": {
        "colab": {
          "base_uri": "https://localhost:8080/"
        },
        "id": "n0PrWUirVrVu",
        "outputId": "359564d4-775c-4f4a-b8a7-f5f90adeceac"
      },
      "execution_count": null,
      "outputs": [
        {
          "output_type": "stream",
          "name": "stdout",
          "text": [
            "[flaml.automl.logger: 07-13 13:46:30] {1693} INFO - task = regression\n",
            "[flaml.automl.logger: 07-13 13:46:30] {1700} INFO - Data split method: uniform\n",
            "[flaml.automl.logger: 07-13 13:46:30] {1703} INFO - Evaluation method: cv\n",
            "[flaml.automl.logger: 07-13 13:46:31] {1801} INFO - Minimizing error metric: mse\n",
            "[flaml.automl.logger: 07-13 13:46:31] {1911} INFO - List of ML learners in AutoML Run: ['lgbm', 'rf', 'xgboost', 'extra_tree', 'xgb_limitdepth']\n",
            "[flaml.automl.logger: 07-13 13:46:31] {2221} INFO - iteration 0, current learner lgbm\n",
            "[flaml.automl.logger: 07-13 13:46:34] {2347} INFO - Estimated sufficient time budget=37135s. Estimated necessary time budget=262s.\n",
            "[flaml.automl.logger: 07-13 13:46:34] {2394} INFO -  at 64.8s,\testimator lgbm's best error=1240.0832,\tbest estimator lgbm's best error=1240.0832\n",
            "[flaml.automl.logger: 07-13 13:46:34] {2221} INFO - iteration 1, current learner lgbm\n",
            "[flaml.automl.logger: 07-13 13:46:35] {2394} INFO -  at 66.0s,\testimator lgbm's best error=1240.0832,\tbest estimator lgbm's best error=1240.0832\n",
            "[flaml.automl.logger: 07-13 13:46:35] {2221} INFO - iteration 2, current learner lgbm\n",
            "[flaml.automl.logger: 07-13 13:46:40] {2394} INFO -  at 70.6s,\testimator lgbm's best error=1149.7803,\tbest estimator lgbm's best error=1149.7803\n",
            "[flaml.automl.logger: 07-13 13:46:40] {2221} INFO - iteration 3, current learner lgbm\n",
            "[flaml.automl.logger: 07-13 13:46:42] {2394} INFO -  at 73.0s,\testimator lgbm's best error=1149.7803,\tbest estimator lgbm's best error=1149.7803\n",
            "[flaml.automl.logger: 07-13 13:46:42] {2221} INFO - iteration 4, current learner lgbm\n",
            "[flaml.automl.logger: 07-13 13:46:45] {2394} INFO -  at 75.3s,\testimator lgbm's best error=1149.7803,\tbest estimator lgbm's best error=1149.7803\n",
            "[flaml.automl.logger: 07-13 13:46:45] {2221} INFO - iteration 5, current learner lgbm\n",
            "[flaml.automl.logger: 07-13 13:46:47] {2394} INFO -  at 77.7s,\testimator lgbm's best error=1054.5445,\tbest estimator lgbm's best error=1054.5445\n",
            "[flaml.automl.logger: 07-13 13:46:47] {2221} INFO - iteration 6, current learner xgboost\n",
            "[flaml.automl.logger: 07-13 13:46:58] {2394} INFO -  at 88.8s,\testimator xgboost's best error=2320.8685,\tbest estimator lgbm's best error=1054.5445\n",
            "[flaml.automl.logger: 07-13 13:46:58] {2221} INFO - iteration 7, current learner lgbm\n",
            "[flaml.automl.logger: 07-13 13:47:01] {2394} INFO -  at 91.1s,\testimator lgbm's best error=1054.5445,\tbest estimator lgbm's best error=1054.5445\n",
            "[flaml.automl.logger: 07-13 13:47:01] {2221} INFO - iteration 8, current learner lgbm\n",
            "[flaml.automl.logger: 07-13 13:47:03] {2394} INFO -  at 93.5s,\testimator lgbm's best error=1054.5445,\tbest estimator lgbm's best error=1054.5445\n",
            "[flaml.automl.logger: 07-13 13:47:03] {2221} INFO - iteration 9, current learner lgbm\n",
            "[flaml.automl.logger: 07-13 13:47:06] {2394} INFO -  at 96.1s,\testimator lgbm's best error=1054.5445,\tbest estimator lgbm's best error=1054.5445\n",
            "[flaml.automl.logger: 07-13 13:47:06] {2221} INFO - iteration 10, current learner extra_tree\n",
            "[flaml.automl.logger: 07-13 13:47:07] {2394} INFO -  at 97.1s,\testimator extra_tree's best error=1464.8488,\tbest estimator lgbm's best error=1054.5445\n",
            "[flaml.automl.logger: 07-13 13:47:07] {2221} INFO - iteration 11, current learner extra_tree\n",
            "[flaml.automl.logger: 07-13 13:47:08] {2394} INFO -  at 98.1s,\testimator extra_tree's best error=1360.7289,\tbest estimator lgbm's best error=1054.5445\n",
            "[flaml.automl.logger: 07-13 13:47:08] {2221} INFO - iteration 12, current learner xgboost\n",
            "[flaml.automl.logger: 07-13 13:47:17] {2394} INFO -  at 107.5s,\testimator xgboost's best error=2320.8685,\tbest estimator lgbm's best error=1054.5445\n",
            "[flaml.automl.logger: 07-13 13:47:17] {2221} INFO - iteration 13, current learner xgboost\n",
            "[flaml.automl.logger: 07-13 13:47:23] {2394} INFO -  at 113.8s,\testimator xgboost's best error=1386.2869,\tbest estimator lgbm's best error=1054.5445\n",
            "[flaml.automl.logger: 07-13 13:47:23] {2221} INFO - iteration 14, current learner extra_tree\n",
            "[flaml.automl.logger: 07-13 13:47:24] {2394} INFO -  at 114.7s,\testimator extra_tree's best error=1360.7289,\tbest estimator lgbm's best error=1054.5445\n",
            "[flaml.automl.logger: 07-13 13:47:24] {2221} INFO - iteration 15, current learner lgbm\n",
            "[flaml.automl.logger: 07-13 13:47:27] {2394} INFO -  at 118.1s,\testimator lgbm's best error=1054.5445,\tbest estimator lgbm's best error=1054.5445\n",
            "[flaml.automl.logger: 07-13 13:47:27] {2221} INFO - iteration 16, current learner rf\n",
            "[flaml.automl.logger: 07-13 13:47:30] {2394} INFO -  at 120.4s,\testimator rf's best error=1476.9373,\tbest estimator lgbm's best error=1054.5445\n",
            "[flaml.automl.logger: 07-13 13:47:30] {2221} INFO - iteration 17, current learner extra_tree\n",
            "[flaml.automl.logger: 07-13 13:47:32] {2394} INFO -  at 122.4s,\testimator extra_tree's best error=1315.9990,\tbest estimator lgbm's best error=1054.5445\n",
            "[flaml.automl.logger: 07-13 13:47:32] {2221} INFO - iteration 18, current learner lgbm\n",
            "[flaml.automl.logger: 07-13 13:47:35] {2394} INFO -  at 125.5s,\testimator lgbm's best error=1054.5445,\tbest estimator lgbm's best error=1054.5445\n",
            "[flaml.automl.logger: 07-13 13:47:35] {2221} INFO - iteration 19, current learner rf\n",
            "[flaml.automl.logger: 07-13 13:47:36] {2394} INFO -  at 127.0s,\testimator rf's best error=1476.9373,\tbest estimator lgbm's best error=1054.5445\n",
            "[flaml.automl.logger: 07-13 13:47:36] {2221} INFO - iteration 20, current learner rf\n",
            "[flaml.automl.logger: 07-13 13:47:38] {2394} INFO -  at 128.7s,\testimator rf's best error=1378.0008,\tbest estimator lgbm's best error=1054.5445\n",
            "[flaml.automl.logger: 07-13 13:47:38] {2221} INFO - iteration 21, current learner rf\n",
            "[flaml.automl.logger: 07-13 13:47:40] {2394} INFO -  at 130.4s,\testimator rf's best error=1378.0008,\tbest estimator lgbm's best error=1054.5445\n",
            "[flaml.automl.logger: 07-13 13:47:40] {2221} INFO - iteration 22, current learner lgbm\n",
            "[flaml.automl.logger: 07-13 13:47:42] {2394} INFO -  at 133.0s,\testimator lgbm's best error=1054.5445,\tbest estimator lgbm's best error=1054.5445\n",
            "[flaml.automl.logger: 07-13 13:47:42] {2221} INFO - iteration 23, current learner lgbm\n",
            "[flaml.automl.logger: 07-13 13:47:46] {2394} INFO -  at 136.5s,\testimator lgbm's best error=1054.5445,\tbest estimator lgbm's best error=1054.5445\n",
            "[flaml.automl.logger: 07-13 13:47:46] {2221} INFO - iteration 24, current learner xgboost\n",
            "[flaml.automl.logger: 07-13 13:47:54] {2394} INFO -  at 144.8s,\testimator xgboost's best error=1386.2869,\tbest estimator lgbm's best error=1054.5445\n",
            "[flaml.automl.logger: 07-13 13:47:54] {2221} INFO - iteration 25, current learner extra_tree\n",
            "[flaml.automl.logger: 07-13 13:47:56] {2394} INFO -  at 146.2s,\testimator extra_tree's best error=1315.9990,\tbest estimator lgbm's best error=1054.5445\n",
            "[flaml.automl.logger: 07-13 13:47:56] {2221} INFO - iteration 26, current learner lgbm\n",
            "[flaml.automl.logger: 07-13 13:47:58] {2394} INFO -  at 148.7s,\testimator lgbm's best error=1054.5445,\tbest estimator lgbm's best error=1054.5445\n",
            "[flaml.automl.logger: 07-13 13:47:58] {2221} INFO - iteration 27, current learner xgboost\n",
            "[flaml.automl.logger: 07-13 13:48:08] {2394} INFO -  at 158.6s,\testimator xgboost's best error=1386.2869,\tbest estimator lgbm's best error=1054.5445\n",
            "[flaml.automl.logger: 07-13 13:48:08] {2221} INFO - iteration 28, current learner extra_tree\n",
            "[flaml.automl.logger: 07-13 13:48:10] {2394} INFO -  at 160.1s,\testimator extra_tree's best error=1315.9990,\tbest estimator lgbm's best error=1054.5445\n",
            "[flaml.automl.logger: 07-13 13:48:10] {2221} INFO - iteration 29, current learner extra_tree\n",
            "[flaml.automl.logger: 07-13 13:48:11] {2394} INFO -  at 161.3s,\testimator extra_tree's best error=1315.9990,\tbest estimator lgbm's best error=1054.5445\n",
            "[flaml.automl.logger: 07-13 13:48:11] {2221} INFO - iteration 30, current learner lgbm\n",
            "[flaml.automl.logger: 07-13 13:48:13] {2394} INFO -  at 163.8s,\testimator lgbm's best error=1054.5445,\tbest estimator lgbm's best error=1054.5445\n",
            "[flaml.automl.logger: 07-13 13:48:13] {2221} INFO - iteration 31, current learner lgbm\n",
            "[flaml.automl.logger: 07-13 13:48:16] {2394} INFO -  at 166.3s,\testimator lgbm's best error=1054.5445,\tbest estimator lgbm's best error=1054.5445\n",
            "[flaml.automl.logger: 07-13 13:48:16] {2221} INFO - iteration 32, current learner lgbm\n",
            "[flaml.automl.logger: 07-13 13:48:18] {2394} INFO -  at 168.9s,\testimator lgbm's best error=1054.5445,\tbest estimator lgbm's best error=1054.5445\n",
            "[flaml.automl.logger: 07-13 13:48:18] {2221} INFO - iteration 33, current learner xgboost\n",
            "[flaml.automl.logger: 07-13 13:48:28] {2394} INFO -  at 178.4s,\testimator xgboost's best error=1386.2869,\tbest estimator lgbm's best error=1054.5445\n",
            "[flaml.automl.logger: 07-13 13:48:28] {2221} INFO - iteration 34, current learner lgbm\n",
            "[flaml.automl.logger: 07-13 13:48:30] {2394} INFO -  at 181.0s,\testimator lgbm's best error=1054.5445,\tbest estimator lgbm's best error=1054.5445\n",
            "[flaml.automl.logger: 07-13 13:48:30] {2221} INFO - iteration 35, current learner rf\n",
            "[flaml.automl.logger: 07-13 13:48:32] {2394} INFO -  at 182.6s,\testimator rf's best error=1378.0008,\tbest estimator lgbm's best error=1054.5445\n",
            "[flaml.automl.logger: 07-13 13:48:32] {2221} INFO - iteration 36, current learner extra_tree\n",
            "[flaml.automl.logger: 07-13 13:48:33] {2394} INFO -  at 183.8s,\testimator extra_tree's best error=1292.5346,\tbest estimator lgbm's best error=1054.5445\n",
            "[flaml.automl.logger: 07-13 13:48:33] {2221} INFO - iteration 37, current learner rf\n",
            "[flaml.automl.logger: 07-13 13:48:35] {2394} INFO -  at 185.4s,\testimator rf's best error=1378.0008,\tbest estimator lgbm's best error=1054.5445\n",
            "[flaml.automl.logger: 07-13 13:48:35] {2221} INFO - iteration 38, current learner xgboost\n",
            "[flaml.automl.logger: 07-13 13:48:45] {2394} INFO -  at 195.5s,\testimator xgboost's best error=1173.2405,\tbest estimator lgbm's best error=1054.5445\n",
            "[flaml.automl.logger: 07-13 13:48:45] {2221} INFO - iteration 39, current learner lgbm\n",
            "[flaml.automl.logger: 07-13 13:48:47] {2394} INFO -  at 197.8s,\testimator lgbm's best error=1054.5445,\tbest estimator lgbm's best error=1054.5445\n",
            "[flaml.automl.logger: 07-13 13:48:47] {2221} INFO - iteration 40, current learner xgboost\n",
            "[flaml.automl.logger: 07-13 13:48:54] {2394} INFO -  at 204.4s,\testimator xgboost's best error=1173.2405,\tbest estimator lgbm's best error=1054.5445\n",
            "[flaml.automl.logger: 07-13 13:48:54] {2221} INFO - iteration 41, current learner xgboost\n",
            "[flaml.automl.logger: 07-13 13:49:04] {2394} INFO -  at 214.2s,\testimator xgboost's best error=1173.2405,\tbest estimator lgbm's best error=1054.5445\n",
            "[flaml.automl.logger: 07-13 13:49:04] {2221} INFO - iteration 42, current learner lgbm\n",
            "[flaml.automl.logger: 07-13 13:49:06] {2394} INFO -  at 216.5s,\testimator lgbm's best error=1054.5445,\tbest estimator lgbm's best error=1054.5445\n",
            "[flaml.automl.logger: 07-13 13:49:06] {2221} INFO - iteration 43, current learner xgboost\n",
            "[flaml.automl.logger: 07-13 13:49:13] {2394} INFO -  at 223.6s,\testimator xgboost's best error=1173.2405,\tbest estimator lgbm's best error=1054.5445\n",
            "[flaml.automl.logger: 07-13 13:49:13] {2221} INFO - iteration 44, current learner extra_tree\n",
            "[flaml.automl.logger: 07-13 13:49:16] {2394} INFO -  at 226.2s,\testimator extra_tree's best error=1292.5346,\tbest estimator lgbm's best error=1054.5445\n",
            "[flaml.automl.logger: 07-13 13:49:16] {2221} INFO - iteration 45, current learner xgboost\n",
            "[flaml.automl.logger: 07-13 13:49:24] {2394} INFO -  at 234.7s,\testimator xgboost's best error=1173.2405,\tbest estimator lgbm's best error=1054.5445\n",
            "[flaml.automl.logger: 07-13 13:49:24] {2221} INFO - iteration 46, current learner lgbm\n",
            "[flaml.automl.logger: 07-13 13:49:27] {2394} INFO -  at 237.1s,\testimator lgbm's best error=1054.5445,\tbest estimator lgbm's best error=1054.5445\n",
            "[flaml.automl.logger: 07-13 13:49:27] {2221} INFO - iteration 47, current learner xgboost\n",
            "[flaml.automl.logger: 07-13 13:49:35] {2394} INFO -  at 245.5s,\testimator xgboost's best error=1173.2405,\tbest estimator lgbm's best error=1054.5445\n",
            "[flaml.automl.logger: 07-13 13:49:35] {2221} INFO - iteration 48, current learner lgbm\n",
            "[flaml.automl.logger: 07-13 13:49:39] {2394} INFO -  at 249.4s,\testimator lgbm's best error=1054.5445,\tbest estimator lgbm's best error=1054.5445\n",
            "[flaml.automl.logger: 07-13 13:49:39] {2221} INFO - iteration 49, current learner rf\n",
            "[flaml.automl.logger: 07-13 13:49:41] {2394} INFO -  at 251.2s,\testimator rf's best error=1378.0008,\tbest estimator lgbm's best error=1054.5445\n",
            "[flaml.automl.logger: 07-13 13:49:41] {2221} INFO - iteration 50, current learner extra_tree\n",
            "[flaml.automl.logger: 07-13 13:49:42] {2394} INFO -  at 252.2s,\testimator extra_tree's best error=1292.5346,\tbest estimator lgbm's best error=1054.5445\n",
            "[flaml.automl.logger: 07-13 13:49:42] {2221} INFO - iteration 51, current learner lgbm\n",
            "[flaml.automl.logger: 07-13 13:49:44] {2394} INFO -  at 254.2s,\testimator lgbm's best error=1054.5445,\tbest estimator lgbm's best error=1054.5445\n",
            "[flaml.automl.logger: 07-13 13:49:44] {2221} INFO - iteration 52, current learner lgbm\n",
            "[flaml.automl.logger: 07-13 13:49:46] {2394} INFO -  at 256.6s,\testimator lgbm's best error=1054.5445,\tbest estimator lgbm's best error=1054.5445\n",
            "[flaml.automl.logger: 07-13 13:49:46] {2221} INFO - iteration 53, current learner lgbm\n",
            "[flaml.automl.logger: 07-13 13:49:49] {2394} INFO -  at 259.3s,\testimator lgbm's best error=1054.5445,\tbest estimator lgbm's best error=1054.5445\n",
            "[flaml.automl.logger: 07-13 13:49:49] {2221} INFO - iteration 54, current learner lgbm\n",
            "[flaml.automl.logger: 07-13 13:49:53] {2394} INFO -  at 263.9s,\testimator lgbm's best error=1054.5445,\tbest estimator lgbm's best error=1054.5445\n",
            "[flaml.automl.logger: 07-13 13:49:53] {2221} INFO - iteration 55, current learner xgboost\n",
            "[flaml.automl.logger: 07-13 13:50:01] {2394} INFO -  at 271.3s,\testimator xgboost's best error=1108.2514,\tbest estimator lgbm's best error=1054.5445\n",
            "[flaml.automl.logger: 07-13 13:50:01] {2221} INFO - iteration 56, current learner lgbm\n",
            "[flaml.automl.logger: 07-13 13:50:03] {2394} INFO -  at 273.5s,\testimator lgbm's best error=1054.5445,\tbest estimator lgbm's best error=1054.5445\n",
            "[flaml.automl.logger: 07-13 13:50:03] {2221} INFO - iteration 57, current learner lgbm\n",
            "[flaml.automl.logger: 07-13 13:50:06] {2394} INFO -  at 276.2s,\testimator lgbm's best error=1054.5445,\tbest estimator lgbm's best error=1054.5445\n",
            "[flaml.automl.logger: 07-13 13:50:06] {2221} INFO - iteration 58, current learner rf\n",
            "[flaml.automl.logger: 07-13 13:50:09] {2394} INFO -  at 279.6s,\testimator rf's best error=1275.1211,\tbest estimator lgbm's best error=1054.5445\n",
            "[flaml.automl.logger: 07-13 13:50:09] {2221} INFO - iteration 59, current learner lgbm\n",
            "[flaml.automl.logger: 07-13 13:50:13] {2394} INFO -  at 283.4s,\testimator lgbm's best error=1054.5445,\tbest estimator lgbm's best error=1054.5445\n",
            "[flaml.automl.logger: 07-13 13:50:13] {2221} INFO - iteration 60, current learner rf\n",
            "[flaml.automl.logger: 07-13 13:50:15] {2394} INFO -  at 285.4s,\testimator rf's best error=1275.1211,\tbest estimator lgbm's best error=1054.5445\n",
            "[flaml.automl.logger: 07-13 13:50:15] {2221} INFO - iteration 61, current learner lgbm\n",
            "[flaml.automl.logger: 07-13 13:50:17] {2394} INFO -  at 287.7s,\testimator lgbm's best error=1054.5445,\tbest estimator lgbm's best error=1054.5445\n",
            "[flaml.automl.logger: 07-13 13:50:17] {2221} INFO - iteration 62, current learner rf\n",
            "[flaml.automl.logger: 07-13 13:50:19] {2394} INFO -  at 289.5s,\testimator rf's best error=1275.1211,\tbest estimator lgbm's best error=1054.5445\n",
            "[flaml.automl.logger: 07-13 13:50:19] {2221} INFO - iteration 63, current learner xgboost\n",
            "[flaml.automl.logger: 07-13 13:50:26] {2394} INFO -  at 296.8s,\testimator xgboost's best error=1108.2514,\tbest estimator lgbm's best error=1054.5445\n",
            "[flaml.automl.logger: 07-13 13:50:26] {2221} INFO - iteration 64, current learner lgbm\n",
            "[flaml.automl.logger: 07-13 13:50:29] {2394} INFO -  at 300.0s,\testimator lgbm's best error=1054.5445,\tbest estimator lgbm's best error=1054.5445\n",
            "[flaml.automl.logger: 07-13 13:50:30] {2630} INFO - retrain lgbm for 0.8s\n",
            "[flaml.automl.logger: 07-13 13:50:30] {2633} INFO - retrained model: LGBMRegressor(colsample_bytree=0.9019070144825116,\n",
            "              learning_rate=0.2798674441105101, max_bin=63, min_child_samples=7,\n",
            "              n_estimators=4, num_leaves=4, reg_alpha=0.0009765625,\n",
            "              reg_lambda=0.09189114905095784, verbose=-1)\n",
            "[flaml.automl.logger: 07-13 13:50:30] {1941} INFO - fit succeeded\n",
            "[flaml.automl.logger: 07-13 13:50:30] {1942} INFO - Time taken to find the best model: 77.6505982875824\n"
          ]
        }
      ]
    },
    {
      "cell_type": "code",
      "source": [
        "'''retrieve best config and best learner'''\n",
        "print('Best ML leaner:', automl.best_estimator)\n",
        "print('Best hyperparmeter config:', automl.best_config)\n",
        "print('Best loss on validation data: {0:.4g}'.format(automl.best_loss))\n",
        "print('Training duration of best run: {0:.4g} s'.format(automl.best_config_train_time))"
      ],
      "metadata": {
        "colab": {
          "base_uri": "https://localhost:8080/"
        },
        "id": "OaxK7fylf_VI",
        "outputId": "092da88a-a7e5-4ea9-e98e-3cf84aecf558"
      },
      "execution_count": null,
      "outputs": [
        {
          "output_type": "stream",
          "name": "stdout",
          "text": [
            "Best ML leaner: lgbm\n",
            "Best hyperparmeter config: {'n_estimators': 4, 'num_leaves': 4, 'min_child_samples': 7, 'learning_rate': 0.2798674441105101, 'log_max_bin': 6, 'colsample_bytree': 0.9019070144825116, 'reg_alpha': 0.0009765625, 'reg_lambda': 0.09189114905095784}\n",
            "Best loss on validation data: 1055\n",
            "Training duration of best run: 0.7882 s\n"
          ]
        }
      ]
    },
    {
      "cell_type": "code",
      "source": [
        "'''pickle and save the automl object'''\n",
        "import pickle\n",
        "\n",
        "with open('automl.pkl', 'wb') as f:\n",
        "    pickle.dump(automl, f, pickle.HIGHEST_PROTOCOL)\n",
        "'''load pickled automl object'''\n",
        "with open('automl.pkl', 'rb') as f:\n",
        "    automl = pickle.load(f)"
      ],
      "metadata": {
        "id": "cu-Wlbj_cOL0"
      },
      "execution_count": null,
      "outputs": []
    },
    {
      "cell_type": "code",
      "source": [
        "y_pred = automl.predict(X_test)"
      ],
      "metadata": {
        "id": "BU80iR3yhc-5"
      },
      "execution_count": null,
      "outputs": []
    },
    {
      "cell_type": "code",
      "source": [
        "from sklearn.metrics import mean_squared_error, mean_absolute_error\n",
        "\n",
        "mse = mean_squared_error(y_test, y_pred)\n",
        "mae = mean_absolute_error(y_test, y_pred)\n",
        "\n",
        "print('mse', '=', mse)\n",
        "print('mae', '=', mae)"
      ],
      "metadata": {
        "colab": {
          "base_uri": "https://localhost:8080/"
        },
        "id": "YCCsXCcjhqNJ",
        "outputId": "197d9b33-7dc9-4d77-d982-cd1a42ee8f29"
      },
      "execution_count": null,
      "outputs": [
        {
          "output_type": "stream",
          "name": "stdout",
          "text": [
            "mse = 694.1132429594142\n",
            "mae = 20.67632853192966\n"
          ]
        }
      ]
    },
    {
      "cell_type": "code",
      "source": [],
      "metadata": {
        "id": "4jivKYRciwOI"
      },
      "execution_count": null,
      "outputs": []
    }
  ],
  "metadata": {
    "accelerator": "GPU",
    "colab": {
      "provenance": [],
      "gpuType": "T4",
      "include_colab_link": true
    },
    "kernelspec": {
      "display_name": "Python 3",
      "name": "python3"
    },
    "language_info": {
      "name": "python"
    }
  },
  "nbformat": 4,
  "nbformat_minor": 0
}