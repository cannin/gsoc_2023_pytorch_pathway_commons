{
  "cells": [
    {
      "cell_type": "markdown",
      "metadata": {
        "id": "view-in-github",
        "colab_type": "text"
      },
      "source": [
        "<a href=\"https://colab.research.google.com/github/cannin/gsoc_2023_pytorch_pathway_commons/blob/main/Notebooks/gat_modelling_with_breast_cancer_data.ipynb\" target=\"_parent\"><img src=\"https://colab.research.google.com/assets/colab-badge.svg\" alt=\"Open In Colab\"/></a>"
      ]
    },
    {
      "cell_type": "markdown",
      "source": [
        "# Downloading Data"
      ],
      "metadata": {
        "id": "kl6voEgVJzBk"
      }
    },
    {
      "cell_type": "code",
      "execution_count": 1,
      "metadata": {
        "colab": {
          "base_uri": "https://localhost:8080/"
        },
        "id": "XqS-T3j6eTXs",
        "outputId": "fdeefecd-6711-410d-ca2a-a20fa3f2b006"
      },
      "outputs": [
        {
          "output_type": "stream",
          "name": "stdout",
          "text": [
            "--2023-08-26 16:28:05--  https://zenodo.org/record/8232723/files/X_train.csv?download=1\n",
            "Resolving zenodo.org (zenodo.org)... 188.185.124.72\n",
            "Connecting to zenodo.org (zenodo.org)|188.185.124.72|:443... connected.\n",
            "HTTP request sent, awaiting response... 200 OK\n",
            "Length: 44836667 (43M) [text/plain]\n",
            "Saving to: ‘X_train.csv’\n",
            "\n",
            "X_train.csv         100%[===================>]  42.76M   538KB/s    in 86s     \n",
            "\n",
            "2023-08-26 16:29:33 (506 KB/s) - ‘X_train.csv’ saved [44836667/44836667]\n",
            "\n"
          ]
        }
      ],
      "source": [
        "!wget https://zenodo.org/record/8232723/files/X_train.csv?download=1 -O X_train.csv"
      ]
    },
    {
      "cell_type": "code",
      "source": [
        "!wget https://zenodo.org/record/8232723/files/X_test.csv?download=1 -O X_test.csv"
      ],
      "metadata": {
        "id": "sWwqnbulJJK_",
        "colab": {
          "base_uri": "https://localhost:8080/"
        },
        "outputId": "152679d0-4d59-4eda-b42d-feffacce7bb1"
      },
      "execution_count": 2,
      "outputs": [
        {
          "output_type": "stream",
          "name": "stdout",
          "text": [
            "--2023-08-26 16:29:33--  https://zenodo.org/record/8232723/files/X_test.csv?download=1\n",
            "Resolving zenodo.org (zenodo.org)... 188.185.124.72\n",
            "Connecting to zenodo.org (zenodo.org)|188.185.124.72|:443... connected.\n",
            "HTTP request sent, awaiting response... 200 OK\n",
            "Length: 15058192 (14M) [text/plain]\n",
            "Saving to: ‘X_test.csv’\n",
            "\n",
            "X_test.csv          100%[===================>]  14.36M  2.92MB/s    in 5.5s    \n",
            "\n",
            "2023-08-26 16:29:41 (2.60 MB/s) - ‘X_test.csv’ saved [15058192/15058192]\n",
            "\n"
          ]
        }
      ]
    },
    {
      "cell_type": "code",
      "source": [
        "!wget https://zenodo.org/record/8232723/files/y_test.csv?download=1 -O y_test.csv"
      ],
      "metadata": {
        "id": "VLwG9TVtJJ3h",
        "colab": {
          "base_uri": "https://localhost:8080/"
        },
        "outputId": "2631263e-8324-4fc7-88b8-de1fe58d0f66"
      },
      "execution_count": 3,
      "outputs": [
        {
          "output_type": "stream",
          "name": "stdout",
          "text": [
            "--2023-08-26 16:29:41--  https://zenodo.org/record/8232723/files/y_test.csv?download=1\n",
            "Resolving zenodo.org (zenodo.org)... 188.185.124.72\n",
            "Connecting to zenodo.org (zenodo.org)|188.185.124.72|:443... connected.\n",
            "HTTP request sent, awaiting response... 200 OK\n",
            "Length: 5425 (5.3K) [text/plain]\n",
            "Saving to: ‘y_test.csv’\n",
            "\n",
            "y_test.csv          100%[===================>]   5.30K  --.-KB/s    in 0s      \n",
            "\n",
            "2023-08-26 16:29:42 (2.66 GB/s) - ‘y_test.csv’ saved [5425/5425]\n",
            "\n"
          ]
        }
      ]
    },
    {
      "cell_type": "code",
      "source": [
        "!wget https://zenodo.org/record/8232723/files/y_train.csv?download=1 -O y_train.csv"
      ],
      "metadata": {
        "id": "U2nEOd68JKYe",
        "colab": {
          "base_uri": "https://localhost:8080/"
        },
        "outputId": "fce2a036-0876-437e-cca9-393a8323c6ae"
      },
      "execution_count": 4,
      "outputs": [
        {
          "output_type": "stream",
          "name": "stdout",
          "text": [
            "--2023-08-26 16:29:42--  https://zenodo.org/record/8232723/files/y_train.csv?download=1\n",
            "Resolving zenodo.org (zenodo.org)... 188.185.124.72\n",
            "Connecting to zenodo.org (zenodo.org)|188.185.124.72|:443... connected.\n",
            "HTTP request sent, awaiting response... 200 OK\n",
            "Length: 16225 (16K) [text/plain]\n",
            "Saving to: ‘y_train.csv’\n",
            "\n",
            "y_train.csv         100%[===================>]  15.84K  --.-KB/s    in 0s      \n",
            "\n",
            "2023-08-26 16:29:44 (225 MB/s) - ‘y_train.csv’ saved [16225/16225]\n",
            "\n"
          ]
        }
      ]
    },
    {
      "cell_type": "code",
      "source": [
        "!wget https://zenodo.org/record/8232723/files/X_val.csv?download=1 -O X_val.csv"
      ],
      "metadata": {
        "id": "twIwvgdkJLDt",
        "colab": {
          "base_uri": "https://localhost:8080/"
        },
        "outputId": "b6218f44-f6b0-4e6d-a249-2181e5c5f94b"
      },
      "execution_count": 5,
      "outputs": [
        {
          "output_type": "stream",
          "name": "stdout",
          "text": [
            "--2023-08-26 16:29:44--  https://zenodo.org/record/8232723/files/X_val.csv?download=1\n",
            "Resolving zenodo.org (zenodo.org)... 188.185.124.72\n",
            "Connecting to zenodo.org (zenodo.org)|188.185.124.72|:443... connected.\n",
            "HTTP request sent, awaiting response... 200 OK\n",
            "Length: 14951235 (14M) [text/plain]\n",
            "Saving to: ‘X_val.csv’\n",
            "\n",
            "X_val.csv           100%[===================>]  14.26M   542KB/s    in 28s     \n",
            "\n",
            "2023-08-26 16:30:13 (526 KB/s) - ‘X_val.csv’ saved [14951235/14951235]\n",
            "\n"
          ]
        }
      ]
    },
    {
      "cell_type": "code",
      "source": [
        "!wget https://zenodo.org/record/8232723/files/y_val.csv?download=1 -O y_val.csv"
      ],
      "metadata": {
        "id": "VvYw0PlgJeJ9",
        "colab": {
          "base_uri": "https://localhost:8080/"
        },
        "outputId": "fb6d3a9d-bee8-4a6d-8833-d19243f06c73"
      },
      "execution_count": 6,
      "outputs": [
        {
          "output_type": "stream",
          "name": "stdout",
          "text": [
            "--2023-08-26 16:30:14--  https://zenodo.org/record/8232723/files/y_val.csv?download=1\n",
            "Resolving zenodo.org (zenodo.org)... 188.185.124.72\n",
            "Connecting to zenodo.org (zenodo.org)|188.185.124.72|:443... connected.\n",
            "HTTP request sent, awaiting response... 200 OK\n",
            "Length: 5400 (5.3K) [text/plain]\n",
            "Saving to: ‘y_val.csv’\n",
            "\n",
            "y_val.csv           100%[===================>]   5.27K  --.-KB/s    in 0s      \n",
            "\n",
            "2023-08-26 16:30:15 (2.82 GB/s) - ‘y_val.csv’ saved [5400/5400]\n",
            "\n"
          ]
        }
      ]
    },
    {
      "cell_type": "code",
      "source": [
        "!wget https://zenodo.org/record/8233085/files/edge_index.pt?download=1 -O edge_index.pt"
      ],
      "metadata": {
        "colab": {
          "base_uri": "https://localhost:8080/"
        },
        "id": "CC1DpVhgKvL6",
        "outputId": "4c6e103c-c3b6-4d40-e3c8-529fccb8c40a"
      },
      "execution_count": 7,
      "outputs": [
        {
          "output_type": "stream",
          "name": "stdout",
          "text": [
            "--2023-08-26 16:30:15--  https://zenodo.org/record/8233085/files/edge_index.pt?download=1\n",
            "Resolving zenodo.org (zenodo.org)... 188.185.124.72\n",
            "Connecting to zenodo.org (zenodo.org)|188.185.124.72|:443... connected.\n",
            "HTTP request sent, awaiting response... 200 OK\n",
            "Length: 4349044 (4.1M) [application/octet-stream]\n",
            "Saving to: ‘edge_index.pt’\n",
            "\n",
            "edge_index.pt       100%[===================>]   4.15M   535KB/s    in 8.1s    \n",
            "\n",
            "2023-08-26 16:30:24 (523 KB/s) - ‘edge_index.pt’ saved [4349044/4349044]\n",
            "\n"
          ]
        }
      ]
    },
    {
      "cell_type": "code",
      "execution_count": 8,
      "metadata": {
        "colab": {
          "base_uri": "https://localhost:8080/"
        },
        "id": "OE2xc7If0ZCT",
        "outputId": "605ec3f0-b997-4efe-e4e7-624c92bc2259"
      },
      "outputs": [
        {
          "output_type": "stream",
          "name": "stdout",
          "text": [
            "Requirement already satisfied: torch-geometric in /usr/local/lib/python3.10/dist-packages (2.3.1)\n",
            "Requirement already satisfied: tqdm in /usr/local/lib/python3.10/dist-packages (from torch-geometric) (4.66.1)\n",
            "Requirement already satisfied: numpy in /usr/local/lib/python3.10/dist-packages (from torch-geometric) (1.23.5)\n",
            "Requirement already satisfied: scipy in /usr/local/lib/python3.10/dist-packages (from torch-geometric) (1.10.1)\n",
            "Requirement already satisfied: jinja2 in /usr/local/lib/python3.10/dist-packages (from torch-geometric) (3.1.2)\n",
            "Requirement already satisfied: requests in /usr/local/lib/python3.10/dist-packages (from torch-geometric) (2.31.0)\n",
            "Requirement already satisfied: pyparsing in /usr/local/lib/python3.10/dist-packages (from torch-geometric) (3.1.1)\n",
            "Requirement already satisfied: scikit-learn in /usr/local/lib/python3.10/dist-packages (from torch-geometric) (1.2.2)\n",
            "Requirement already satisfied: psutil>=5.8.0 in /usr/local/lib/python3.10/dist-packages (from torch-geometric) (5.9.5)\n",
            "Requirement already satisfied: MarkupSafe>=2.0 in /usr/local/lib/python3.10/dist-packages (from jinja2->torch-geometric) (2.1.3)\n",
            "Requirement already satisfied: charset-normalizer<4,>=2 in /usr/local/lib/python3.10/dist-packages (from requests->torch-geometric) (3.2.0)\n",
            "Requirement already satisfied: idna<4,>=2.5 in /usr/local/lib/python3.10/dist-packages (from requests->torch-geometric) (3.4)\n",
            "Requirement already satisfied: urllib3<3,>=1.21.1 in /usr/local/lib/python3.10/dist-packages (from requests->torch-geometric) (2.0.4)\n",
            "Requirement already satisfied: certifi>=2017.4.17 in /usr/local/lib/python3.10/dist-packages (from requests->torch-geometric) (2023.7.22)\n",
            "Requirement already satisfied: joblib>=1.1.1 in /usr/local/lib/python3.10/dist-packages (from scikit-learn->torch-geometric) (1.3.2)\n",
            "Requirement already satisfied: threadpoolctl>=2.0.0 in /usr/local/lib/python3.10/dist-packages (from scikit-learn->torch-geometric) (3.2.0)\n"
          ]
        }
      ],
      "source": [
        "!pip install torch-geometric"
      ]
    },
    {
      "cell_type": "markdown",
      "metadata": {
        "id": "6T-0DTo_3DLk"
      },
      "source": [
        "# Importing Data and Libraries"
      ]
    },
    {
      "cell_type": "code",
      "execution_count": 9,
      "metadata": {
        "id": "Wy1Dc5Z9vGE8"
      },
      "outputs": [],
      "source": [
        "import pandas as pd\n",
        "import numpy as np\n",
        "import torch\n",
        "from torch_geometric.data import Data\n",
        "from sklearn.model_selection import train_test_split\n",
        "import matplotlib.pyplot as plt"
      ]
    },
    {
      "cell_type": "code",
      "execution_count": 10,
      "metadata": {
        "colab": {
          "base_uri": "https://localhost:8080/"
        },
        "id": "Agul4fnR13Wa",
        "outputId": "f73688ac-89f2-460a-835b-9df977632480"
      },
      "outputs": [
        {
          "output_type": "stream",
          "name": "stdout",
          "text": [
            "Using device: cuda\n"
          ]
        }
      ],
      "source": [
        "device = torch.device('cuda' if torch.cuda.is_available() else 'cpu')\n",
        "print('Using device:', device)\n",
        "\n",
        "if device.type != 'cuda':\n",
        "    raise SystemError('GPU device not found')"
      ]
    },
    {
      "cell_type": "code",
      "source": [
        "X_train = pd.read_csv(\"X_train.csv\", index_col=0)\n",
        "y_train = np.loadtxt(\"y_train.csv\", delimiter=',')\n",
        "\n",
        "X_test = pd.read_csv(\"X_test.csv\", index_col=0)\n",
        "y_test = np.loadtxt(\"y_test.csv\", delimiter=',')\n",
        "\n",
        "X_val = pd.read_csv(\"X_val.csv\", index_col=0)\n",
        "y_val = np.loadtxt(\"y_val.csv\", delimiter=',')"
      ],
      "metadata": {
        "id": "-LYZy9ksSjI0"
      },
      "execution_count": 11,
      "outputs": []
    },
    {
      "cell_type": "code",
      "source": [
        "edge_index = torch.load('edge_index.pt')"
      ],
      "metadata": {
        "id": "-4Tx9-cHVwHZ"
      },
      "execution_count": 12,
      "outputs": []
    },
    {
      "cell_type": "code",
      "execution_count": 13,
      "metadata": {
        "id": "_hSLO4ioijm1",
        "colab": {
          "base_uri": "https://localhost:8080/"
        },
        "outputId": "89b374b2-dc51-40a8-b7e7-c19aeca9a730"
      },
      "outputs": [
        {
          "output_type": "execute_result",
          "data": {
            "text/plain": [
              "tensor([[   0,    0,    0,  ..., 9287, 9287, 9287],\n",
              "        [ 451,  452,  453,  ..., 3323, 3340, 3341]])"
            ]
          },
          "metadata": {},
          "execution_count": 13
        }
      ],
      "source": [
        "edge_index"
      ]
    },
    {
      "cell_type": "code",
      "execution_count": 14,
      "metadata": {
        "id": "8AijMTwRaV2O",
        "colab": {
          "base_uri": "https://localhost:8080/"
        },
        "outputId": "e1d863e0-91ac-473d-9433-5d93e8c463f7"
      },
      "outputs": [
        {
          "output_type": "execute_result",
          "data": {
            "text/plain": [
              "torch.Size([2, 271771])"
            ]
          },
          "metadata": {},
          "execution_count": 14
        }
      ],
      "source": [
        "edge_index.shape"
      ]
    },
    {
      "cell_type": "code",
      "execution_count": 15,
      "metadata": {
        "id": "2moOSXN89L_s",
        "colab": {
          "base_uri": "https://localhost:8080/"
        },
        "outputId": "983d80a5-42b6-4ac3-855c-298d8cff2726"
      },
      "outputs": [
        {
          "output_type": "execute_result",
          "data": {
            "text/plain": [
              "((649, 9288), (217, 9288), (216, 9288))"
            ]
          },
          "metadata": {},
          "execution_count": 15
        }
      ],
      "source": [
        "X_train.shape, X_test.shape, X_val.shape"
      ]
    },
    {
      "cell_type": "code",
      "execution_count": 16,
      "metadata": {
        "id": "gD5qBnVD9R3Z"
      },
      "outputs": [],
      "source": [
        "X_train = X_train.values\n",
        "X_test = X_test.values\n",
        "X_val = X_val.values"
      ]
    },
    {
      "cell_type": "markdown",
      "source": [
        "# Generating patient-specific graphs"
      ],
      "metadata": {
        "id": "1z7WbblxpLtR"
      }
    },
    {
      "cell_type": "code",
      "execution_count": 17,
      "metadata": {
        "id": "IohJNJFPFqqs"
      },
      "outputs": [],
      "source": [
        "num_patients_train = X_train.shape[0]\n",
        "num_patients_test = X_test.shape[0]\n",
        "num_patients_val = X_val.shape[0]\n",
        "\n",
        "# Create patient-specific graphs for the training set\n",
        "graphs_train = []\n",
        "for i in range(num_patients_train):\n",
        "    node_features = X_train[i]  # Node features for the i-th patient\n",
        "    target = y_train[i]  # Target label for the i-th patient\n",
        "    graph_train = (node_features, edge_index, target)\n",
        "    graphs_train.append(graph_train)\n",
        "\n",
        "# Create patient-specific graphs for the test set\n",
        "graphs_test = []\n",
        "for i in range(num_patients_test):\n",
        "    node_features = X_test[i]  # Node features for the i-th patient\n",
        "    target = y_test[i]  # Target label for the i-th patient\n",
        "    graph_test = (node_features, edge_index, target)\n",
        "    graphs_test.append(graph_test)\n",
        "\n",
        "# Create patient-specific graphs for the test set\n",
        "graphs_val = []\n",
        "for i in range(num_patients_val):\n",
        "    node_features = X_val[i]  # Node features for the i-th patient\n",
        "    target = y_val[i]  # Target label for the i-th patient\n",
        "    graph_val = (node_features, edge_index, target)\n",
        "    graphs_val.append(graph_test)"
      ]
    },
    {
      "cell_type": "code",
      "execution_count": 18,
      "metadata": {
        "id": "xGcmIHELMEdg",
        "colab": {
          "base_uri": "https://localhost:8080/"
        },
        "outputId": "4dbd34d6-d0c8-43bb-822f-b88ebc787219"
      },
      "outputs": [
        {
          "output_type": "stream",
          "name": "stdout",
          "text": [
            "649\n",
            "217\n",
            "216\n"
          ]
        }
      ],
      "source": [
        "# Check the number of patient-specific graphs\n",
        "print(len(graphs_train))  # Should be 857\n",
        "print(len(graphs_test))  # Should be 217\n",
        "print(len(graphs_val))"
      ]
    },
    {
      "cell_type": "code",
      "execution_count": 19,
      "metadata": {
        "id": "olPMTAImFxrJ",
        "colab": {
          "base_uri": "https://localhost:8080/"
        },
        "outputId": "0006a46c-aa95-41fa-de0a-0dca6d56c3e2"
      },
      "outputs": [
        {
          "output_type": "stream",
          "name": "stdout",
          "text": [
            "[   0.     5798.37      8.6165 ...  415.824   931.957  1180.46  ]\n",
            "tensor([[   0,    0,    0,  ..., 9287, 9287, 9287],\n",
            "        [ 451,  452,  453,  ..., 3323, 3340, 3341]])\n",
            "133.0505967\n"
          ]
        }
      ],
      "source": [
        "# Access the patient-specific graph for a specific patient in the training set\n",
        "patient_index = 0 # Index of the patient\n",
        "node_features, edge_index, y = graphs_train[patient_index]\n",
        "print(node_features)  # Node features for the specific patient\n",
        "print(edge_index)  # Edge index for the specific patient\n",
        "print(y)"
      ]
    },
    {
      "cell_type": "code",
      "execution_count": 20,
      "metadata": {
        "id": "w9CCMwQeGGUj",
        "colab": {
          "base_uri": "https://localhost:8080/"
        },
        "outputId": "faa6f80a-a257-4024-a119-80cde01df9ff"
      },
      "outputs": [
        {
          "output_type": "stream",
          "name": "stdout",
          "text": [
            "[0.00000e+00 2.87393e+04 9.46600e-01 ... 5.60854e+02 7.04274e+02\n",
            " 5.87369e+02]\n",
            "tensor([[   0,    0,    0,  ..., 9287, 9287, 9287],\n",
            "        [ 451,  452,  453,  ..., 3323, 3340, 3341]])\n"
          ]
        }
      ],
      "source": [
        "# Access the patient-specific graph for a specific patient in the training set\n",
        "patient_index = 15  # Index of the patient\n",
        "node_features, edge_index, y = graphs_test[patient_index]\n",
        "print(node_features)  # Node features for the specific patient\n",
        "print(edge_index)  # Edge index for the specific patient\n",
        "# print(y)"
      ]
    },
    {
      "cell_type": "code",
      "source": [
        "# Access the patient-specific graph for a specific patient in the training set\n",
        "patient_index = 15  # Index of the patient\n",
        "node_features, edge_index, y = graphs_val[patient_index]\n",
        "print(node_features)  # Node features for the specific patient\n",
        "print(edge_index)  # Edge index for the specific patient\n",
        "# print(y)"
      ],
      "metadata": {
        "id": "oqKycb9AYsG3",
        "outputId": "4086194a-63ed-4be5-d89e-19e02f65c922",
        "colab": {
          "base_uri": "https://localhost:8080/"
        }
      },
      "execution_count": 21,
      "outputs": [
        {
          "output_type": "stream",
          "name": "stdout",
          "text": [
            "[   0.    7339.17     0.    ...  521.169 2435.84   462.114]\n",
            "tensor([[   0,    0,    0,  ..., 9287, 9287, 9287],\n",
            "        [ 451,  452,  453,  ..., 3323, 3340, 3341]])\n"
          ]
        }
      ]
    },
    {
      "cell_type": "markdown",
      "source": [
        "# Converting List of Graphs to Data Objects"
      ],
      "metadata": {
        "id": "73STw3hfpXYA"
      }
    },
    {
      "cell_type": "code",
      "execution_count": 22,
      "metadata": {
        "id": "OQvmOmtabK95"
      },
      "outputs": [],
      "source": [
        "# Convert graphs_train to a list of Data objects\n",
        "data_train = [Data(x=torch.tensor(graph[0].reshape(len(graphs_train[0][0]), 1)), edge_index=graph[1], y=torch.tensor(graph[2])) for graph in graphs_train]\n",
        "\n",
        "# Convert graphs_test to a list of Data objects\n",
        "data_test = [Data(x=torch.tensor(graph[0].reshape(len(graphs_test[0][0]), 1)), edge_index=graph[1], y=torch.tensor(graph[2])) for graph in graphs_test]\n",
        "\n",
        "# Convert graphs_test to a list of Data objects\n",
        "data_val = [Data(x=torch.tensor(graph[0].reshape(len(graphs_val[0][0]), 1)), edge_index=graph[1], y=torch.tensor(graph[2])) for graph in graphs_val]"
      ]
    },
    {
      "cell_type": "code",
      "execution_count": 23,
      "metadata": {
        "id": "M_AXY4EhirX7",
        "colab": {
          "base_uri": "https://localhost:8080/"
        },
        "outputId": "0429a8a4-6e08-42b7-9486-42fa3b6ea4a6"
      },
      "outputs": [
        {
          "output_type": "stream",
          "name": "stdout",
          "text": [
            "Data(x=[9288, 1], edge_index=[2, 271771], y=133.0505967)\n",
            "tensor([[   0.0000],\n",
            "        [5798.3700],\n",
            "        [   8.6165],\n",
            "        ...,\n",
            "        [ 415.8240],\n",
            "        [ 931.9570],\n",
            "        [1180.4600]], dtype=torch.float64)\n",
            "tensor([[   0,    0,    0,  ..., 9287, 9287, 9287],\n",
            "        [ 451,  452,  453,  ..., 3323, 3340, 3341]])\n",
            "tensor(133.0506, dtype=torch.float64)\n"
          ]
        }
      ],
      "source": [
        "# Access the attributes of a specific data object in the training set\n",
        "sample = data_train[0]  # Get the first data object\n",
        "print(sample)  # Print the data object\n",
        "\n",
        "# Access the node features, edge indices, and target label\n",
        "node_features = sample.x\n",
        "edge_index = sample.edge_index\n",
        "target = sample.y\n",
        "\n",
        "print(node_features)  # Print the node features\n",
        "print(edge_index)  # Print the edge indices\n",
        "print(target)  # Print the target label"
      ]
    },
    {
      "cell_type": "markdown",
      "source": [
        "# Creating Train, Test and Validation Batches"
      ],
      "metadata": {
        "id": "tHuhKYTmpqrY"
      }
    },
    {
      "cell_type": "code",
      "source": [
        "from torch_geometric.loader import DataLoader"
      ],
      "metadata": {
        "id": "mN5kObB2-n9n"
      },
      "execution_count": 24,
      "outputs": []
    },
    {
      "cell_type": "code",
      "execution_count": 25,
      "metadata": {
        "id": "0gZ-l0npPIca",
        "colab": {
          "base_uri": "https://localhost:8080/"
        },
        "outputId": "cd17c8af-c953-4ffa-88d5-d6a473a6600f"
      },
      "outputs": [
        {
          "output_type": "stream",
          "name": "stdout",
          "text": [
            "Training Batches: \n",
            "Step 1:\n",
            "=======\n",
            "Number of graphs in the current batch: 8\n",
            "DataBatch(x=[74304, 1], edge_index=[2, 2174168], y=[8], batch=[74304], ptr=[9])\n",
            "\n",
            "Training Batches: \n",
            "Step 2:\n",
            "=======\n",
            "Number of graphs in the current batch: 8\n",
            "DataBatch(x=[74304, 1], edge_index=[2, 2174168], y=[8], batch=[74304], ptr=[9])\n",
            "\n",
            "Training Batches: \n",
            "Step 3:\n",
            "=======\n",
            "Number of graphs in the current batch: 8\n",
            "DataBatch(x=[74304, 1], edge_index=[2, 2174168], y=[8], batch=[74304], ptr=[9])\n",
            "\n",
            "Training Batches: \n",
            "Step 4:\n",
            "=======\n",
            "Number of graphs in the current batch: 8\n",
            "DataBatch(x=[74304, 1], edge_index=[2, 2174168], y=[8], batch=[74304], ptr=[9])\n",
            "\n",
            "Training Batches: \n",
            "Step 5:\n",
            "=======\n",
            "Number of graphs in the current batch: 8\n",
            "DataBatch(x=[74304, 1], edge_index=[2, 2174168], y=[8], batch=[74304], ptr=[9])\n",
            "\n",
            "Training Batches: \n",
            "Step 6:\n",
            "=======\n",
            "Number of graphs in the current batch: 8\n",
            "DataBatch(x=[74304, 1], edge_index=[2, 2174168], y=[8], batch=[74304], ptr=[9])\n",
            "\n",
            "Training Batches: \n",
            "Step 7:\n",
            "=======\n",
            "Number of graphs in the current batch: 8\n",
            "DataBatch(x=[74304, 1], edge_index=[2, 2174168], y=[8], batch=[74304], ptr=[9])\n",
            "\n",
            "Training Batches: \n",
            "Step 8:\n",
            "=======\n",
            "Number of graphs in the current batch: 8\n",
            "DataBatch(x=[74304, 1], edge_index=[2, 2174168], y=[8], batch=[74304], ptr=[9])\n",
            "\n",
            "Training Batches: \n",
            "Step 9:\n",
            "=======\n",
            "Number of graphs in the current batch: 8\n",
            "DataBatch(x=[74304, 1], edge_index=[2, 2174168], y=[8], batch=[74304], ptr=[9])\n",
            "\n",
            "Training Batches: \n",
            "Step 10:\n",
            "=======\n",
            "Number of graphs in the current batch: 8\n",
            "DataBatch(x=[74304, 1], edge_index=[2, 2174168], y=[8], batch=[74304], ptr=[9])\n",
            "\n",
            "Training Batches: \n",
            "Step 11:\n",
            "=======\n",
            "Number of graphs in the current batch: 8\n",
            "DataBatch(x=[74304, 1], edge_index=[2, 2174168], y=[8], batch=[74304], ptr=[9])\n",
            "\n",
            "Training Batches: \n",
            "Step 12:\n",
            "=======\n",
            "Number of graphs in the current batch: 8\n",
            "DataBatch(x=[74304, 1], edge_index=[2, 2174168], y=[8], batch=[74304], ptr=[9])\n",
            "\n",
            "Training Batches: \n",
            "Step 13:\n",
            "=======\n",
            "Number of graphs in the current batch: 8\n",
            "DataBatch(x=[74304, 1], edge_index=[2, 2174168], y=[8], batch=[74304], ptr=[9])\n",
            "\n",
            "Training Batches: \n",
            "Step 14:\n",
            "=======\n",
            "Number of graphs in the current batch: 8\n",
            "DataBatch(x=[74304, 1], edge_index=[2, 2174168], y=[8], batch=[74304], ptr=[9])\n",
            "\n",
            "Training Batches: \n",
            "Step 15:\n",
            "=======\n",
            "Number of graphs in the current batch: 8\n",
            "DataBatch(x=[74304, 1], edge_index=[2, 2174168], y=[8], batch=[74304], ptr=[9])\n",
            "\n",
            "Training Batches: \n",
            "Step 16:\n",
            "=======\n",
            "Number of graphs in the current batch: 8\n",
            "DataBatch(x=[74304, 1], edge_index=[2, 2174168], y=[8], batch=[74304], ptr=[9])\n",
            "\n",
            "Training Batches: \n",
            "Step 17:\n",
            "=======\n",
            "Number of graphs in the current batch: 8\n",
            "DataBatch(x=[74304, 1], edge_index=[2, 2174168], y=[8], batch=[74304], ptr=[9])\n",
            "\n",
            "Training Batches: \n",
            "Step 18:\n",
            "=======\n",
            "Number of graphs in the current batch: 8\n",
            "DataBatch(x=[74304, 1], edge_index=[2, 2174168], y=[8], batch=[74304], ptr=[9])\n",
            "\n",
            "Training Batches: \n",
            "Step 19:\n",
            "=======\n",
            "Number of graphs in the current batch: 8\n",
            "DataBatch(x=[74304, 1], edge_index=[2, 2174168], y=[8], batch=[74304], ptr=[9])\n",
            "\n",
            "Training Batches: \n",
            "Step 20:\n",
            "=======\n",
            "Number of graphs in the current batch: 8\n",
            "DataBatch(x=[74304, 1], edge_index=[2, 2174168], y=[8], batch=[74304], ptr=[9])\n",
            "\n",
            "Training Batches: \n",
            "Step 21:\n",
            "=======\n",
            "Number of graphs in the current batch: 8\n",
            "DataBatch(x=[74304, 1], edge_index=[2, 2174168], y=[8], batch=[74304], ptr=[9])\n",
            "\n",
            "Training Batches: \n",
            "Step 22:\n",
            "=======\n",
            "Number of graphs in the current batch: 8\n",
            "DataBatch(x=[74304, 1], edge_index=[2, 2174168], y=[8], batch=[74304], ptr=[9])\n",
            "\n",
            "Training Batches: \n",
            "Step 23:\n",
            "=======\n",
            "Number of graphs in the current batch: 8\n",
            "DataBatch(x=[74304, 1], edge_index=[2, 2174168], y=[8], batch=[74304], ptr=[9])\n",
            "\n",
            "Training Batches: \n",
            "Step 24:\n",
            "=======\n",
            "Number of graphs in the current batch: 8\n",
            "DataBatch(x=[74304, 1], edge_index=[2, 2174168], y=[8], batch=[74304], ptr=[9])\n",
            "\n",
            "Training Batches: \n",
            "Step 25:\n",
            "=======\n",
            "Number of graphs in the current batch: 8\n",
            "DataBatch(x=[74304, 1], edge_index=[2, 2174168], y=[8], batch=[74304], ptr=[9])\n",
            "\n",
            "Training Batches: \n",
            "Step 26:\n",
            "=======\n",
            "Number of graphs in the current batch: 8\n",
            "DataBatch(x=[74304, 1], edge_index=[2, 2174168], y=[8], batch=[74304], ptr=[9])\n",
            "\n",
            "Training Batches: \n",
            "Step 27:\n",
            "=======\n",
            "Number of graphs in the current batch: 8\n",
            "DataBatch(x=[74304, 1], edge_index=[2, 2174168], y=[8], batch=[74304], ptr=[9])\n",
            "\n",
            "Training Batches: \n",
            "Step 28:\n",
            "=======\n",
            "Number of graphs in the current batch: 8\n",
            "DataBatch(x=[74304, 1], edge_index=[2, 2174168], y=[8], batch=[74304], ptr=[9])\n",
            "\n",
            "Training Batches: \n",
            "Step 29:\n",
            "=======\n",
            "Number of graphs in the current batch: 8\n",
            "DataBatch(x=[74304, 1], edge_index=[2, 2174168], y=[8], batch=[74304], ptr=[9])\n",
            "\n",
            "Training Batches: \n",
            "Step 30:\n",
            "=======\n",
            "Number of graphs in the current batch: 8\n",
            "DataBatch(x=[74304, 1], edge_index=[2, 2174168], y=[8], batch=[74304], ptr=[9])\n",
            "\n",
            "Training Batches: \n",
            "Step 31:\n",
            "=======\n",
            "Number of graphs in the current batch: 8\n",
            "DataBatch(x=[74304, 1], edge_index=[2, 2174168], y=[8], batch=[74304], ptr=[9])\n",
            "\n",
            "Training Batches: \n",
            "Step 32:\n",
            "=======\n",
            "Number of graphs in the current batch: 8\n",
            "DataBatch(x=[74304, 1], edge_index=[2, 2174168], y=[8], batch=[74304], ptr=[9])\n",
            "\n",
            "Training Batches: \n",
            "Step 33:\n",
            "=======\n",
            "Number of graphs in the current batch: 8\n",
            "DataBatch(x=[74304, 1], edge_index=[2, 2174168], y=[8], batch=[74304], ptr=[9])\n",
            "\n",
            "Training Batches: \n",
            "Step 34:\n",
            "=======\n",
            "Number of graphs in the current batch: 8\n",
            "DataBatch(x=[74304, 1], edge_index=[2, 2174168], y=[8], batch=[74304], ptr=[9])\n",
            "\n",
            "Training Batches: \n",
            "Step 35:\n",
            "=======\n",
            "Number of graphs in the current batch: 8\n",
            "DataBatch(x=[74304, 1], edge_index=[2, 2174168], y=[8], batch=[74304], ptr=[9])\n",
            "\n",
            "Training Batches: \n",
            "Step 36:\n",
            "=======\n",
            "Number of graphs in the current batch: 8\n",
            "DataBatch(x=[74304, 1], edge_index=[2, 2174168], y=[8], batch=[74304], ptr=[9])\n",
            "\n",
            "Training Batches: \n",
            "Step 37:\n",
            "=======\n",
            "Number of graphs in the current batch: 8\n",
            "DataBatch(x=[74304, 1], edge_index=[2, 2174168], y=[8], batch=[74304], ptr=[9])\n",
            "\n",
            "Training Batches: \n",
            "Step 38:\n",
            "=======\n",
            "Number of graphs in the current batch: 8\n",
            "DataBatch(x=[74304, 1], edge_index=[2, 2174168], y=[8], batch=[74304], ptr=[9])\n",
            "\n",
            "Training Batches: \n",
            "Step 39:\n",
            "=======\n",
            "Number of graphs in the current batch: 8\n",
            "DataBatch(x=[74304, 1], edge_index=[2, 2174168], y=[8], batch=[74304], ptr=[9])\n",
            "\n",
            "Training Batches: \n",
            "Step 40:\n",
            "=======\n",
            "Number of graphs in the current batch: 8\n",
            "DataBatch(x=[74304, 1], edge_index=[2, 2174168], y=[8], batch=[74304], ptr=[9])\n",
            "\n",
            "Training Batches: \n",
            "Step 41:\n",
            "=======\n",
            "Number of graphs in the current batch: 8\n",
            "DataBatch(x=[74304, 1], edge_index=[2, 2174168], y=[8], batch=[74304], ptr=[9])\n",
            "\n",
            "Training Batches: \n",
            "Step 42:\n",
            "=======\n",
            "Number of graphs in the current batch: 8\n",
            "DataBatch(x=[74304, 1], edge_index=[2, 2174168], y=[8], batch=[74304], ptr=[9])\n",
            "\n",
            "Training Batches: \n",
            "Step 43:\n",
            "=======\n",
            "Number of graphs in the current batch: 8\n",
            "DataBatch(x=[74304, 1], edge_index=[2, 2174168], y=[8], batch=[74304], ptr=[9])\n",
            "\n",
            "Training Batches: \n",
            "Step 44:\n",
            "=======\n",
            "Number of graphs in the current batch: 8\n",
            "DataBatch(x=[74304, 1], edge_index=[2, 2174168], y=[8], batch=[74304], ptr=[9])\n",
            "\n",
            "Training Batches: \n",
            "Step 45:\n",
            "=======\n",
            "Number of graphs in the current batch: 8\n",
            "DataBatch(x=[74304, 1], edge_index=[2, 2174168], y=[8], batch=[74304], ptr=[9])\n",
            "\n",
            "Training Batches: \n",
            "Step 46:\n",
            "=======\n",
            "Number of graphs in the current batch: 8\n",
            "DataBatch(x=[74304, 1], edge_index=[2, 2174168], y=[8], batch=[74304], ptr=[9])\n",
            "\n",
            "Training Batches: \n",
            "Step 47:\n",
            "=======\n",
            "Number of graphs in the current batch: 8\n",
            "DataBatch(x=[74304, 1], edge_index=[2, 2174168], y=[8], batch=[74304], ptr=[9])\n",
            "\n",
            "Training Batches: \n",
            "Step 48:\n",
            "=======\n",
            "Number of graphs in the current batch: 8\n",
            "DataBatch(x=[74304, 1], edge_index=[2, 2174168], y=[8], batch=[74304], ptr=[9])\n",
            "\n",
            "Training Batches: \n",
            "Step 49:\n",
            "=======\n",
            "Number of graphs in the current batch: 8\n",
            "DataBatch(x=[74304, 1], edge_index=[2, 2174168], y=[8], batch=[74304], ptr=[9])\n",
            "\n",
            "Training Batches: \n",
            "Step 50:\n",
            "=======\n",
            "Number of graphs in the current batch: 8\n",
            "DataBatch(x=[74304, 1], edge_index=[2, 2174168], y=[8], batch=[74304], ptr=[9])\n",
            "\n",
            "Training Batches: \n",
            "Step 51:\n",
            "=======\n",
            "Number of graphs in the current batch: 8\n",
            "DataBatch(x=[74304, 1], edge_index=[2, 2174168], y=[8], batch=[74304], ptr=[9])\n",
            "\n",
            "Training Batches: \n",
            "Step 52:\n",
            "=======\n",
            "Number of graphs in the current batch: 8\n",
            "DataBatch(x=[74304, 1], edge_index=[2, 2174168], y=[8], batch=[74304], ptr=[9])\n",
            "\n",
            "Training Batches: \n",
            "Step 53:\n",
            "=======\n",
            "Number of graphs in the current batch: 8\n",
            "DataBatch(x=[74304, 1], edge_index=[2, 2174168], y=[8], batch=[74304], ptr=[9])\n",
            "\n",
            "Training Batches: \n",
            "Step 54:\n",
            "=======\n",
            "Number of graphs in the current batch: 8\n",
            "DataBatch(x=[74304, 1], edge_index=[2, 2174168], y=[8], batch=[74304], ptr=[9])\n",
            "\n",
            "Training Batches: \n",
            "Step 55:\n",
            "=======\n",
            "Number of graphs in the current batch: 8\n",
            "DataBatch(x=[74304, 1], edge_index=[2, 2174168], y=[8], batch=[74304], ptr=[9])\n",
            "\n",
            "Training Batches: \n",
            "Step 56:\n",
            "=======\n",
            "Number of graphs in the current batch: 8\n",
            "DataBatch(x=[74304, 1], edge_index=[2, 2174168], y=[8], batch=[74304], ptr=[9])\n",
            "\n",
            "Training Batches: \n",
            "Step 57:\n",
            "=======\n",
            "Number of graphs in the current batch: 8\n",
            "DataBatch(x=[74304, 1], edge_index=[2, 2174168], y=[8], batch=[74304], ptr=[9])\n",
            "\n",
            "Training Batches: \n",
            "Step 58:\n",
            "=======\n",
            "Number of graphs in the current batch: 8\n",
            "DataBatch(x=[74304, 1], edge_index=[2, 2174168], y=[8], batch=[74304], ptr=[9])\n",
            "\n",
            "Training Batches: \n",
            "Step 59:\n",
            "=======\n",
            "Number of graphs in the current batch: 8\n",
            "DataBatch(x=[74304, 1], edge_index=[2, 2174168], y=[8], batch=[74304], ptr=[9])\n",
            "\n",
            "Training Batches: \n",
            "Step 60:\n",
            "=======\n",
            "Number of graphs in the current batch: 8\n",
            "DataBatch(x=[74304, 1], edge_index=[2, 2174168], y=[8], batch=[74304], ptr=[9])\n",
            "\n",
            "Training Batches: \n",
            "Step 61:\n",
            "=======\n",
            "Number of graphs in the current batch: 8\n",
            "DataBatch(x=[74304, 1], edge_index=[2, 2174168], y=[8], batch=[74304], ptr=[9])\n",
            "\n",
            "Training Batches: \n",
            "Step 62:\n",
            "=======\n",
            "Number of graphs in the current batch: 8\n",
            "DataBatch(x=[74304, 1], edge_index=[2, 2174168], y=[8], batch=[74304], ptr=[9])\n",
            "\n",
            "Training Batches: \n",
            "Step 63:\n",
            "=======\n",
            "Number of graphs in the current batch: 8\n",
            "DataBatch(x=[74304, 1], edge_index=[2, 2174168], y=[8], batch=[74304], ptr=[9])\n",
            "\n",
            "Training Batches: \n",
            "Step 64:\n",
            "=======\n",
            "Number of graphs in the current batch: 8\n",
            "DataBatch(x=[74304, 1], edge_index=[2, 2174168], y=[8], batch=[74304], ptr=[9])\n",
            "\n",
            "Training Batches: \n",
            "Step 65:\n",
            "=======\n",
            "Number of graphs in the current batch: 8\n",
            "DataBatch(x=[74304, 1], edge_index=[2, 2174168], y=[8], batch=[74304], ptr=[9])\n",
            "\n",
            "Training Batches: \n",
            "Step 66:\n",
            "=======\n",
            "Number of graphs in the current batch: 8\n",
            "DataBatch(x=[74304, 1], edge_index=[2, 2174168], y=[8], batch=[74304], ptr=[9])\n",
            "\n",
            "Training Batches: \n",
            "Step 67:\n",
            "=======\n",
            "Number of graphs in the current batch: 8\n",
            "DataBatch(x=[74304, 1], edge_index=[2, 2174168], y=[8], batch=[74304], ptr=[9])\n",
            "\n",
            "Training Batches: \n",
            "Step 68:\n",
            "=======\n",
            "Number of graphs in the current batch: 8\n",
            "DataBatch(x=[74304, 1], edge_index=[2, 2174168], y=[8], batch=[74304], ptr=[9])\n",
            "\n",
            "Training Batches: \n",
            "Step 69:\n",
            "=======\n",
            "Number of graphs in the current batch: 8\n",
            "DataBatch(x=[74304, 1], edge_index=[2, 2174168], y=[8], batch=[74304], ptr=[9])\n",
            "\n",
            "Training Batches: \n",
            "Step 70:\n",
            "=======\n",
            "Number of graphs in the current batch: 8\n",
            "DataBatch(x=[74304, 1], edge_index=[2, 2174168], y=[8], batch=[74304], ptr=[9])\n",
            "\n",
            "Training Batches: \n",
            "Step 71:\n",
            "=======\n",
            "Number of graphs in the current batch: 8\n",
            "DataBatch(x=[74304, 1], edge_index=[2, 2174168], y=[8], batch=[74304], ptr=[9])\n",
            "\n",
            "Training Batches: \n",
            "Step 72:\n",
            "=======\n",
            "Number of graphs in the current batch: 8\n",
            "DataBatch(x=[74304, 1], edge_index=[2, 2174168], y=[8], batch=[74304], ptr=[9])\n",
            "\n",
            "Training Batches: \n",
            "Step 73:\n",
            "=======\n",
            "Number of graphs in the current batch: 8\n",
            "DataBatch(x=[74304, 1], edge_index=[2, 2174168], y=[8], batch=[74304], ptr=[9])\n",
            "\n",
            "Training Batches: \n",
            "Step 74:\n",
            "=======\n",
            "Number of graphs in the current batch: 8\n",
            "DataBatch(x=[74304, 1], edge_index=[2, 2174168], y=[8], batch=[74304], ptr=[9])\n",
            "\n",
            "Training Batches: \n",
            "Step 75:\n",
            "=======\n",
            "Number of graphs in the current batch: 8\n",
            "DataBatch(x=[74304, 1], edge_index=[2, 2174168], y=[8], batch=[74304], ptr=[9])\n",
            "\n",
            "Training Batches: \n",
            "Step 76:\n",
            "=======\n",
            "Number of graphs in the current batch: 8\n",
            "DataBatch(x=[74304, 1], edge_index=[2, 2174168], y=[8], batch=[74304], ptr=[9])\n",
            "\n",
            "Training Batches: \n",
            "Step 77:\n",
            "=======\n",
            "Number of graphs in the current batch: 8\n",
            "DataBatch(x=[74304, 1], edge_index=[2, 2174168], y=[8], batch=[74304], ptr=[9])\n",
            "\n",
            "Training Batches: \n",
            "Step 78:\n",
            "=======\n",
            "Number of graphs in the current batch: 8\n",
            "DataBatch(x=[74304, 1], edge_index=[2, 2174168], y=[8], batch=[74304], ptr=[9])\n",
            "\n",
            "Training Batches: \n",
            "Step 79:\n",
            "=======\n",
            "Number of graphs in the current batch: 8\n",
            "DataBatch(x=[74304, 1], edge_index=[2, 2174168], y=[8], batch=[74304], ptr=[9])\n",
            "\n",
            "Training Batches: \n",
            "Step 80:\n",
            "=======\n",
            "Number of graphs in the current batch: 8\n",
            "DataBatch(x=[74304, 1], edge_index=[2, 2174168], y=[8], batch=[74304], ptr=[9])\n",
            "\n",
            "Training Batches: \n",
            "Step 81:\n",
            "=======\n",
            "Number of graphs in the current batch: 8\n",
            "DataBatch(x=[74304, 1], edge_index=[2, 2174168], y=[8], batch=[74304], ptr=[9])\n",
            "\n",
            "Training Batches: \n",
            "Step 82:\n",
            "=======\n",
            "Number of graphs in the current batch: 1\n",
            "DataBatch(x=[9288, 1], edge_index=[2, 271771], y=[1], batch=[9288], ptr=[2])\n",
            "\n"
          ]
        }
      ],
      "source": [
        "bs = 8\n",
        "train_loader = DataLoader(data_train, batch_size=bs, shuffle=True)\n",
        "test_loader = DataLoader(data_test, batch_size=bs, shuffle=False)\n",
        "val_loader = DataLoader(data_val, batch_size=bs, shuffle=True)\n",
        "\n",
        "for step, data in enumerate(train_loader):\n",
        "    data = data.to(device)  # Move the batch of data to the device\n",
        "\n",
        "    print('Training Batches: ')\n",
        "    print(f'Step {step + 1}:')\n",
        "    print('=======')\n",
        "    print(f'Number of graphs in the current batch: {data.num_graphs}')\n",
        "    print(data)\n",
        "    print()"
      ]
    },
    {
      "cell_type": "code",
      "execution_count": 26,
      "metadata": {
        "id": "pqWv0wYqk22X",
        "colab": {
          "base_uri": "https://localhost:8080/"
        },
        "outputId": "bb9d15da-26bf-4978-f318-e71aa0b70522"
      },
      "outputs": [
        {
          "output_type": "stream",
          "name": "stdout",
          "text": [
            "Test Batches: \n",
            "Step 1:\n",
            "=======\n",
            "Number of graphs in the current batch: 8\n",
            "DataBatch(x=[74304, 1], edge_index=[2, 2174168], y=[8], batch=[74304], ptr=[9])\n",
            "\n",
            "Test Batches: \n",
            "Step 2:\n",
            "=======\n",
            "Number of graphs in the current batch: 8\n",
            "DataBatch(x=[74304, 1], edge_index=[2, 2174168], y=[8], batch=[74304], ptr=[9])\n",
            "\n",
            "Test Batches: \n",
            "Step 3:\n",
            "=======\n",
            "Number of graphs in the current batch: 8\n",
            "DataBatch(x=[74304, 1], edge_index=[2, 2174168], y=[8], batch=[74304], ptr=[9])\n",
            "\n",
            "Test Batches: \n",
            "Step 4:\n",
            "=======\n",
            "Number of graphs in the current batch: 8\n",
            "DataBatch(x=[74304, 1], edge_index=[2, 2174168], y=[8], batch=[74304], ptr=[9])\n",
            "\n",
            "Test Batches: \n",
            "Step 5:\n",
            "=======\n",
            "Number of graphs in the current batch: 8\n",
            "DataBatch(x=[74304, 1], edge_index=[2, 2174168], y=[8], batch=[74304], ptr=[9])\n",
            "\n",
            "Test Batches: \n",
            "Step 6:\n",
            "=======\n",
            "Number of graphs in the current batch: 8\n",
            "DataBatch(x=[74304, 1], edge_index=[2, 2174168], y=[8], batch=[74304], ptr=[9])\n",
            "\n",
            "Test Batches: \n",
            "Step 7:\n",
            "=======\n",
            "Number of graphs in the current batch: 8\n",
            "DataBatch(x=[74304, 1], edge_index=[2, 2174168], y=[8], batch=[74304], ptr=[9])\n",
            "\n",
            "Test Batches: \n",
            "Step 8:\n",
            "=======\n",
            "Number of graphs in the current batch: 8\n",
            "DataBatch(x=[74304, 1], edge_index=[2, 2174168], y=[8], batch=[74304], ptr=[9])\n",
            "\n",
            "Test Batches: \n",
            "Step 9:\n",
            "=======\n",
            "Number of graphs in the current batch: 8\n",
            "DataBatch(x=[74304, 1], edge_index=[2, 2174168], y=[8], batch=[74304], ptr=[9])\n",
            "\n",
            "Test Batches: \n",
            "Step 10:\n",
            "=======\n",
            "Number of graphs in the current batch: 8\n",
            "DataBatch(x=[74304, 1], edge_index=[2, 2174168], y=[8], batch=[74304], ptr=[9])\n",
            "\n",
            "Test Batches: \n",
            "Step 11:\n",
            "=======\n",
            "Number of graphs in the current batch: 8\n",
            "DataBatch(x=[74304, 1], edge_index=[2, 2174168], y=[8], batch=[74304], ptr=[9])\n",
            "\n",
            "Test Batches: \n",
            "Step 12:\n",
            "=======\n",
            "Number of graphs in the current batch: 8\n",
            "DataBatch(x=[74304, 1], edge_index=[2, 2174168], y=[8], batch=[74304], ptr=[9])\n",
            "\n",
            "Test Batches: \n",
            "Step 13:\n",
            "=======\n",
            "Number of graphs in the current batch: 8\n",
            "DataBatch(x=[74304, 1], edge_index=[2, 2174168], y=[8], batch=[74304], ptr=[9])\n",
            "\n",
            "Test Batches: \n",
            "Step 14:\n",
            "=======\n",
            "Number of graphs in the current batch: 8\n",
            "DataBatch(x=[74304, 1], edge_index=[2, 2174168], y=[8], batch=[74304], ptr=[9])\n",
            "\n",
            "Test Batches: \n",
            "Step 15:\n",
            "=======\n",
            "Number of graphs in the current batch: 8\n",
            "DataBatch(x=[74304, 1], edge_index=[2, 2174168], y=[8], batch=[74304], ptr=[9])\n",
            "\n",
            "Test Batches: \n",
            "Step 16:\n",
            "=======\n",
            "Number of graphs in the current batch: 8\n",
            "DataBatch(x=[74304, 1], edge_index=[2, 2174168], y=[8], batch=[74304], ptr=[9])\n",
            "\n",
            "Test Batches: \n",
            "Step 17:\n",
            "=======\n",
            "Number of graphs in the current batch: 8\n",
            "DataBatch(x=[74304, 1], edge_index=[2, 2174168], y=[8], batch=[74304], ptr=[9])\n",
            "\n",
            "Test Batches: \n",
            "Step 18:\n",
            "=======\n",
            "Number of graphs in the current batch: 8\n",
            "DataBatch(x=[74304, 1], edge_index=[2, 2174168], y=[8], batch=[74304], ptr=[9])\n",
            "\n",
            "Test Batches: \n",
            "Step 19:\n",
            "=======\n",
            "Number of graphs in the current batch: 8\n",
            "DataBatch(x=[74304, 1], edge_index=[2, 2174168], y=[8], batch=[74304], ptr=[9])\n",
            "\n",
            "Test Batches: \n",
            "Step 20:\n",
            "=======\n",
            "Number of graphs in the current batch: 8\n",
            "DataBatch(x=[74304, 1], edge_index=[2, 2174168], y=[8], batch=[74304], ptr=[9])\n",
            "\n",
            "Test Batches: \n",
            "Step 21:\n",
            "=======\n",
            "Number of graphs in the current batch: 8\n",
            "DataBatch(x=[74304, 1], edge_index=[2, 2174168], y=[8], batch=[74304], ptr=[9])\n",
            "\n",
            "Test Batches: \n",
            "Step 22:\n",
            "=======\n",
            "Number of graphs in the current batch: 8\n",
            "DataBatch(x=[74304, 1], edge_index=[2, 2174168], y=[8], batch=[74304], ptr=[9])\n",
            "\n",
            "Test Batches: \n",
            "Step 23:\n",
            "=======\n",
            "Number of graphs in the current batch: 8\n",
            "DataBatch(x=[74304, 1], edge_index=[2, 2174168], y=[8], batch=[74304], ptr=[9])\n",
            "\n",
            "Test Batches: \n",
            "Step 24:\n",
            "=======\n",
            "Number of graphs in the current batch: 8\n",
            "DataBatch(x=[74304, 1], edge_index=[2, 2174168], y=[8], batch=[74304], ptr=[9])\n",
            "\n",
            "Test Batches: \n",
            "Step 25:\n",
            "=======\n",
            "Number of graphs in the current batch: 8\n",
            "DataBatch(x=[74304, 1], edge_index=[2, 2174168], y=[8], batch=[74304], ptr=[9])\n",
            "\n",
            "Test Batches: \n",
            "Step 26:\n",
            "=======\n",
            "Number of graphs in the current batch: 8\n",
            "DataBatch(x=[74304, 1], edge_index=[2, 2174168], y=[8], batch=[74304], ptr=[9])\n",
            "\n",
            "Test Batches: \n",
            "Step 27:\n",
            "=======\n",
            "Number of graphs in the current batch: 8\n",
            "DataBatch(x=[74304, 1], edge_index=[2, 2174168], y=[8], batch=[74304], ptr=[9])\n",
            "\n",
            "Test Batches: \n",
            "Step 28:\n",
            "=======\n",
            "Number of graphs in the current batch: 1\n",
            "DataBatch(x=[9288, 1], edge_index=[2, 271771], y=[1], batch=[9288], ptr=[2])\n",
            "\n"
          ]
        }
      ],
      "source": [
        "for step, data in enumerate(test_loader):\n",
        "    data = data.to(device)\n",
        "    print('Test Batches: ')\n",
        "    print(f'Step {step + 1}:')\n",
        "    print('=======')\n",
        "    print(f'Number of graphs in the current batch: {data.num_graphs}')\n",
        "    print(data)\n",
        "    print()"
      ]
    },
    {
      "cell_type": "code",
      "source": [
        "for step, data in enumerate(val_loader):\n",
        "    data = data.to(device)\n",
        "    print('Val Batches: ')\n",
        "    print(f'Step {step + 1}:')\n",
        "    print('=======')\n",
        "    print(f'Number of graphs in the current batch: {data.num_graphs}')\n",
        "    print(data)\n",
        "    print()"
      ],
      "metadata": {
        "id": "ULvEVyV9Zo1B",
        "outputId": "5e8541d3-56a8-4b74-b5c8-2c9ebf1a748d",
        "colab": {
          "base_uri": "https://localhost:8080/"
        }
      },
      "execution_count": 27,
      "outputs": [
        {
          "output_type": "stream",
          "name": "stdout",
          "text": [
            "Val Batches: \n",
            "Step 1:\n",
            "=======\n",
            "Number of graphs in the current batch: 8\n",
            "DataBatch(x=[74304, 1], edge_index=[2, 2174168], y=[8], batch=[74304], ptr=[9])\n",
            "\n",
            "Val Batches: \n",
            "Step 2:\n",
            "=======\n",
            "Number of graphs in the current batch: 8\n",
            "DataBatch(x=[74304, 1], edge_index=[2, 2174168], y=[8], batch=[74304], ptr=[9])\n",
            "\n",
            "Val Batches: \n",
            "Step 3:\n",
            "=======\n",
            "Number of graphs in the current batch: 8\n",
            "DataBatch(x=[74304, 1], edge_index=[2, 2174168], y=[8], batch=[74304], ptr=[9])\n",
            "\n",
            "Val Batches: \n",
            "Step 4:\n",
            "=======\n",
            "Number of graphs in the current batch: 8\n",
            "DataBatch(x=[74304, 1], edge_index=[2, 2174168], y=[8], batch=[74304], ptr=[9])\n",
            "\n",
            "Val Batches: \n",
            "Step 5:\n",
            "=======\n",
            "Number of graphs in the current batch: 8\n",
            "DataBatch(x=[74304, 1], edge_index=[2, 2174168], y=[8], batch=[74304], ptr=[9])\n",
            "\n",
            "Val Batches: \n",
            "Step 6:\n",
            "=======\n",
            "Number of graphs in the current batch: 8\n",
            "DataBatch(x=[74304, 1], edge_index=[2, 2174168], y=[8], batch=[74304], ptr=[9])\n",
            "\n",
            "Val Batches: \n",
            "Step 7:\n",
            "=======\n",
            "Number of graphs in the current batch: 8\n",
            "DataBatch(x=[74304, 1], edge_index=[2, 2174168], y=[8], batch=[74304], ptr=[9])\n",
            "\n",
            "Val Batches: \n",
            "Step 8:\n",
            "=======\n",
            "Number of graphs in the current batch: 8\n",
            "DataBatch(x=[74304, 1], edge_index=[2, 2174168], y=[8], batch=[74304], ptr=[9])\n",
            "\n",
            "Val Batches: \n",
            "Step 9:\n",
            "=======\n",
            "Number of graphs in the current batch: 8\n",
            "DataBatch(x=[74304, 1], edge_index=[2, 2174168], y=[8], batch=[74304], ptr=[9])\n",
            "\n",
            "Val Batches: \n",
            "Step 10:\n",
            "=======\n",
            "Number of graphs in the current batch: 8\n",
            "DataBatch(x=[74304, 1], edge_index=[2, 2174168], y=[8], batch=[74304], ptr=[9])\n",
            "\n",
            "Val Batches: \n",
            "Step 11:\n",
            "=======\n",
            "Number of graphs in the current batch: 8\n",
            "DataBatch(x=[74304, 1], edge_index=[2, 2174168], y=[8], batch=[74304], ptr=[9])\n",
            "\n",
            "Val Batches: \n",
            "Step 12:\n",
            "=======\n",
            "Number of graphs in the current batch: 8\n",
            "DataBatch(x=[74304, 1], edge_index=[2, 2174168], y=[8], batch=[74304], ptr=[9])\n",
            "\n",
            "Val Batches: \n",
            "Step 13:\n",
            "=======\n",
            "Number of graphs in the current batch: 8\n",
            "DataBatch(x=[74304, 1], edge_index=[2, 2174168], y=[8], batch=[74304], ptr=[9])\n",
            "\n",
            "Val Batches: \n",
            "Step 14:\n",
            "=======\n",
            "Number of graphs in the current batch: 8\n",
            "DataBatch(x=[74304, 1], edge_index=[2, 2174168], y=[8], batch=[74304], ptr=[9])\n",
            "\n",
            "Val Batches: \n",
            "Step 15:\n",
            "=======\n",
            "Number of graphs in the current batch: 8\n",
            "DataBatch(x=[74304, 1], edge_index=[2, 2174168], y=[8], batch=[74304], ptr=[9])\n",
            "\n",
            "Val Batches: \n",
            "Step 16:\n",
            "=======\n",
            "Number of graphs in the current batch: 8\n",
            "DataBatch(x=[74304, 1], edge_index=[2, 2174168], y=[8], batch=[74304], ptr=[9])\n",
            "\n",
            "Val Batches: \n",
            "Step 17:\n",
            "=======\n",
            "Number of graphs in the current batch: 8\n",
            "DataBatch(x=[74304, 1], edge_index=[2, 2174168], y=[8], batch=[74304], ptr=[9])\n",
            "\n",
            "Val Batches: \n",
            "Step 18:\n",
            "=======\n",
            "Number of graphs in the current batch: 8\n",
            "DataBatch(x=[74304, 1], edge_index=[2, 2174168], y=[8], batch=[74304], ptr=[9])\n",
            "\n",
            "Val Batches: \n",
            "Step 19:\n",
            "=======\n",
            "Number of graphs in the current batch: 8\n",
            "DataBatch(x=[74304, 1], edge_index=[2, 2174168], y=[8], batch=[74304], ptr=[9])\n",
            "\n",
            "Val Batches: \n",
            "Step 20:\n",
            "=======\n",
            "Number of graphs in the current batch: 8\n",
            "DataBatch(x=[74304, 1], edge_index=[2, 2174168], y=[8], batch=[74304], ptr=[9])\n",
            "\n",
            "Val Batches: \n",
            "Step 21:\n",
            "=======\n",
            "Number of graphs in the current batch: 8\n",
            "DataBatch(x=[74304, 1], edge_index=[2, 2174168], y=[8], batch=[74304], ptr=[9])\n",
            "\n",
            "Val Batches: \n",
            "Step 22:\n",
            "=======\n",
            "Number of graphs in the current batch: 8\n",
            "DataBatch(x=[74304, 1], edge_index=[2, 2174168], y=[8], batch=[74304], ptr=[9])\n",
            "\n",
            "Val Batches: \n",
            "Step 23:\n",
            "=======\n",
            "Number of graphs in the current batch: 8\n",
            "DataBatch(x=[74304, 1], edge_index=[2, 2174168], y=[8], batch=[74304], ptr=[9])\n",
            "\n",
            "Val Batches: \n",
            "Step 24:\n",
            "=======\n",
            "Number of graphs in the current batch: 8\n",
            "DataBatch(x=[74304, 1], edge_index=[2, 2174168], y=[8], batch=[74304], ptr=[9])\n",
            "\n",
            "Val Batches: \n",
            "Step 25:\n",
            "=======\n",
            "Number of graphs in the current batch: 8\n",
            "DataBatch(x=[74304, 1], edge_index=[2, 2174168], y=[8], batch=[74304], ptr=[9])\n",
            "\n",
            "Val Batches: \n",
            "Step 26:\n",
            "=======\n",
            "Number of graphs in the current batch: 8\n",
            "DataBatch(x=[74304, 1], edge_index=[2, 2174168], y=[8], batch=[74304], ptr=[9])\n",
            "\n",
            "Val Batches: \n",
            "Step 27:\n",
            "=======\n",
            "Number of graphs in the current batch: 8\n",
            "DataBatch(x=[74304, 1], edge_index=[2, 2174168], y=[8], batch=[74304], ptr=[9])\n",
            "\n"
          ]
        }
      ]
    },
    {
      "cell_type": "markdown",
      "source": [
        "# Model Building and Evaluation"
      ],
      "metadata": {
        "id": "UzfC0CY_qGWw"
      }
    },
    {
      "cell_type": "code",
      "execution_count": 28,
      "metadata": {
        "id": "0PQNhtuosLl3"
      },
      "outputs": [],
      "source": [
        "import torch_geometric\n",
        "from torch.nn import Linear, Module, Dropout, MSELoss, CrossEntropyLoss, BatchNorm1d\n",
        "import torch.nn.functional as F\n",
        "from torch_geometric.nn import GCNConv, GATConv, GraphNorm\n",
        "from torch_geometric.nn import global_mean_pool\n",
        "\n",
        "from torch.nn.functional import relu, sigmoid\n",
        "# from torch_sparse import SparseTensor"
      ]
    },
    {
      "cell_type": "code",
      "source": [
        "class GAT(torch.nn.Module):\n",
        "    def __init__(self, num_node_features, hidden_channels, num_heads, dropout):\n",
        "        super(GAT, self).__init__()\n",
        "        self.gat1 = GATConv(num_node_features, hidden_channels, heads=num_heads)\n",
        "        self.gat2 = GATConv(hidden_channels * num_heads, hidden_channels, heads=num_heads)\n",
        "        self.gat3 = GATConv(hidden_channels * num_heads, hidden_channels, heads=num_heads)\n",
        "\n",
        "        self.dropout = Dropout(dropout)\n",
        "\n",
        "        self.graph_norm1 = GraphNorm(hidden_channels * num_heads)\n",
        "        self.graph_norm2 = GraphNorm(hidden_channels * num_heads)\n",
        "        self.graph_norm3 = GraphNorm(hidden_channels * num_heads)\n",
        "\n",
        "        self.linear1 = Linear(hidden_channels * num_heads + hidden_channels * num_heads, 1)\n",
        "\n",
        "    def forward(self, x, edge_index, batch):\n",
        "          x = self.gat1(x, edge_index)\n",
        "          x = self.dropout(relu(self.graph_norm1(x)))\n",
        "          x = self.gat2(x, edge_index, return_attention_weights=False)\n",
        "          x = self.dropout(relu(self.graph_norm1(x)))\n",
        "          x = self.gat3(x, edge_index, return_attention_weights=False)\n",
        "          x = self.dropout(relu(self.graph_norm1(x)))\n",
        "\n",
        "          return self.linear1(x).squeeze()\n"
      ],
      "metadata": {
        "id": "8N2FQ-81CJtw"
      },
      "execution_count": 29,
      "outputs": []
    },
    {
      "cell_type": "code",
      "source": [
        "class GAT(torch.nn.Module):\n",
        "    def __init__(self, num_node_features, in_heads, hidden_channels, out_head, dropout):\n",
        "        super(GAT, self).__init__()\n",
        "\n",
        "\n",
        "        self.conv1 = GATConv(num_node_features, hidden_channels, heads=in_heads)\n",
        "        self.conv2 = GATConv(hidden_channels * in_heads, hidden_channels, heads=in_heads)\n",
        "        self.conv3 = GATConv(hidden_channels * in_heads, 1, concat=False,\n",
        "                             heads=out_head)\n",
        "\n",
        "    def forward(self, x, edge_index, batch):\n",
        "        x = F.dropout(x, p=0.2, training=self.training)\n",
        "        x = F.relu(self.conv1(x, edge_index))\n",
        "        x = F.dropout(x, p=0.2, training=self.training)\n",
        "        x = F.relu(self.conv2(x, edge_index))\n",
        "        x = F.dropout(x, p=0.2, training=self.training)\n",
        "        x = self.conv3(x, edge_index)\n",
        "\n",
        "        return x.squeeze()"
      ],
      "metadata": {
        "id": "9o6wLPR5oxqY"
      },
      "execution_count": 30,
      "outputs": []
    },
    {
      "cell_type": "code",
      "source": [
        "import time"
      ],
      "metadata": {
        "id": "lJgdv5ErhoQM"
      },
      "execution_count": 31,
      "outputs": []
    },
    {
      "cell_type": "code",
      "source": [
        "# Assuming you have train_loader, val_loader, and test_loader DataLoader instances\n",
        "device = torch.device('cuda' if torch.cuda.is_available() else 'cpu')\n",
        "\n",
        "model = GAT(num_node_features=1, in_heads=2, hidden_channels=64, out_head=1, dropout=0.2)\n",
        "\n",
        "optimizer = torch.optim.Adam(model.parameters(), lr=0.001)\n",
        "criterion = torch.nn.MSELoss()\n",
        "\n",
        "model = model.to(device)  # Move the model to CUDA device\n",
        "criterion = criterion.to(device)  # Move the criterion to CUDA device\n",
        "\n",
        "model.double()\n",
        "\n",
        "num_epochs = 101\n",
        "\n",
        "start_time = time.time()\n",
        "\n",
        "# Initialize lists to store training and test losses\n",
        "train_losses = []\n",
        "val_losses = []\n",
        "\n",
        "for epoch in range(num_epochs):\n",
        "    model.train()\n",
        "    total_loss = 0\n",
        "\n",
        "    for step, data in enumerate(train_loader):\n",
        "      data = data.to(device)\n",
        "      optimizer.zero_grad()\n",
        "\n",
        "      out = model(data.x.double(), data.edge_index, data.batch)\n",
        "      loss = criterion(out, data.y.view(-1, 1).to(device))\n",
        "      loss.backward()\n",
        "      optimizer.step()\n",
        "      total_loss += loss.item()\n",
        "\n",
        "    average_loss = total_loss / len(train_loader)\n",
        "    train_losses.append(average_loss)\n",
        "\n",
        "    model.eval()\n",
        "    with torch.no_grad():\n",
        "        val_loss = 0\n",
        "        for data in val_loader:\n",
        "            data = data.to(device)\n",
        "\n",
        "            out = model(data.x.double(), data.edge_index, data.batch)\n",
        "            loss = criterion(out, data.y.view(-1, 1).to(device))\n",
        "            val_loss += loss.item()\n",
        "            val_losses.append(val_loss)\n",
        "\n",
        "\n",
        "        average_val_loss = val_loss / len(val_loader)\n",
        "        print(f'Epoch: {epoch:03d}, Train loss: {average_loss:.4f}, Validation Loss: {average_val_loss:.4f}')\n",
        "\n",
        "# Calculate the elapsed time\n",
        "elapsed_time = time.time() - start_time\n",
        "\n",
        "print(f\"Time used for training: {elapsed_time:.2f} seconds\")\n"
      ],
      "metadata": {
        "id": "KNtTygQJoGzA",
        "colab": {
          "base_uri": "https://localhost:8080/"
        },
        "outputId": "6f67dac4-8bb5-4748-fd86-ace69c9238e8"
      },
      "execution_count": 32,
      "outputs": [
        {
          "output_type": "stream",
          "name": "stderr",
          "text": [
            "/usr/local/lib/python3.10/dist-packages/torch/nn/modules/loss.py:536: UserWarning: Using a target size (torch.Size([8, 1])) that is different to the input size (torch.Size([74304])). This will likely lead to incorrect results due to broadcasting. Please ensure they have the same size.\n",
            "  return F.mse_loss(input, target, reduction=self.reduction)\n",
            "/usr/local/lib/python3.10/dist-packages/torch/nn/modules/loss.py:536: UserWarning: Using a target size (torch.Size([1, 1])) that is different to the input size (torch.Size([9288])). This will likely lead to incorrect results due to broadcasting. Please ensure they have the same size.\n",
            "  return F.mse_loss(input, target, reduction=self.reduction)\n"
          ]
        },
        {
          "output_type": "stream",
          "name": "stdout",
          "text": [
            "Epoch: 000, Train loss: 5068305.1407, Validation Loss: 11353.7261\n",
            "Epoch: 001, Train loss: 27201.0449, Validation Loss: 10093.2762\n",
            "Epoch: 002, Train loss: 23409.4879, Validation Loss: 10274.1549\n",
            "Epoch: 003, Train loss: 20792.3231, Validation Loss: 10329.1512\n",
            "Epoch: 004, Train loss: 11319.5594, Validation Loss: 12147.0201\n",
            "Epoch: 005, Train loss: 11819.8225, Validation Loss: 11933.0276\n",
            "Epoch: 006, Train loss: 8288.0799, Validation Loss: 11328.4694\n",
            "Epoch: 007, Train loss: 8552.9466, Validation Loss: 11364.9544\n",
            "Epoch: 008, Train loss: 9184.9579, Validation Loss: 11255.9925\n",
            "Epoch: 009, Train loss: 8933.4675, Validation Loss: 11261.2361\n",
            "Epoch: 010, Train loss: 6528.0330, Validation Loss: 10815.1082\n",
            "Epoch: 011, Train loss: 6433.6275, Validation Loss: 10523.1689\n",
            "Epoch: 012, Train loss: 5524.9716, Validation Loss: 9892.5426\n",
            "Epoch: 013, Train loss: 5078.9345, Validation Loss: 9246.1848\n",
            "Epoch: 014, Train loss: 4768.1572, Validation Loss: 8474.1607\n",
            "Epoch: 015, Train loss: 4391.6666, Validation Loss: 7905.0241\n",
            "Epoch: 016, Train loss: 4154.3686, Validation Loss: 6848.1095\n",
            "Epoch: 017, Train loss: 4859.2205, Validation Loss: 6458.9175\n",
            "Epoch: 018, Train loss: 3108.8718, Validation Loss: 6050.6254\n",
            "Epoch: 019, Train loss: 2989.8550, Validation Loss: 5764.9039\n",
            "Epoch: 020, Train loss: 3033.1377, Validation Loss: 5880.4664\n",
            "Epoch: 021, Train loss: 2734.8932, Validation Loss: 5756.3934\n",
            "Epoch: 022, Train loss: 2777.6611, Validation Loss: 5844.0062\n",
            "Epoch: 023, Train loss: 2799.5831, Validation Loss: 5778.1626\n",
            "Epoch: 024, Train loss: 2651.5730, Validation Loss: 5803.3409\n",
            "Epoch: 025, Train loss: 2623.9584, Validation Loss: 5785.8495\n",
            "Epoch: 026, Train loss: 2662.0313, Validation Loss: 5755.4755\n",
            "Epoch: 027, Train loss: 2628.5188, Validation Loss: 5818.8582\n",
            "Epoch: 028, Train loss: 2561.6758, Validation Loss: 5826.4168\n",
            "Epoch: 029, Train loss: 2655.9925, Validation Loss: 5759.9866\n",
            "Epoch: 030, Train loss: 2585.7970, Validation Loss: 5829.5754\n",
            "Epoch: 031, Train loss: 2502.7040, Validation Loss: 5824.9100\n",
            "Epoch: 032, Train loss: 2551.1938, Validation Loss: 5864.5243\n",
            "Epoch: 033, Train loss: 2446.8397, Validation Loss: 5754.8543\n",
            "Epoch: 034, Train loss: 2590.3105, Validation Loss: 5846.3358\n",
            "Epoch: 035, Train loss: 2402.5085, Validation Loss: 5858.7926\n",
            "Epoch: 036, Train loss: 2363.8762, Validation Loss: 5848.8049\n",
            "Epoch: 037, Train loss: 2372.0296, Validation Loss: 5821.9998\n",
            "Epoch: 038, Train loss: 2346.4339, Validation Loss: 5847.3741\n",
            "Epoch: 039, Train loss: 2429.8108, Validation Loss: 5834.0275\n",
            "Epoch: 040, Train loss: 2353.3121, Validation Loss: 5820.8186\n",
            "Epoch: 041, Train loss: 2414.8396, Validation Loss: 5773.0439\n",
            "Epoch: 042, Train loss: 2324.8907, Validation Loss: 5760.3376\n",
            "Epoch: 043, Train loss: 2322.3605, Validation Loss: 5763.5108\n",
            "Epoch: 044, Train loss: 2355.2365, Validation Loss: 5818.8978\n",
            "Epoch: 045, Train loss: 2329.7740, Validation Loss: 5763.0483\n",
            "Epoch: 046, Train loss: 2334.7943, Validation Loss: 5774.9311\n",
            "Epoch: 047, Train loss: 2346.1280, Validation Loss: 5749.5068\n",
            "Epoch: 048, Train loss: 2320.0301, Validation Loss: 5761.6341\n",
            "Epoch: 049, Train loss: 2351.9564, Validation Loss: 5713.1279\n",
            "Epoch: 050, Train loss: 2315.2058, Validation Loss: 5741.1543\n",
            "Epoch: 051, Train loss: 2771.5590, Validation Loss: 5875.4919\n",
            "Epoch: 052, Train loss: 2351.8743, Validation Loss: 5859.2893\n",
            "Epoch: 053, Train loss: 2346.9043, Validation Loss: 5816.0396\n",
            "Epoch: 054, Train loss: 2340.5354, Validation Loss: 5795.5342\n",
            "Epoch: 055, Train loss: 2321.5555, Validation Loss: 5770.1315\n",
            "Epoch: 056, Train loss: 2354.9425, Validation Loss: 5798.7303\n",
            "Epoch: 057, Train loss: 2335.9778, Validation Loss: 5703.0204\n",
            "Epoch: 058, Train loss: 2328.4902, Validation Loss: 5728.7865\n",
            "Epoch: 059, Train loss: 2439.6053, Validation Loss: 5786.3684\n",
            "Epoch: 060, Train loss: 2314.2336, Validation Loss: 5766.7391\n",
            "Epoch: 061, Train loss: 2315.5608, Validation Loss: 5731.0024\n",
            "Epoch: 062, Train loss: 2307.0908, Validation Loss: 5744.7048\n",
            "Epoch: 063, Train loss: 2328.8622, Validation Loss: 5720.3547\n",
            "Epoch: 064, Train loss: 2339.8385, Validation Loss: 5788.8512\n",
            "Epoch: 065, Train loss: 2326.6321, Validation Loss: 5733.5772\n",
            "Epoch: 066, Train loss: 2345.9424, Validation Loss: 5741.3100\n",
            "Epoch: 067, Train loss: 2325.0114, Validation Loss: 5677.6805\n",
            "Epoch: 068, Train loss: 2460.9646, Validation Loss: 5645.0036\n",
            "Epoch: 069, Train loss: 2350.7982, Validation Loss: 5705.9223\n",
            "Epoch: 070, Train loss: 2320.3571, Validation Loss: 5668.6947\n",
            "Epoch: 071, Train loss: 2331.3649, Validation Loss: 5656.8313\n",
            "Epoch: 072, Train loss: 2314.9900, Validation Loss: 5668.8504\n",
            "Epoch: 073, Train loss: 2316.1755, Validation Loss: 5705.4897\n",
            "Epoch: 074, Train loss: 2419.3254, Validation Loss: 5705.0681\n",
            "Epoch: 075, Train loss: 2313.3694, Validation Loss: 5650.7926\n",
            "Epoch: 076, Train loss: 2314.2083, Validation Loss: 5679.9338\n",
            "Epoch: 077, Train loss: 2306.3027, Validation Loss: 5696.8665\n",
            "Epoch: 078, Train loss: 2313.6741, Validation Loss: 5643.0156\n",
            "Epoch: 079, Train loss: 2325.9710, Validation Loss: 5583.2760\n",
            "Epoch: 080, Train loss: 2296.4785, Validation Loss: 5583.6579\n",
            "Epoch: 081, Train loss: 2302.6885, Validation Loss: 5596.9080\n",
            "Epoch: 082, Train loss: 2314.5697, Validation Loss: 5629.4388\n",
            "Epoch: 083, Train loss: 2301.6939, Validation Loss: 5583.5051\n",
            "Epoch: 084, Train loss: 2292.4831, Validation Loss: 5578.5571\n",
            "Epoch: 085, Train loss: 2305.3906, Validation Loss: 5581.2451\n",
            "Epoch: 086, Train loss: 2299.5756, Validation Loss: 5541.2051\n",
            "Epoch: 087, Train loss: 2326.2097, Validation Loss: 5567.5684\n",
            "Epoch: 088, Train loss: 2326.2054, Validation Loss: 5572.8979\n",
            "Epoch: 089, Train loss: 2308.1663, Validation Loss: 5564.9595\n",
            "Epoch: 090, Train loss: 2296.1269, Validation Loss: 5598.3881\n",
            "Epoch: 091, Train loss: 2298.8241, Validation Loss: 5611.7259\n",
            "Epoch: 092, Train loss: 2293.1388, Validation Loss: 5589.3309\n",
            "Epoch: 093, Train loss: 2298.5139, Validation Loss: 5557.0236\n",
            "Epoch: 094, Train loss: 2323.5487, Validation Loss: 5553.4354\n",
            "Epoch: 095, Train loss: 2302.1275, Validation Loss: 5561.3727\n",
            "Epoch: 096, Train loss: 2300.3015, Validation Loss: 5579.1507\n",
            "Epoch: 097, Train loss: 2298.3049, Validation Loss: 5582.2794\n",
            "Epoch: 098, Train loss: 2306.9179, Validation Loss: 5515.6901\n",
            "Epoch: 099, Train loss: 2288.8456, Validation Loss: 5493.3883\n",
            "Epoch: 100, Train loss: 2319.2119, Validation Loss: 5414.6403\n",
            "Time used for training: 3885.58 seconds\n"
          ]
        }
      ]
    },
    {
      "cell_type": "markdown",
      "source": [
        "## Making Predictions and calculating MSE"
      ],
      "metadata": {
        "id": "ObqZIaWayz4-"
      }
    },
    {
      "cell_type": "code",
      "execution_count": 33,
      "metadata": {
        "id": "QmpOy-Hxcsv1",
        "colab": {
          "base_uri": "https://localhost:8080/"
        },
        "outputId": "b4d31bff-d399-4dde-8ad2-5ef604fa6e15"
      },
      "outputs": [
        {
          "output_type": "stream",
          "name": "stdout",
          "text": [
            "[41.29224279  5.98579127 41.67366348 41.49045081 41.44243904 41.17263439\n",
            " 41.45575732 41.13383185 41.7304018  41.34804862]\n"
          ]
        }
      ],
      "source": [
        "model.eval()  # Set the model to evaluation mode\n",
        "\n",
        "predictions = []  # List to store the predicted outputs\n",
        "test_losses = []\n",
        "with torch.no_grad():\n",
        "    test_loss = 0\n",
        "    for data in test_loader:\n",
        "        data = data.to(device)  # Move the batch of data to CUDA device\n",
        "        out = model(data.x.double(), data.edge_index, data.batch)\n",
        "        loss = criterion(out, data.y.view(-1, 1).double())\n",
        "        test_loss += loss.item()\n",
        "\n",
        "        average_test_loss = test_loss / len(test_loader)\n",
        "        test_losses.append(average_val_loss)\n",
        "\n",
        "        predictions.append(out.cpu().detach().numpy())  # Convert the predictions to NumPy array\n",
        "\n",
        "# Concatenate the predictions from multiple batches\n",
        "predictions = np.concatenate(predictions)\n",
        "\n",
        "# Print the predictions\n",
        "print(predictions[:10])"
      ]
    },
    {
      "cell_type": "code",
      "execution_count": 34,
      "metadata": {
        "id": "2vJhDwz5oX3Z",
        "colab": {
          "base_uri": "https://localhost:8080/"
        },
        "outputId": "4bdbcad4-384e-44ec-a7de-4f25cdbd0e95"
      },
      "outputs": [
        {
          "output_type": "stream",
          "name": "stderr",
          "text": [
            "<ipython-input-34-7db24328f723>:13: UserWarning: Using a target size (torch.Size([217, 1])) that is different to the input size (torch.Size([2015496])). This will likely lead to incorrect results due to broadcasting. Please ensure they have the same size.\n",
            "  mse_loss = torch.nn.functional.mse_loss(predictions.view(-1), y_true.view(-1, 1))\n"
          ]
        },
        {
          "output_type": "stream",
          "name": "stdout",
          "text": [
            "Mean Squared Error (MSE) Loss: 916.8123\n"
          ]
        }
      ],
      "source": [
        "# Convert the test data batches to a list of Data objects\n",
        "test_data_batches = [\n",
        "    Data(x=batch.x, edge_index=batch.edge_index, y=batch.y) for batch in test_loader\n",
        "]\n",
        "\n",
        "# Convert the predictions to PyTorch tensors\n",
        "predictions = torch.tensor(predictions)\n",
        "\n",
        "# Convert the ground truth labels of the test data to a PyTorch tensor\n",
        "y_true = torch.cat([batch.y for batch in test_data_batches])\n",
        "\n",
        "# Calculate the mean squared error (MSE) loss using PyTorch's function\n",
        "mse_loss = torch.nn.functional.mse_loss(predictions.view(-1), y_true.view(-1, 1))\n",
        "\n",
        "print(f\"Mean Squared Error (MSE) Loss: {mse_loss:.4f}\")"
      ]
    },
    {
      "cell_type": "code",
      "source": [],
      "metadata": {
        "id": "bUbuzHbzlhBw"
      },
      "execution_count": null,
      "outputs": []
    }
  ],
  "metadata": {
    "accelerator": "GPU",
    "colab": {
      "provenance": [],
      "gpuType": "T4",
      "toc_visible": true,
      "include_colab_link": true
    },
    "kernelspec": {
      "display_name": "Python 3",
      "name": "python3"
    },
    "language_info": {
      "name": "python"
    }
  },
  "nbformat": 4,
  "nbformat_minor": 0
}