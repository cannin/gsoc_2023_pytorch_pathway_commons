{
  "nbformat": 4,
  "nbformat_minor": 0,
  "metadata": {
    "colab": {
      "provenance": [],
      "gpuType": "T4",
      "include_colab_link": true
    },
    "kernelspec": {
      "name": "python3",
      "display_name": "Python 3"
    },
    "language_info": {
      "name": "python"
    },
    "accelerator": "GPU"
  },
  "cells": [
    {
      "cell_type": "markdown",
      "metadata": {
        "id": "view-in-github",
        "colab_type": "text"
      },
      "source": [
        "<a href=\"https://colab.research.google.com/github/cannin/gsoc_2023_pytorch_pathway_commons/blob/main/PyG_sample_data_with_InMemoryDataset_function.ipynb\" target=\"_parent\"><img src=\"https://colab.research.google.com/assets/colab-badge.svg\" alt=\"Open In Colab\"/></a>"
      ]
    },
    {
      "cell_type": "code",
      "source": [
        "!pip install torch-geometric"
      ],
      "metadata": {
        "id": "OE2xc7If0ZCT",
        "colab": {
          "base_uri": "https://localhost:8080/"
        },
        "outputId": "6565d0ae-850b-4318-aa05-dbd866bc749b"
      },
      "execution_count": 18,
      "outputs": [
        {
          "output_type": "stream",
          "name": "stdout",
          "text": [
            "Requirement already satisfied: torch-geometric in /usr/local/lib/python3.10/dist-packages (2.3.1)\n",
            "Requirement already satisfied: tqdm in /usr/local/lib/python3.10/dist-packages (from torch-geometric) (4.65.0)\n",
            "Requirement already satisfied: numpy in /usr/local/lib/python3.10/dist-packages (from torch-geometric) (1.22.4)\n",
            "Requirement already satisfied: scipy in /usr/local/lib/python3.10/dist-packages (from torch-geometric) (1.10.1)\n",
            "Requirement already satisfied: jinja2 in /usr/local/lib/python3.10/dist-packages (from torch-geometric) (3.1.2)\n",
            "Requirement already satisfied: requests in /usr/local/lib/python3.10/dist-packages (from torch-geometric) (2.27.1)\n",
            "Requirement already satisfied: pyparsing in /usr/local/lib/python3.10/dist-packages (from torch-geometric) (3.1.0)\n",
            "Requirement already satisfied: scikit-learn in /usr/local/lib/python3.10/dist-packages (from torch-geometric) (1.2.2)\n",
            "Requirement already satisfied: psutil>=5.8.0 in /usr/local/lib/python3.10/dist-packages (from torch-geometric) (5.9.5)\n",
            "Requirement already satisfied: MarkupSafe>=2.0 in /usr/local/lib/python3.10/dist-packages (from jinja2->torch-geometric) (2.1.3)\n",
            "Requirement already satisfied: urllib3<1.27,>=1.21.1 in /usr/local/lib/python3.10/dist-packages (from requests->torch-geometric) (1.26.16)\n",
            "Requirement already satisfied: certifi>=2017.4.17 in /usr/local/lib/python3.10/dist-packages (from requests->torch-geometric) (2023.5.7)\n",
            "Requirement already satisfied: charset-normalizer~=2.0.0 in /usr/local/lib/python3.10/dist-packages (from requests->torch-geometric) (2.0.12)\n",
            "Requirement already satisfied: idna<4,>=2.5 in /usr/local/lib/python3.10/dist-packages (from requests->torch-geometric) (3.4)\n",
            "Requirement already satisfied: joblib>=1.1.1 in /usr/local/lib/python3.10/dist-packages (from scikit-learn->torch-geometric) (1.2.0)\n",
            "Requirement already satisfied: threadpoolctl>=2.0.0 in /usr/local/lib/python3.10/dist-packages (from scikit-learn->torch-geometric) (3.1.0)\n"
          ]
        }
      ]
    },
    {
      "cell_type": "markdown",
      "source": [
        "# Importing Data and Libraries"
      ],
      "metadata": {
        "id": "6T-0DTo_3DLk"
      }
    },
    {
      "cell_type": "code",
      "execution_count": 19,
      "metadata": {
        "id": "Wy1Dc5Z9vGE8"
      },
      "outputs": [],
      "source": [
        "import pandas as pd\n",
        "import numpy as np\n",
        "import torch\n",
        "from torch_geometric.data import InMemoryDataset, Data, download_url, extract_zip\n",
        "import os"
      ]
    },
    {
      "cell_type": "code",
      "source": [
        "torch. __version__"
      ],
      "metadata": {
        "colab": {
          "base_uri": "https://localhost:8080/",
          "height": 35
        },
        "id": "rQSNmhXCi-ZK",
        "outputId": "02369c5b-cfb3-46a3-dd20-6293eaeedecf"
      },
      "execution_count": 20,
      "outputs": [
        {
          "output_type": "execute_result",
          "data": {
            "text/plain": [
              "'2.0.1+cu118'"
            ],
            "application/vnd.google.colaboratory.intrinsic+json": {
              "type": "string"
            }
          },
          "metadata": {},
          "execution_count": 20
        }
      ]
    },
    {
      "cell_type": "code",
      "source": [
        "!pip list | grep torch"
      ],
      "metadata": {
        "colab": {
          "base_uri": "https://localhost:8080/"
        },
        "id": "lXm89TahjRb1",
        "outputId": "d515a088-1a9c-40e9-dd99-864124bfd909"
      },
      "execution_count": 21,
      "outputs": [
        {
          "output_type": "stream",
          "name": "stdout",
          "text": [
            "torch                            2.0.1+cu118\n",
            "torch-geometric                  2.3.1\n",
            "torchaudio                       2.0.2+cu118\n",
            "torchdata                        0.6.1\n",
            "torchsummary                     1.5.1\n",
            "torchtext                        0.15.2\n",
            "torchvision                      0.15.2+cu118\n"
          ]
        }
      ]
    },
    {
      "cell_type": "markdown",
      "source": [
        "# Creating InMemoryDataset Class for Train Set"
      ],
      "metadata": {
        "id": "PUhED5qaJ50d"
      }
    },
    {
      "cell_type": "code",
      "source": [
        "class Acc_train(InMemoryDataset):\n",
        "  # Base url to download the files\n",
        "    url = 'https://zenodo.org/record/8121204/files/train_set.zip?download=1'\n",
        "\n",
        "    def __init__(self, root, transform=None, pre_transform=None, pre_filter=None):\n",
        "      super().__init__(root, transform, pre_transform, pre_filter)\n",
        "      self.data, self.slices = torch.load(self.processed_paths[0])\n",
        "\n",
        "\n",
        "    @property\n",
        "    def raw_file_names(self):\n",
        "        # List of the raw files\n",
        "        return ['X_train.csv', 'y_train.csv', 'edge_index.pt']\n",
        "\n",
        "    @property\n",
        "    def processed_file_names(self):\n",
        "        return 'train_data.pt'\n",
        "\n",
        "    def download(self):\n",
        "        # Download the file specified in self.url and store\n",
        "        # it in self.raw_dir\n",
        "        path = download_url(self.url, self.raw_dir)\n",
        "        extract_zip(path, self.raw_dir)\n",
        "        # The zip file is removed\n",
        "        os.unlink(path)\n",
        "\n",
        "    def process(self):\n",
        "        # Load X_train from CSV file with the index\n",
        "        X_train = pd.read_csv(os.path.join(self.raw_dir,'train_set', 'X_train.csv'), index_col=0)\n",
        "\n",
        "        # Load y_train from CSV file\n",
        "        y_train = np.loadtxt(os.path.join(self.raw_dir,'train_set', 'y_train.csv'), delimiter=',')\n",
        "\n",
        "        # Load the edge_index from the file\n",
        "        file_path = os.path.join(self.raw_dir,'train_set', 'edge_index.pt')\n",
        "        edge_index = torch.load(file_path)\n",
        "\n",
        "        # Convert X_train to NumPy array\n",
        "        X_train = X_train.values\n",
        "\n",
        "        # Get the number of patients in the training set\n",
        "        num_patients_train = X_train.shape[0]\n",
        "\n",
        "        # Create patient-specific graphs for the training set\n",
        "        graphs_train = []\n",
        "        for i in range(num_patients_train):\n",
        "            node_features = X_train[i]  # Node features for the i-th patient\n",
        "            target = y_train[i]  # Target label for the i-th patient\n",
        "            graph_train = (node_features, edge_index, target)\n",
        "            graphs_train.append(graph_train)\n",
        "\n",
        "        # Convert graphs_train to a list of Data objects\n",
        "        data_train = [Data(x=torch.tensor(graph[0].reshape(len(graphs_train[0][0]), 1)),\n",
        "                           edge_index=graph[1], y=torch.tensor(graph[2]).item()) for graph in graphs_train]\n",
        "\n",
        "\n",
        "        data, slices = self.collate(data_train)\n",
        "        # Save the processed data\n",
        "        torch.save((data, slices), self.processed_paths[0])"
      ],
      "metadata": {
        "id": "yd2NVneICXY9"
      },
      "execution_count": 22,
      "outputs": []
    },
    {
      "cell_type": "code",
      "source": [
        "df_tr = Acc_train(root='')"
      ],
      "metadata": {
        "colab": {
          "base_uri": "https://localhost:8080/"
        },
        "id": "bvaAWVL3jadP",
        "outputId": "fafea6c1-f863-4c17-d690-402f9a6e2ff6"
      },
      "execution_count": 23,
      "outputs": [
        {
          "output_type": "stream",
          "name": "stderr",
          "text": [
            "Downloading https://zenodo.org/record/8121204/files/train_set.zip?download=1\n",
            "Extracting ./raw/train_set.zip\n"
          ]
        }
      ]
    },
    {
      "cell_type": "code",
      "source": [
        "df_tr"
      ],
      "metadata": {
        "colab": {
          "base_uri": "https://localhost:8080/"
        },
        "id": "XLx8mbVUsezw",
        "outputId": "2d1ebc8b-8394-4c99-9bb9-17ec620e8bcc"
      },
      "execution_count": 24,
      "outputs": [
        {
          "output_type": "execute_result",
          "data": {
            "text/plain": [
              "Acc_train(54)"
            ]
          },
          "metadata": {},
          "execution_count": 24
        }
      ]
    },
    {
      "cell_type": "code",
      "source": [
        "#Access the attributes of a specific data object in the training set\n",
        "sample = df_tr[0]  # Get the first data object\n",
        "print(sample)  # Print the data object\n",
        "\n",
        "# Access the node features, edge indices, and target label\n",
        "node_features = sample.x\n",
        "edge_index = sample.edge_index\n",
        "target = sample.y\n",
        "\n",
        "print(node_features)  # Print the node features\n",
        "print(edge_index)  # Print the edge indices\n",
        "print(target)  # Print the target label"
      ],
      "metadata": {
        "colab": {
          "base_uri": "https://localhost:8080/"
        },
        "id": "1D8Rism2sfeZ",
        "outputId": "a49d0a7d-a68a-4a37-9ace-979575453258"
      },
      "execution_count": 25,
      "outputs": [
        {
          "output_type": "stream",
          "name": "stdout",
          "text": [
            "Data(x=[9288, 1], edge_index=[2, 271771], y=[1])\n",
            "tensor([[    0.0000],\n",
            "        [10373.7000],\n",
            "        [    0.0000],\n",
            "        ...,\n",
            "        [  183.9580],\n",
            "        [  146.9740],\n",
            "        [  596.0620]], dtype=torch.float64)\n",
            "tensor([[   0,    0,    0,  ..., 9287, 9287, 9287],\n",
            "        [ 451,  452,  453,  ..., 3323, 3340, 3341]])\n",
            "tensor([44.5475])\n"
          ]
        }
      ]
    },
    {
      "cell_type": "markdown",
      "source": [
        "# Creating InMemoryDataset Class for Test Set"
      ],
      "metadata": {
        "id": "uKCH4nK7KuK2"
      }
    },
    {
      "cell_type": "code",
      "source": [
        "class Acc_test(InMemoryDataset):\n",
        "  # Base url to download the files\n",
        "    url = 'https://zenodo.org/record/8121204/files/test_set.zip?download=1'\n",
        "\n",
        "    def __init__(self, root, transform=None, pre_transform=None, pre_filter=None):\n",
        "      super().__init__(root, transform, pre_transform, pre_filter)\n",
        "      self.data, self.slices = torch.load(self.processed_paths[0])\n",
        "\n",
        "\n",
        "    @property\n",
        "    def raw_file_names(self):\n",
        "        # List of the raw files\n",
        "        return ['X_test.csv', 'y_test.csv', 'edge_index.pt']\n",
        "\n",
        "    @property\n",
        "    def processed_file_names(self):\n",
        "        return 'test_data.pt'\n",
        "\n",
        "    def download(self):\n",
        "        # Download the file specified in self.url and store\n",
        "        # it in self.raw_dir\n",
        "        path = download_url(self.url, self.raw_dir)\n",
        "        extract_zip(path, self.raw_dir)\n",
        "        # The zip file is removed\n",
        "        os.unlink(path)\n",
        "\n",
        "    def process(self):\n",
        "\n",
        "        # Load X_train from CSV file with the index\n",
        "        X_test = pd.read_csv(os.path.join(self.raw_dir,'test_set', 'X_test.csv'), index_col=0)\n",
        "\n",
        "        # Load y_train from CSV file\n",
        "        y_test = np.loadtxt(os.path.join(self.raw_dir,'test_set', 'y_test.csv'), delimiter=',')\n",
        "\n",
        "        # Load the edge_index from the file\n",
        "        file_path = os.path.join(self.raw_dir,'test_set', 'edge_index.pt')\n",
        "        edge_index = torch.load(file_path)\n",
        "\n",
        "        # Convert X_test to NumPy array\n",
        "        X_test = X_test.values\n",
        "\n",
        "        # Get the number of patients in the test set\n",
        "        num_patients_test = X_test.shape[0]\n",
        "\n",
        "        # Create patient-specific graphs for the training set\n",
        "        graphs_test = []\n",
        "        for i in range(num_patients_test):\n",
        "            node_features = X_test[i]  # Node features for the i-th patient\n",
        "            target = y_test[i]  # Target label for the i-th patient\n",
        "            graph_test = (node_features, edge_index, target)\n",
        "            graphs_test.append(graph_test)\n",
        "\n",
        "        # Convert graphs_train to a list of Data objects\n",
        "        data_test = [Data(x=torch.tensor(graph[0].reshape(len(graphs_test[0][0]), 1)),\n",
        "                           edge_index=graph[1], y=torch.tensor(graph[2]).squeeze()) for graph in graphs_test]\n",
        "\n",
        "\n",
        "        test_data, slices = self.collate(data_test)\n",
        "        # Save the processed data\n",
        "        torch.save((test_data, slices), self.processed_paths[0])"
      ],
      "metadata": {
        "id": "1npsU32YvnUo"
      },
      "execution_count": 26,
      "outputs": []
    },
    {
      "cell_type": "code",
      "source": [
        "df_test = Acc_test(root='')"
      ],
      "metadata": {
        "colab": {
          "base_uri": "https://localhost:8080/"
        },
        "id": "bhvoG39RuBId",
        "outputId": "e2057495-8334-489e-8ac7-74c68b456dab"
      },
      "execution_count": 27,
      "outputs": [
        {
          "output_type": "stream",
          "name": "stderr",
          "text": [
            "Downloading https://zenodo.org/record/8121204/files/test_set.zip?download=1\n",
            "Extracting ./raw/test_set.zip\n"
          ]
        }
      ]
    },
    {
      "cell_type": "code",
      "source": [
        "df_test"
      ],
      "metadata": {
        "colab": {
          "base_uri": "https://localhost:8080/"
        },
        "id": "CLcRXaLgwdg9",
        "outputId": "55afc352-72f9-48d0-a662-3cf13a19129a"
      },
      "execution_count": 28,
      "outputs": [
        {
          "output_type": "execute_result",
          "data": {
            "text/plain": [
              "Acc_test(24)"
            ]
          },
          "metadata": {},
          "execution_count": 28
        }
      ]
    },
    {
      "cell_type": "code",
      "source": [
        "#Access the attributes of a specific data object in the training set\n",
        "sample = df_test[0]  # Get the first data object\n",
        "print(sample)  # Print the data object\n",
        "\n",
        "# Access the node features, edge indices, and target label\n",
        "node_features = sample.x\n",
        "edge_index = sample.edge_index\n",
        "target = sample.y\n",
        "\n",
        "print(node_features)  # Print the node features\n",
        "print(edge_index)  # Print the edge indices\n",
        "print(target)  # Print the target label"
      ],
      "metadata": {
        "colab": {
          "base_uri": "https://localhost:8080/"
        },
        "id": "LeQyrGgsqM0z",
        "outputId": "54201978-bd72-45ac-bd77-d538e6dae60b"
      },
      "execution_count": 29,
      "outputs": [
        {
          "output_type": "stream",
          "name": "stdout",
          "text": [
            "Data(x=[9288, 1], edge_index=[2, 271771], y=[1])\n",
            "tensor([[    0.0000],\n",
            "        [16494.5000],\n",
            "        [    0.0000],\n",
            "        ...,\n",
            "        [   83.4073],\n",
            "        [  106.4770],\n",
            "        [  403.7270]], dtype=torch.float64)\n",
            "tensor([[   0,    0,    0,  ..., 9287, 9287, 9287],\n",
            "        [ 451,  452,  453,  ..., 3323, 3340, 3341]])\n",
            "tensor([23.6381], dtype=torch.float64)\n"
          ]
        }
      ]
    },
    {
      "cell_type": "code",
      "source": [],
      "metadata": {
        "id": "3L_ahXNOr-0i"
      },
      "execution_count": 29,
      "outputs": []
    }
  ]
}
