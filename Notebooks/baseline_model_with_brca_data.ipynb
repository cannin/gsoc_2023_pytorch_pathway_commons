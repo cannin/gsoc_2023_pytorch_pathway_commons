{
  "cells": [
    {
      "cell_type": "markdown",
      "metadata": {
        "id": "view-in-github",
        "colab_type": "text"
      },
      "source": [
        "<a href=\"https://colab.research.google.com/github/cannin/gsoc_2023_pytorch_pathway_commons/blob/main/Baseline_model_with_brca_data.ipynb\" target=\"_parent\"><img src=\"https://colab.research.google.com/assets/colab-badge.svg\" alt=\"Open In Colab\"/></a>"
      ]
    },
    {
      "cell_type": "code",
      "execution_count": 1,
      "metadata": {
        "colab": {
          "base_uri": "https://localhost:8080/"
        },
        "id": "XqS-T3j6eTXs",
        "outputId": "50e5259b-72cc-4214-835a-e3874680ec4a"
      },
      "outputs": [
        {
          "output_type": "stream",
          "name": "stdout",
          "text": [
            "Mounted at /content/drive\n"
          ]
        }
      ],
      "source": [
        "from google.colab import drive\n",
        "drive.mount('/content/drive')"
      ]
    },
    {
      "cell_type": "markdown",
      "metadata": {
        "id": "6T-0DTo_3DLk"
      },
      "source": [
        "# Importing Data and Libraries"
      ]
    },
    {
      "cell_type": "code",
      "execution_count": 3,
      "metadata": {
        "id": "Wy1Dc5Z9vGE8"
      },
      "outputs": [],
      "source": [
        "import pandas as pd\n",
        "import numpy as np\n",
        "import sklearn"
      ]
    },
    {
      "cell_type": "code",
      "execution_count": 4,
      "metadata": {
        "colab": {
          "base_uri": "https://localhost:8080/"
        },
        "id": "Agul4fnR13Wa",
        "outputId": "f5666ebc-ccbe-476a-a36e-45c916eef086"
      },
      "outputs": [
        {
          "output_type": "stream",
          "name": "stdout",
          "text": [
            "Using device: cuda\n"
          ]
        }
      ],
      "source": [
        "device = torch.device('cuda' if torch.cuda.is_available() else 'cpu')\n",
        "print('Using device:', device)\n",
        "\n",
        "if device.type != 'cuda':\n",
        "    raise SystemError('GPU device not found')"
      ]
    },
    {
      "cell_type": "code",
      "execution_count": 5,
      "metadata": {
        "id": "QQOFmd9l0XZg"
      },
      "outputs": [],
      "source": [
        "X_train = pd.read_csv(\"/content/drive/MyDrive/gsoc data/brca_tcga_2018/X_train.csv\", index_col=0)\n",
        "y_train = np.loadtxt(\"/content/drive/MyDrive/gsoc data/brca_tcga_2018/y_train.csv\", delimiter=',')\n",
        "\n",
        "X_test = pd.read_csv(\"/content/drive/MyDrive/gsoc data/brca_tcga_2018/X_test.csv\", index_col=0)\n",
        "y_test = np.loadtxt(\"/content/drive/MyDrive/gsoc data/brca_tcga_2018/y_test.csv\", delimiter=',')\n",
        "\n",
        "X_val = pd.read_csv(\"/content/drive/MyDrive/gsoc data/brca_tcga_2018/X_val.csv\", index_col=0)\n",
        "y_val = np.loadtxt(\"/content/drive/MyDrive/gsoc data/brca_tcga_2018/y_val.csv\", delimiter=',')"
      ]
    },
    {
      "cell_type": "code",
      "execution_count": 6,
      "metadata": {
        "colab": {
          "base_uri": "https://localhost:8080/",
          "height": 560
        },
        "id": "ti6NCahQOrmo",
        "outputId": "b6403426-6ad1-4ac4-b3ac-d511eaf56ea9"
      },
      "outputs": [
        {
          "output_type": "execute_result",
          "data": {
            "text/plain": [
              "                   A1CF       A2M   A4GNT     AAAS      AACS    AADAT  \\\n",
              "TCGA-3C-AAAU-01  0.0000   5798.37  8.6165  649.337  1087.400   5.5145   \n",
              "TCGA-3C-AALI-01  0.0000   7571.98  0.5438  887.983   836.324  24.4698   \n",
              "TCGA-3C-AALJ-01  0.9066   8840.40  0.0000  723.481  1533.090  53.4905   \n",
              "TCGA-3C-AALK-01  0.0000  10960.20  0.0000  776.996   858.088  57.0956   \n",
              "TCGA-4H-AAAK-01  0.4255   9585.44  0.4255  819.149   840.000  62.9787   \n",
              "\n",
              "                    AAK1   AANAT     AARS    AARS2  ...     ZP2      ZP3  \\\n",
              "TCGA-3C-AAAU-01  517.333  0.3447  4409.56  689.897  ...  0.0000  411.791   \n",
              "TCGA-3C-AALI-01  848.287  2.1751  4570.96  472.501  ...  4.3502  439.222   \n",
              "TCGA-3C-AALJ-01  568.450  1.8132  2556.66  439.710  ...  0.0000  334.506   \n",
              "TCGA-3C-AALK-01  727.762  0.4137  2122.88  431.936  ...  1.6549  127.017   \n",
              "TCGA-4H-AAAK-01  678.298  0.4255  2360.85  577.847  ...  0.0000  327.979   \n",
              "\n",
              "                    ZP4    ZRANB1    ZRSR2  ZSCAN10     ZW10    ZWILCH  \\\n",
              "TCGA-3C-AAAU-01  0.0000   879.225  421.862   2.7573  430.824   415.824   \n",
              "TCGA-3C-AALI-01  0.5438   566.068  349.647   0.0000  340.402  1161.330   \n",
              "TCGA-3C-AALJ-01  0.0000  1125.110  470.535   0.0000  304.624   305.422   \n",
              "TCGA-3C-AALK-01  0.4137   780.306  364.501   0.8275  314.026   394.506   \n",
              "TCGA-4H-AAAK-01  0.4255  1118.720  305.106   0.0000  297.872   405.711   \n",
              "\n",
              "                    ZWINT      ZZZ3  \n",
              "TCGA-3C-AAAU-01   931.957  1180.460  \n",
              "TCGA-3C-AALI-01   965.198   406.743  \n",
              "TCGA-3C-AALJ-01  2531.280   509.519  \n",
              "TCGA-3C-AALK-01   668.597   700.869  \n",
              "TCGA-4H-AAAK-01   674.468   881.702  \n",
              "\n",
              "[5 rows x 9288 columns]"
            ],
            "text/html": [
              "\n",
              "\n",
              "  <div id=\"df-1a2895a9-3b79-4ab0-9883-ba6185a14257\">\n",
              "    <div class=\"colab-df-container\">\n",
              "      <div>\n",
              "<style scoped>\n",
              "    .dataframe tbody tr th:only-of-type {\n",
              "        vertical-align: middle;\n",
              "    }\n",
              "\n",
              "    .dataframe tbody tr th {\n",
              "        vertical-align: top;\n",
              "    }\n",
              "\n",
              "    .dataframe thead th {\n",
              "        text-align: right;\n",
              "    }\n",
              "</style>\n",
              "<table border=\"1\" class=\"dataframe\">\n",
              "  <thead>\n",
              "    <tr style=\"text-align: right;\">\n",
              "      <th></th>\n",
              "      <th>A1CF</th>\n",
              "      <th>A2M</th>\n",
              "      <th>A4GNT</th>\n",
              "      <th>AAAS</th>\n",
              "      <th>AACS</th>\n",
              "      <th>AADAT</th>\n",
              "      <th>AAK1</th>\n",
              "      <th>AANAT</th>\n",
              "      <th>AARS</th>\n",
              "      <th>AARS2</th>\n",
              "      <th>...</th>\n",
              "      <th>ZP2</th>\n",
              "      <th>ZP3</th>\n",
              "      <th>ZP4</th>\n",
              "      <th>ZRANB1</th>\n",
              "      <th>ZRSR2</th>\n",
              "      <th>ZSCAN10</th>\n",
              "      <th>ZW10</th>\n",
              "      <th>ZWILCH</th>\n",
              "      <th>ZWINT</th>\n",
              "      <th>ZZZ3</th>\n",
              "    </tr>\n",
              "  </thead>\n",
              "  <tbody>\n",
              "    <tr>\n",
              "      <th>TCGA-3C-AAAU-01</th>\n",
              "      <td>0.0000</td>\n",
              "      <td>5798.37</td>\n",
              "      <td>8.6165</td>\n",
              "      <td>649.337</td>\n",
              "      <td>1087.400</td>\n",
              "      <td>5.5145</td>\n",
              "      <td>517.333</td>\n",
              "      <td>0.3447</td>\n",
              "      <td>4409.56</td>\n",
              "      <td>689.897</td>\n",
              "      <td>...</td>\n",
              "      <td>0.0000</td>\n",
              "      <td>411.791</td>\n",
              "      <td>0.0000</td>\n",
              "      <td>879.225</td>\n",
              "      <td>421.862</td>\n",
              "      <td>2.7573</td>\n",
              "      <td>430.824</td>\n",
              "      <td>415.824</td>\n",
              "      <td>931.957</td>\n",
              "      <td>1180.460</td>\n",
              "    </tr>\n",
              "    <tr>\n",
              "      <th>TCGA-3C-AALI-01</th>\n",
              "      <td>0.0000</td>\n",
              "      <td>7571.98</td>\n",
              "      <td>0.5438</td>\n",
              "      <td>887.983</td>\n",
              "      <td>836.324</td>\n",
              "      <td>24.4698</td>\n",
              "      <td>848.287</td>\n",
              "      <td>2.1751</td>\n",
              "      <td>4570.96</td>\n",
              "      <td>472.501</td>\n",
              "      <td>...</td>\n",
              "      <td>4.3502</td>\n",
              "      <td>439.222</td>\n",
              "      <td>0.5438</td>\n",
              "      <td>566.068</td>\n",
              "      <td>349.647</td>\n",
              "      <td>0.0000</td>\n",
              "      <td>340.402</td>\n",
              "      <td>1161.330</td>\n",
              "      <td>965.198</td>\n",
              "      <td>406.743</td>\n",
              "    </tr>\n",
              "    <tr>\n",
              "      <th>TCGA-3C-AALJ-01</th>\n",
              "      <td>0.9066</td>\n",
              "      <td>8840.40</td>\n",
              "      <td>0.0000</td>\n",
              "      <td>723.481</td>\n",
              "      <td>1533.090</td>\n",
              "      <td>53.4905</td>\n",
              "      <td>568.450</td>\n",
              "      <td>1.8132</td>\n",
              "      <td>2556.66</td>\n",
              "      <td>439.710</td>\n",
              "      <td>...</td>\n",
              "      <td>0.0000</td>\n",
              "      <td>334.506</td>\n",
              "      <td>0.0000</td>\n",
              "      <td>1125.110</td>\n",
              "      <td>470.535</td>\n",
              "      <td>0.0000</td>\n",
              "      <td>304.624</td>\n",
              "      <td>305.422</td>\n",
              "      <td>2531.280</td>\n",
              "      <td>509.519</td>\n",
              "    </tr>\n",
              "    <tr>\n",
              "      <th>TCGA-3C-AALK-01</th>\n",
              "      <td>0.0000</td>\n",
              "      <td>10960.20</td>\n",
              "      <td>0.0000</td>\n",
              "      <td>776.996</td>\n",
              "      <td>858.088</td>\n",
              "      <td>57.0956</td>\n",
              "      <td>727.762</td>\n",
              "      <td>0.4137</td>\n",
              "      <td>2122.88</td>\n",
              "      <td>431.936</td>\n",
              "      <td>...</td>\n",
              "      <td>1.6549</td>\n",
              "      <td>127.017</td>\n",
              "      <td>0.4137</td>\n",
              "      <td>780.306</td>\n",
              "      <td>364.501</td>\n",
              "      <td>0.8275</td>\n",
              "      <td>314.026</td>\n",
              "      <td>394.506</td>\n",
              "      <td>668.597</td>\n",
              "      <td>700.869</td>\n",
              "    </tr>\n",
              "    <tr>\n",
              "      <th>TCGA-4H-AAAK-01</th>\n",
              "      <td>0.4255</td>\n",
              "      <td>9585.44</td>\n",
              "      <td>0.4255</td>\n",
              "      <td>819.149</td>\n",
              "      <td>840.000</td>\n",
              "      <td>62.9787</td>\n",
              "      <td>678.298</td>\n",
              "      <td>0.4255</td>\n",
              "      <td>2360.85</td>\n",
              "      <td>577.847</td>\n",
              "      <td>...</td>\n",
              "      <td>0.0000</td>\n",
              "      <td>327.979</td>\n",
              "      <td>0.4255</td>\n",
              "      <td>1118.720</td>\n",
              "      <td>305.106</td>\n",
              "      <td>0.0000</td>\n",
              "      <td>297.872</td>\n",
              "      <td>405.711</td>\n",
              "      <td>674.468</td>\n",
              "      <td>881.702</td>\n",
              "    </tr>\n",
              "  </tbody>\n",
              "</table>\n",
              "<p>5 rows × 9288 columns</p>\n",
              "</div>\n",
              "      <button class=\"colab-df-convert\" onclick=\"convertToInteractive('df-1a2895a9-3b79-4ab0-9883-ba6185a14257')\"\n",
              "              title=\"Convert this dataframe to an interactive table.\"\n",
              "              style=\"display:none;\">\n",
              "\n",
              "  <svg xmlns=\"http://www.w3.org/2000/svg\" height=\"24px\"viewBox=\"0 0 24 24\"\n",
              "       width=\"24px\">\n",
              "    <path d=\"M0 0h24v24H0V0z\" fill=\"none\"/>\n",
              "    <path d=\"M18.56 5.44l.94 2.06.94-2.06 2.06-.94-2.06-.94-.94-2.06-.94 2.06-2.06.94zm-11 1L8.5 8.5l.94-2.06 2.06-.94-2.06-.94L8.5 2.5l-.94 2.06-2.06.94zm10 10l.94 2.06.94-2.06 2.06-.94-2.06-.94-.94-2.06-.94 2.06-2.06.94z\"/><path d=\"M17.41 7.96l-1.37-1.37c-.4-.4-.92-.59-1.43-.59-.52 0-1.04.2-1.43.59L10.3 9.45l-7.72 7.72c-.78.78-.78 2.05 0 2.83L4 21.41c.39.39.9.59 1.41.59.51 0 1.02-.2 1.41-.59l7.78-7.78 2.81-2.81c.8-.78.8-2.07 0-2.86zM5.41 20L4 18.59l7.72-7.72 1.47 1.35L5.41 20z\"/>\n",
              "  </svg>\n",
              "      </button>\n",
              "\n",
              "\n",
              "\n",
              "    <div id=\"df-7d36406a-0f00-47ed-b7bf-76d9342a5c7e\">\n",
              "      <button class=\"colab-df-quickchart\" onclick=\"quickchart('df-7d36406a-0f00-47ed-b7bf-76d9342a5c7e')\"\n",
              "              title=\"Suggest charts.\"\n",
              "              style=\"display:none;\">\n",
              "\n",
              "<svg xmlns=\"http://www.w3.org/2000/svg\" height=\"24px\"viewBox=\"0 0 24 24\"\n",
              "     width=\"24px\">\n",
              "    <g>\n",
              "        <path d=\"M19 3H5c-1.1 0-2 .9-2 2v14c0 1.1.9 2 2 2h14c1.1 0 2-.9 2-2V5c0-1.1-.9-2-2-2zM9 17H7v-7h2v7zm4 0h-2V7h2v10zm4 0h-2v-4h2v4z\"/>\n",
              "    </g>\n",
              "</svg>\n",
              "      </button>\n",
              "    </div>\n",
              "\n",
              "<style>\n",
              "  .colab-df-quickchart {\n",
              "    background-color: #E8F0FE;\n",
              "    border: none;\n",
              "    border-radius: 50%;\n",
              "    cursor: pointer;\n",
              "    display: none;\n",
              "    fill: #1967D2;\n",
              "    height: 32px;\n",
              "    padding: 0 0 0 0;\n",
              "    width: 32px;\n",
              "  }\n",
              "\n",
              "  .colab-df-quickchart:hover {\n",
              "    background-color: #E2EBFA;\n",
              "    box-shadow: 0px 1px 2px rgba(60, 64, 67, 0.3), 0px 1px 3px 1px rgba(60, 64, 67, 0.15);\n",
              "    fill: #174EA6;\n",
              "  }\n",
              "\n",
              "  [theme=dark] .colab-df-quickchart {\n",
              "    background-color: #3B4455;\n",
              "    fill: #D2E3FC;\n",
              "  }\n",
              "\n",
              "  [theme=dark] .colab-df-quickchart:hover {\n",
              "    background-color: #434B5C;\n",
              "    box-shadow: 0px 1px 3px 1px rgba(0, 0, 0, 0.15);\n",
              "    filter: drop-shadow(0px 1px 2px rgba(0, 0, 0, 0.3));\n",
              "    fill: #FFFFFF;\n",
              "  }\n",
              "</style>\n",
              "\n",
              "    <script>\n",
              "      async function quickchart(key) {\n",
              "        const containerElement = document.querySelector('#' + key);\n",
              "        const charts = await google.colab.kernel.invokeFunction(\n",
              "            'suggestCharts', [key], {});\n",
              "      }\n",
              "    </script>\n",
              "\n",
              "      <script>\n",
              "\n",
              "function displayQuickchartButton(domScope) {\n",
              "  let quickchartButtonEl =\n",
              "    domScope.querySelector('#df-7d36406a-0f00-47ed-b7bf-76d9342a5c7e button.colab-df-quickchart');\n",
              "  quickchartButtonEl.style.display =\n",
              "    google.colab.kernel.accessAllowed ? 'block' : 'none';\n",
              "}\n",
              "\n",
              "        displayQuickchartButton(document);\n",
              "      </script>\n",
              "      <style>\n",
              "    .colab-df-container {\n",
              "      display:flex;\n",
              "      flex-wrap:wrap;\n",
              "      gap: 12px;\n",
              "    }\n",
              "\n",
              "    .colab-df-convert {\n",
              "      background-color: #E8F0FE;\n",
              "      border: none;\n",
              "      border-radius: 50%;\n",
              "      cursor: pointer;\n",
              "      display: none;\n",
              "      fill: #1967D2;\n",
              "      height: 32px;\n",
              "      padding: 0 0 0 0;\n",
              "      width: 32px;\n",
              "    }\n",
              "\n",
              "    .colab-df-convert:hover {\n",
              "      background-color: #E2EBFA;\n",
              "      box-shadow: 0px 1px 2px rgba(60, 64, 67, 0.3), 0px 1px 3px 1px rgba(60, 64, 67, 0.15);\n",
              "      fill: #174EA6;\n",
              "    }\n",
              "\n",
              "    [theme=dark] .colab-df-convert {\n",
              "      background-color: #3B4455;\n",
              "      fill: #D2E3FC;\n",
              "    }\n",
              "\n",
              "    [theme=dark] .colab-df-convert:hover {\n",
              "      background-color: #434B5C;\n",
              "      box-shadow: 0px 1px 3px 1px rgba(0, 0, 0, 0.15);\n",
              "      filter: drop-shadow(0px 1px 2px rgba(0, 0, 0, 0.3));\n",
              "      fill: #FFFFFF;\n",
              "    }\n",
              "  </style>\n",
              "\n",
              "      <script>\n",
              "        const buttonEl =\n",
              "          document.querySelector('#df-1a2895a9-3b79-4ab0-9883-ba6185a14257 button.colab-df-convert');\n",
              "        buttonEl.style.display =\n",
              "          google.colab.kernel.accessAllowed ? 'block' : 'none';\n",
              "\n",
              "        async function convertToInteractive(key) {\n",
              "          const element = document.querySelector('#df-1a2895a9-3b79-4ab0-9883-ba6185a14257');\n",
              "          const dataTable =\n",
              "            await google.colab.kernel.invokeFunction('convertToInteractive',\n",
              "                                                     [key], {});\n",
              "          if (!dataTable) return;\n",
              "\n",
              "          const docLinkHtml = 'Like what you see? Visit the ' +\n",
              "            '<a target=\"_blank\" href=https://colab.research.google.com/notebooks/data_table.ipynb>data table notebook</a>'\n",
              "            + ' to learn more about interactive tables.';\n",
              "          element.innerHTML = '';\n",
              "          dataTable['output_type'] = 'display_data';\n",
              "          await google.colab.output.renderOutput(dataTable, element);\n",
              "          const docLink = document.createElement('div');\n",
              "          docLink.innerHTML = docLinkHtml;\n",
              "          element.appendChild(docLink);\n",
              "        }\n",
              "      </script>\n",
              "    </div>\n",
              "  </div>\n"
            ]
          },
          "metadata": {},
          "execution_count": 6
        }
      ],
      "source": [
        "X_train.head()"
      ]
    },
    {
      "cell_type": "markdown",
      "source": [
        "# Modelling"
      ],
      "metadata": {
        "id": "EChcimHakRWg"
      }
    },
    {
      "cell_type": "code",
      "source": [
        "!pip install flaml"
      ],
      "metadata": {
        "id": "5CeqLto93ttN",
        "colab": {
          "base_uri": "https://localhost:8080/"
        },
        "outputId": "4b268189-32dd-4bf6-871b-2e0420dbcda5"
      },
      "execution_count": 7,
      "outputs": [
        {
          "output_type": "stream",
          "name": "stdout",
          "text": [
            "Collecting flaml\n",
            "  Downloading FLAML-1.2.4-py3-none-any.whl (260 kB)\n",
            "\u001b[?25l     \u001b[90m━━━━━━━━━━━━━━━━━━━━━━━━━━━━━━━━━━━━━━━━\u001b[0m \u001b[32m0.0/260.5 kB\u001b[0m \u001b[31m?\u001b[0m eta \u001b[36m-:--:--\u001b[0m\r\u001b[2K     \u001b[91m━━━━━━━━━━━━━━\u001b[0m\u001b[90m╺\u001b[0m\u001b[90m━━━━━━━━━━━━━━━━━━━━━━━━━\u001b[0m \u001b[32m92.2/260.5 kB\u001b[0m \u001b[31m2.5 MB/s\u001b[0m eta \u001b[36m0:00:01\u001b[0m\r\u001b[2K     \u001b[90m━━━━━━━━━━━━━━━━━━━━━━━━━━━━━━━━━━━━━━━\u001b[0m \u001b[32m260.5/260.5 kB\u001b[0m \u001b[31m4.8 MB/s\u001b[0m eta \u001b[36m0:00:00\u001b[0m\n",
            "\u001b[?25hRequirement already satisfied: NumPy>=1.17.0rc1 in /usr/local/lib/python3.10/dist-packages (from flaml) (1.22.4)\n",
            "Requirement already satisfied: lightgbm>=2.3.1 in /usr/local/lib/python3.10/dist-packages (from flaml) (3.3.5)\n",
            "Requirement already satisfied: xgboost>=0.90 in /usr/local/lib/python3.10/dist-packages (from flaml) (1.7.6)\n",
            "Requirement already satisfied: scipy>=1.4.1 in /usr/local/lib/python3.10/dist-packages (from flaml) (1.10.1)\n",
            "Requirement already satisfied: pandas>=1.1.4 in /usr/local/lib/python3.10/dist-packages (from flaml) (1.5.3)\n",
            "Requirement already satisfied: scikit-learn>=0.24 in /usr/local/lib/python3.10/dist-packages (from flaml) (1.2.2)\n",
            "Requirement already satisfied: wheel in /usr/local/lib/python3.10/dist-packages (from lightgbm>=2.3.1->flaml) (0.41.0)\n",
            "Requirement already satisfied: python-dateutil>=2.8.1 in /usr/local/lib/python3.10/dist-packages (from pandas>=1.1.4->flaml) (2.8.2)\n",
            "Requirement already satisfied: pytz>=2020.1 in /usr/local/lib/python3.10/dist-packages (from pandas>=1.1.4->flaml) (2022.7.1)\n",
            "Requirement already satisfied: joblib>=1.1.1 in /usr/local/lib/python3.10/dist-packages (from scikit-learn>=0.24->flaml) (1.3.1)\n",
            "Requirement already satisfied: threadpoolctl>=2.0.0 in /usr/local/lib/python3.10/dist-packages (from scikit-learn>=0.24->flaml) (3.2.0)\n",
            "Requirement already satisfied: six>=1.5 in /usr/local/lib/python3.10/dist-packages (from python-dateutil>=2.8.1->pandas>=1.1.4->flaml) (1.16.0)\n",
            "Installing collected packages: flaml\n",
            "Successfully installed flaml-1.2.4\n"
          ]
        }
      ]
    },
    {
      "cell_type": "code",
      "source": [
        "from flaml import AutoML\n",
        "import pickle"
      ],
      "metadata": {
        "id": "PU70crt_Rvfe"
      },
      "execution_count": 8,
      "outputs": []
    },
    {
      "cell_type": "code",
      "source": [
        "# Initialize an AutoML instance\n",
        "automl = AutoML()\n",
        "# Specify automl goal and constraint\n",
        "automl_settings = {\n",
        "    \"time_budget\": 300,  # in seconds\n",
        "    \"metric\": 'mse',\n",
        "    \"task\": 'regression',\n",
        "}\n",
        "# Train with labeled input data\n",
        "automl.fit(X_train=X_train, y_train=y_train,\n",
        "           **automl_settings)"
      ],
      "metadata": {
        "colab": {
          "base_uri": "https://localhost:8080/"
        },
        "id": "n0PrWUirVrVu",
        "outputId": "31aebd70-b350-4190-9584-5f02d66697e0"
      },
      "execution_count": 11,
      "outputs": [
        {
          "output_type": "stream",
          "name": "stdout",
          "text": [
            "[flaml.automl.logger: 07-28 14:59:28] {1693} INFO - task = regression\n",
            "[flaml.automl.logger: 07-28 14:59:28] {1700} INFO - Data split method: uniform\n",
            "[flaml.automl.logger: 07-28 14:59:28] {1703} INFO - Evaluation method: holdout\n",
            "[flaml.automl.logger: 07-28 14:59:29] {1801} INFO - Minimizing error metric: mse\n",
            "[flaml.automl.logger: 07-28 14:59:29] {1911} INFO - List of ML learners in AutoML Run: ['lgbm', 'rf', 'xgboost', 'extra_tree', 'xgb_limitdepth']\n",
            "[flaml.automl.logger: 07-28 14:59:29] {2221} INFO - iteration 0, current learner lgbm\n",
            "[flaml.automl.logger: 07-28 14:59:31] {2347} INFO - Estimated sufficient time budget=25529s. Estimated necessary time budget=180s.\n",
            "[flaml.automl.logger: 07-28 14:59:31] {2394} INFO -  at 129.8s,\testimator lgbm's best error=1154.2739,\tbest estimator lgbm's best error=1154.2739\n",
            "[flaml.automl.logger: 07-28 14:59:31] {2221} INFO - iteration 1, current learner lgbm\n",
            "[flaml.automl.logger: 07-28 14:59:34] {2394} INFO -  at 133.1s,\testimator lgbm's best error=1138.4729,\tbest estimator lgbm's best error=1138.4729\n",
            "[flaml.automl.logger: 07-28 14:59:34] {2221} INFO - iteration 2, current learner lgbm\n",
            "[flaml.automl.logger: 07-28 14:59:37] {2394} INFO -  at 136.0s,\testimator lgbm's best error=1138.4729,\tbest estimator lgbm's best error=1138.4729\n",
            "[flaml.automl.logger: 07-28 14:59:37] {2221} INFO - iteration 3, current learner lgbm\n",
            "[flaml.automl.logger: 07-28 14:59:40] {2394} INFO -  at 138.6s,\testimator lgbm's best error=1097.5567,\tbest estimator lgbm's best error=1097.5567\n",
            "[flaml.automl.logger: 07-28 14:59:40] {2221} INFO - iteration 4, current learner xgboost\n",
            "[flaml.automl.logger: 07-28 14:59:44] {2394} INFO -  at 142.3s,\testimator xgboost's best error=1507.2968,\tbest estimator lgbm's best error=1097.5567\n",
            "[flaml.automl.logger: 07-28 14:59:44] {2221} INFO - iteration 5, current learner lgbm\n",
            "[flaml.automl.logger: 07-28 14:59:46] {2394} INFO -  at 145.0s,\testimator lgbm's best error=1097.5567,\tbest estimator lgbm's best error=1097.5567\n",
            "[flaml.automl.logger: 07-28 14:59:46] {2221} INFO - iteration 6, current learner lgbm\n",
            "[flaml.automl.logger: 07-28 14:59:50] {2394} INFO -  at 148.8s,\testimator lgbm's best error=1097.5567,\tbest estimator lgbm's best error=1097.5567\n",
            "[flaml.automl.logger: 07-28 14:59:50] {2221} INFO - iteration 7, current learner lgbm\n",
            "[flaml.automl.logger: 07-28 14:59:53] {2394} INFO -  at 151.5s,\testimator lgbm's best error=1097.5567,\tbest estimator lgbm's best error=1097.5567\n",
            "[flaml.automl.logger: 07-28 14:59:53] {2221} INFO - iteration 8, current learner lgbm\n",
            "[flaml.automl.logger: 07-28 14:59:55] {2394} INFO -  at 154.0s,\testimator lgbm's best error=1097.5567,\tbest estimator lgbm's best error=1097.5567\n",
            "[flaml.automl.logger: 07-28 14:59:55] {2221} INFO - iteration 9, current learner xgboost\n",
            "[flaml.automl.logger: 07-28 14:59:59] {2394} INFO -  at 157.5s,\testimator xgboost's best error=1507.2968,\tbest estimator lgbm's best error=1097.5567\n",
            "[flaml.automl.logger: 07-28 14:59:59] {2221} INFO - iteration 10, current learner xgboost\n",
            "[flaml.automl.logger: 07-28 15:00:04] {2394} INFO -  at 162.5s,\testimator xgboost's best error=1297.6351,\tbest estimator lgbm's best error=1097.5567\n",
            "[flaml.automl.logger: 07-28 15:00:04] {2221} INFO - iteration 11, current learner extra_tree\n",
            "[flaml.automl.logger: 07-28 15:00:04] {2394} INFO -  at 163.1s,\testimator extra_tree's best error=1218.9710,\tbest estimator lgbm's best error=1097.5567\n",
            "[flaml.automl.logger: 07-28 15:00:04] {2221} INFO - iteration 12, current learner extra_tree\n",
            "[flaml.automl.logger: 07-28 15:00:05] {2394} INFO -  at 163.9s,\testimator extra_tree's best error=1194.5520,\tbest estimator lgbm's best error=1097.5567\n",
            "[flaml.automl.logger: 07-28 15:00:05] {2221} INFO - iteration 13, current learner rf\n",
            "[flaml.automl.logger: 07-28 15:00:09] {2394} INFO -  at 168.0s,\testimator rf's best error=1221.1631,\tbest estimator lgbm's best error=1097.5567\n",
            "[flaml.automl.logger: 07-28 15:00:09] {2221} INFO - iteration 14, current learner rf\n",
            "[flaml.automl.logger: 07-28 15:00:17] {2394} INFO -  at 176.1s,\testimator rf's best error=1221.1631,\tbest estimator lgbm's best error=1097.5567\n",
            "[flaml.automl.logger: 07-28 15:00:17] {2221} INFO - iteration 15, current learner extra_tree\n",
            "[flaml.automl.logger: 07-28 15:00:18] {2394} INFO -  at 176.7s,\testimator extra_tree's best error=1194.5520,\tbest estimator lgbm's best error=1097.5567\n",
            "[flaml.automl.logger: 07-28 15:00:18] {2221} INFO - iteration 16, current learner lgbm\n",
            "[flaml.automl.logger: 07-28 15:00:21] {2394} INFO -  at 179.7s,\testimator lgbm's best error=1097.1569,\tbest estimator lgbm's best error=1097.1569\n",
            "[flaml.automl.logger: 07-28 15:00:21] {2221} INFO - iteration 17, current learner extra_tree\n",
            "[flaml.automl.logger: 07-28 15:00:23] {2394} INFO -  at 181.7s,\testimator extra_tree's best error=1104.1155,\tbest estimator lgbm's best error=1097.1569\n",
            "[flaml.automl.logger: 07-28 15:00:23] {2221} INFO - iteration 18, current learner lgbm\n",
            "[flaml.automl.logger: 07-28 15:00:25] {2394} INFO -  at 184.1s,\testimator lgbm's best error=1097.1569,\tbest estimator lgbm's best error=1097.1569\n",
            "[flaml.automl.logger: 07-28 15:00:25] {2221} INFO - iteration 19, current learner extra_tree\n",
            "[flaml.automl.logger: 07-28 15:00:29] {2394} INFO -  at 187.3s,\testimator extra_tree's best error=1104.1155,\tbest estimator lgbm's best error=1097.1569\n",
            "[flaml.automl.logger: 07-28 15:00:29] {2221} INFO - iteration 20, current learner xgboost\n",
            "[flaml.automl.logger: 07-28 15:00:33] {2394} INFO -  at 191.6s,\testimator xgboost's best error=1297.6351,\tbest estimator lgbm's best error=1097.1569\n",
            "[flaml.automl.logger: 07-28 15:00:33] {2221} INFO - iteration 21, current learner extra_tree\n",
            "[flaml.automl.logger: 07-28 15:00:34] {2394} INFO -  at 193.0s,\testimator extra_tree's best error=1059.9681,\tbest estimator extra_tree's best error=1059.9681\n",
            "[flaml.automl.logger: 07-28 15:00:34] {2221} INFO - iteration 22, current learner rf\n",
            "[flaml.automl.logger: 07-28 15:00:47] {2394} INFO -  at 206.0s,\testimator rf's best error=1221.1631,\tbest estimator extra_tree's best error=1059.9681\n",
            "[flaml.automl.logger: 07-28 15:00:47] {2221} INFO - iteration 23, current learner xgboost\n",
            "[flaml.automl.logger: 07-28 15:00:52] {2394} INFO -  at 210.2s,\testimator xgboost's best error=1297.6351,\tbest estimator extra_tree's best error=1059.9681\n",
            "[flaml.automl.logger: 07-28 15:00:52] {2221} INFO - iteration 24, current learner extra_tree\n",
            "[flaml.automl.logger: 07-28 15:00:54] {2394} INFO -  at 212.2s,\testimator extra_tree's best error=1059.9681,\tbest estimator extra_tree's best error=1059.9681\n",
            "[flaml.automl.logger: 07-28 15:00:54] {2221} INFO - iteration 25, current learner extra_tree\n",
            "[flaml.automl.logger: 07-28 15:00:55] {2394} INFO -  at 213.2s,\testimator extra_tree's best error=1059.9681,\tbest estimator extra_tree's best error=1059.9681\n",
            "[flaml.automl.logger: 07-28 15:00:55] {2221} INFO - iteration 26, current learner extra_tree\n",
            "[flaml.automl.logger: 07-28 15:00:59] {2394} INFO -  at 217.3s,\testimator extra_tree's best error=1059.9681,\tbest estimator extra_tree's best error=1059.9681\n",
            "[flaml.automl.logger: 07-28 15:00:59] {2221} INFO - iteration 27, current learner extra_tree\n",
            "[flaml.automl.logger: 07-28 15:01:00] {2394} INFO -  at 218.3s,\testimator extra_tree's best error=1059.9681,\tbest estimator extra_tree's best error=1059.9681\n",
            "[flaml.automl.logger: 07-28 15:01:00] {2221} INFO - iteration 28, current learner extra_tree\n",
            "[flaml.automl.logger: 07-28 15:01:01] {2394} INFO -  at 219.7s,\testimator extra_tree's best error=1059.9681,\tbest estimator extra_tree's best error=1059.9681\n",
            "[flaml.automl.logger: 07-28 15:01:01] {2221} INFO - iteration 29, current learner extra_tree\n",
            "[flaml.automl.logger: 07-28 15:01:02] {2394} INFO -  at 220.2s,\testimator extra_tree's best error=1059.9681,\tbest estimator extra_tree's best error=1059.9681\n",
            "[flaml.automl.logger: 07-28 15:01:02] {2221} INFO - iteration 30, current learner rf\n",
            "[flaml.automl.logger: 07-28 15:01:08] {2394} INFO -  at 226.4s,\testimator rf's best error=1221.1631,\tbest estimator extra_tree's best error=1059.9681\n",
            "[flaml.automl.logger: 07-28 15:01:08] {2221} INFO - iteration 31, current learner rf\n",
            "[flaml.automl.logger: 07-28 15:01:17] {2394} INFO -  at 235.9s,\testimator rf's best error=1164.2244,\tbest estimator extra_tree's best error=1059.9681\n",
            "[flaml.automl.logger: 07-28 15:01:17] {2221} INFO - iteration 32, current learner xgboost\n",
            "[flaml.automl.logger: 07-28 15:01:21] {2394} INFO -  at 239.2s,\testimator xgboost's best error=1253.0655,\tbest estimator extra_tree's best error=1059.9681\n",
            "[flaml.automl.logger: 07-28 15:01:21] {2221} INFO - iteration 33, current learner extra_tree\n",
            "[flaml.automl.logger: 07-28 15:01:24] {2394} INFO -  at 242.9s,\testimator extra_tree's best error=1004.3377,\tbest estimator extra_tree's best error=1004.3377\n",
            "[flaml.automl.logger: 07-28 15:01:24] {2221} INFO - iteration 34, current learner xgboost\n",
            "[flaml.automl.logger: 07-28 15:01:30] {2394} INFO -  at 248.5s,\testimator xgboost's best error=1253.0655,\tbest estimator extra_tree's best error=1004.3377\n",
            "[flaml.automl.logger: 07-28 15:01:30] {2221} INFO - iteration 35, current learner extra_tree\n",
            "[flaml.automl.logger: 07-28 15:01:31] {2394} INFO -  at 249.5s,\testimator extra_tree's best error=1004.3377,\tbest estimator extra_tree's best error=1004.3377\n",
            "[flaml.automl.logger: 07-28 15:01:31] {2221} INFO - iteration 36, current learner extra_tree\n",
            "[flaml.automl.logger: 07-28 15:01:41] {2394} INFO -  at 259.6s,\testimator extra_tree's best error=1004.3377,\tbest estimator extra_tree's best error=1004.3377\n",
            "[flaml.automl.logger: 07-28 15:01:41] {2221} INFO - iteration 37, current learner extra_tree\n",
            "[flaml.automl.logger: 07-28 15:01:42] {2394} INFO -  at 260.9s,\testimator extra_tree's best error=1004.3377,\tbest estimator extra_tree's best error=1004.3377\n",
            "[flaml.automl.logger: 07-28 15:01:42] {2221} INFO - iteration 38, current learner extra_tree\n",
            "[flaml.automl.logger: 07-28 15:01:47] {2394} INFO -  at 265.4s,\testimator extra_tree's best error=1004.3377,\tbest estimator extra_tree's best error=1004.3377\n",
            "[flaml.automl.logger: 07-28 15:01:47] {2221} INFO - iteration 39, current learner extra_tree\n",
            "[flaml.automl.logger: 07-28 15:01:55] {2394} INFO -  at 274.1s,\testimator extra_tree's best error=1004.3377,\tbest estimator extra_tree's best error=1004.3377\n",
            "[flaml.automl.logger: 07-28 15:01:55] {2221} INFO - iteration 40, current learner extra_tree\n",
            "[flaml.automl.logger: 07-28 15:01:57] {2394} INFO -  at 275.4s,\testimator extra_tree's best error=1004.3377,\tbest estimator extra_tree's best error=1004.3377\n",
            "[flaml.automl.logger: 07-28 15:01:57] {2221} INFO - iteration 41, current learner extra_tree\n",
            "[flaml.automl.logger: 07-28 15:02:01] {2394} INFO -  at 279.2s,\testimator extra_tree's best error=1004.3377,\tbest estimator extra_tree's best error=1004.3377\n",
            "[flaml.automl.logger: 07-28 15:02:01] {2221} INFO - iteration 42, current learner rf\n",
            "[flaml.automl.logger: 07-28 15:02:13] {2394} INFO -  at 291.3s,\testimator rf's best error=1164.2244,\tbest estimator extra_tree's best error=1004.3377\n",
            "[flaml.automl.logger: 07-28 15:02:13] {2221} INFO - iteration 43, current learner extra_tree\n",
            "[flaml.automl.logger: 07-28 15:02:15] {2394} INFO -  at 293.3s,\testimator extra_tree's best error=1004.3377,\tbest estimator extra_tree's best error=1004.3377\n",
            "[flaml.automl.logger: 07-28 15:02:15] {2221} INFO - iteration 44, current learner extra_tree\n",
            "[flaml.automl.logger: 07-28 15:02:17] {2394} INFO -  at 296.1s,\testimator extra_tree's best error=1004.3377,\tbest estimator extra_tree's best error=1004.3377\n",
            "[flaml.automl.logger: 07-28 15:02:17] {2221} INFO - iteration 45, current learner extra_tree\n",
            "[flaml.automl.logger: 07-28 15:02:23] {2394} INFO -  at 301.7s,\testimator extra_tree's best error=1004.3377,\tbest estimator extra_tree's best error=1004.3377\n",
            "[flaml.automl.logger: 07-28 15:02:26] {2630} INFO - retrain extra_tree for 3.3s\n",
            "[flaml.automl.logger: 07-28 15:02:26] {2633} INFO - retrained model: ExtraTreesRegressor(max_features=0.8959762898635182, max_leaf_nodes=11,\n",
            "                    n_estimators=14, n_jobs=-1, random_state=12032022)\n",
            "[flaml.automl.logger: 07-28 15:02:26] {1941} INFO - fit succeeded\n",
            "[flaml.automl.logger: 07-28 15:02:26] {1942} INFO - Time taken to find the best model: 242.9029324054718\n"
          ]
        }
      ]
    },
    {
      "cell_type": "code",
      "source": [],
      "metadata": {
        "id": "CD5vtBYnATU2"
      },
      "execution_count": null,
      "outputs": []
    },
    {
      "cell_type": "code",
      "source": [
        "'''retrieve best config and best learner'''\n",
        "print('Best ML leaner:', automl.best_estimator)\n",
        "print('Best hyperparmeter config:', automl.best_config)\n",
        "print('Best loss on validation data: {0:.4g}'.format(automl.best_loss))\n",
        "print('Training duration of best run: {0:.4g} s'.format(automl.best_config_train_time))"
      ],
      "metadata": {
        "colab": {
          "base_uri": "https://localhost:8080/"
        },
        "id": "OaxK7fylf_VI",
        "outputId": "ff901d48-fa92-431a-de84-a45470f76c23"
      },
      "execution_count": 12,
      "outputs": [
        {
          "output_type": "stream",
          "name": "stdout",
          "text": [
            "Best ML leaner: extra_tree\n",
            "Best hyperparmeter config: {'n_estimators': 14, 'max_features': 0.8959762898635182, 'max_leaves': 11}\n",
            "Best loss on validation data: 1004\n",
            "Training duration of best run: 3.316 s\n"
          ]
        }
      ]
    },
    {
      "cell_type": "code",
      "source": [
        "'''pickle and save the automl object'''\n",
        "import pickle\n",
        "\n",
        "with open('automl.pkl', 'wb') as f:\n",
        "    pickle.dump(automl, f, pickle.HIGHEST_PROTOCOL)\n",
        "'''load pickled automl object'''\n",
        "with open('automl.pkl', 'rb') as f:\n",
        "    automl = pickle.load(f)"
      ],
      "metadata": {
        "id": "cu-Wlbj_cOL0"
      },
      "execution_count": 13,
      "outputs": []
    },
    {
      "cell_type": "code",
      "source": [
        "y_pred = automl.predict(X_test)"
      ],
      "metadata": {
        "id": "BU80iR3yhc-5"
      },
      "execution_count": 14,
      "outputs": []
    },
    {
      "cell_type": "code",
      "source": [
        "from sklearn.metrics import mean_squared_error, mean_absolute_error\n",
        "\n",
        "mse = mean_squared_error(y_test, y_pred)\n",
        "mae = mean_absolute_error(y_test, y_pred)\n",
        "\n",
        "print('mse', '=', mse)\n",
        "print('mae', '=', mae)"
      ],
      "metadata": {
        "colab": {
          "base_uri": "https://localhost:8080/"
        },
        "id": "YCCsXCcjhqNJ",
        "outputId": "a6d2f1de-8c9c-4d8e-bed0-0d89157ffee8"
      },
      "execution_count": 15,
      "outputs": [
        {
          "output_type": "stream",
          "name": "stdout",
          "text": [
            "mse = 1225.7043125692337\n",
            "mae = 28.01163683512182\n"
          ]
        }
      ]
    },
    {
      "cell_type": "code",
      "source": [],
      "metadata": {
        "id": "4jivKYRciwOI"
      },
      "execution_count": null,
      "outputs": []
    }
  ],
  "metadata": {
    "accelerator": "GPU",
    "colab": {
      "provenance": [],
      "gpuType": "T4",
      "include_colab_link": true
    },
    "kernelspec": {
      "display_name": "Python 3",
      "name": "python3"
    },
    "language_info": {
      "name": "python"
    }
  },
  "nbformat": 4,
  "nbformat_minor": 0
}
